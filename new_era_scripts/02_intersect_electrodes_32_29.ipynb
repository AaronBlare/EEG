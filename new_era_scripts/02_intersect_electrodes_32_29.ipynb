{
 "cells": [
  {
   "cell_type": "code",
   "execution_count": 6,
   "outputs": [],
   "source": [
    "import pandas as pd\n",
    "import upsetplot\n",
    "import matplotlib.pyplot as plt\n",
    "from matplotlib_venn import venn2, venn2_circles"
   ],
   "metadata": {
    "collapsed": false,
    "ExecuteTime": {
     "end_time": "2023-07-24T14:21:08.358307500Z",
     "start_time": "2023-07-24T14:21:07.727761600Z"
    }
   }
  },
  {
   "cell_type": "code",
   "execution_count": 2,
   "outputs": [],
   "source": [
    "eeg_electrodes_32 = ['FP1', 'FP2', 'F7', 'F3', 'Fz', 'F4', 'F8', 'FT9', 'FC5', 'FC1', 'FC2', 'FC6', 'FT10', 'T7', 'C3', 'Cz', 'C4', 'T8', 'TP9', 'CP5', 'CP1', 'CP2', 'CP6', 'TP10', 'P7', 'P3', 'Pz', 'P4', 'P8', 'O1', 'Oz', 'O2']\n",
    "eeg_electrodes_29 = ['F1', 'F2', 'Fz', 'CP3', 'C3', 'FC3', 'FCz', 'Cz', 'CPz', 'FC4', 'C4', 'CP4', 'FC5', 'C5', 'CP5', 'FC1', 'C1', 'CP1', 'FC2', 'C2', 'CP2', 'FC6', 'C6', 'CP6', 'P4', 'P3', 'P1', 'Pz', 'P2']\n",
    "common_electrodes = set(eeg_electrodes_32).intersection(set(eeg_electrodes_29))"
   ],
   "metadata": {
    "collapsed": false,
    "ExecuteTime": {
     "end_time": "2023-07-24T14:16:49.184829300Z",
     "start_time": "2023-07-24T14:16:49.168799100Z"
    }
   }
  },
  {
   "cell_type": "code",
   "execution_count": 7,
   "outputs": [
    {
     "data": {
      "text/plain": "<Figure size 432x288 with 0 Axes>"
     },
     "metadata": {},
     "output_type": "display_data"
    }
   ],
   "source": [
    "picture_path = 'E:/YandexDisk/EEG/electrodes'\n",
    "\n",
    "dict_upset_lists = {\n",
    "    \"32 electrodes\": eeg_electrodes_32,\n",
    "    \"29 electrodes\": eeg_electrodes_29,\n",
    "}\n",
    "\n",
    "upset_all = list(set().union(*list(dict_upset_lists.values())))\n",
    "df_upset = pd.DataFrame(index=upset_all)\n",
    "for k, v in dict_upset_lists.items():\n",
    "    df_upset[k] = df_upset.index.isin(v)\n",
    "df_upset = df_upset.set_index(list(dict_upset_lists.keys()))\n",
    "tmp = plt.figure(figsize=(30, 10))\n",
    "upset_fig = upsetplot.UpSet(\n",
    "    df_upset,\n",
    "    subset_size='count',\n",
    "    show_counts=True,\n",
    "    min_degree=0,\n",
    "    element_size=None,\n",
    "    totals_plot_elements=3\n",
    ")\n",
    "upset_fig.plot(tmp)\n",
    "plt.savefig(f\"{picture_path}/upset.png\", bbox_inches='tight')\n",
    "plt.savefig(f\"{picture_path}/upset.pdf\", bbox_inches='tight')\n",
    "plt.close()\n",
    "\n",
    "fig, ax = plt.subplots()\n",
    "venn = venn2(\n",
    "    subsets=(set(eeg_electrodes_32), set(eeg_electrodes_29)),\n",
    "    set_labels = ('32 electrodes', '29 electrodes'),\n",
    "    set_colors=('r', 'g'),\n",
    "    alpha = 0.5\n",
    ")\n",
    "venn2_circles(subsets=(set(eeg_electrodes_32), set(eeg_electrodes_29)))\n",
    "for text in venn.set_labels:\n",
    "    text.set_fontsize(16)\n",
    "for text in venn.subset_labels:\n",
    "    text.set_fontsize(25)\n",
    "plt.savefig(f\"{picture_path}/venn.png\", bbox_inches='tight', dpi=400)\n",
    "plt.savefig(f\"{picture_path}/venn.pdf\", bbox_inches='tight')\n",
    "plt.clf()"
   ],
   "metadata": {
    "collapsed": false,
    "ExecuteTime": {
     "end_time": "2023-07-24T14:21:10.969316900Z",
     "start_time": "2023-07-24T14:21:10.196277300Z"
    }
   }
  }
 ],
 "metadata": {
  "kernelspec": {
   "display_name": "Python 3",
   "language": "python",
   "name": "python3"
  },
  "language_info": {
   "codemirror_mode": {
    "name": "ipython",
    "version": 2
   },
   "file_extension": ".py",
   "mimetype": "text/x-python",
   "name": "python",
   "nbconvert_exporter": "python",
   "pygments_lexer": "ipython2",
   "version": "2.7.6"
  }
 },
 "nbformat": 4,
 "nbformat_minor": 0
}
