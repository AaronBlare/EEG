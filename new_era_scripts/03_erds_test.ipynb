{
 "cells": [
  {
   "cell_type": "code",
   "execution_count": null,
   "id": "initial_id",
   "metadata": {
    "collapsed": true
   },
   "outputs": [],
   "source": [
    "import pickle\n",
    "import mne\n",
    "from pathlib import Path\n",
    "import numpy as np\n",
    "import pandas as pd\n",
    "\n",
    "import matplotlib.pyplot as plt\n",
    "from matplotlib.colors import TwoSlopeNorm\n",
    "import seaborn as sns\n",
    "import mne\n",
    "from mne.time_frequency import tfr_multitaper\n",
    "from mne.stats import permutation_cluster_1samp_test as pcluster_test"
   ]
  },
  {
   "cell_type": "code",
   "execution_count": 164,
   "outputs": [],
   "source": [
    "eeg_electrodes_32 = ['FP1', 'FP2', 'F7', 'F3', 'Fz', 'F4', 'F8', 'FT9', 'FC5', 'FC1', 'FC2', 'FC6', 'FT10', 'T7', 'C3', 'Cz', 'C4', 'T8', 'TP9', 'CP5', 'CP1', 'CP2', 'CP6', 'TP10', 'P7', 'P3', 'Pz', 'P4', 'P8', 'O1', 'Oz', 'O2']\n",
    "eeg_electrodes_29 = ['F1', 'F2', 'Fz', 'CP3', 'C3', 'FC3', 'FCz', 'Cz', 'CPz', 'FC4', 'C4', 'CP4', 'FC5', 'C5', 'CP5', 'FC1', 'C1', 'CP1', 'FC2', 'C2', 'CP2', 'FC6', 'C6', 'CP6', 'P4', 'P3', 'P1', 'Pz', 'P2']\n",
    "common_electrodes = set(eeg_electrodes_32).intersection(set(eeg_electrodes_29))"
   ],
   "metadata": {
    "collapsed": false,
    "ExecuteTime": {
     "end_time": "2023-09-18T21:31:35.687249600Z",
     "start_time": "2023-09-18T21:31:35.669231300Z"
    }
   },
   "id": "67a151a470f94409"
  },
  {
   "cell_type": "code",
   "execution_count": 165,
   "outputs": [],
   "source": [
    "data_indexes = {'left_real': [], 'right_real': []}\n",
    "data_stat = {'subject': [], 'left': [], 'right': []} # subject_trial_ids\n",
    "data_subjects_32 = {'left_real': [], 'right_real': []} # data without trials\n",
    "data_subjects_29 = {'left_real': [], 'right_real': []} # data without trials\n",
    "data_subjects = {'left_real': [], 'right_real': []} # data without trials"
   ],
   "metadata": {
    "collapsed": false,
    "ExecuteTime": {
     "end_time": "2023-09-18T21:31:36.577252700Z",
     "start_time": "2023-09-18T21:31:36.570253800Z"
    }
   },
   "id": "444f6d00a4c17218"
  },
  {
   "cell_type": "markdown",
   "source": [
    "Read 29 electrodes data"
   ],
   "metadata": {
    "collapsed": false
   },
   "id": "fdba77ea6ff0dfe8"
  },
  {
   "cell_type": "code",
   "execution_count": 166,
   "outputs": [
    {
     "name": "stdout",
     "output_type": "stream",
     "text": [
      "Opening raw data file E:\\YandexDisk\\EEG\\raw\\MI_NN\\29_chanels\\Real\\ZhA_0.1/mne_python_raw.fif...\n",
      "    Range : 0 ... 150368 =      0.000 ...   150.368 secs\n",
      "Ready.\n"
     ]
    }
   ],
   "source": [
    "data_29_path = 'E:/YandexDisk/EEG/raw/MI_NN/29_chanels/Real/'\n",
    "data_codes = {'left_real': 1.0, 'right_real': 2.0}\n",
    "subject_id = 0\n",
    "for subject_path in Path(data_29_path).iterdir():\n",
    "    data_stat['subject'].append(f\"S{subject_id}\")\n",
    "    with open(f'{subject_path}/data_full.pkl', \"rb\") as f:\n",
    "        data_full = pickle.load(f, encoding=\"bytes\")\n",
    "    with open(f'{subject_path}/states_full.pkl', \"rb\") as f:\n",
    "        states_full = pickle.load(f, encoding=\"bytes\")\n",
    "    for movement in data_codes:\n",
    "        movement_ids = np.argwhere(states_full == data_codes[movement])\n",
    "        diff_values = np.diff(movement_ids[:, 1])\n",
    "        split_indexes_ids = np.where(diff_values > 1.0)[0]\n",
    "        split_indexes = movement_ids[:, 1][split_indexes_ids]\n",
    "        data_stat[movement[:-5]].append(len(split_indexes_ids) + 1)\n",
    "        for trial_id in range(0, len(split_indexes_ids) + 1):\n",
    "            if trial_id == 0:\n",
    "                trial_start = movement_ids[0, 1]\n",
    "                trial_end = movement_ids[split_indexes_ids[trial_id], 1] + 1\n",
    "            elif trial_id == len(split_indexes_ids):\n",
    "                trial_start = movement_ids[split_indexes_ids[trial_id - 1], 1]\n",
    "                trial_end = movement_ids[-1, 1] + 1\n",
    "            else:\n",
    "                trial_start = movement_ids[split_indexes_ids[trial_id - 1] + 1, 1]\n",
    "                trial_end = movement_ids[split_indexes_ids[trial_id], 1] + 1\n",
    "            if trial_id == 0 and states_full[:, trial_start - 1] in [0.0, 3.0]:\n",
    "                if states_full[:, trial_start-1000] in [0.0, 3.0] and states_full[:, trial_start+4000] == data_codes[movement]:\n",
    "                    data_subjects_29[movement].append(data_full[:, trial_start-1000:trial_start+4000] * 10 ** 6)\n",
    "                else:\n",
    "                    continue\n",
    "            if trial_id > 0 and states_full[:, trial_start - 1] in [0.0, 3.0]:\n",
    "                if states_full[:, trial_start-1000] in [0.0, 3.0] and states_full[:, trial_start+4000] == data_codes[movement]:\n",
    "                    data_subjects_29[movement][subject_id] = np.concatenate((data_subjects_29[movement][subject_id], data_full[:, trial_start-1000:trial_start+4000] * 10 ** 6), axis=1)\n",
    "                else:\n",
    "                    continue\n",
    "        data_indexes[movement].append(f\"S{subject_id}_{movement}_29\")\n",
    "    subject_id += 1\n",
    "\n",
    "num_subjects_29 = subject_id - 1\n",
    "mne_python_raw = mne.io.read_raw_fif(f'{subject_path}/mne_python_raw.fif')\n",
    "sample_frequency_29 = mne_python_raw.info['sfreq']\n",
    "electrodes_names_29 = mne_python_raw.info['ch_names']"
   ],
   "metadata": {
    "collapsed": false,
    "ExecuteTime": {
     "end_time": "2023-09-18T21:31:39.108790Z",
     "start_time": "2023-09-18T21:31:38.086602Z"
    }
   },
   "id": "2cf1f4f24863c72c"
  },
  {
   "cell_type": "markdown",
   "source": [
    "Read 32 electrodes data"
   ],
   "metadata": {
    "collapsed": false
   },
   "id": "8cf9a50d8360a30f"
  },
  {
   "cell_type": "code",
   "execution_count": null,
   "outputs": [],
   "source": [
    "from pymatreader import read_mat\n",
    "\n",
    "data_32_path = 'E:/YandexDisk/EEG/raw/'\n",
    "data_32_file = '1st_Day.mat'\n",
    "\n",
    "curr_32_data = read_mat(data_32_path + data_32_file)"
   ],
   "metadata": {
    "collapsed": false
   },
   "id": "820bbe06bdec7124"
  },
  {
   "cell_type": "code",
   "execution_count": 167,
   "outputs": [],
   "source": [
    "electrodes_names_32 = curr_32_data['subs_ica'][0]['right_real']['label']\n",
    "sample_frequency_32 = curr_32_data['subs_ica'][0]['right_real']['fsample']\n",
    "for subject_id in range(0, len(curr_32_data['subs_ica'])):\n",
    "    data_stat['subject'].append(f\"S{num_subjects_29 + 1 + subject_id}\")\n",
    "    for key in data_codes:\n",
    "        data_stat[key[:-5]].append(len(curr_32_data['subs_ica'][subject_id][key]['trial']))\n",
    "        for trial_id in range(0, len(curr_32_data['subs_ica'][subject_id][key]['trial'])):\n",
    "            if trial_id == 0:\n",
    "                data_subjects_32[key].append(curr_32_data['subs_ica'][subject_id][key]['trial'][trial_id][:, 4000:9000] * 10 ** 6)\n",
    "            if trial_id > 0:\n",
    "                data_subjects_32[key][subject_id] = np.concatenate((data_subjects_32[key][subject_id], curr_32_data['subs_ica'][subject_id][key]['trial'][trial_id][:, 4000:9000] * 10 ** 6), axis=1)\n",
    "        data_indexes[key].append(f\"S{num_subjects_29 + 1 + subject_id}_{key}_32\")"
   ],
   "metadata": {
    "collapsed": false,
    "ExecuteTime": {
     "end_time": "2023-09-18T21:31:42.431288600Z",
     "start_time": "2023-09-18T21:31:40.447281300Z"
    }
   },
   "id": "20f99f9829087f08"
  },
  {
   "cell_type": "markdown",
   "source": [
    "Data for common electrodes"
   ],
   "metadata": {
    "collapsed": false
   },
   "id": "a38be0c2918fa591"
  },
  {
   "cell_type": "code",
   "execution_count": 168,
   "outputs": [],
   "source": [
    "electrodes_names = list(set(electrodes_names_32).intersection(set(electrodes_names_29)))\n",
    "electrodes_32_ids = []\n",
    "electrodes_29_ids = []\n",
    "for common_electrode in common_electrodes:\n",
    "    electrodes_32_ids.append(electrodes_names_32.index(common_electrode))\n",
    "    electrodes_29_ids.append(electrodes_names_29.index(common_electrode))\n",
    "for movement in data_codes:\n",
    "    for subject_id in range(0, len(data_subjects_29[movement])):\n",
    "        if data_indexes[movement][subject_id].endswith('29'):\n",
    "            data_subjects[movement].append(data_subjects_29[movement][subject_id][electrodes_29_ids, :])\n",
    "    for subject_id in range(0, len(data_subjects_32[movement])):\n",
    "        if data_indexes[movement][len(data_subjects_29[movement]) + subject_id].endswith('32'):\n",
    "            data_subjects[movement].append(data_subjects_32[movement][subject_id][electrodes_32_ids, :])"
   ],
   "metadata": {
    "collapsed": false,
    "ExecuteTime": {
     "end_time": "2023-09-18T21:31:49.286849Z",
     "start_time": "2023-09-18T21:31:48.941271500Z"
    }
   },
   "id": "4a462d1d962cc162"
  },
  {
   "cell_type": "markdown",
   "source": [
    "Create raw data for mne"
   ],
   "metadata": {
    "collapsed": false
   },
   "id": "51238fb03d7bfab1"
  },
  {
   "cell_type": "code",
   "execution_count": null,
   "outputs": [
    {
     "name": "stdout",
     "output_type": "stream",
     "text": [
      "Creating RawArray with float64 data, n_channels=15, n_times=45000\n",
      "    Range : 0 ... 44999 =      0.000 ...    44.999 secs\n",
      "Ready.\n",
      "Not setting metadata\n",
      "8 matching events found\n",
      "No baseline correction applied\n",
      "0 projection items activated\n",
      "Using data from preloaded Raw for 8 events and 5001 original time points ...\n",
      "0 bad epochs dropped\n"
     ]
    },
    {
     "name": "stderr",
     "output_type": "stream",
     "text": [
      "[Parallel(n_jobs=1)]: Using backend SequentialBackend with 1 concurrent workers.\n",
      "[Parallel(n_jobs=1)]: Done   1 out of   1 | elapsed:    0.1s remaining:    0.0s\n",
      "[Parallel(n_jobs=1)]: Done   2 out of   2 | elapsed:    0.3s remaining:    0.0s\n",
      "[Parallel(n_jobs=1)]: Done   3 out of   3 | elapsed:    0.5s remaining:    0.0s\n",
      "[Parallel(n_jobs=1)]: Done   4 out of   4 | elapsed:    0.7s remaining:    0.0s\n"
     ]
    },
    {
     "name": "stdout",
     "output_type": "stream",
     "text": [
      "Not setting metadata\n",
      "Applying baseline correction (mode: percent)\n"
     ]
    },
    {
     "name": "stderr",
     "output_type": "stream",
     "text": [
      "[Parallel(n_jobs=1)]: Done  15 out of  15 | elapsed:    2.8s finished\n"
     ]
    },
    {
     "name": "stdout",
     "output_type": "stream",
     "text": [
      "Using a threshold of 1.894579\n",
      "stat_fun(H1): min=-10.321343 max=6.169734\n",
      "Running initial clustering …\n",
      "Found 59 clusters\n"
     ]
    },
    {
     "data": {
      "text/plain": "  0%|          | Permuting : 0/99 [00:00<?,       ?it/s]",
      "application/vnd.jupyter.widget-view+json": {
       "version_major": 2,
       "version_minor": 0,
       "model_id": "365163ff70244c67bc1732d334efee82"
      }
     },
     "metadata": {},
     "output_type": "display_data"
    },
    {
     "name": "stdout",
     "output_type": "stream",
     "text": [
      "Step-down-in-jumps iteration #1 found 0 clusters to exclude from subsequent iterations\n",
      "Using a threshold of -1.894579\n",
      "stat_fun(H1): min=-10.321343 max=6.169734\n",
      "Running initial clustering …\n",
      "Found 25 clusters\n"
     ]
    },
    {
     "data": {
      "text/plain": "  0%|          | Permuting : 0/99 [00:00<?,       ?it/s]",
      "application/vnd.jupyter.widget-view+json": {
       "version_major": 2,
       "version_minor": 0,
       "model_id": "02a8449dab084edf8cb99738700ad431"
      }
     },
     "metadata": {},
     "output_type": "display_data"
    },
    {
     "name": "stdout",
     "output_type": "stream",
     "text": [
      "Step-down-in-jumps iteration #1 found 1 cluster to exclude from subsequent iterations\n"
     ]
    },
    {
     "data": {
      "text/plain": "  0%|          | Permuting : 0/99 [00:00<?,       ?it/s]",
      "application/vnd.jupyter.widget-view+json": {
       "version_major": 2,
       "version_minor": 0,
       "model_id": "5624616781d84226a4377dff22752c23"
      }
     },
     "metadata": {},
     "output_type": "display_data"
    },
    {
     "name": "stdout",
     "output_type": "stream",
     "text": [
      "Step-down-in-jumps iteration #2 found 0 additional clusters to exclude from subsequent iterations\n",
      "NOTE: pick_channels() is a legacy function. New code should use inst.pick(...).\n",
      "No baseline correction applied\n",
      "Using a threshold of 1.894579\n",
      "stat_fun(H1): min=-15.557216 max=13.890875\n",
      "Running initial clustering …\n",
      "Found 66 clusters\n"
     ]
    },
    {
     "data": {
      "text/plain": "  0%|          | Permuting : 0/99 [00:00<?,       ?it/s]",
      "application/vnd.jupyter.widget-view+json": {
       "version_major": 2,
       "version_minor": 0,
       "model_id": "5050f0b21ad74b8083391d4814b69253"
      }
     },
     "metadata": {},
     "output_type": "display_data"
    },
    {
     "name": "stdout",
     "output_type": "stream",
     "text": [
      "Step-down-in-jumps iteration #1 found 1 cluster to exclude from subsequent iterations\n"
     ]
    },
    {
     "data": {
      "text/plain": "  0%|          | Permuting : 0/99 [00:00<?,       ?it/s]",
      "application/vnd.jupyter.widget-view+json": {
       "version_major": 2,
       "version_minor": 0,
       "model_id": "16cb556dd748453d9ecfe7f68154e6d8"
      }
     },
     "metadata": {},
     "output_type": "display_data"
    },
    {
     "name": "stdout",
     "output_type": "stream",
     "text": [
      "Step-down-in-jumps iteration #2 found 0 additional clusters to exclude from subsequent iterations\n",
      "Using a threshold of -1.894579\n",
      "stat_fun(H1): min=-15.557216 max=13.890875\n",
      "Running initial clustering …\n",
      "Found 22 clusters\n"
     ]
    },
    {
     "data": {
      "text/plain": "  0%|          | Permuting : 0/99 [00:00<?,       ?it/s]",
      "application/vnd.jupyter.widget-view+json": {
       "version_major": 2,
       "version_minor": 0,
       "model_id": "1a92b63a9f0045f792a84c98648bbfd8"
      }
     },
     "metadata": {},
     "output_type": "display_data"
    },
    {
     "name": "stdout",
     "output_type": "stream",
     "text": [
      "Step-down-in-jumps iteration #1 found 0 clusters to exclude from subsequent iterations\n",
      "NOTE: pick_channels() is a legacy function. New code should use inst.pick(...).\n",
      "No baseline correction applied\n",
      "Using a threshold of 1.894579\n",
      "stat_fun(H1): min=-12.641240 max=7.571763\n",
      "Running initial clustering …\n",
      "Found 74 clusters\n"
     ]
    },
    {
     "data": {
      "text/plain": "  0%|          | Permuting : 0/99 [00:00<?,       ?it/s]",
      "application/vnd.jupyter.widget-view+json": {
       "version_major": 2,
       "version_minor": 0,
       "model_id": "f104eb5b96ce4b048ac003e36f1c0ed1"
      }
     },
     "metadata": {},
     "output_type": "display_data"
    },
    {
     "name": "stdout",
     "output_type": "stream",
     "text": [
      "Step-down-in-jumps iteration #1 found 1 cluster to exclude from subsequent iterations\n"
     ]
    },
    {
     "data": {
      "text/plain": "  0%|          | Permuting : 0/99 [00:00<?,       ?it/s]",
      "application/vnd.jupyter.widget-view+json": {
       "version_major": 2,
       "version_minor": 0,
       "model_id": "45af207e79e14c3cac756bd2bbb06f5f"
      }
     },
     "metadata": {},
     "output_type": "display_data"
    },
    {
     "name": "stdout",
     "output_type": "stream",
     "text": [
      "Step-down-in-jumps iteration #2 found 0 additional clusters to exclude from subsequent iterations\n",
      "Using a threshold of -1.894579\n",
      "stat_fun(H1): min=-12.641240 max=7.571763\n",
      "Running initial clustering …\n",
      "Found 35 clusters\n"
     ]
    },
    {
     "data": {
      "text/plain": "  0%|          | Permuting : 0/99 [00:00<?,       ?it/s]",
      "application/vnd.jupyter.widget-view+json": {
       "version_major": 2,
       "version_minor": 0,
       "model_id": "3277a511519442668f7ab39de7f26b35"
      }
     },
     "metadata": {},
     "output_type": "display_data"
    },
    {
     "name": "stdout",
     "output_type": "stream",
     "text": [
      "Step-down-in-jumps iteration #1 found 0 clusters to exclude from subsequent iterations\n",
      "NOTE: pick_channels() is a legacy function. New code should use inst.pick(...).\n",
      "No baseline correction applied\n",
      "Using a threshold of 1.894579\n",
      "stat_fun(H1): min=-15.637659 max=14.923404\n",
      "Running initial clustering …\n",
      "Found 42 clusters\n"
     ]
    },
    {
     "data": {
      "text/plain": "  0%|          | Permuting : 0/99 [00:00<?,       ?it/s]",
      "application/vnd.jupyter.widget-view+json": {
       "version_major": 2,
       "version_minor": 0,
       "model_id": "5ab61ca761f5468689dba080a108aebc"
      }
     },
     "metadata": {},
     "output_type": "display_data"
    },
    {
     "name": "stdout",
     "output_type": "stream",
     "text": [
      "Step-down-in-jumps iteration #1 found 1 cluster to exclude from subsequent iterations\n"
     ]
    },
    {
     "data": {
      "text/plain": "  0%|          | Permuting : 0/99 [00:00<?,       ?it/s]",
      "application/vnd.jupyter.widget-view+json": {
       "version_major": 2,
       "version_minor": 0,
       "model_id": "091037adfca9409ca761ee63ac2b195b"
      }
     },
     "metadata": {},
     "output_type": "display_data"
    },
    {
     "name": "stdout",
     "output_type": "stream",
     "text": [
      "Step-down-in-jumps iteration #2 found 0 additional clusters to exclude from subsequent iterations\n",
      "Using a threshold of -1.894579\n",
      "stat_fun(H1): min=-15.637659 max=14.923404\n",
      "Running initial clustering …\n",
      "Found 21 clusters\n"
     ]
    },
    {
     "data": {
      "text/plain": "  0%|          | Permuting : 0/99 [00:00<?,       ?it/s]",
      "application/vnd.jupyter.widget-view+json": {
       "version_major": 2,
       "version_minor": 0,
       "model_id": "5ccdfb8113044867b807acd5bf899034"
      }
     },
     "metadata": {},
     "output_type": "display_data"
    },
    {
     "name": "stdout",
     "output_type": "stream",
     "text": [
      "Step-down-in-jumps iteration #1 found 0 clusters to exclude from subsequent iterations\n",
      "NOTE: pick_channels() is a legacy function. New code should use inst.pick(...).\n",
      "No baseline correction applied\n",
      "Using a threshold of 1.894579\n",
      "stat_fun(H1): min=-10.567296 max=8.073860\n",
      "Running initial clustering …\n",
      "Found 78 clusters\n"
     ]
    },
    {
     "data": {
      "text/plain": "  0%|          | Permuting : 0/99 [00:00<?,       ?it/s]",
      "application/vnd.jupyter.widget-view+json": {
       "version_major": 2,
       "version_minor": 0,
       "model_id": "54399c071313410dbad466f174af8847"
      }
     },
     "metadata": {},
     "output_type": "display_data"
    },
    {
     "name": "stdout",
     "output_type": "stream",
     "text": [
      "Step-down-in-jumps iteration #1 found 2 clusters to exclude from subsequent iterations\n"
     ]
    },
    {
     "data": {
      "text/plain": "  0%|          | Permuting : 0/99 [00:00<?,       ?it/s]",
      "application/vnd.jupyter.widget-view+json": {
       "version_major": 2,
       "version_minor": 0,
       "model_id": "11df57b61e5d4f7dbf07c8ff34b7f828"
      }
     },
     "metadata": {},
     "output_type": "display_data"
    },
    {
     "name": "stdout",
     "output_type": "stream",
     "text": [
      "Step-down-in-jumps iteration #2 found 0 additional clusters to exclude from subsequent iterations\n",
      "Using a threshold of -1.894579\n",
      "stat_fun(H1): min=-10.567296 max=8.073860\n",
      "Running initial clustering …\n",
      "Found 15 clusters\n"
     ]
    },
    {
     "data": {
      "text/plain": "  0%|          | Permuting : 0/99 [00:00<?,       ?it/s]",
      "application/vnd.jupyter.widget-view+json": {
       "version_major": 2,
       "version_minor": 0,
       "model_id": "8cb6c184b022490ba652c2152a79f148"
      }
     },
     "metadata": {},
     "output_type": "display_data"
    },
    {
     "name": "stdout",
     "output_type": "stream",
     "text": [
      "Step-down-in-jumps iteration #1 found 1 cluster to exclude from subsequent iterations\n"
     ]
    },
    {
     "data": {
      "text/plain": "  0%|          | Permuting : 0/99 [00:00<?,       ?it/s]",
      "application/vnd.jupyter.widget-view+json": {
       "version_major": 2,
       "version_minor": 0,
       "model_id": "a4df1f36eac6425d887b2f4866a02707"
      }
     },
     "metadata": {},
     "output_type": "display_data"
    },
    {
     "name": "stdout",
     "output_type": "stream",
     "text": [
      "Step-down-in-jumps iteration #2 found 0 additional clusters to exclude from subsequent iterations\n",
      "NOTE: pick_channels() is a legacy function. New code should use inst.pick(...).\n",
      "No baseline correction applied\n",
      "Using a threshold of 1.894579\n",
      "stat_fun(H1): min=-7.988532 max=5.859392\n",
      "Running initial clustering …\n",
      "Found 70 clusters\n"
     ]
    },
    {
     "data": {
      "text/plain": "  0%|          | Permuting : 0/99 [00:00<?,       ?it/s]",
      "application/vnd.jupyter.widget-view+json": {
       "version_major": 2,
       "version_minor": 0,
       "model_id": "2b016366ed544aadbe76ac4f887a47df"
      }
     },
     "metadata": {},
     "output_type": "display_data"
    },
    {
     "name": "stdout",
     "output_type": "stream",
     "text": [
      "Step-down-in-jumps iteration #1 found 1 cluster to exclude from subsequent iterations\n"
     ]
    },
    {
     "data": {
      "text/plain": "  0%|          | Permuting : 0/99 [00:00<?,       ?it/s]",
      "application/vnd.jupyter.widget-view+json": {
       "version_major": 2,
       "version_minor": 0,
       "model_id": "514c6c5caff34959a3b2f0dcbaba5301"
      }
     },
     "metadata": {},
     "output_type": "display_data"
    },
    {
     "name": "stdout",
     "output_type": "stream",
     "text": [
      "Step-down-in-jumps iteration #2 found 0 additional clusters to exclude from subsequent iterations\n",
      "Using a threshold of -1.894579\n",
      "stat_fun(H1): min=-7.988532 max=5.859392\n",
      "Running initial clustering …\n",
      "Found 15 clusters\n"
     ]
    },
    {
     "data": {
      "text/plain": "  0%|          | Permuting : 0/99 [00:00<?,       ?it/s]",
      "application/vnd.jupyter.widget-view+json": {
       "version_major": 2,
       "version_minor": 0,
       "model_id": "35dcce58fa9a421582a25c0314427926"
      }
     },
     "metadata": {},
     "output_type": "display_data"
    },
    {
     "name": "stdout",
     "output_type": "stream",
     "text": [
      "Step-down-in-jumps iteration #1 found 0 clusters to exclude from subsequent iterations\n",
      "NOTE: pick_channels() is a legacy function. New code should use inst.pick(...).\n",
      "No baseline correction applied\n",
      "Using a threshold of 1.894579\n",
      "stat_fun(H1): min=-12.011023 max=8.976911\n",
      "Running initial clustering …\n",
      "Found 74 clusters\n"
     ]
    },
    {
     "data": {
      "text/plain": "  0%|          | Permuting : 0/99 [00:00<?,       ?it/s]",
      "application/vnd.jupyter.widget-view+json": {
       "version_major": 2,
       "version_minor": 0,
       "model_id": "37a9f6bb31c04dacacc103730d3a8861"
      }
     },
     "metadata": {},
     "output_type": "display_data"
    },
    {
     "name": "stdout",
     "output_type": "stream",
     "text": [
      "Step-down-in-jumps iteration #1 found 1 cluster to exclude from subsequent iterations\n"
     ]
    },
    {
     "data": {
      "text/plain": "  0%|          | Permuting : 0/99 [00:00<?,       ?it/s]",
      "application/vnd.jupyter.widget-view+json": {
       "version_major": 2,
       "version_minor": 0,
       "model_id": "80ee536e8cd54aa18b9d8a3a63d70a67"
      }
     },
     "metadata": {},
     "output_type": "display_data"
    },
    {
     "name": "stdout",
     "output_type": "stream",
     "text": [
      "Step-down-in-jumps iteration #2 found 0 additional clusters to exclude from subsequent iterations\n",
      "Using a threshold of -1.894579\n",
      "stat_fun(H1): min=-12.011023 max=8.976911\n",
      "Running initial clustering …\n",
      "Found 40 clusters\n"
     ]
    },
    {
     "data": {
      "text/plain": "  0%|          | Permuting : 0/99 [00:00<?,       ?it/s]",
      "application/vnd.jupyter.widget-view+json": {
       "version_major": 2,
       "version_minor": 0,
       "model_id": "bd957209639c44d28c80d2bcd7d67be9"
      }
     },
     "metadata": {},
     "output_type": "display_data"
    },
    {
     "name": "stdout",
     "output_type": "stream",
     "text": [
      "Step-down-in-jumps iteration #1 found 1 cluster to exclude from subsequent iterations\n"
     ]
    },
    {
     "data": {
      "text/plain": "  0%|          | Permuting : 0/99 [00:00<?,       ?it/s]",
      "application/vnd.jupyter.widget-view+json": {
       "version_major": 2,
       "version_minor": 0,
       "model_id": "fc6d49da269d4619aa8ad5a5d39d35df"
      }
     },
     "metadata": {},
     "output_type": "display_data"
    },
    {
     "name": "stdout",
     "output_type": "stream",
     "text": [
      "Step-down-in-jumps iteration #2 found 0 additional clusters to exclude from subsequent iterations\n",
      "NOTE: pick_channels() is a legacy function. New code should use inst.pick(...).\n",
      "No baseline correction applied\n",
      "Using a threshold of 1.894579\n",
      "stat_fun(H1): min=-14.207149 max=6.649179\n",
      "Running initial clustering …\n",
      "Found 30 clusters\n"
     ]
    },
    {
     "data": {
      "text/plain": "  0%|          | Permuting : 0/99 [00:00<?,       ?it/s]",
      "application/vnd.jupyter.widget-view+json": {
       "version_major": 2,
       "version_minor": 0,
       "model_id": "de6bd5b366c642d7b999c7195a89e25a"
      }
     },
     "metadata": {},
     "output_type": "display_data"
    },
    {
     "name": "stdout",
     "output_type": "stream",
     "text": [
      "Step-down-in-jumps iteration #1 found 0 clusters to exclude from subsequent iterations\n",
      "Using a threshold of -1.894579\n",
      "stat_fun(H1): min=-14.207149 max=6.649179\n",
      "Running initial clustering …\n",
      "Found 68 clusters\n"
     ]
    },
    {
     "data": {
      "text/plain": "  0%|          | Permuting : 0/99 [00:00<?,       ?it/s]",
      "application/vnd.jupyter.widget-view+json": {
       "version_major": 2,
       "version_minor": 0,
       "model_id": "345834c423e443f5bf3f3cede9c7772f"
      }
     },
     "metadata": {},
     "output_type": "display_data"
    },
    {
     "name": "stdout",
     "output_type": "stream",
     "text": [
      "Step-down-in-jumps iteration #1 found 0 clusters to exclude from subsequent iterations\n",
      "NOTE: pick_channels() is a legacy function. New code should use inst.pick(...).\n",
      "No baseline correction applied\n",
      "Using a threshold of 1.894579\n",
      "stat_fun(H1): min=-8.651241 max=9.029768\n",
      "Running initial clustering …\n",
      "Found 73 clusters\n"
     ]
    },
    {
     "data": {
      "text/plain": "  0%|          | Permuting : 0/99 [00:00<?,       ?it/s]",
      "application/vnd.jupyter.widget-view+json": {
       "version_major": 2,
       "version_minor": 0,
       "model_id": "d467dd49aa794cbea76da118a8f87a6d"
      }
     },
     "metadata": {},
     "output_type": "display_data"
    },
    {
     "name": "stdout",
     "output_type": "stream",
     "text": [
      "Step-down-in-jumps iteration #1 found 1 cluster to exclude from subsequent iterations\n"
     ]
    },
    {
     "data": {
      "text/plain": "  0%|          | Permuting : 0/99 [00:00<?,       ?it/s]",
      "application/vnd.jupyter.widget-view+json": {
       "version_major": 2,
       "version_minor": 0,
       "model_id": "aec7364d3f504bc49483b556f2481a2e"
      }
     },
     "metadata": {},
     "output_type": "display_data"
    },
    {
     "name": "stdout",
     "output_type": "stream",
     "text": [
      "Step-down-in-jumps iteration #2 found 0 additional clusters to exclude from subsequent iterations\n",
      "Using a threshold of -1.894579\n",
      "stat_fun(H1): min=-8.651241 max=9.029768\n",
      "Running initial clustering …\n",
      "Found 14 clusters\n"
     ]
    },
    {
     "data": {
      "text/plain": "  0%|          | Permuting : 0/99 [00:00<?,       ?it/s]",
      "application/vnd.jupyter.widget-view+json": {
       "version_major": 2,
       "version_minor": 0,
       "model_id": "5d56ea9ad52d408c9d879a378e245b0f"
      }
     },
     "metadata": {},
     "output_type": "display_data"
    },
    {
     "name": "stdout",
     "output_type": "stream",
     "text": [
      "Step-down-in-jumps iteration #1 found 1 cluster to exclude from subsequent iterations\n"
     ]
    },
    {
     "data": {
      "text/plain": "  0%|          | Permuting : 0/99 [00:00<?,       ?it/s]",
      "application/vnd.jupyter.widget-view+json": {
       "version_major": 2,
       "version_minor": 0,
       "model_id": "bc47e2c2119347dcbd4e86214928e029"
      }
     },
     "metadata": {},
     "output_type": "display_data"
    },
    {
     "name": "stdout",
     "output_type": "stream",
     "text": [
      "Step-down-in-jumps iteration #2 found 0 additional clusters to exclude from subsequent iterations\n",
      "NOTE: pick_channels() is a legacy function. New code should use inst.pick(...).\n",
      "No baseline correction applied\n",
      "Using a threshold of 1.894579\n",
      "stat_fun(H1): min=-7.197678 max=6.712842\n",
      "Running initial clustering …\n",
      "Found 55 clusters\n"
     ]
    },
    {
     "data": {
      "text/plain": "  0%|          | Permuting : 0/99 [00:00<?,       ?it/s]",
      "application/vnd.jupyter.widget-view+json": {
       "version_major": 2,
       "version_minor": 0,
       "model_id": "9bebbdbd36184a95ae2b76aedbbf155e"
      }
     },
     "metadata": {},
     "output_type": "display_data"
    },
    {
     "name": "stdout",
     "output_type": "stream",
     "text": [
      "Step-down-in-jumps iteration #1 found 1 cluster to exclude from subsequent iterations\n"
     ]
    },
    {
     "data": {
      "text/plain": "  0%|          | Permuting : 0/99 [00:00<?,       ?it/s]",
      "application/vnd.jupyter.widget-view+json": {
       "version_major": 2,
       "version_minor": 0,
       "model_id": "5e15c933bee441068cdaf31330e2c07b"
      }
     },
     "metadata": {},
     "output_type": "display_data"
    },
    {
     "name": "stdout",
     "output_type": "stream",
     "text": [
      "Step-down-in-jumps iteration #2 found 0 additional clusters to exclude from subsequent iterations\n",
      "Using a threshold of -1.894579\n",
      "stat_fun(H1): min=-7.197678 max=6.712842\n",
      "Running initial clustering …\n",
      "Found 43 clusters\n"
     ]
    },
    {
     "data": {
      "text/plain": "  0%|          | Permuting : 0/99 [00:00<?,       ?it/s]",
      "application/vnd.jupyter.widget-view+json": {
       "version_major": 2,
       "version_minor": 0,
       "model_id": "46a5634ccd1d4101b4998cab76553c25"
      }
     },
     "metadata": {},
     "output_type": "display_data"
    },
    {
     "name": "stdout",
     "output_type": "stream",
     "text": [
      "Step-down-in-jumps iteration #1 found 0 clusters to exclude from subsequent iterations\n",
      "NOTE: pick_channels() is a legacy function. New code should use inst.pick(...).\n",
      "No baseline correction applied\n",
      "Using a threshold of 1.894579\n",
      "stat_fun(H1): min=-10.323266 max=13.258522\n",
      "Running initial clustering …\n",
      "Found 45 clusters\n"
     ]
    },
    {
     "data": {
      "text/plain": "  0%|          | Permuting : 0/99 [00:00<?,       ?it/s]",
      "application/vnd.jupyter.widget-view+json": {
       "version_major": 2,
       "version_minor": 0,
       "model_id": "a790fec4efdb4856a5ef3b37c2998e6f"
      }
     },
     "metadata": {},
     "output_type": "display_data"
    },
    {
     "name": "stdout",
     "output_type": "stream",
     "text": [
      "Step-down-in-jumps iteration #1 found 1 cluster to exclude from subsequent iterations\n"
     ]
    },
    {
     "data": {
      "text/plain": "  0%|          | Permuting : 0/99 [00:00<?,       ?it/s]",
      "application/vnd.jupyter.widget-view+json": {
       "version_major": 2,
       "version_minor": 0,
       "model_id": "2f6174476af34bf4ae7048ad049262dc"
      }
     },
     "metadata": {},
     "output_type": "display_data"
    },
    {
     "name": "stdout",
     "output_type": "stream",
     "text": [
      "Step-down-in-jumps iteration #2 found 0 additional clusters to exclude from subsequent iterations\n",
      "Using a threshold of -1.894579\n",
      "stat_fun(H1): min=-10.323266 max=13.258522\n",
      "Running initial clustering …\n",
      "Found 49 clusters\n"
     ]
    },
    {
     "data": {
      "text/plain": "  0%|          | Permuting : 0/99 [00:00<?,       ?it/s]",
      "application/vnd.jupyter.widget-view+json": {
       "version_major": 2,
       "version_minor": 0,
       "model_id": "316ad34c7621413aaf4b11cfc62025aa"
      }
     },
     "metadata": {},
     "output_type": "display_data"
    },
    {
     "name": "stdout",
     "output_type": "stream",
     "text": [
      "Step-down-in-jumps iteration #1 found 1 cluster to exclude from subsequent iterations\n"
     ]
    },
    {
     "data": {
      "text/plain": "  0%|          | Permuting : 0/99 [00:00<?,       ?it/s]",
      "application/vnd.jupyter.widget-view+json": {
       "version_major": 2,
       "version_minor": 0,
       "model_id": "f4ffd88193ed4f67bfde37061c8b595d"
      }
     },
     "metadata": {},
     "output_type": "display_data"
    },
    {
     "name": "stdout",
     "output_type": "stream",
     "text": [
      "Step-down-in-jumps iteration #2 found 0 additional clusters to exclude from subsequent iterations\n",
      "NOTE: pick_channels() is a legacy function. New code should use inst.pick(...).\n",
      "No baseline correction applied\n",
      "Using a threshold of 1.894579\n",
      "stat_fun(H1): min=-9.148764 max=7.101181\n",
      "Running initial clustering …\n",
      "Found 53 clusters\n"
     ]
    },
    {
     "data": {
      "text/plain": "  0%|          | Permuting : 0/99 [00:00<?,       ?it/s]",
      "application/vnd.jupyter.widget-view+json": {
       "version_major": 2,
       "version_minor": 0,
       "model_id": "881e65d176e5463ca63f31a623b986d1"
      }
     },
     "metadata": {},
     "output_type": "display_data"
    },
    {
     "name": "stdout",
     "output_type": "stream",
     "text": [
      "Step-down-in-jumps iteration #1 found 1 cluster to exclude from subsequent iterations\n"
     ]
    },
    {
     "data": {
      "text/plain": "  0%|          | Permuting : 0/99 [00:00<?,       ?it/s]",
      "application/vnd.jupyter.widget-view+json": {
       "version_major": 2,
       "version_minor": 0,
       "model_id": "64a9fde969834ebfb78309c0ea7f476c"
      }
     },
     "metadata": {},
     "output_type": "display_data"
    },
    {
     "name": "stdout",
     "output_type": "stream",
     "text": [
      "Step-down-in-jumps iteration #2 found 0 additional clusters to exclude from subsequent iterations\n",
      "Using a threshold of -1.894579\n",
      "stat_fun(H1): min=-9.148764 max=7.101181\n",
      "Running initial clustering …\n",
      "Found 22 clusters\n"
     ]
    },
    {
     "data": {
      "text/plain": "  0%|          | Permuting : 0/99 [00:00<?,       ?it/s]",
      "application/vnd.jupyter.widget-view+json": {
       "version_major": 2,
       "version_minor": 0,
       "model_id": "e78e1e1762504e44a869e1cd9d6dc452"
      }
     },
     "metadata": {},
     "output_type": "display_data"
    },
    {
     "name": "stdout",
     "output_type": "stream",
     "text": [
      "Step-down-in-jumps iteration #1 found 1 cluster to exclude from subsequent iterations\n"
     ]
    },
    {
     "data": {
      "text/plain": "  0%|          | Permuting : 0/99 [00:00<?,       ?it/s]",
      "application/vnd.jupyter.widget-view+json": {
       "version_major": 2,
       "version_minor": 0,
       "model_id": "ea576be97b7743a0ab6269265563fd1f"
      }
     },
     "metadata": {},
     "output_type": "display_data"
    },
    {
     "name": "stdout",
     "output_type": "stream",
     "text": [
      "Step-down-in-jumps iteration #2 found 0 additional clusters to exclude from subsequent iterations\n",
      "NOTE: pick_channels() is a legacy function. New code should use inst.pick(...).\n",
      "No baseline correction applied\n",
      "Using a threshold of 1.894579\n",
      "stat_fun(H1): min=-8.437844 max=9.198858\n",
      "Running initial clustering …\n",
      "Found 68 clusters\n"
     ]
    },
    {
     "data": {
      "text/plain": "  0%|          | Permuting : 0/99 [00:00<?,       ?it/s]",
      "application/vnd.jupyter.widget-view+json": {
       "version_major": 2,
       "version_minor": 0,
       "model_id": "c578e369d11e4234922298cddeb2fb1d"
      }
     },
     "metadata": {},
     "output_type": "display_data"
    },
    {
     "name": "stdout",
     "output_type": "stream",
     "text": [
      "Step-down-in-jumps iteration #1 found 1 cluster to exclude from subsequent iterations\n"
     ]
    },
    {
     "data": {
      "text/plain": "  0%|          | Permuting : 0/99 [00:00<?,       ?it/s]",
      "application/vnd.jupyter.widget-view+json": {
       "version_major": 2,
       "version_minor": 0,
       "model_id": "d3a9e571c2fa4cc1919ac306b212c33b"
      }
     },
     "metadata": {},
     "output_type": "display_data"
    },
    {
     "name": "stdout",
     "output_type": "stream",
     "text": [
      "Step-down-in-jumps iteration #2 found 0 additional clusters to exclude from subsequent iterations\n",
      "Using a threshold of -1.894579\n",
      "stat_fun(H1): min=-8.437844 max=9.198858\n",
      "Running initial clustering …\n",
      "Found 42 clusters\n"
     ]
    },
    {
     "data": {
      "text/plain": "  0%|          | Permuting : 0/99 [00:00<?,       ?it/s]",
      "application/vnd.jupyter.widget-view+json": {
       "version_major": 2,
       "version_minor": 0,
       "model_id": "e288c6f3d6ee4fc38993967a5bb9c5e0"
      }
     },
     "metadata": {},
     "output_type": "display_data"
    },
    {
     "name": "stdout",
     "output_type": "stream",
     "text": [
      "Step-down-in-jumps iteration #1 found 0 clusters to exclude from subsequent iterations\n",
      "NOTE: pick_channels() is a legacy function. New code should use inst.pick(...).\n",
      "No baseline correction applied\n",
      "Using a threshold of 1.894579\n",
      "stat_fun(H1): min=-17.030672 max=8.650006\n",
      "Running initial clustering …\n",
      "Found 62 clusters\n"
     ]
    },
    {
     "data": {
      "text/plain": "  0%|          | Permuting : 0/99 [00:00<?,       ?it/s]",
      "application/vnd.jupyter.widget-view+json": {
       "version_major": 2,
       "version_minor": 0,
       "model_id": "97825f15c127408e98a5738f670fad72"
      }
     },
     "metadata": {},
     "output_type": "display_data"
    },
    {
     "name": "stdout",
     "output_type": "stream",
     "text": [
      "Step-down-in-jumps iteration #1 found 1 cluster to exclude from subsequent iterations\n"
     ]
    },
    {
     "data": {
      "text/plain": "  0%|          | Permuting : 0/99 [00:00<?,       ?it/s]",
      "application/vnd.jupyter.widget-view+json": {
       "version_major": 2,
       "version_minor": 0,
       "model_id": "5e48a578db3c4e709556eccf995f344c"
      }
     },
     "metadata": {},
     "output_type": "display_data"
    },
    {
     "name": "stdout",
     "output_type": "stream",
     "text": [
      "Step-down-in-jumps iteration #2 found 0 additional clusters to exclude from subsequent iterations\n",
      "Using a threshold of -1.894579\n",
      "stat_fun(H1): min=-17.030672 max=8.650006\n",
      "Running initial clustering …\n",
      "Found 33 clusters\n"
     ]
    },
    {
     "data": {
      "text/plain": "  0%|          | Permuting : 0/99 [00:00<?,       ?it/s]",
      "application/vnd.jupyter.widget-view+json": {
       "version_major": 2,
       "version_minor": 0,
       "model_id": "eea58f67195647fcbdf6f87da4a039dc"
      }
     },
     "metadata": {},
     "output_type": "display_data"
    },
    {
     "name": "stdout",
     "output_type": "stream",
     "text": [
      "Step-down-in-jumps iteration #1 found 0 clusters to exclude from subsequent iterations\n",
      "NOTE: pick_channels() is a legacy function. New code should use inst.pick(...).\n",
      "No baseline correction applied\n",
      "Using a threshold of 1.894579\n",
      "stat_fun(H1): min=-8.084212 max=6.035725\n",
      "Running initial clustering …\n",
      "Found 75 clusters\n"
     ]
    },
    {
     "data": {
      "text/plain": "  0%|          | Permuting : 0/99 [00:00<?,       ?it/s]",
      "application/vnd.jupyter.widget-view+json": {
       "version_major": 2,
       "version_minor": 0,
       "model_id": "12710d1821ed463181a3b56c0d3956d5"
      }
     },
     "metadata": {},
     "output_type": "display_data"
    },
    {
     "name": "stdout",
     "output_type": "stream",
     "text": [
      "Step-down-in-jumps iteration #1 found 0 clusters to exclude from subsequent iterations\n",
      "Using a threshold of -1.894579\n",
      "stat_fun(H1): min=-8.084212 max=6.035725\n",
      "Running initial clustering …\n",
      "Found 45 clusters\n"
     ]
    },
    {
     "data": {
      "text/plain": "  0%|          | Permuting : 0/99 [00:00<?,       ?it/s]",
      "application/vnd.jupyter.widget-view+json": {
       "version_major": 2,
       "version_minor": 0,
       "model_id": "f70b7f91113243d091f24c3c3e4db704"
      }
     },
     "metadata": {},
     "output_type": "display_data"
    },
    {
     "name": "stdout",
     "output_type": "stream",
     "text": [
      "Step-down-in-jumps iteration #1 found 0 clusters to exclude from subsequent iterations\n",
      "NOTE: pick_channels() is a legacy function. New code should use inst.pick(...).\n",
      "No baseline correction applied\n",
      "Creating RawArray with float64 data, n_channels=15, n_times=45000\n",
      "    Range : 0 ... 44999 =      0.000 ...    44.999 secs\n",
      "Ready.\n",
      "Not setting metadata\n",
      "8 matching events found\n",
      "No baseline correction applied\n",
      "0 projection items activated\n",
      "Using data from preloaded Raw for 8 events and 5001 original time points ...\n",
      "0 bad epochs dropped\n"
     ]
    },
    {
     "name": "stderr",
     "output_type": "stream",
     "text": [
      "[Parallel(n_jobs=1)]: Using backend SequentialBackend with 1 concurrent workers.\n",
      "[Parallel(n_jobs=1)]: Done   1 out of   1 | elapsed:    0.1s remaining:    0.0s\n",
      "[Parallel(n_jobs=1)]: Done   2 out of   2 | elapsed:    0.3s remaining:    0.0s\n",
      "[Parallel(n_jobs=1)]: Done   3 out of   3 | elapsed:    0.5s remaining:    0.0s\n",
      "[Parallel(n_jobs=1)]: Done   4 out of   4 | elapsed:    0.7s remaining:    0.0s\n"
     ]
    },
    {
     "name": "stdout",
     "output_type": "stream",
     "text": [
      "Not setting metadata\n",
      "Applying baseline correction (mode: percent)\n"
     ]
    },
    {
     "name": "stderr",
     "output_type": "stream",
     "text": [
      "[Parallel(n_jobs=1)]: Done  15 out of  15 | elapsed:    2.7s finished\n"
     ]
    },
    {
     "name": "stdout",
     "output_type": "stream",
     "text": [
      "Using a threshold of 1.894579\n",
      "stat_fun(H1): min=-16.414473 max=5.397510\n",
      "Running initial clustering …\n",
      "Found 75 clusters\n"
     ]
    },
    {
     "data": {
      "text/plain": "  0%|          | Permuting : 0/99 [00:00<?,       ?it/s]",
      "application/vnd.jupyter.widget-view+json": {
       "version_major": 2,
       "version_minor": 0,
       "model_id": "113e78a3be4040b68e771e26c9157312"
      }
     },
     "metadata": {},
     "output_type": "display_data"
    },
    {
     "name": "stdout",
     "output_type": "stream",
     "text": [
      "Step-down-in-jumps iteration #1 found 0 clusters to exclude from subsequent iterations\n",
      "Using a threshold of -1.894579\n",
      "stat_fun(H1): min=-16.414473 max=5.397510\n",
      "Running initial clustering …\n",
      "Found 22 clusters\n"
     ]
    },
    {
     "data": {
      "text/plain": "  0%|          | Permuting : 0/99 [00:00<?,       ?it/s]",
      "application/vnd.jupyter.widget-view+json": {
       "version_major": 2,
       "version_minor": 0,
       "model_id": "a0a2add1651b4d108c0de58496bf662f"
      }
     },
     "metadata": {},
     "output_type": "display_data"
    },
    {
     "name": "stdout",
     "output_type": "stream",
     "text": [
      "Step-down-in-jumps iteration #1 found 0 clusters to exclude from subsequent iterations\n",
      "NOTE: pick_channels() is a legacy function. New code should use inst.pick(...).\n",
      "No baseline correction applied\n",
      "Using a threshold of 1.894579\n",
      "stat_fun(H1): min=-8.070257 max=10.948450\n",
      "Running initial clustering …\n",
      "Found 79 clusters\n"
     ]
    },
    {
     "data": {
      "text/plain": "  0%|          | Permuting : 0/99 [00:00<?,       ?it/s]",
      "application/vnd.jupyter.widget-view+json": {
       "version_major": 2,
       "version_minor": 0,
       "model_id": "dc9be40ef2ec48119cd3b8d1a2457b0e"
      }
     },
     "metadata": {},
     "output_type": "display_data"
    },
    {
     "name": "stdout",
     "output_type": "stream",
     "text": [
      "Step-down-in-jumps iteration #1 found 0 clusters to exclude from subsequent iterations\n",
      "Using a threshold of -1.894579\n",
      "stat_fun(H1): min=-8.070257 max=10.948450\n",
      "Running initial clustering …\n",
      "Found 20 clusters\n"
     ]
    },
    {
     "data": {
      "text/plain": "  0%|          | Permuting : 0/99 [00:00<?,       ?it/s]",
      "application/vnd.jupyter.widget-view+json": {
       "version_major": 2,
       "version_minor": 0,
       "model_id": "1331a61327a44420b5e6723152b44544"
      }
     },
     "metadata": {},
     "output_type": "display_data"
    },
    {
     "name": "stdout",
     "output_type": "stream",
     "text": [
      "Step-down-in-jumps iteration #1 found 0 clusters to exclude from subsequent iterations\n",
      "NOTE: pick_channels() is a legacy function. New code should use inst.pick(...).\n",
      "No baseline correction applied\n",
      "Using a threshold of 1.894579\n",
      "stat_fun(H1): min=-18.982634 max=7.325692\n",
      "Running initial clustering …\n",
      "Found 50 clusters\n"
     ]
    },
    {
     "data": {
      "text/plain": "  0%|          | Permuting : 0/99 [00:00<?,       ?it/s]",
      "application/vnd.jupyter.widget-view+json": {
       "version_major": 2,
       "version_minor": 0,
       "model_id": "e93385bf84ce4b66b7f9aa221d6f1a3b"
      }
     },
     "metadata": {},
     "output_type": "display_data"
    },
    {
     "name": "stdout",
     "output_type": "stream",
     "text": [
      "Step-down-in-jumps iteration #1 found 0 clusters to exclude from subsequent iterations\n",
      "Using a threshold of -1.894579\n",
      "stat_fun(H1): min=-18.982634 max=7.325692\n",
      "Running initial clustering …\n",
      "Found 34 clusters\n"
     ]
    },
    {
     "data": {
      "text/plain": "  0%|          | Permuting : 0/99 [00:00<?,       ?it/s]",
      "application/vnd.jupyter.widget-view+json": {
       "version_major": 2,
       "version_minor": 0,
       "model_id": "45bd6ff42c2d4502899deef63bdd7941"
      }
     },
     "metadata": {},
     "output_type": "display_data"
    },
    {
     "name": "stdout",
     "output_type": "stream",
     "text": [
      "Step-down-in-jumps iteration #1 found 1 cluster to exclude from subsequent iterations\n"
     ]
    },
    {
     "data": {
      "text/plain": "  0%|          | Permuting : 0/99 [00:00<?,       ?it/s]",
      "application/vnd.jupyter.widget-view+json": {
       "version_major": 2,
       "version_minor": 0,
       "model_id": "2c87d55420a74e5db5cbc3e4a2df639a"
      }
     },
     "metadata": {},
     "output_type": "display_data"
    },
    {
     "name": "stdout",
     "output_type": "stream",
     "text": [
      "Step-down-in-jumps iteration #2 found 0 additional clusters to exclude from subsequent iterations\n",
      "NOTE: pick_channels() is a legacy function. New code should use inst.pick(...).\n",
      "No baseline correction applied\n",
      "Using a threshold of 1.894579\n",
      "stat_fun(H1): min=-14.257519 max=11.837715\n",
      "Running initial clustering …\n",
      "Found 27 clusters\n"
     ]
    },
    {
     "data": {
      "text/plain": "  0%|          | Permuting : 0/99 [00:00<?,       ?it/s]",
      "application/vnd.jupyter.widget-view+json": {
       "version_major": 2,
       "version_minor": 0,
       "model_id": "067019bb34cd48f59eac91f4b99423da"
      }
     },
     "metadata": {},
     "output_type": "display_data"
    },
    {
     "name": "stdout",
     "output_type": "stream",
     "text": [
      "Step-down-in-jumps iteration #1 found 0 clusters to exclude from subsequent iterations\n",
      "Using a threshold of -1.894579\n",
      "stat_fun(H1): min=-14.257519 max=11.837715\n",
      "Running initial clustering …\n",
      "Found 35 clusters\n"
     ]
    },
    {
     "data": {
      "text/plain": "  0%|          | Permuting : 0/99 [00:00<?,       ?it/s]",
      "application/vnd.jupyter.widget-view+json": {
       "version_major": 2,
       "version_minor": 0,
       "model_id": "5e542d3a26cd4df5ae1750b44b82f444"
      }
     },
     "metadata": {},
     "output_type": "display_data"
    },
    {
     "name": "stdout",
     "output_type": "stream",
     "text": [
      "Step-down-in-jumps iteration #1 found 1 cluster to exclude from subsequent iterations\n"
     ]
    },
    {
     "data": {
      "text/plain": "  0%|          | Permuting : 0/99 [00:00<?,       ?it/s]",
      "application/vnd.jupyter.widget-view+json": {
       "version_major": 2,
       "version_minor": 0,
       "model_id": "137a292b145d4a7eb351ffee14729915"
      }
     },
     "metadata": {},
     "output_type": "display_data"
    },
    {
     "name": "stdout",
     "output_type": "stream",
     "text": [
      "Step-down-in-jumps iteration #2 found 0 additional clusters to exclude from subsequent iterations\n",
      "NOTE: pick_channels() is a legacy function. New code should use inst.pick(...).\n",
      "No baseline correction applied\n",
      "Using a threshold of 1.894579\n",
      "stat_fun(H1): min=-10.774651 max=10.804985\n",
      "Running initial clustering …\n",
      "Found 64 clusters\n"
     ]
    },
    {
     "data": {
      "text/plain": "  0%|          | Permuting : 0/99 [00:00<?,       ?it/s]",
      "application/vnd.jupyter.widget-view+json": {
       "version_major": 2,
       "version_minor": 0,
       "model_id": "b2bce3bb5e8d4c939ac66432e06d93fd"
      }
     },
     "metadata": {},
     "output_type": "display_data"
    },
    {
     "name": "stdout",
     "output_type": "stream",
     "text": [
      "Step-down-in-jumps iteration #1 found 0 clusters to exclude from subsequent iterations\n",
      "Using a threshold of -1.894579\n",
      "stat_fun(H1): min=-10.774651 max=10.804985\n",
      "Running initial clustering …\n",
      "Found 17 clusters\n"
     ]
    },
    {
     "data": {
      "text/plain": "  0%|          | Permuting : 0/99 [00:00<?,       ?it/s]",
      "application/vnd.jupyter.widget-view+json": {
       "version_major": 2,
       "version_minor": 0,
       "model_id": "6ee197ea9e3548ad9b444adc3357a0a3"
      }
     },
     "metadata": {},
     "output_type": "display_data"
    },
    {
     "name": "stdout",
     "output_type": "stream",
     "text": [
      "Step-down-in-jumps iteration #1 found 0 clusters to exclude from subsequent iterations\n",
      "NOTE: pick_channels() is a legacy function. New code should use inst.pick(...).\n",
      "No baseline correction applied\n",
      "Using a threshold of 1.894579\n",
      "stat_fun(H1): min=-12.134427 max=6.158349\n",
      "Running initial clustering …\n",
      "Found 78 clusters\n"
     ]
    },
    {
     "data": {
      "text/plain": "  0%|          | Permuting : 0/99 [00:00<?,       ?it/s]",
      "application/vnd.jupyter.widget-view+json": {
       "version_major": 2,
       "version_minor": 0,
       "model_id": "21542f9e953e4009b335da2856ed5f1a"
      }
     },
     "metadata": {},
     "output_type": "display_data"
    },
    {
     "name": "stdout",
     "output_type": "stream",
     "text": [
      "Step-down-in-jumps iteration #1 found 0 clusters to exclude from subsequent iterations\n",
      "Using a threshold of -1.894579\n",
      "stat_fun(H1): min=-12.134427 max=6.158349\n",
      "Running initial clustering …\n",
      "Found 41 clusters\n"
     ]
    },
    {
     "data": {
      "text/plain": "  0%|          | Permuting : 0/99 [00:00<?,       ?it/s]",
      "application/vnd.jupyter.widget-view+json": {
       "version_major": 2,
       "version_minor": 0,
       "model_id": "007c1475775d4698a0665e7bdb9a6db5"
      }
     },
     "metadata": {},
     "output_type": "display_data"
    },
    {
     "name": "stdout",
     "output_type": "stream",
     "text": [
      "Step-down-in-jumps iteration #1 found 2 clusters to exclude from subsequent iterations\n"
     ]
    },
    {
     "data": {
      "text/plain": "  0%|          | Permuting : 0/99 [00:00<?,       ?it/s]",
      "application/vnd.jupyter.widget-view+json": {
       "version_major": 2,
       "version_minor": 0,
       "model_id": "a492cad6441746a6835f710d3899d811"
      }
     },
     "metadata": {},
     "output_type": "display_data"
    },
    {
     "name": "stdout",
     "output_type": "stream",
     "text": [
      "Step-down-in-jumps iteration #2 found 0 additional clusters to exclude from subsequent iterations\n",
      "NOTE: pick_channels() is a legacy function. New code should use inst.pick(...).\n",
      "No baseline correction applied\n",
      "Using a threshold of 1.894579\n",
      "stat_fun(H1): min=-78.373732 max=6.510073\n",
      "Running initial clustering …\n",
      "Found 36 clusters\n"
     ]
    },
    {
     "data": {
      "text/plain": "  0%|          | Permuting : 0/99 [00:00<?,       ?it/s]",
      "application/vnd.jupyter.widget-view+json": {
       "version_major": 2,
       "version_minor": 0,
       "model_id": "41a72687fd774afca40b010c3492c712"
      }
     },
     "metadata": {},
     "output_type": "display_data"
    },
    {
     "name": "stdout",
     "output_type": "stream",
     "text": [
      "Step-down-in-jumps iteration #1 found 0 clusters to exclude from subsequent iterations\n",
      "Using a threshold of -1.894579\n",
      "stat_fun(H1): min=-78.373732 max=6.510073\n",
      "Running initial clustering …\n",
      "Found 43 clusters\n"
     ]
    },
    {
     "data": {
      "text/plain": "  0%|          | Permuting : 0/99 [00:00<?,       ?it/s]",
      "application/vnd.jupyter.widget-view+json": {
       "version_major": 2,
       "version_minor": 0,
       "model_id": "5e7ff7a97e224b58a991a8eb3acca987"
      }
     },
     "metadata": {},
     "output_type": "display_data"
    },
    {
     "name": "stdout",
     "output_type": "stream",
     "text": [
      "Step-down-in-jumps iteration #1 found 2 clusters to exclude from subsequent iterations\n"
     ]
    },
    {
     "data": {
      "text/plain": "  0%|          | Permuting : 0/99 [00:00<?,       ?it/s]",
      "application/vnd.jupyter.widget-view+json": {
       "version_major": 2,
       "version_minor": 0,
       "model_id": "9ffb131a32e4482a907e6be4e9c59717"
      }
     },
     "metadata": {},
     "output_type": "display_data"
    },
    {
     "name": "stdout",
     "output_type": "stream",
     "text": [
      "Step-down-in-jumps iteration #2 found 0 additional clusters to exclude from subsequent iterations\n",
      "NOTE: pick_channels() is a legacy function. New code should use inst.pick(...).\n",
      "No baseline correction applied\n",
      "Using a threshold of 1.894579\n",
      "stat_fun(H1): min=-16.433633 max=6.475391\n",
      "Running initial clustering …\n",
      "Found 59 clusters\n"
     ]
    },
    {
     "data": {
      "text/plain": "  0%|          | Permuting : 0/99 [00:00<?,       ?it/s]",
      "application/vnd.jupyter.widget-view+json": {
       "version_major": 2,
       "version_minor": 0,
       "model_id": "d129d3d946704a4d866021fc7aba1175"
      }
     },
     "metadata": {},
     "output_type": "display_data"
    },
    {
     "name": "stdout",
     "output_type": "stream",
     "text": [
      "Step-down-in-jumps iteration #1 found 0 clusters to exclude from subsequent iterations\n",
      "Using a threshold of -1.894579\n",
      "stat_fun(H1): min=-16.433633 max=6.475391\n",
      "Running initial clustering …\n",
      "Found 34 clusters\n"
     ]
    },
    {
     "data": {
      "text/plain": "  0%|          | Permuting : 0/99 [00:00<?,       ?it/s]",
      "application/vnd.jupyter.widget-view+json": {
       "version_major": 2,
       "version_minor": 0,
       "model_id": "1891576797e6415ca219e413be39e948"
      }
     },
     "metadata": {},
     "output_type": "display_data"
    },
    {
     "name": "stdout",
     "output_type": "stream",
     "text": [
      "Step-down-in-jumps iteration #1 found 1 cluster to exclude from subsequent iterations\n"
     ]
    },
    {
     "data": {
      "text/plain": "  0%|          | Permuting : 0/99 [00:00<?,       ?it/s]",
      "application/vnd.jupyter.widget-view+json": {
       "version_major": 2,
       "version_minor": 0,
       "model_id": "cfc9df3acc07470081f3b4607b4a9cf6"
      }
     },
     "metadata": {},
     "output_type": "display_data"
    },
    {
     "name": "stdout",
     "output_type": "stream",
     "text": [
      "Step-down-in-jumps iteration #2 found 0 additional clusters to exclude from subsequent iterations\n",
      "NOTE: pick_channels() is a legacy function. New code should use inst.pick(...).\n",
      "No baseline correction applied\n",
      "Using a threshold of 1.894579\n",
      "stat_fun(H1): min=-14.121571 max=6.069759\n",
      "Running initial clustering …\n",
      "Found 31 clusters\n"
     ]
    },
    {
     "data": {
      "text/plain": "  0%|          | Permuting : 0/99 [00:00<?,       ?it/s]",
      "application/vnd.jupyter.widget-view+json": {
       "version_major": 2,
       "version_minor": 0,
       "model_id": "bdd38ab263de42dd9da48850aa472c5f"
      }
     },
     "metadata": {},
     "output_type": "display_data"
    },
    {
     "name": "stdout",
     "output_type": "stream",
     "text": [
      "Step-down-in-jumps iteration #1 found 0 clusters to exclude from subsequent iterations\n",
      "Using a threshold of -1.894579\n",
      "stat_fun(H1): min=-14.121571 max=6.069759\n",
      "Running initial clustering …\n",
      "Found 26 clusters\n"
     ]
    },
    {
     "data": {
      "text/plain": "  0%|          | Permuting : 0/99 [00:00<?,       ?it/s]",
      "application/vnd.jupyter.widget-view+json": {
       "version_major": 2,
       "version_minor": 0,
       "model_id": "1920cf337408496fb5b287729cf7ae74"
      }
     },
     "metadata": {},
     "output_type": "display_data"
    },
    {
     "name": "stdout",
     "output_type": "stream",
     "text": [
      "Step-down-in-jumps iteration #1 found 0 clusters to exclude from subsequent iterations\n",
      "NOTE: pick_channels() is a legacy function. New code should use inst.pick(...).\n",
      "No baseline correction applied\n",
      "Using a threshold of 1.894579\n",
      "stat_fun(H1): min=-12.134427 max=6.158349\n",
      "Running initial clustering …\n",
      "Found 78 clusters\n"
     ]
    },
    {
     "data": {
      "text/plain": "  0%|          | Permuting : 0/99 [00:00<?,       ?it/s]",
      "application/vnd.jupyter.widget-view+json": {
       "version_major": 2,
       "version_minor": 0,
       "model_id": "b5736dcc797e43e999023e54ade81396"
      }
     },
     "metadata": {},
     "output_type": "display_data"
    },
    {
     "name": "stdout",
     "output_type": "stream",
     "text": [
      "Step-down-in-jumps iteration #1 found 0 clusters to exclude from subsequent iterations\n",
      "Using a threshold of -1.894579\n",
      "stat_fun(H1): min=-12.134427 max=6.158349\n",
      "Running initial clustering …\n",
      "Found 41 clusters\n"
     ]
    },
    {
     "data": {
      "text/plain": "  0%|          | Permuting : 0/99 [00:00<?,       ?it/s]",
      "application/vnd.jupyter.widget-view+json": {
       "version_major": 2,
       "version_minor": 0,
       "model_id": "158f5282681d4591bea0d63283b532b4"
      }
     },
     "metadata": {},
     "output_type": "display_data"
    },
    {
     "name": "stdout",
     "output_type": "stream",
     "text": [
      "Step-down-in-jumps iteration #1 found 2 clusters to exclude from subsequent iterations\n"
     ]
    },
    {
     "data": {
      "text/plain": "  0%|          | Permuting : 0/99 [00:00<?,       ?it/s]",
      "application/vnd.jupyter.widget-view+json": {
       "version_major": 2,
       "version_minor": 0,
       "model_id": "394c28e86db547bbb7ced0134eb2c237"
      }
     },
     "metadata": {},
     "output_type": "display_data"
    },
    {
     "name": "stdout",
     "output_type": "stream",
     "text": [
      "Step-down-in-jumps iteration #2 found 0 additional clusters to exclude from subsequent iterations\n",
      "NOTE: pick_channels() is a legacy function. New code should use inst.pick(...).\n",
      "No baseline correction applied\n",
      "Using a threshold of 1.894579\n",
      "stat_fun(H1): min=-15.115232 max=5.814153\n",
      "Running initial clustering …\n",
      "Found 67 clusters\n"
     ]
    },
    {
     "data": {
      "text/plain": "  0%|          | Permuting : 0/99 [00:00<?,       ?it/s]",
      "application/vnd.jupyter.widget-view+json": {
       "version_major": 2,
       "version_minor": 0,
       "model_id": "f2bcdc6aeaa24a7498e8333db8c4222b"
      }
     },
     "metadata": {},
     "output_type": "display_data"
    },
    {
     "name": "stdout",
     "output_type": "stream",
     "text": [
      "Step-down-in-jumps iteration #1 found 0 clusters to exclude from subsequent iterations\n",
      "Using a threshold of -1.894579\n",
      "stat_fun(H1): min=-15.115232 max=5.814153\n",
      "Running initial clustering …\n",
      "Found 35 clusters\n"
     ]
    },
    {
     "data": {
      "text/plain": "  0%|          | Permuting : 0/99 [00:00<?,       ?it/s]",
      "application/vnd.jupyter.widget-view+json": {
       "version_major": 2,
       "version_minor": 0,
       "model_id": "04b5ebccda3b40e68a3772411f2b2943"
      }
     },
     "metadata": {},
     "output_type": "display_data"
    },
    {
     "name": "stdout",
     "output_type": "stream",
     "text": [
      "Step-down-in-jumps iteration #1 found 3 clusters to exclude from subsequent iterations\n"
     ]
    },
    {
     "data": {
      "text/plain": "  0%|          | Permuting : 0/99 [00:00<?,       ?it/s]",
      "application/vnd.jupyter.widget-view+json": {
       "version_major": 2,
       "version_minor": 0,
       "model_id": "7004d22a9f4f45e889996b418abee2db"
      }
     },
     "metadata": {},
     "output_type": "display_data"
    },
    {
     "name": "stdout",
     "output_type": "stream",
     "text": [
      "Step-down-in-jumps iteration #2 found 0 additional clusters to exclude from subsequent iterations\n",
      "NOTE: pick_channels() is a legacy function. New code should use inst.pick(...).\n",
      "No baseline correction applied\n",
      "Using a threshold of 1.894579\n",
      "stat_fun(H1): min=-12.251822 max=5.989677\n",
      "Running initial clustering …\n",
      "Found 64 clusters\n"
     ]
    },
    {
     "data": {
      "text/plain": "  0%|          | Permuting : 0/99 [00:00<?,       ?it/s]",
      "application/vnd.jupyter.widget-view+json": {
       "version_major": 2,
       "version_minor": 0,
       "model_id": "c1dd206bc46a4c4183d8d3c1270f5410"
      }
     },
     "metadata": {},
     "output_type": "display_data"
    },
    {
     "name": "stdout",
     "output_type": "stream",
     "text": [
      "Step-down-in-jumps iteration #1 found 0 clusters to exclude from subsequent iterations\n",
      "Using a threshold of -1.894579\n",
      "stat_fun(H1): min=-12.251822 max=5.989677\n",
      "Running initial clustering …\n",
      "Found 17 clusters\n"
     ]
    },
    {
     "data": {
      "text/plain": "  0%|          | Permuting : 0/99 [00:00<?,       ?it/s]",
      "application/vnd.jupyter.widget-view+json": {
       "version_major": 2,
       "version_minor": 0,
       "model_id": "cac623a04d764f9c8b5e6a0374382395"
      }
     },
     "metadata": {},
     "output_type": "display_data"
    },
    {
     "name": "stdout",
     "output_type": "stream",
     "text": [
      "Step-down-in-jumps iteration #1 found 1 cluster to exclude from subsequent iterations\n"
     ]
    },
    {
     "data": {
      "text/plain": "  0%|          | Permuting : 0/99 [00:00<?,       ?it/s]",
      "application/vnd.jupyter.widget-view+json": {
       "version_major": 2,
       "version_minor": 0,
       "model_id": "ad736615ab74446295b31b5fcbc9e620"
      }
     },
     "metadata": {},
     "output_type": "display_data"
    },
    {
     "name": "stdout",
     "output_type": "stream",
     "text": [
      "Step-down-in-jumps iteration #2 found 0 additional clusters to exclude from subsequent iterations\n",
      "NOTE: pick_channels() is a legacy function. New code should use inst.pick(...).\n",
      "No baseline correction applied\n",
      "Using a threshold of 1.894579\n",
      "stat_fun(H1): min=-15.253431 max=6.961040\n",
      "Running initial clustering …\n",
      "Found 87 clusters\n"
     ]
    },
    {
     "data": {
      "text/plain": "  0%|          | Permuting : 0/99 [00:00<?,       ?it/s]",
      "application/vnd.jupyter.widget-view+json": {
       "version_major": 2,
       "version_minor": 0,
       "model_id": "1a9da3569da046cbb3f926606b21fb24"
      }
     },
     "metadata": {},
     "output_type": "display_data"
    },
    {
     "name": "stdout",
     "output_type": "stream",
     "text": [
      "Step-down-in-jumps iteration #1 found 0 clusters to exclude from subsequent iterations\n",
      "Using a threshold of -1.894579\n",
      "stat_fun(H1): min=-15.253431 max=6.961040\n",
      "Running initial clustering …\n",
      "Found 18 clusters\n"
     ]
    },
    {
     "data": {
      "text/plain": "  0%|          | Permuting : 0/99 [00:00<?,       ?it/s]",
      "application/vnd.jupyter.widget-view+json": {
       "version_major": 2,
       "version_minor": 0,
       "model_id": "baa5e7bf0a4a467b8b16267f81fa5dae"
      }
     },
     "metadata": {},
     "output_type": "display_data"
    },
    {
     "name": "stdout",
     "output_type": "stream",
     "text": [
      "Step-down-in-jumps iteration #1 found 0 clusters to exclude from subsequent iterations\n",
      "NOTE: pick_channels() is a legacy function. New code should use inst.pick(...).\n",
      "No baseline correction applied\n",
      "Using a threshold of 1.894579\n",
      "stat_fun(H1): min=-16.790495 max=7.126934\n",
      "Running initial clustering …\n",
      "Found 71 clusters\n"
     ]
    },
    {
     "data": {
      "text/plain": "  0%|          | Permuting : 0/99 [00:00<?,       ?it/s]",
      "application/vnd.jupyter.widget-view+json": {
       "version_major": 2,
       "version_minor": 0,
       "model_id": "c77b85841ea449ed8916ae27aff23261"
      }
     },
     "metadata": {},
     "output_type": "display_data"
    },
    {
     "name": "stdout",
     "output_type": "stream",
     "text": [
      "Step-down-in-jumps iteration #1 found 0 clusters to exclude from subsequent iterations\n",
      "Using a threshold of -1.894579\n",
      "stat_fun(H1): min=-16.790495 max=7.126934\n",
      "Running initial clustering …\n",
      "Found 36 clusters\n"
     ]
    },
    {
     "data": {
      "text/plain": "  0%|          | Permuting : 0/99 [00:00<?,       ?it/s]",
      "application/vnd.jupyter.widget-view+json": {
       "version_major": 2,
       "version_minor": 0,
       "model_id": "b6e4546c8e124c47bf2f4361bdc3ad94"
      }
     },
     "metadata": {},
     "output_type": "display_data"
    },
    {
     "name": "stdout",
     "output_type": "stream",
     "text": [
      "Step-down-in-jumps iteration #1 found 2 clusters to exclude from subsequent iterations\n"
     ]
    },
    {
     "data": {
      "text/plain": "  0%|          | Permuting : 0/99 [00:00<?,       ?it/s]",
      "application/vnd.jupyter.widget-view+json": {
       "version_major": 2,
       "version_minor": 0,
       "model_id": "7d031d4e48ea4d3da267890898461cba"
      }
     },
     "metadata": {},
     "output_type": "display_data"
    },
    {
     "name": "stdout",
     "output_type": "stream",
     "text": [
      "Step-down-in-jumps iteration #2 found 0 additional clusters to exclude from subsequent iterations\n",
      "NOTE: pick_channels() is a legacy function. New code should use inst.pick(...).\n",
      "No baseline correction applied\n",
      "Using a threshold of 1.894579\n",
      "stat_fun(H1): min=-13.510081 max=5.021923\n",
      "Running initial clustering …\n",
      "Found 73 clusters\n"
     ]
    },
    {
     "data": {
      "text/plain": "  0%|          | Permuting : 0/99 [00:00<?,       ?it/s]",
      "application/vnd.jupyter.widget-view+json": {
       "version_major": 2,
       "version_minor": 0,
       "model_id": "541c28ccede4453880e0be06b9648525"
      }
     },
     "metadata": {},
     "output_type": "display_data"
    },
    {
     "name": "stdout",
     "output_type": "stream",
     "text": [
      "Step-down-in-jumps iteration #1 found 0 clusters to exclude from subsequent iterations\n",
      "Using a threshold of -1.894579\n",
      "stat_fun(H1): min=-13.510081 max=5.021923\n",
      "Running initial clustering …\n",
      "Found 20 clusters\n"
     ]
    },
    {
     "data": {
      "text/plain": "  0%|          | Permuting : 0/99 [00:00<?,       ?it/s]",
      "application/vnd.jupyter.widget-view+json": {
       "version_major": 2,
       "version_minor": 0,
       "model_id": "9d4566e255994184968358cb80837f6b"
      }
     },
     "metadata": {},
     "output_type": "display_data"
    },
    {
     "name": "stdout",
     "output_type": "stream",
     "text": [
      "Step-down-in-jumps iteration #1 found 0 clusters to exclude from subsequent iterations\n",
      "NOTE: pick_channels() is a legacy function. New code should use inst.pick(...).\n",
      "No baseline correction applied\n",
      "Creating RawArray with float64 data, n_channels=15, n_times=45000\n",
      "    Range : 0 ... 44999 =      0.000 ...    44.999 secs\n",
      "Ready.\n",
      "Not setting metadata\n",
      "8 matching events found\n",
      "No baseline correction applied\n",
      "0 projection items activated\n",
      "Using data from preloaded Raw for 8 events and 5001 original time points ...\n",
      "0 bad epochs dropped\n"
     ]
    },
    {
     "name": "stderr",
     "output_type": "stream",
     "text": [
      "[Parallel(n_jobs=1)]: Using backend SequentialBackend with 1 concurrent workers.\n",
      "[Parallel(n_jobs=1)]: Done   1 out of   1 | elapsed:    0.1s remaining:    0.0s\n",
      "[Parallel(n_jobs=1)]: Done   2 out of   2 | elapsed:    0.3s remaining:    0.0s\n",
      "[Parallel(n_jobs=1)]: Done   3 out of   3 | elapsed:    0.5s remaining:    0.0s\n",
      "[Parallel(n_jobs=1)]: Done   4 out of   4 | elapsed:    0.6s remaining:    0.0s\n"
     ]
    },
    {
     "name": "stdout",
     "output_type": "stream",
     "text": [
      "Not setting metadata\n",
      "Applying baseline correction (mode: percent)\n"
     ]
    },
    {
     "name": "stderr",
     "output_type": "stream",
     "text": [
      "[Parallel(n_jobs=1)]: Done  15 out of  15 | elapsed:    2.6s finished\n"
     ]
    },
    {
     "name": "stdout",
     "output_type": "stream",
     "text": [
      "Using a threshold of 1.894579\n",
      "stat_fun(H1): min=-13.602248 max=7.579529\n",
      "Running initial clustering …\n",
      "Found 56 clusters\n"
     ]
    },
    {
     "data": {
      "text/plain": "  0%|          | Permuting : 0/99 [00:00<?,       ?it/s]",
      "application/vnd.jupyter.widget-view+json": {
       "version_major": 2,
       "version_minor": 0,
       "model_id": "122a9e5b3bb04ab4a65a939841e8925d"
      }
     },
     "metadata": {},
     "output_type": "display_data"
    },
    {
     "name": "stdout",
     "output_type": "stream",
     "text": [
      "Step-down-in-jumps iteration #1 found 1 cluster to exclude from subsequent iterations\n"
     ]
    },
    {
     "data": {
      "text/plain": "  0%|          | Permuting : 0/99 [00:00<?,       ?it/s]",
      "application/vnd.jupyter.widget-view+json": {
       "version_major": 2,
       "version_minor": 0,
       "model_id": "d6c2f19a906b4f9d94e69e7022815b9b"
      }
     },
     "metadata": {},
     "output_type": "display_data"
    },
    {
     "name": "stdout",
     "output_type": "stream",
     "text": [
      "Step-down-in-jumps iteration #2 found 0 additional clusters to exclude from subsequent iterations\n",
      "Using a threshold of -1.894579\n",
      "stat_fun(H1): min=-13.602248 max=7.579529\n",
      "Running initial clustering …\n",
      "Found 29 clusters\n"
     ]
    },
    {
     "data": {
      "text/plain": "  0%|          | Permuting : 0/99 [00:00<?,       ?it/s]",
      "application/vnd.jupyter.widget-view+json": {
       "version_major": 2,
       "version_minor": 0,
       "model_id": "c7c59d496d33406589c6d2401a6189cf"
      }
     },
     "metadata": {},
     "output_type": "display_data"
    },
    {
     "name": "stdout",
     "output_type": "stream",
     "text": [
      "Step-down-in-jumps iteration #1 found 1 cluster to exclude from subsequent iterations\n"
     ]
    },
    {
     "data": {
      "text/plain": "  0%|          | Permuting : 0/99 [00:00<?,       ?it/s]",
      "application/vnd.jupyter.widget-view+json": {
       "version_major": 2,
       "version_minor": 0,
       "model_id": "7d1eb44b75844ffb812595f253c18b27"
      }
     },
     "metadata": {},
     "output_type": "display_data"
    },
    {
     "name": "stdout",
     "output_type": "stream",
     "text": [
      "Step-down-in-jumps iteration #2 found 0 additional clusters to exclude from subsequent iterations\n",
      "NOTE: pick_channels() is a legacy function. New code should use inst.pick(...).\n",
      "No baseline correction applied\n",
      "Using a threshold of 1.894579\n",
      "stat_fun(H1): min=-21.950438 max=7.878867\n",
      "Running initial clustering …\n",
      "Found 54 clusters\n"
     ]
    },
    {
     "data": {
      "text/plain": "  0%|          | Permuting : 0/99 [00:00<?,       ?it/s]",
      "application/vnd.jupyter.widget-view+json": {
       "version_major": 2,
       "version_minor": 0,
       "model_id": "2270a4ed6e11443cb6b73b11982c0174"
      }
     },
     "metadata": {},
     "output_type": "display_data"
    },
    {
     "name": "stdout",
     "output_type": "stream",
     "text": [
      "Step-down-in-jumps iteration #1 found 1 cluster to exclude from subsequent iterations\n"
     ]
    },
    {
     "data": {
      "text/plain": "  0%|          | Permuting : 0/99 [00:00<?,       ?it/s]",
      "application/vnd.jupyter.widget-view+json": {
       "version_major": 2,
       "version_minor": 0,
       "model_id": "e5cc811f70f149ef90f9b2e6822c201b"
      }
     },
     "metadata": {},
     "output_type": "display_data"
    },
    {
     "name": "stdout",
     "output_type": "stream",
     "text": [
      "Step-down-in-jumps iteration #2 found 0 additional clusters to exclude from subsequent iterations\n",
      "Using a threshold of -1.894579\n",
      "stat_fun(H1): min=-21.950438 max=7.878867\n",
      "Running initial clustering …\n",
      "Found 30 clusters\n"
     ]
    },
    {
     "data": {
      "text/plain": "  0%|          | Permuting : 0/99 [00:00<?,       ?it/s]",
      "application/vnd.jupyter.widget-view+json": {
       "version_major": 2,
       "version_minor": 0,
       "model_id": "7ad6d81082cc42409afcf677fa60757a"
      }
     },
     "metadata": {},
     "output_type": "display_data"
    },
    {
     "name": "stdout",
     "output_type": "stream",
     "text": [
      "Step-down-in-jumps iteration #1 found 2 clusters to exclude from subsequent iterations\n"
     ]
    },
    {
     "data": {
      "text/plain": "  0%|          | Permuting : 0/99 [00:00<?,       ?it/s]",
      "application/vnd.jupyter.widget-view+json": {
       "version_major": 2,
       "version_minor": 0,
       "model_id": "27b026899d7a420d9b953b6280f0f8c0"
      }
     },
     "metadata": {},
     "output_type": "display_data"
    },
    {
     "name": "stdout",
     "output_type": "stream",
     "text": [
      "Step-down-in-jumps iteration #2 found 0 additional clusters to exclude from subsequent iterations\n",
      "NOTE: pick_channels() is a legacy function. New code should use inst.pick(...).\n",
      "No baseline correction applied\n",
      "Using a threshold of 1.894579\n",
      "stat_fun(H1): min=-9.963536 max=10.171626\n",
      "Running initial clustering …\n",
      "Found 58 clusters\n"
     ]
    },
    {
     "data": {
      "text/plain": "  0%|          | Permuting : 0/99 [00:00<?,       ?it/s]",
      "application/vnd.jupyter.widget-view+json": {
       "version_major": 2,
       "version_minor": 0,
       "model_id": "340c088b7a634c709cd720b7f6c3007c"
      }
     },
     "metadata": {},
     "output_type": "display_data"
    },
    {
     "name": "stdout",
     "output_type": "stream",
     "text": [
      "Step-down-in-jumps iteration #1 found 0 clusters to exclude from subsequent iterations\n",
      "Using a threshold of -1.894579\n",
      "stat_fun(H1): min=-9.963536 max=10.171626\n",
      "Running initial clustering …\n",
      "Found 35 clusters\n"
     ]
    },
    {
     "data": {
      "text/plain": "  0%|          | Permuting : 0/99 [00:00<?,       ?it/s]",
      "application/vnd.jupyter.widget-view+json": {
       "version_major": 2,
       "version_minor": 0,
       "model_id": "626e355db9554ce582bf21f3cd208d3f"
      }
     },
     "metadata": {},
     "output_type": "display_data"
    },
    {
     "name": "stdout",
     "output_type": "stream",
     "text": [
      "Step-down-in-jumps iteration #1 found 0 clusters to exclude from subsequent iterations\n",
      "NOTE: pick_channels() is a legacy function. New code should use inst.pick(...).\n",
      "No baseline correction applied\n",
      "Using a threshold of 1.894579\n",
      "stat_fun(H1): min=-12.266575 max=12.218074\n",
      "Running initial clustering …\n",
      "Found 61 clusters\n"
     ]
    },
    {
     "data": {
      "text/plain": "  0%|          | Permuting : 0/99 [00:00<?,       ?it/s]",
      "application/vnd.jupyter.widget-view+json": {
       "version_major": 2,
       "version_minor": 0,
       "model_id": "6096ad47e6fc4f319615c2e57826cd0c"
      }
     },
     "metadata": {},
     "output_type": "display_data"
    },
    {
     "name": "stdout",
     "output_type": "stream",
     "text": [
      "Step-down-in-jumps iteration #1 found 0 clusters to exclude from subsequent iterations\n",
      "Using a threshold of -1.894579\n",
      "stat_fun(H1): min=-12.266575 max=12.218074\n",
      "Running initial clustering …\n",
      "Found 29 clusters\n"
     ]
    },
    {
     "data": {
      "text/plain": "  0%|          | Permuting : 0/99 [00:00<?,       ?it/s]",
      "application/vnd.jupyter.widget-view+json": {
       "version_major": 2,
       "version_minor": 0,
       "model_id": "f7a8c6b7e4b94013a2f9948b26aae3c0"
      }
     },
     "metadata": {},
     "output_type": "display_data"
    },
    {
     "name": "stdout",
     "output_type": "stream",
     "text": [
      "Step-down-in-jumps iteration #1 found 1 cluster to exclude from subsequent iterations\n"
     ]
    },
    {
     "data": {
      "text/plain": "  0%|          | Permuting : 0/99 [00:00<?,       ?it/s]",
      "application/vnd.jupyter.widget-view+json": {
       "version_major": 2,
       "version_minor": 0,
       "model_id": "fa4779aedd0c47fa9d85d8c2de060a21"
      }
     },
     "metadata": {},
     "output_type": "display_data"
    },
    {
     "name": "stdout",
     "output_type": "stream",
     "text": [
      "Step-down-in-jumps iteration #2 found 0 additional clusters to exclude from subsequent iterations\n",
      "NOTE: pick_channels() is a legacy function. New code should use inst.pick(...).\n",
      "No baseline correction applied\n",
      "Using a threshold of 1.894579\n",
      "stat_fun(H1): min=-27.184802 max=6.492785\n",
      "Running initial clustering …\n",
      "Found 41 clusters\n"
     ]
    },
    {
     "data": {
      "text/plain": "  0%|          | Permuting : 0/99 [00:00<?,       ?it/s]",
      "application/vnd.jupyter.widget-view+json": {
       "version_major": 2,
       "version_minor": 0,
       "model_id": "ccf7fef1b19b418bbd90b495b58998b4"
      }
     },
     "metadata": {},
     "output_type": "display_data"
    },
    {
     "name": "stdout",
     "output_type": "stream",
     "text": [
      "Step-down-in-jumps iteration #1 found 0 clusters to exclude from subsequent iterations\n",
      "Using a threshold of -1.894579\n",
      "stat_fun(H1): min=-27.184802 max=6.492785\n",
      "Running initial clustering …\n",
      "Found 36 clusters\n"
     ]
    },
    {
     "data": {
      "text/plain": "  0%|          | Permuting : 0/99 [00:00<?,       ?it/s]",
      "application/vnd.jupyter.widget-view+json": {
       "version_major": 2,
       "version_minor": 0,
       "model_id": "eef4088761fb4016948914c3d2aa398c"
      }
     },
     "metadata": {},
     "output_type": "display_data"
    },
    {
     "name": "stdout",
     "output_type": "stream",
     "text": [
      "Step-down-in-jumps iteration #1 found 2 clusters to exclude from subsequent iterations\n"
     ]
    },
    {
     "data": {
      "text/plain": "  0%|          | Permuting : 0/99 [00:00<?,       ?it/s]",
      "application/vnd.jupyter.widget-view+json": {
       "version_major": 2,
       "version_minor": 0,
       "model_id": "fa4d567488844710b387ed097fd0ecb0"
      }
     },
     "metadata": {},
     "output_type": "display_data"
    },
    {
     "name": "stdout",
     "output_type": "stream",
     "text": [
      "Step-down-in-jumps iteration #2 found 0 additional clusters to exclude from subsequent iterations\n",
      "NOTE: pick_channels() is a legacy function. New code should use inst.pick(...).\n",
      "No baseline correction applied\n",
      "Using a threshold of 1.894579\n",
      "stat_fun(H1): min=-10.275089 max=7.610596\n",
      "Running initial clustering …\n",
      "Found 58 clusters\n"
     ]
    },
    {
     "data": {
      "text/plain": "  0%|          | Permuting : 0/99 [00:00<?,       ?it/s]",
      "application/vnd.jupyter.widget-view+json": {
       "version_major": 2,
       "version_minor": 0,
       "model_id": "7f9e9473947a456aa758375700df63a0"
      }
     },
     "metadata": {},
     "output_type": "display_data"
    },
    {
     "name": "stdout",
     "output_type": "stream",
     "text": [
      "Step-down-in-jumps iteration #1 found 0 clusters to exclude from subsequent iterations\n",
      "Using a threshold of -1.894579\n",
      "stat_fun(H1): min=-10.275089 max=7.610596\n",
      "Running initial clustering …\n",
      "Found 33 clusters\n"
     ]
    },
    {
     "data": {
      "text/plain": "  0%|          | Permuting : 0/99 [00:00<?,       ?it/s]",
      "application/vnd.jupyter.widget-view+json": {
       "version_major": 2,
       "version_minor": 0,
       "model_id": "0a690435094a4be796af04eef82ae018"
      }
     },
     "metadata": {},
     "output_type": "display_data"
    },
    {
     "name": "stdout",
     "output_type": "stream",
     "text": [
      "Step-down-in-jumps iteration #1 found 1 cluster to exclude from subsequent iterations\n"
     ]
    },
    {
     "data": {
      "text/plain": "  0%|          | Permuting : 0/99 [00:00<?,       ?it/s]",
      "application/vnd.jupyter.widget-view+json": {
       "version_major": 2,
       "version_minor": 0,
       "model_id": "d309b3ecba50487cbb8196006d7974f5"
      }
     },
     "metadata": {},
     "output_type": "display_data"
    },
    {
     "name": "stdout",
     "output_type": "stream",
     "text": [
      "Step-down-in-jumps iteration #2 found 0 additional clusters to exclude from subsequent iterations\n",
      "NOTE: pick_channels() is a legacy function. New code should use inst.pick(...).\n",
      "No baseline correction applied\n",
      "Using a threshold of 1.894579\n",
      "stat_fun(H1): min=-9.679475 max=5.115706\n",
      "Running initial clustering …\n",
      "Found 75 clusters\n"
     ]
    },
    {
     "data": {
      "text/plain": "  0%|          | Permuting : 0/99 [00:00<?,       ?it/s]",
      "application/vnd.jupyter.widget-view+json": {
       "version_major": 2,
       "version_minor": 0,
       "model_id": "6d98dbe48f9d431a8d6a70cb0ec50b62"
      }
     },
     "metadata": {},
     "output_type": "display_data"
    },
    {
     "name": "stdout",
     "output_type": "stream",
     "text": [
      "Step-down-in-jumps iteration #1 found 0 clusters to exclude from subsequent iterations\n",
      "Using a threshold of -1.894579\n",
      "stat_fun(H1): min=-9.679475 max=5.115706\n",
      "Running initial clustering …\n",
      "Found 43 clusters\n"
     ]
    },
    {
     "data": {
      "text/plain": "  0%|          | Permuting : 0/99 [00:00<?,       ?it/s]",
      "application/vnd.jupyter.widget-view+json": {
       "version_major": 2,
       "version_minor": 0,
       "model_id": "a8704d9573f847e499ae595869ea80c6"
      }
     },
     "metadata": {},
     "output_type": "display_data"
    },
    {
     "name": "stdout",
     "output_type": "stream",
     "text": [
      "Step-down-in-jumps iteration #1 found 0 clusters to exclude from subsequent iterations\n",
      "NOTE: pick_channels() is a legacy function. New code should use inst.pick(...).\n",
      "No baseline correction applied\n",
      "Using a threshold of 1.894579\n",
      "stat_fun(H1): min=-13.249844 max=7.748337\n",
      "Running initial clustering …\n",
      "Found 65 clusters\n"
     ]
    },
    {
     "data": {
      "text/plain": "  0%|          | Permuting : 0/99 [00:00<?,       ?it/s]",
      "application/vnd.jupyter.widget-view+json": {
       "version_major": 2,
       "version_minor": 0,
       "model_id": "15c648bcb0ff44e9b76e841f4c2812b7"
      }
     },
     "metadata": {},
     "output_type": "display_data"
    },
    {
     "name": "stdout",
     "output_type": "stream",
     "text": [
      "Step-down-in-jumps iteration #1 found 0 clusters to exclude from subsequent iterations\n",
      "Using a threshold of -1.894579\n",
      "stat_fun(H1): min=-13.249844 max=7.748337\n",
      "Running initial clustering …\n",
      "Found 52 clusters\n"
     ]
    },
    {
     "data": {
      "text/plain": "  0%|          | Permuting : 0/99 [00:00<?,       ?it/s]",
      "application/vnd.jupyter.widget-view+json": {
       "version_major": 2,
       "version_minor": 0,
       "model_id": "3159998c067d458e9f266e818df44227"
      }
     },
     "metadata": {},
     "output_type": "display_data"
    },
    {
     "name": "stdout",
     "output_type": "stream",
     "text": [
      "Step-down-in-jumps iteration #1 found 0 clusters to exclude from subsequent iterations\n",
      "NOTE: pick_channels() is a legacy function. New code should use inst.pick(...).\n",
      "No baseline correction applied\n",
      "Using a threshold of 1.894579\n",
      "stat_fun(H1): min=-9.208494 max=13.399501\n",
      "Running initial clustering …\n",
      "Found 51 clusters\n"
     ]
    },
    {
     "data": {
      "text/plain": "  0%|          | Permuting : 0/99 [00:00<?,       ?it/s]",
      "application/vnd.jupyter.widget-view+json": {
       "version_major": 2,
       "version_minor": 0,
       "model_id": "c17755776e954a028a4a9a26eba70e92"
      }
     },
     "metadata": {},
     "output_type": "display_data"
    },
    {
     "name": "stdout",
     "output_type": "stream",
     "text": [
      "Step-down-in-jumps iteration #1 found 0 clusters to exclude from subsequent iterations\n",
      "Using a threshold of -1.894579\n",
      "stat_fun(H1): min=-9.208494 max=13.399501\n",
      "Running initial clustering …\n",
      "Found 40 clusters\n"
     ]
    },
    {
     "data": {
      "text/plain": "  0%|          | Permuting : 0/99 [00:00<?,       ?it/s]",
      "application/vnd.jupyter.widget-view+json": {
       "version_major": 2,
       "version_minor": 0,
       "model_id": "75f5b75f01024d38bb14eb0c304aea22"
      }
     },
     "metadata": {},
     "output_type": "display_data"
    },
    {
     "name": "stdout",
     "output_type": "stream",
     "text": [
      "Step-down-in-jumps iteration #1 found 0 clusters to exclude from subsequent iterations\n",
      "NOTE: pick_channels() is a legacy function. New code should use inst.pick(...).\n",
      "No baseline correction applied\n",
      "Using a threshold of 1.894579\n",
      "stat_fun(H1): min=-10.275089 max=7.610596\n",
      "Running initial clustering …\n",
      "Found 58 clusters\n"
     ]
    },
    {
     "data": {
      "text/plain": "  0%|          | Permuting : 0/99 [00:00<?,       ?it/s]",
      "application/vnd.jupyter.widget-view+json": {
       "version_major": 2,
       "version_minor": 0,
       "model_id": "4cf9910e852b4d8389862d28730932ac"
      }
     },
     "metadata": {},
     "output_type": "display_data"
    },
    {
     "name": "stdout",
     "output_type": "stream",
     "text": [
      "Step-down-in-jumps iteration #1 found 0 clusters to exclude from subsequent iterations\n",
      "Using a threshold of -1.894579\n",
      "stat_fun(H1): min=-10.275089 max=7.610596\n",
      "Running initial clustering …\n",
      "Found 33 clusters\n"
     ]
    },
    {
     "data": {
      "text/plain": "  0%|          | Permuting : 0/99 [00:00<?,       ?it/s]",
      "application/vnd.jupyter.widget-view+json": {
       "version_major": 2,
       "version_minor": 0,
       "model_id": "f206ef74a9a54292b64fb99c22d62d60"
      }
     },
     "metadata": {},
     "output_type": "display_data"
    },
    {
     "name": "stdout",
     "output_type": "stream",
     "text": [
      "Step-down-in-jumps iteration #1 found 1 cluster to exclude from subsequent iterations\n"
     ]
    },
    {
     "data": {
      "text/plain": "  0%|          | Permuting : 0/99 [00:00<?,       ?it/s]",
      "application/vnd.jupyter.widget-view+json": {
       "version_major": 2,
       "version_minor": 0,
       "model_id": "0496f6a27ab24f7fb19a04537c49e9fa"
      }
     },
     "metadata": {},
     "output_type": "display_data"
    },
    {
     "name": "stdout",
     "output_type": "stream",
     "text": [
      "Step-down-in-jumps iteration #2 found 0 additional clusters to exclude from subsequent iterations\n",
      "NOTE: pick_channels() is a legacy function. New code should use inst.pick(...).\n",
      "No baseline correction applied\n",
      "Using a threshold of 1.894579\n",
      "stat_fun(H1): min=-11.519906 max=6.873122\n",
      "Running initial clustering …\n",
      "Found 75 clusters\n"
     ]
    },
    {
     "data": {
      "text/plain": "  0%|          | Permuting : 0/99 [00:00<?,       ?it/s]",
      "application/vnd.jupyter.widget-view+json": {
       "version_major": 2,
       "version_minor": 0,
       "model_id": "fd99dac49734402ba81e2b5040ba2374"
      }
     },
     "metadata": {},
     "output_type": "display_data"
    },
    {
     "name": "stdout",
     "output_type": "stream",
     "text": [
      "Step-down-in-jumps iteration #1 found 1 cluster to exclude from subsequent iterations\n"
     ]
    },
    {
     "data": {
      "text/plain": "  0%|          | Permuting : 0/99 [00:00<?,       ?it/s]",
      "application/vnd.jupyter.widget-view+json": {
       "version_major": 2,
       "version_minor": 0,
       "model_id": "a49d0d53062743819e268925dcee24c4"
      }
     },
     "metadata": {},
     "output_type": "display_data"
    },
    {
     "name": "stdout",
     "output_type": "stream",
     "text": [
      "Step-down-in-jumps iteration #2 found 0 additional clusters to exclude from subsequent iterations\n",
      "Using a threshold of -1.894579\n",
      "stat_fun(H1): min=-11.519906 max=6.873122\n",
      "Running initial clustering …\n",
      "Found 51 clusters\n"
     ]
    },
    {
     "data": {
      "text/plain": "  0%|          | Permuting : 0/99 [00:00<?,       ?it/s]",
      "application/vnd.jupyter.widget-view+json": {
       "version_major": 2,
       "version_minor": 0,
       "model_id": "cfab2a1689a548d0b23a7aec07a1a44f"
      }
     },
     "metadata": {},
     "output_type": "display_data"
    },
    {
     "name": "stdout",
     "output_type": "stream",
     "text": [
      "Step-down-in-jumps iteration #1 found 1 cluster to exclude from subsequent iterations\n"
     ]
    },
    {
     "data": {
      "text/plain": "  0%|          | Permuting : 0/99 [00:00<?,       ?it/s]",
      "application/vnd.jupyter.widget-view+json": {
       "version_major": 2,
       "version_minor": 0,
       "model_id": "a23bb2b1d0bc4500802810e921e3a05b"
      }
     },
     "metadata": {},
     "output_type": "display_data"
    },
    {
     "name": "stdout",
     "output_type": "stream",
     "text": [
      "Step-down-in-jumps iteration #2 found 0 additional clusters to exclude from subsequent iterations\n",
      "NOTE: pick_channels() is a legacy function. New code should use inst.pick(...).\n",
      "No baseline correction applied\n",
      "Using a threshold of 1.894579\n",
      "stat_fun(H1): min=-40.545961 max=5.355850\n",
      "Running initial clustering …\n",
      "Found 56 clusters\n"
     ]
    },
    {
     "data": {
      "text/plain": "  0%|          | Permuting : 0/99 [00:00<?,       ?it/s]",
      "application/vnd.jupyter.widget-view+json": {
       "version_major": 2,
       "version_minor": 0,
       "model_id": "d6d9392f013e4945b0f460b434a7ef41"
      }
     },
     "metadata": {},
     "output_type": "display_data"
    },
    {
     "name": "stdout",
     "output_type": "stream",
     "text": [
      "Step-down-in-jumps iteration #1 found 0 clusters to exclude from subsequent iterations\n",
      "Using a threshold of -1.894579\n",
      "stat_fun(H1): min=-40.545961 max=5.355850\n",
      "Running initial clustering …\n",
      "Found 20 clusters\n"
     ]
    },
    {
     "data": {
      "text/plain": "  0%|          | Permuting : 0/99 [00:00<?,       ?it/s]",
      "application/vnd.jupyter.widget-view+json": {
       "version_major": 2,
       "version_minor": 0,
       "model_id": "7ea9e5cd029b40a5bc85317a7b8178ec"
      }
     },
     "metadata": {},
     "output_type": "display_data"
    },
    {
     "name": "stdout",
     "output_type": "stream",
     "text": [
      "Step-down-in-jumps iteration #1 found 3 clusters to exclude from subsequent iterations\n"
     ]
    },
    {
     "data": {
      "text/plain": "  0%|          | Permuting : 0/99 [00:00<?,       ?it/s]",
      "application/vnd.jupyter.widget-view+json": {
       "version_major": 2,
       "version_minor": 0,
       "model_id": "a988b1e5cb184e9fb90b139af2d33ba0"
      }
     },
     "metadata": {},
     "output_type": "display_data"
    },
    {
     "name": "stdout",
     "output_type": "stream",
     "text": [
      "Step-down-in-jumps iteration #2 found 0 additional clusters to exclude from subsequent iterations\n",
      "NOTE: pick_channels() is a legacy function. New code should use inst.pick(...).\n",
      "No baseline correction applied\n",
      "Using a threshold of 1.894579\n",
      "stat_fun(H1): min=-21.281504 max=6.562604\n",
      "Running initial clustering …\n",
      "Found 57 clusters\n"
     ]
    },
    {
     "data": {
      "text/plain": "  0%|          | Permuting : 0/99 [00:00<?,       ?it/s]",
      "application/vnd.jupyter.widget-view+json": {
       "version_major": 2,
       "version_minor": 0,
       "model_id": "6ea22361f56540b69f3f77d635740d77"
      }
     },
     "metadata": {},
     "output_type": "display_data"
    },
    {
     "name": "stdout",
     "output_type": "stream",
     "text": [
      "Step-down-in-jumps iteration #1 found 0 clusters to exclude from subsequent iterations\n",
      "Using a threshold of -1.894579\n",
      "stat_fun(H1): min=-21.281504 max=6.562604\n",
      "Running initial clustering …\n",
      "Found 31 clusters\n"
     ]
    },
    {
     "data": {
      "text/plain": "  0%|          | Permuting : 0/99 [00:00<?,       ?it/s]",
      "application/vnd.jupyter.widget-view+json": {
       "version_major": 2,
       "version_minor": 0,
       "model_id": "5b05e0ee7ac54e82961e7bf68cb81ac4"
      }
     },
     "metadata": {},
     "output_type": "display_data"
    },
    {
     "name": "stdout",
     "output_type": "stream",
     "text": [
      "Step-down-in-jumps iteration #1 found 2 clusters to exclude from subsequent iterations\n"
     ]
    },
    {
     "data": {
      "text/plain": "  0%|          | Permuting : 0/99 [00:00<?,       ?it/s]",
      "application/vnd.jupyter.widget-view+json": {
       "version_major": 2,
       "version_minor": 0,
       "model_id": "51890634e8354aa3b0d4f8aa6904e058"
      }
     },
     "metadata": {},
     "output_type": "display_data"
    },
    {
     "name": "stdout",
     "output_type": "stream",
     "text": [
      "Step-down-in-jumps iteration #2 found 0 additional clusters to exclude from subsequent iterations\n",
      "NOTE: pick_channels() is a legacy function. New code should use inst.pick(...).\n",
      "No baseline correction applied\n",
      "Using a threshold of 1.894579\n",
      "stat_fun(H1): min=-15.686497 max=6.200901\n",
      "Running initial clustering …\n",
      "Found 65 clusters\n"
     ]
    },
    {
     "data": {
      "text/plain": "  0%|          | Permuting : 0/99 [00:00<?,       ?it/s]",
      "application/vnd.jupyter.widget-view+json": {
       "version_major": 2,
       "version_minor": 0,
       "model_id": "5fed174eb73c48eea9cee8eb6b3a2048"
      }
     },
     "metadata": {},
     "output_type": "display_data"
    },
    {
     "name": "stdout",
     "output_type": "stream",
     "text": [
      "Step-down-in-jumps iteration #1 found 0 clusters to exclude from subsequent iterations\n",
      "Using a threshold of -1.894579\n",
      "stat_fun(H1): min=-15.686497 max=6.200901\n",
      "Running initial clustering …\n",
      "Found 48 clusters\n"
     ]
    },
    {
     "data": {
      "text/plain": "  0%|          | Permuting : 0/99 [00:00<?,       ?it/s]",
      "application/vnd.jupyter.widget-view+json": {
       "version_major": 2,
       "version_minor": 0,
       "model_id": "d6080f9660b64462b7e22a6929fc12e3"
      }
     },
     "metadata": {},
     "output_type": "display_data"
    },
    {
     "name": "stdout",
     "output_type": "stream",
     "text": [
      "Step-down-in-jumps iteration #1 found 1 cluster to exclude from subsequent iterations\n"
     ]
    },
    {
     "data": {
      "text/plain": "  0%|          | Permuting : 0/99 [00:00<?,       ?it/s]",
      "application/vnd.jupyter.widget-view+json": {
       "version_major": 2,
       "version_minor": 0,
       "model_id": "084be5c0be574189956f4a2f2758e5b6"
      }
     },
     "metadata": {},
     "output_type": "display_data"
    },
    {
     "name": "stdout",
     "output_type": "stream",
     "text": [
      "Step-down-in-jumps iteration #2 found 0 additional clusters to exclude from subsequent iterations\n",
      "NOTE: pick_channels() is a legacy function. New code should use inst.pick(...).\n",
      "No baseline correction applied\n",
      "Using a threshold of 1.894579\n",
      "stat_fun(H1): min=-9.207725 max=6.160685\n",
      "Running initial clustering …\n",
      "Found 70 clusters\n"
     ]
    },
    {
     "data": {
      "text/plain": "  0%|          | Permuting : 0/99 [00:00<?,       ?it/s]",
      "application/vnd.jupyter.widget-view+json": {
       "version_major": 2,
       "version_minor": 0,
       "model_id": "690a96578fcb4b6cb221c1c60c2a9e2f"
      }
     },
     "metadata": {},
     "output_type": "display_data"
    },
    {
     "name": "stdout",
     "output_type": "stream",
     "text": [
      "Step-down-in-jumps iteration #1 found 1 cluster to exclude from subsequent iterations\n"
     ]
    },
    {
     "data": {
      "text/plain": "  0%|          | Permuting : 0/99 [00:00<?,       ?it/s]",
      "application/vnd.jupyter.widget-view+json": {
       "version_major": 2,
       "version_minor": 0,
       "model_id": "816fd9150c184db0a59e379e6cc5403b"
      }
     },
     "metadata": {},
     "output_type": "display_data"
    },
    {
     "name": "stdout",
     "output_type": "stream",
     "text": [
      "Step-down-in-jumps iteration #2 found 0 additional clusters to exclude from subsequent iterations\n",
      "Using a threshold of -1.894579\n",
      "stat_fun(H1): min=-9.207725 max=6.160685\n",
      "Running initial clustering …\n",
      "Found 32 clusters\n"
     ]
    },
    {
     "data": {
      "text/plain": "  0%|          | Permuting : 0/99 [00:00<?,       ?it/s]",
      "application/vnd.jupyter.widget-view+json": {
       "version_major": 2,
       "version_minor": 0,
       "model_id": "8ef2b72eee2e4b35bc5bbf954cfbf9e5"
      }
     },
     "metadata": {},
     "output_type": "display_data"
    },
    {
     "name": "stdout",
     "output_type": "stream",
     "text": [
      "Step-down-in-jumps iteration #1 found 1 cluster to exclude from subsequent iterations\n"
     ]
    },
    {
     "data": {
      "text/plain": "  0%|          | Permuting : 0/99 [00:00<?,       ?it/s]",
      "application/vnd.jupyter.widget-view+json": {
       "version_major": 2,
       "version_minor": 0,
       "model_id": "7c93f196a99347b6911a6d896ce21fcd"
      }
     },
     "metadata": {},
     "output_type": "display_data"
    },
    {
     "name": "stdout",
     "output_type": "stream",
     "text": [
      "Step-down-in-jumps iteration #2 found 0 additional clusters to exclude from subsequent iterations\n",
      "NOTE: pick_channels() is a legacy function. New code should use inst.pick(...).\n",
      "No baseline correction applied\n",
      "Creating RawArray with float64 data, n_channels=15, n_times=40000\n",
      "    Range : 0 ... 39999 =      0.000 ...    39.999 secs\n",
      "Ready.\n",
      "Not setting metadata\n",
      "7 matching events found\n",
      "No baseline correction applied\n",
      "0 projection items activated\n",
      "Using data from preloaded Raw for 7 events and 5001 original time points ...\n",
      "0 bad epochs dropped\n"
     ]
    },
    {
     "name": "stderr",
     "output_type": "stream",
     "text": [
      "[Parallel(n_jobs=1)]: Using backend SequentialBackend with 1 concurrent workers.\n",
      "[Parallel(n_jobs=1)]: Done   1 out of   1 | elapsed:    0.1s remaining:    0.0s\n",
      "[Parallel(n_jobs=1)]: Done   2 out of   2 | elapsed:    0.2s remaining:    0.0s\n",
      "[Parallel(n_jobs=1)]: Done   3 out of   3 | elapsed:    0.4s remaining:    0.0s\n",
      "[Parallel(n_jobs=1)]: Done   4 out of   4 | elapsed:    0.6s remaining:    0.0s\n"
     ]
    },
    {
     "name": "stdout",
     "output_type": "stream",
     "text": [
      "Not setting metadata\n",
      "Applying baseline correction (mode: percent)\n"
     ]
    },
    {
     "name": "stderr",
     "output_type": "stream",
     "text": [
      "[Parallel(n_jobs=1)]: Done  15 out of  15 | elapsed:    2.3s finished\n"
     ]
    },
    {
     "name": "stdout",
     "output_type": "stream",
     "text": [
      "Using a threshold of 1.943180\n",
      "stat_fun(H1): min=-13.724296 max=6.506848\n",
      "Running initial clustering …\n",
      "Found 95 clusters\n"
     ]
    },
    {
     "data": {
      "text/plain": "  0%|          | Permuting : 0/99 [00:00<?,       ?it/s]",
      "application/vnd.jupyter.widget-view+json": {
       "version_major": 2,
       "version_minor": 0,
       "model_id": "03205e455f7f4168a5f52f1fb059d702"
      }
     },
     "metadata": {},
     "output_type": "display_data"
    },
    {
     "name": "stdout",
     "output_type": "stream",
     "text": [
      "Step-down-in-jumps iteration #1 found 0 clusters to exclude from subsequent iterations\n",
      "Using a threshold of -1.943180\n",
      "stat_fun(H1): min=-13.724296 max=6.506848\n",
      "Running initial clustering …\n",
      "Found 47 clusters\n"
     ]
    },
    {
     "data": {
      "text/plain": "  0%|          | Permuting : 0/99 [00:00<?,       ?it/s]",
      "application/vnd.jupyter.widget-view+json": {
       "version_major": 2,
       "version_minor": 0,
       "model_id": "623ff0cccafe4360b95760312bf9678f"
      }
     },
     "metadata": {},
     "output_type": "display_data"
    },
    {
     "name": "stdout",
     "output_type": "stream",
     "text": [
      "Step-down-in-jumps iteration #1 found 0 clusters to exclude from subsequent iterations\n",
      "NOTE: pick_channels() is a legacy function. New code should use inst.pick(...).\n",
      "No baseline correction applied\n",
      "Using a threshold of 1.943180\n",
      "stat_fun(H1): min=-12.863310 max=5.409363\n",
      "Running initial clustering …\n",
      "Found 60 clusters\n"
     ]
    },
    {
     "data": {
      "text/plain": "  0%|          | Permuting : 0/99 [00:00<?,       ?it/s]",
      "application/vnd.jupyter.widget-view+json": {
       "version_major": 2,
       "version_minor": 0,
       "model_id": "9831c5b77d25459bb2debbf6b660b265"
      }
     },
     "metadata": {},
     "output_type": "display_data"
    },
    {
     "name": "stdout",
     "output_type": "stream",
     "text": [
      "Step-down-in-jumps iteration #1 found 0 clusters to exclude from subsequent iterations\n",
      "Using a threshold of -1.943180\n",
      "stat_fun(H1): min=-12.863310 max=5.409363\n",
      "Running initial clustering …\n",
      "Found 38 clusters\n"
     ]
    },
    {
     "data": {
      "text/plain": "  0%|          | Permuting : 0/99 [00:00<?,       ?it/s]",
      "application/vnd.jupyter.widget-view+json": {
       "version_major": 2,
       "version_minor": 0,
       "model_id": "b37cce8dbc3142f9972428593db0a043"
      }
     },
     "metadata": {},
     "output_type": "display_data"
    },
    {
     "name": "stdout",
     "output_type": "stream",
     "text": [
      "Step-down-in-jumps iteration #1 found 1 cluster to exclude from subsequent iterations\n"
     ]
    },
    {
     "data": {
      "text/plain": "  0%|          | Permuting : 0/99 [00:00<?,       ?it/s]",
      "application/vnd.jupyter.widget-view+json": {
       "version_major": 2,
       "version_minor": 0,
       "model_id": "f813c1a6ce12491bada0b5d6dce9b770"
      }
     },
     "metadata": {},
     "output_type": "display_data"
    },
    {
     "name": "stdout",
     "output_type": "stream",
     "text": [
      "Step-down-in-jumps iteration #2 found 0 additional clusters to exclude from subsequent iterations\n",
      "NOTE: pick_channels() is a legacy function. New code should use inst.pick(...).\n",
      "No baseline correction applied\n",
      "Using a threshold of 1.943180\n",
      "stat_fun(H1): min=-18.329572 max=12.992071\n",
      "Running initial clustering …\n",
      "Found 45 clusters\n"
     ]
    },
    {
     "data": {
      "text/plain": "  0%|          | Permuting : 0/99 [00:00<?,       ?it/s]",
      "application/vnd.jupyter.widget-view+json": {
       "version_major": 2,
       "version_minor": 0,
       "model_id": "cc2432d13a5e4410b6e5cc87b8e2143e"
      }
     },
     "metadata": {},
     "output_type": "display_data"
    },
    {
     "name": "stdout",
     "output_type": "stream",
     "text": [
      "Step-down-in-jumps iteration #1 found 0 clusters to exclude from subsequent iterations\n",
      "Using a threshold of -1.943180\n",
      "stat_fun(H1): min=-18.329572 max=12.992071\n",
      "Running initial clustering …\n",
      "Found 51 clusters\n"
     ]
    },
    {
     "data": {
      "text/plain": "  0%|          | Permuting : 0/99 [00:00<?,       ?it/s]",
      "application/vnd.jupyter.widget-view+json": {
       "version_major": 2,
       "version_minor": 0,
       "model_id": "689d9fe752514501a07e49a8e4509d6f"
      }
     },
     "metadata": {},
     "output_type": "display_data"
    },
    {
     "name": "stdout",
     "output_type": "stream",
     "text": [
      "Step-down-in-jumps iteration #1 found 1 cluster to exclude from subsequent iterations\n"
     ]
    },
    {
     "data": {
      "text/plain": "  0%|          | Permuting : 0/99 [00:00<?,       ?it/s]",
      "application/vnd.jupyter.widget-view+json": {
       "version_major": 2,
       "version_minor": 0,
       "model_id": "3db0bbb6ad80469fafd07584caed2642"
      }
     },
     "metadata": {},
     "output_type": "display_data"
    },
    {
     "name": "stdout",
     "output_type": "stream",
     "text": [
      "Step-down-in-jumps iteration #2 found 0 additional clusters to exclude from subsequent iterations\n",
      "NOTE: pick_channels() is a legacy function. New code should use inst.pick(...).\n",
      "No baseline correction applied\n",
      "Using a threshold of 1.943180\n",
      "stat_fun(H1): min=-18.729329 max=8.521730\n",
      "Running initial clustering …\n",
      "Found 61 clusters\n"
     ]
    },
    {
     "data": {
      "text/plain": "  0%|          | Permuting : 0/99 [00:00<?,       ?it/s]",
      "application/vnd.jupyter.widget-view+json": {
       "version_major": 2,
       "version_minor": 0,
       "model_id": "9876465156674a05aa42863c39def06f"
      }
     },
     "metadata": {},
     "output_type": "display_data"
    },
    {
     "name": "stdout",
     "output_type": "stream",
     "text": [
      "Step-down-in-jumps iteration #1 found 0 clusters to exclude from subsequent iterations\n",
      "Using a threshold of -1.943180\n",
      "stat_fun(H1): min=-18.729329 max=8.521730\n",
      "Running initial clustering …\n",
      "Found 47 clusters\n"
     ]
    },
    {
     "data": {
      "text/plain": "  0%|          | Permuting : 0/99 [00:00<?,       ?it/s]",
      "application/vnd.jupyter.widget-view+json": {
       "version_major": 2,
       "version_minor": 0,
       "model_id": "a8bc0fcb042545de9ef2818e8cef24bc"
      }
     },
     "metadata": {},
     "output_type": "display_data"
    },
    {
     "name": "stdout",
     "output_type": "stream",
     "text": [
      "Step-down-in-jumps iteration #1 found 1 cluster to exclude from subsequent iterations\n"
     ]
    },
    {
     "data": {
      "text/plain": "  0%|          | Permuting : 0/99 [00:00<?,       ?it/s]",
      "application/vnd.jupyter.widget-view+json": {
       "version_major": 2,
       "version_minor": 0,
       "model_id": "2505e5b9d117405989ac1b2ff5863bb6"
      }
     },
     "metadata": {},
     "output_type": "display_data"
    },
    {
     "name": "stdout",
     "output_type": "stream",
     "text": [
      "Step-down-in-jumps iteration #2 found 0 additional clusters to exclude from subsequent iterations\n",
      "NOTE: pick_channels() is a legacy function. New code should use inst.pick(...).\n",
      "No baseline correction applied\n",
      "Using a threshold of 1.943180\n",
      "stat_fun(H1): min=-20.837689 max=6.634387\n",
      "Running initial clustering …\n",
      "Found 72 clusters\n"
     ]
    },
    {
     "data": {
      "text/plain": "  0%|          | Permuting : 0/99 [00:00<?,       ?it/s]",
      "application/vnd.jupyter.widget-view+json": {
       "version_major": 2,
       "version_minor": 0,
       "model_id": "791947c9f0c640c582bca1c21f122b3a"
      }
     },
     "metadata": {},
     "output_type": "display_data"
    },
    {
     "name": "stdout",
     "output_type": "stream",
     "text": [
      "Step-down-in-jumps iteration #1 found 0 clusters to exclude from subsequent iterations\n",
      "Using a threshold of -1.943180\n",
      "stat_fun(H1): min=-20.837689 max=6.634387\n",
      "Running initial clustering …\n",
      "Found 56 clusters\n"
     ]
    },
    {
     "data": {
      "text/plain": "  0%|          | Permuting : 0/99 [00:00<?,       ?it/s]",
      "application/vnd.jupyter.widget-view+json": {
       "version_major": 2,
       "version_minor": 0,
       "model_id": "010cec9763da4441bfb159fb3117c83d"
      }
     },
     "metadata": {},
     "output_type": "display_data"
    },
    {
     "name": "stdout",
     "output_type": "stream",
     "text": [
      "Step-down-in-jumps iteration #1 found 0 clusters to exclude from subsequent iterations\n",
      "NOTE: pick_channels() is a legacy function. New code should use inst.pick(...).\n",
      "No baseline correction applied\n",
      "Using a threshold of 1.943180\n",
      "stat_fun(H1): min=-13.989594 max=12.702281\n",
      "Running initial clustering …\n",
      "Found 52 clusters\n"
     ]
    },
    {
     "data": {
      "text/plain": "  0%|          | Permuting : 0/99 [00:00<?,       ?it/s]",
      "application/vnd.jupyter.widget-view+json": {
       "version_major": 2,
       "version_minor": 0,
       "model_id": "c73a07c57ab041bbb66d7bd98df7dc74"
      }
     },
     "metadata": {},
     "output_type": "display_data"
    },
    {
     "name": "stdout",
     "output_type": "stream",
     "text": [
      "Step-down-in-jumps iteration #1 found 1 cluster to exclude from subsequent iterations\n"
     ]
    },
    {
     "data": {
      "text/plain": "  0%|          | Permuting : 0/99 [00:00<?,       ?it/s]",
      "application/vnd.jupyter.widget-view+json": {
       "version_major": 2,
       "version_minor": 0,
       "model_id": "ec64520d369d404d9b87eb1561eec334"
      }
     },
     "metadata": {},
     "output_type": "display_data"
    },
    {
     "name": "stdout",
     "output_type": "stream",
     "text": [
      "Step-down-in-jumps iteration #2 found 0 additional clusters to exclude from subsequent iterations\n",
      "Using a threshold of -1.943180\n",
      "stat_fun(H1): min=-13.989594 max=12.702281\n",
      "Running initial clustering …\n",
      "Found 63 clusters\n"
     ]
    },
    {
     "data": {
      "text/plain": "  0%|          | Permuting : 0/99 [00:00<?,       ?it/s]",
      "application/vnd.jupyter.widget-view+json": {
       "version_major": 2,
       "version_minor": 0,
       "model_id": "051c14a1127a4639a7a37e1eb4120cf2"
      }
     },
     "metadata": {},
     "output_type": "display_data"
    },
    {
     "name": "stdout",
     "output_type": "stream",
     "text": [
      "Step-down-in-jumps iteration #1 found 1 cluster to exclude from subsequent iterations\n"
     ]
    },
    {
     "data": {
      "text/plain": "  0%|          | Permuting : 0/99 [00:00<?,       ?it/s]",
      "application/vnd.jupyter.widget-view+json": {
       "version_major": 2,
       "version_minor": 0,
       "model_id": "ddb6ef9f8bc042c386242d2e9b0c6ee1"
      }
     },
     "metadata": {},
     "output_type": "display_data"
    },
    {
     "name": "stdout",
     "output_type": "stream",
     "text": [
      "Step-down-in-jumps iteration #2 found 0 additional clusters to exclude from subsequent iterations\n",
      "NOTE: pick_channels() is a legacy function. New code should use inst.pick(...).\n",
      "No baseline correction applied\n",
      "Using a threshold of 1.943180\n",
      "stat_fun(H1): min=-16.737620 max=17.419960\n",
      "Running initial clustering …\n",
      "Found 43 clusters\n"
     ]
    },
    {
     "data": {
      "text/plain": "  0%|          | Permuting : 0/99 [00:00<?,       ?it/s]",
      "application/vnd.jupyter.widget-view+json": {
       "version_major": 2,
       "version_minor": 0,
       "model_id": "a2ea9f3b308140f78869cc19b6a5df65"
      }
     },
     "metadata": {},
     "output_type": "display_data"
    },
    {
     "name": "stdout",
     "output_type": "stream",
     "text": [
      "Step-down-in-jumps iteration #1 found 1 cluster to exclude from subsequent iterations\n"
     ]
    },
    {
     "data": {
      "text/plain": "  0%|          | Permuting : 0/99 [00:00<?,       ?it/s]",
      "application/vnd.jupyter.widget-view+json": {
       "version_major": 2,
       "version_minor": 0,
       "model_id": "7ddd0f6095534332ac1da052909b5ad0"
      }
     },
     "metadata": {},
     "output_type": "display_data"
    },
    {
     "name": "stdout",
     "output_type": "stream",
     "text": [
      "Step-down-in-jumps iteration #2 found 0 additional clusters to exclude from subsequent iterations\n",
      "Using a threshold of -1.943180\n",
      "stat_fun(H1): min=-16.737620 max=17.419960\n",
      "Running initial clustering …\n",
      "Found 49 clusters\n"
     ]
    },
    {
     "data": {
      "text/plain": "  0%|          | Permuting : 0/99 [00:00<?,       ?it/s]",
      "application/vnd.jupyter.widget-view+json": {
       "version_major": 2,
       "version_minor": 0,
       "model_id": "7609c15b7aaf465c98320e1a276af137"
      }
     },
     "metadata": {},
     "output_type": "display_data"
    },
    {
     "name": "stdout",
     "output_type": "stream",
     "text": [
      "Step-down-in-jumps iteration #1 found 1 cluster to exclude from subsequent iterations\n"
     ]
    },
    {
     "data": {
      "text/plain": "  0%|          | Permuting : 0/99 [00:00<?,       ?it/s]",
      "application/vnd.jupyter.widget-view+json": {
       "version_major": 2,
       "version_minor": 0,
       "model_id": "333a3b94ba8a4b69a33acda78926cd6d"
      }
     },
     "metadata": {},
     "output_type": "display_data"
    },
    {
     "name": "stdout",
     "output_type": "stream",
     "text": [
      "Step-down-in-jumps iteration #2 found 0 additional clusters to exclude from subsequent iterations\n",
      "NOTE: pick_channels() is a legacy function. New code should use inst.pick(...).\n",
      "No baseline correction applied\n",
      "Using a threshold of 1.943180\n",
      "stat_fun(H1): min=-19.111629 max=7.523495\n",
      "Running initial clustering …\n",
      "Found 58 clusters\n"
     ]
    },
    {
     "data": {
      "text/plain": "  0%|          | Permuting : 0/99 [00:00<?,       ?it/s]",
      "application/vnd.jupyter.widget-view+json": {
       "version_major": 2,
       "version_minor": 0,
       "model_id": "f702a554015d47678729d43d0486fade"
      }
     },
     "metadata": {},
     "output_type": "display_data"
    },
    {
     "name": "stdout",
     "output_type": "stream",
     "text": [
      "Step-down-in-jumps iteration #1 found 0 clusters to exclude from subsequent iterations\n",
      "Using a threshold of -1.943180\n",
      "stat_fun(H1): min=-19.111629 max=7.523495\n",
      "Running initial clustering …\n",
      "Found 48 clusters\n"
     ]
    },
    {
     "data": {
      "text/plain": "  0%|          | Permuting : 0/99 [00:00<?,       ?it/s]",
      "application/vnd.jupyter.widget-view+json": {
       "version_major": 2,
       "version_minor": 0,
       "model_id": "234448921b5142d1b8d0f19a24d1aef6"
      }
     },
     "metadata": {},
     "output_type": "display_data"
    },
    {
     "name": "stdout",
     "output_type": "stream",
     "text": [
      "Step-down-in-jumps iteration #1 found 0 clusters to exclude from subsequent iterations\n",
      "NOTE: pick_channels() is a legacy function. New code should use inst.pick(...).\n",
      "No baseline correction applied\n",
      "Using a threshold of 1.943180\n",
      "stat_fun(H1): min=-27.588571 max=13.933982\n",
      "Running initial clustering …\n",
      "Found 66 clusters\n"
     ]
    },
    {
     "data": {
      "text/plain": "  0%|          | Permuting : 0/99 [00:00<?,       ?it/s]",
      "application/vnd.jupyter.widget-view+json": {
       "version_major": 2,
       "version_minor": 0,
       "model_id": "00ec961a7ef249aea21b937dfcd5ae8e"
      }
     },
     "metadata": {},
     "output_type": "display_data"
    },
    {
     "name": "stdout",
     "output_type": "stream",
     "text": [
      "Step-down-in-jumps iteration #1 found 1 cluster to exclude from subsequent iterations\n"
     ]
    },
    {
     "data": {
      "text/plain": "  0%|          | Permuting : 0/99 [00:00<?,       ?it/s]",
      "application/vnd.jupyter.widget-view+json": {
       "version_major": 2,
       "version_minor": 0,
       "model_id": "1c75943659a84c3fbd66d28adf24f998"
      }
     },
     "metadata": {},
     "output_type": "display_data"
    },
    {
     "name": "stdout",
     "output_type": "stream",
     "text": [
      "Step-down-in-jumps iteration #2 found 0 additional clusters to exclude from subsequent iterations\n",
      "Using a threshold of -1.943180\n",
      "stat_fun(H1): min=-27.588571 max=13.933982\n",
      "Running initial clustering …\n",
      "Found 23 clusters\n"
     ]
    },
    {
     "data": {
      "text/plain": "  0%|          | Permuting : 0/99 [00:00<?,       ?it/s]",
      "application/vnd.jupyter.widget-view+json": {
       "version_major": 2,
       "version_minor": 0,
       "model_id": "156c1ce7f192447997b20f2c1e7019d7"
      }
     },
     "metadata": {},
     "output_type": "display_data"
    },
    {
     "name": "stdout",
     "output_type": "stream",
     "text": [
      "Step-down-in-jumps iteration #1 found 1 cluster to exclude from subsequent iterations\n"
     ]
    },
    {
     "data": {
      "text/plain": "  0%|          | Permuting : 0/99 [00:00<?,       ?it/s]",
      "application/vnd.jupyter.widget-view+json": {
       "version_major": 2,
       "version_minor": 0,
       "model_id": "1726f2a4f761473a928e8b011f294516"
      }
     },
     "metadata": {},
     "output_type": "display_data"
    },
    {
     "name": "stdout",
     "output_type": "stream",
     "text": [
      "Step-down-in-jumps iteration #2 found 0 additional clusters to exclude from subsequent iterations\n",
      "NOTE: pick_channels() is a legacy function. New code should use inst.pick(...).\n",
      "No baseline correction applied\n",
      "Using a threshold of 1.943180\n",
      "stat_fun(H1): min=-13.082304 max=7.894385\n",
      "Running initial clustering …\n",
      "Found 42 clusters\n"
     ]
    },
    {
     "data": {
      "text/plain": "  0%|          | Permuting : 0/99 [00:00<?,       ?it/s]",
      "application/vnd.jupyter.widget-view+json": {
       "version_major": 2,
       "version_minor": 0,
       "model_id": "67d46c849d8d417eafe4005b5a8192e2"
      }
     },
     "metadata": {},
     "output_type": "display_data"
    },
    {
     "name": "stdout",
     "output_type": "stream",
     "text": [
      "Step-down-in-jumps iteration #1 found 0 clusters to exclude from subsequent iterations\n",
      "Using a threshold of -1.943180\n",
      "stat_fun(H1): min=-13.082304 max=7.894385\n",
      "Running initial clustering …\n",
      "Found 70 clusters\n"
     ]
    },
    {
     "data": {
      "text/plain": "  0%|          | Permuting : 0/99 [00:00<?,       ?it/s]",
      "application/vnd.jupyter.widget-view+json": {
       "version_major": 2,
       "version_minor": 0,
       "model_id": "dc58070f5229468bbf679688083ef155"
      }
     },
     "metadata": {},
     "output_type": "display_data"
    },
    {
     "name": "stdout",
     "output_type": "stream",
     "text": [
      "Step-down-in-jumps iteration #1 found 0 clusters to exclude from subsequent iterations\n",
      "NOTE: pick_channels() is a legacy function. New code should use inst.pick(...).\n",
      "No baseline correction applied\n",
      "Using a threshold of 1.943180\n",
      "stat_fun(H1): min=-24.799545 max=8.677268\n",
      "Running initial clustering …\n",
      "Found 57 clusters\n"
     ]
    },
    {
     "data": {
      "text/plain": "  0%|          | Permuting : 0/99 [00:00<?,       ?it/s]",
      "application/vnd.jupyter.widget-view+json": {
       "version_major": 2,
       "version_minor": 0,
       "model_id": "8540777ca64e4bdc8e956e82d5855a92"
      }
     },
     "metadata": {},
     "output_type": "display_data"
    },
    {
     "name": "stdout",
     "output_type": "stream",
     "text": [
      "Step-down-in-jumps iteration #1 found 0 clusters to exclude from subsequent iterations\n",
      "Using a threshold of -1.943180\n",
      "stat_fun(H1): min=-24.799545 max=8.677268\n",
      "Running initial clustering …\n",
      "Found 28 clusters\n"
     ]
    },
    {
     "data": {
      "text/plain": "  0%|          | Permuting : 0/99 [00:00<?,       ?it/s]",
      "application/vnd.jupyter.widget-view+json": {
       "version_major": 2,
       "version_minor": 0,
       "model_id": "998ccc4a1ed1469ea0545920723042c8"
      }
     },
     "metadata": {},
     "output_type": "display_data"
    },
    {
     "name": "stdout",
     "output_type": "stream",
     "text": [
      "Step-down-in-jumps iteration #1 found 0 clusters to exclude from subsequent iterations\n",
      "NOTE: pick_channels() is a legacy function. New code should use inst.pick(...).\n",
      "No baseline correction applied\n",
      "Using a threshold of 1.943180\n",
      "stat_fun(H1): min=-20.198023 max=6.676705\n",
      "Running initial clustering …\n",
      "Found 60 clusters\n"
     ]
    },
    {
     "data": {
      "text/plain": "  0%|          | Permuting : 0/99 [00:00<?,       ?it/s]",
      "application/vnd.jupyter.widget-view+json": {
       "version_major": 2,
       "version_minor": 0,
       "model_id": "9562ed0111a740dfbc794cb141f8018d"
      }
     },
     "metadata": {},
     "output_type": "display_data"
    },
    {
     "name": "stdout",
     "output_type": "stream",
     "text": [
      "Step-down-in-jumps iteration #1 found 0 clusters to exclude from subsequent iterations\n",
      "Using a threshold of -1.943180\n",
      "stat_fun(H1): min=-20.198023 max=6.676705\n",
      "Running initial clustering …\n",
      "Found 60 clusters\n"
     ]
    },
    {
     "data": {
      "text/plain": "  0%|          | Permuting : 0/99 [00:00<?,       ?it/s]",
      "application/vnd.jupyter.widget-view+json": {
       "version_major": 2,
       "version_minor": 0,
       "model_id": "acdcb6c251524d2183e47f17961a4c40"
      }
     },
     "metadata": {},
     "output_type": "display_data"
    },
    {
     "name": "stdout",
     "output_type": "stream",
     "text": [
      "Step-down-in-jumps iteration #1 found 0 clusters to exclude from subsequent iterations\n",
      "NOTE: pick_channels() is a legacy function. New code should use inst.pick(...).\n",
      "No baseline correction applied\n",
      "Using a threshold of 1.943180\n",
      "stat_fun(H1): min=-24.779558 max=6.022009\n",
      "Running initial clustering …\n",
      "Found 55 clusters\n"
     ]
    },
    {
     "data": {
      "text/plain": "  0%|          | Permuting : 0/99 [00:00<?,       ?it/s]",
      "application/vnd.jupyter.widget-view+json": {
       "version_major": 2,
       "version_minor": 0,
       "model_id": "a511b13c48d8469f9c39d04d3d1478d1"
      }
     },
     "metadata": {},
     "output_type": "display_data"
    },
    {
     "name": "stdout",
     "output_type": "stream",
     "text": [
      "Step-down-in-jumps iteration #1 found 0 clusters to exclude from subsequent iterations\n",
      "Using a threshold of -1.943180\n",
      "stat_fun(H1): min=-24.779558 max=6.022009\n",
      "Running initial clustering …\n",
      "Found 45 clusters\n"
     ]
    },
    {
     "data": {
      "text/plain": "  0%|          | Permuting : 0/99 [00:00<?,       ?it/s]",
      "application/vnd.jupyter.widget-view+json": {
       "version_major": 2,
       "version_minor": 0,
       "model_id": "f77ae7104a00481c8e3d4f4d150c9544"
      }
     },
     "metadata": {},
     "output_type": "display_data"
    },
    {
     "name": "stdout",
     "output_type": "stream",
     "text": [
      "Step-down-in-jumps iteration #1 found 0 clusters to exclude from subsequent iterations\n",
      "NOTE: pick_channels() is a legacy function. New code should use inst.pick(...).\n",
      "No baseline correction applied\n",
      "Using a threshold of 1.943180\n",
      "stat_fun(H1): min=-12.414323 max=8.696515\n",
      "Running initial clustering …\n",
      "Found 66 clusters\n"
     ]
    },
    {
     "data": {
      "text/plain": "  0%|          | Permuting : 0/99 [00:00<?,       ?it/s]",
      "application/vnd.jupyter.widget-view+json": {
       "version_major": 2,
       "version_minor": 0,
       "model_id": "35e2d99d06ee43e5944afb128583a6d8"
      }
     },
     "metadata": {},
     "output_type": "display_data"
    },
    {
     "name": "stdout",
     "output_type": "stream",
     "text": [
      "Step-down-in-jumps iteration #1 found 1 cluster to exclude from subsequent iterations\n"
     ]
    },
    {
     "data": {
      "text/plain": "  0%|          | Permuting : 0/99 [00:00<?,       ?it/s]",
      "application/vnd.jupyter.widget-view+json": {
       "version_major": 2,
       "version_minor": 0,
       "model_id": "e4aeaff6af9048e28fdcbf5b63bbbfc4"
      }
     },
     "metadata": {},
     "output_type": "display_data"
    },
    {
     "name": "stdout",
     "output_type": "stream",
     "text": [
      "Step-down-in-jumps iteration #2 found 0 additional clusters to exclude from subsequent iterations\n",
      "Using a threshold of -1.943180\n",
      "stat_fun(H1): min=-12.414323 max=8.696515\n",
      "Running initial clustering …\n",
      "Found 41 clusters\n"
     ]
    },
    {
     "data": {
      "text/plain": "  0%|          | Permuting : 0/99 [00:00<?,       ?it/s]",
      "application/vnd.jupyter.widget-view+json": {
       "version_major": 2,
       "version_minor": 0,
       "model_id": "1613afe006c44610acb4cd848939121e"
      }
     },
     "metadata": {},
     "output_type": "display_data"
    },
    {
     "name": "stdout",
     "output_type": "stream",
     "text": [
      "Step-down-in-jumps iteration #1 found 1 cluster to exclude from subsequent iterations\n"
     ]
    },
    {
     "data": {
      "text/plain": "  0%|          | Permuting : 0/99 [00:00<?,       ?it/s]",
      "application/vnd.jupyter.widget-view+json": {
       "version_major": 2,
       "version_minor": 0,
       "model_id": "de15f0b07025483fb94da2a0de648313"
      }
     },
     "metadata": {},
     "output_type": "display_data"
    },
    {
     "name": "stdout",
     "output_type": "stream",
     "text": [
      "Step-down-in-jumps iteration #2 found 0 additional clusters to exclude from subsequent iterations\n",
      "NOTE: pick_channels() is a legacy function. New code should use inst.pick(...).\n",
      "No baseline correction applied\n",
      "Using a threshold of 1.943180\n",
      "stat_fun(H1): min=-36.858090 max=9.048473\n",
      "Running initial clustering …\n",
      "Found 72 clusters\n"
     ]
    },
    {
     "data": {
      "text/plain": "  0%|          | Permuting : 0/99 [00:00<?,       ?it/s]",
      "application/vnd.jupyter.widget-view+json": {
       "version_major": 2,
       "version_minor": 0,
       "model_id": "b61ed99339354f0989880cc67d7719fc"
      }
     },
     "metadata": {},
     "output_type": "display_data"
    },
    {
     "name": "stdout",
     "output_type": "stream",
     "text": [
      "Step-down-in-jumps iteration #1 found 0 clusters to exclude from subsequent iterations\n",
      "Using a threshold of -1.943180\n",
      "stat_fun(H1): min=-36.858090 max=9.048473\n",
      "Running initial clustering …\n",
      "Found 44 clusters\n"
     ]
    },
    {
     "data": {
      "text/plain": "  0%|          | Permuting : 0/99 [00:00<?,       ?it/s]",
      "application/vnd.jupyter.widget-view+json": {
       "version_major": 2,
       "version_minor": 0,
       "model_id": "08bf776e330a4a55acfc68f6371f7864"
      }
     },
     "metadata": {},
     "output_type": "display_data"
    },
    {
     "name": "stdout",
     "output_type": "stream",
     "text": [
      "Step-down-in-jumps iteration #1 found 1 cluster to exclude from subsequent iterations\n"
     ]
    },
    {
     "data": {
      "text/plain": "  0%|          | Permuting : 0/99 [00:00<?,       ?it/s]",
      "application/vnd.jupyter.widget-view+json": {
       "version_major": 2,
       "version_minor": 0,
       "model_id": "90f653d645bf449e9cbe6bfb1ee4cd0c"
      }
     },
     "metadata": {},
     "output_type": "display_data"
    },
    {
     "name": "stdout",
     "output_type": "stream",
     "text": [
      "Step-down-in-jumps iteration #2 found 0 additional clusters to exclude from subsequent iterations\n",
      "NOTE: pick_channels() is a legacy function. New code should use inst.pick(...).\n",
      "No baseline correction applied\n",
      "Creating RawArray with float64 data, n_channels=15, n_times=45000\n",
      "    Range : 0 ... 44999 =      0.000 ...    44.999 secs\n",
      "Ready.\n",
      "Not setting metadata\n",
      "8 matching events found\n",
      "No baseline correction applied\n",
      "0 projection items activated\n",
      "Using data from preloaded Raw for 8 events and 5001 original time points ...\n",
      "0 bad epochs dropped\n"
     ]
    },
    {
     "name": "stderr",
     "output_type": "stream",
     "text": [
      "[Parallel(n_jobs=1)]: Using backend SequentialBackend with 1 concurrent workers.\n",
      "[Parallel(n_jobs=1)]: Done   1 out of   1 | elapsed:    0.1s remaining:    0.0s\n",
      "[Parallel(n_jobs=1)]: Done   2 out of   2 | elapsed:    0.3s remaining:    0.0s\n",
      "[Parallel(n_jobs=1)]: Done   3 out of   3 | elapsed:    0.4s remaining:    0.0s\n",
      "[Parallel(n_jobs=1)]: Done   4 out of   4 | elapsed:    0.6s remaining:    0.0s\n"
     ]
    },
    {
     "name": "stdout",
     "output_type": "stream",
     "text": [
      "Not setting metadata\n",
      "Applying baseline correction (mode: percent)\n"
     ]
    },
    {
     "name": "stderr",
     "output_type": "stream",
     "text": [
      "[Parallel(n_jobs=1)]: Done  15 out of  15 | elapsed:    2.5s finished\n"
     ]
    },
    {
     "name": "stdout",
     "output_type": "stream",
     "text": [
      "Using a threshold of 1.894579\n",
      "stat_fun(H1): min=-11.856596 max=11.612596\n",
      "Running initial clustering …\n",
      "Found 79 clusters\n"
     ]
    },
    {
     "data": {
      "text/plain": "  0%|          | Permuting : 0/99 [00:00<?,       ?it/s]",
      "application/vnd.jupyter.widget-view+json": {
       "version_major": 2,
       "version_minor": 0,
       "model_id": "209aa07c29e0484c999098fb214cbf18"
      }
     },
     "metadata": {},
     "output_type": "display_data"
    },
    {
     "name": "stdout",
     "output_type": "stream",
     "text": [
      "Step-down-in-jumps iteration #1 found 0 clusters to exclude from subsequent iterations\n",
      "Using a threshold of -1.894579\n",
      "stat_fun(H1): min=-11.856596 max=11.612596\n",
      "Running initial clustering …\n",
      "Found 22 clusters\n"
     ]
    },
    {
     "data": {
      "text/plain": "  0%|          | Permuting : 0/99 [00:00<?,       ?it/s]",
      "application/vnd.jupyter.widget-view+json": {
       "version_major": 2,
       "version_minor": 0,
       "model_id": "0e25346322444283bb7e8d079875f8d1"
      }
     },
     "metadata": {},
     "output_type": "display_data"
    },
    {
     "name": "stdout",
     "output_type": "stream",
     "text": [
      "Step-down-in-jumps iteration #1 found 0 clusters to exclude from subsequent iterations\n",
      "NOTE: pick_channels() is a legacy function. New code should use inst.pick(...).\n",
      "No baseline correction applied\n",
      "Using a threshold of 1.894579\n",
      "stat_fun(H1): min=-15.061736 max=10.303844\n",
      "Running initial clustering …\n",
      "Found 110 clusters\n"
     ]
    },
    {
     "data": {
      "text/plain": "  0%|          | Permuting : 0/99 [00:00<?,       ?it/s]",
      "application/vnd.jupyter.widget-view+json": {
       "version_major": 2,
       "version_minor": 0,
       "model_id": "a06d53ab4a6946ba83acbbb2937f0fe1"
      }
     },
     "metadata": {},
     "output_type": "display_data"
    },
    {
     "name": "stdout",
     "output_type": "stream",
     "text": [
      "Step-down-in-jumps iteration #1 found 0 clusters to exclude from subsequent iterations\n",
      "Using a threshold of -1.894579\n",
      "stat_fun(H1): min=-15.061736 max=10.303844\n",
      "Running initial clustering …\n",
      "Found 36 clusters\n"
     ]
    },
    {
     "data": {
      "text/plain": "  0%|          | Permuting : 0/99 [00:00<?,       ?it/s]",
      "application/vnd.jupyter.widget-view+json": {
       "version_major": 2,
       "version_minor": 0,
       "model_id": "6fbb23d01b1f4e4690f6ce2ee43edfb9"
      }
     },
     "metadata": {},
     "output_type": "display_data"
    },
    {
     "name": "stdout",
     "output_type": "stream",
     "text": [
      "Step-down-in-jumps iteration #1 found 0 clusters to exclude from subsequent iterations\n",
      "NOTE: pick_channels() is a legacy function. New code should use inst.pick(...).\n",
      "No baseline correction applied\n",
      "Using a threshold of 1.894579\n",
      "stat_fun(H1): min=-17.072768 max=7.517328\n",
      "Running initial clustering …\n",
      "Found 56 clusters\n"
     ]
    },
    {
     "data": {
      "text/plain": "  0%|          | Permuting : 0/99 [00:00<?,       ?it/s]",
      "application/vnd.jupyter.widget-view+json": {
       "version_major": 2,
       "version_minor": 0,
       "model_id": "ae9f0b135d044616888178167325df7e"
      }
     },
     "metadata": {},
     "output_type": "display_data"
    },
    {
     "name": "stdout",
     "output_type": "stream",
     "text": [
      "Step-down-in-jumps iteration #1 found 1 cluster to exclude from subsequent iterations\n"
     ]
    },
    {
     "data": {
      "text/plain": "  0%|          | Permuting : 0/99 [00:00<?,       ?it/s]",
      "application/vnd.jupyter.widget-view+json": {
       "version_major": 2,
       "version_minor": 0,
       "model_id": "834d4671d4eb406a88e893aa7b9390c5"
      }
     },
     "metadata": {},
     "output_type": "display_data"
    },
    {
     "name": "stdout",
     "output_type": "stream",
     "text": [
      "Step-down-in-jumps iteration #2 found 0 additional clusters to exclude from subsequent iterations\n",
      "Using a threshold of -1.894579\n",
      "stat_fun(H1): min=-17.072768 max=7.517328\n",
      "Running initial clustering …\n",
      "Found 29 clusters\n"
     ]
    },
    {
     "data": {
      "text/plain": "  0%|          | Permuting : 0/99 [00:00<?,       ?it/s]",
      "application/vnd.jupyter.widget-view+json": {
       "version_major": 2,
       "version_minor": 0,
       "model_id": "cd681ea3e76243429255d3b335122ab2"
      }
     },
     "metadata": {},
     "output_type": "display_data"
    },
    {
     "name": "stdout",
     "output_type": "stream",
     "text": [
      "Step-down-in-jumps iteration #1 found 1 cluster to exclude from subsequent iterations\n"
     ]
    },
    {
     "data": {
      "text/plain": "  0%|          | Permuting : 0/99 [00:00<?,       ?it/s]",
      "application/vnd.jupyter.widget-view+json": {
       "version_major": 2,
       "version_minor": 0,
       "model_id": "b8f03f8a43ec4c83b8cf31d804cf6d5d"
      }
     },
     "metadata": {},
     "output_type": "display_data"
    },
    {
     "name": "stdout",
     "output_type": "stream",
     "text": [
      "Step-down-in-jumps iteration #2 found 0 additional clusters to exclude from subsequent iterations\n",
      "NOTE: pick_channels() is a legacy function. New code should use inst.pick(...).\n",
      "No baseline correction applied\n",
      "Using a threshold of 1.894579\n",
      "stat_fun(H1): min=-21.253874 max=7.702396\n",
      "Running initial clustering …\n",
      "Found 68 clusters\n"
     ]
    },
    {
     "data": {
      "text/plain": "  0%|          | Permuting : 0/99 [00:00<?,       ?it/s]",
      "application/vnd.jupyter.widget-view+json": {
       "version_major": 2,
       "version_minor": 0,
       "model_id": "6facdf3d5b4e4ef1901fb9a012b422b8"
      }
     },
     "metadata": {},
     "output_type": "display_data"
    },
    {
     "name": "stdout",
     "output_type": "stream",
     "text": [
      "Step-down-in-jumps iteration #1 found 0 clusters to exclude from subsequent iterations\n",
      "Using a threshold of -1.894579\n",
      "stat_fun(H1): min=-21.253874 max=7.702396\n",
      "Running initial clustering …\n",
      "Found 29 clusters\n"
     ]
    },
    {
     "data": {
      "text/plain": "  0%|          | Permuting : 0/99 [00:00<?,       ?it/s]",
      "application/vnd.jupyter.widget-view+json": {
       "version_major": 2,
       "version_minor": 0,
       "model_id": "f2675c8db48e4110bd4b2307ff7fa01c"
      }
     },
     "metadata": {},
     "output_type": "display_data"
    },
    {
     "name": "stdout",
     "output_type": "stream",
     "text": [
      "Step-down-in-jumps iteration #1 found 1 cluster to exclude from subsequent iterations\n"
     ]
    },
    {
     "data": {
      "text/plain": "  0%|          | Permuting : 0/99 [00:00<?,       ?it/s]",
      "application/vnd.jupyter.widget-view+json": {
       "version_major": 2,
       "version_minor": 0,
       "model_id": "19faf57d52ad4ff590ff8bf1c5d8bb09"
      }
     },
     "metadata": {},
     "output_type": "display_data"
    },
    {
     "name": "stdout",
     "output_type": "stream",
     "text": [
      "Step-down-in-jumps iteration #2 found 0 additional clusters to exclude from subsequent iterations\n",
      "NOTE: pick_channels() is a legacy function. New code should use inst.pick(...).\n",
      "No baseline correction applied\n",
      "Using a threshold of 1.894579\n",
      "stat_fun(H1): min=-22.550872 max=7.068619\n",
      "Running initial clustering …\n",
      "Found 85 clusters\n"
     ]
    },
    {
     "data": {
      "text/plain": "  0%|          | Permuting : 0/99 [00:00<?,       ?it/s]",
      "application/vnd.jupyter.widget-view+json": {
       "version_major": 2,
       "version_minor": 0,
       "model_id": "ddf7222f023a452aa5537f1b028b04e6"
      }
     },
     "metadata": {},
     "output_type": "display_data"
    },
    {
     "name": "stdout",
     "output_type": "stream",
     "text": [
      "Step-down-in-jumps iteration #1 found 0 clusters to exclude from subsequent iterations\n",
      "Using a threshold of -1.894579\n",
      "stat_fun(H1): min=-22.550872 max=7.068619\n",
      "Running initial clustering …\n",
      "Found 41 clusters\n"
     ]
    },
    {
     "data": {
      "text/plain": "  0%|          | Permuting : 0/99 [00:00<?,       ?it/s]",
      "application/vnd.jupyter.widget-view+json": {
       "version_major": 2,
       "version_minor": 0,
       "model_id": "b7422b3238d143b1b609b3b18d43c510"
      }
     },
     "metadata": {},
     "output_type": "display_data"
    },
    {
     "name": "stdout",
     "output_type": "stream",
     "text": [
      "Step-down-in-jumps iteration #1 found 1 cluster to exclude from subsequent iterations\n"
     ]
    },
    {
     "data": {
      "text/plain": "  0%|          | Permuting : 0/99 [00:00<?,       ?it/s]",
      "application/vnd.jupyter.widget-view+json": {
       "version_major": 2,
       "version_minor": 0,
       "model_id": "efe461311bfa4dd3b0f0614b328ea9d9"
      }
     },
     "metadata": {},
     "output_type": "display_data"
    },
    {
     "name": "stdout",
     "output_type": "stream",
     "text": [
      "Step-down-in-jumps iteration #2 found 0 additional clusters to exclude from subsequent iterations\n",
      "NOTE: pick_channels() is a legacy function. New code should use inst.pick(...).\n",
      "No baseline correction applied\n",
      "Using a threshold of 1.894579\n",
      "stat_fun(H1): min=-12.646781 max=6.799597\n",
      "Running initial clustering …\n",
      "Found 81 clusters\n"
     ]
    },
    {
     "data": {
      "text/plain": "  0%|          | Permuting : 0/99 [00:00<?,       ?it/s]",
      "application/vnd.jupyter.widget-view+json": {
       "version_major": 2,
       "version_minor": 0,
       "model_id": "94d59e3c76b0406784dd8c0fe22a8ff3"
      }
     },
     "metadata": {},
     "output_type": "display_data"
    },
    {
     "name": "stdout",
     "output_type": "stream",
     "text": [
      "Step-down-in-jumps iteration #1 found 0 clusters to exclude from subsequent iterations\n",
      "Using a threshold of -1.894579\n",
      "stat_fun(H1): min=-12.646781 max=6.799597\n",
      "Running initial clustering …\n",
      "Found 26 clusters\n"
     ]
    },
    {
     "data": {
      "text/plain": "  0%|          | Permuting : 0/99 [00:00<?,       ?it/s]",
      "application/vnd.jupyter.widget-view+json": {
       "version_major": 2,
       "version_minor": 0,
       "model_id": "18165b814df8426f8fe51f0e08387658"
      }
     },
     "metadata": {},
     "output_type": "display_data"
    },
    {
     "name": "stdout",
     "output_type": "stream",
     "text": [
      "Step-down-in-jumps iteration #1 found 0 clusters to exclude from subsequent iterations\n",
      "NOTE: pick_channels() is a legacy function. New code should use inst.pick(...).\n",
      "No baseline correction applied\n",
      "Using a threshold of 1.894579\n",
      "stat_fun(H1): min=-9.963209 max=6.800558\n",
      "Running initial clustering …\n",
      "Found 45 clusters\n"
     ]
    },
    {
     "data": {
      "text/plain": "  0%|          | Permuting : 0/99 [00:00<?,       ?it/s]",
      "application/vnd.jupyter.widget-view+json": {
       "version_major": 2,
       "version_minor": 0,
       "model_id": "f5ce3dbbf09244c79dc36fcdc860d61f"
      }
     },
     "metadata": {},
     "output_type": "display_data"
    },
    {
     "name": "stdout",
     "output_type": "stream",
     "text": [
      "Step-down-in-jumps iteration #1 found 1 cluster to exclude from subsequent iterations\n"
     ]
    },
    {
     "data": {
      "text/plain": "  0%|          | Permuting : 0/99 [00:00<?,       ?it/s]",
      "application/vnd.jupyter.widget-view+json": {
       "version_major": 2,
       "version_minor": 0,
       "model_id": "eddece353604419cb9e2399c55252ec8"
      }
     },
     "metadata": {},
     "output_type": "display_data"
    },
    {
     "name": "stdout",
     "output_type": "stream",
     "text": [
      "Step-down-in-jumps iteration #2 found 0 additional clusters to exclude from subsequent iterations\n",
      "Using a threshold of -1.894579\n",
      "stat_fun(H1): min=-9.963209 max=6.800558\n",
      "Running initial clustering …\n",
      "Found 37 clusters\n"
     ]
    },
    {
     "data": {
      "text/plain": "  0%|          | Permuting : 0/99 [00:00<?,       ?it/s]",
      "application/vnd.jupyter.widget-view+json": {
       "version_major": 2,
       "version_minor": 0,
       "model_id": "83804257789e434caa9d1915efb7b772"
      }
     },
     "metadata": {},
     "output_type": "display_data"
    },
    {
     "name": "stdout",
     "output_type": "stream",
     "text": [
      "Step-down-in-jumps iteration #1 found 1 cluster to exclude from subsequent iterations\n"
     ]
    },
    {
     "data": {
      "text/plain": "  0%|          | Permuting : 0/99 [00:00<?,       ?it/s]",
      "application/vnd.jupyter.widget-view+json": {
       "version_major": 2,
       "version_minor": 0,
       "model_id": "98187529df4f451baa6b68bf8bde7917"
      }
     },
     "metadata": {},
     "output_type": "display_data"
    },
    {
     "name": "stdout",
     "output_type": "stream",
     "text": [
      "Step-down-in-jumps iteration #2 found 0 additional clusters to exclude from subsequent iterations\n",
      "NOTE: pick_channels() is a legacy function. New code should use inst.pick(...).\n",
      "No baseline correction applied\n",
      "Using a threshold of 1.894579\n",
      "stat_fun(H1): min=-13.515694 max=7.318188\n",
      "Running initial clustering …\n",
      "Found 59 clusters\n"
     ]
    },
    {
     "data": {
      "text/plain": "  0%|          | Permuting : 0/99 [00:00<?,       ?it/s]",
      "application/vnd.jupyter.widget-view+json": {
       "version_major": 2,
       "version_minor": 0,
       "model_id": "00c7c1932f35492ebdd7e97a2c923748"
      }
     },
     "metadata": {},
     "output_type": "display_data"
    },
    {
     "name": "stdout",
     "output_type": "stream",
     "text": [
      "Step-down-in-jumps iteration #1 found 0 clusters to exclude from subsequent iterations\n",
      "Using a threshold of -1.894579\n",
      "stat_fun(H1): min=-13.515694 max=7.318188\n",
      "Running initial clustering …\n",
      "Found 37 clusters\n"
     ]
    },
    {
     "data": {
      "text/plain": "  0%|          | Permuting : 0/99 [00:00<?,       ?it/s]",
      "application/vnd.jupyter.widget-view+json": {
       "version_major": 2,
       "version_minor": 0,
       "model_id": "ad9f491fbea548ffa69c58b128083262"
      }
     },
     "metadata": {},
     "output_type": "display_data"
    },
    {
     "name": "stdout",
     "output_type": "stream",
     "text": [
      "Step-down-in-jumps iteration #1 found 1 cluster to exclude from subsequent iterations\n"
     ]
    },
    {
     "data": {
      "text/plain": "  0%|          | Permuting : 0/99 [00:00<?,       ?it/s]",
      "application/vnd.jupyter.widget-view+json": {
       "version_major": 2,
       "version_minor": 0,
       "model_id": "0bc489ea151348858f8fa657cd545e1e"
      }
     },
     "metadata": {},
     "output_type": "display_data"
    },
    {
     "name": "stdout",
     "output_type": "stream",
     "text": [
      "Step-down-in-jumps iteration #2 found 0 additional clusters to exclude from subsequent iterations\n",
      "NOTE: pick_channels() is a legacy function. New code should use inst.pick(...).\n",
      "No baseline correction applied\n",
      "Using a threshold of 1.894579\n",
      "stat_fun(H1): min=-8.332267 max=9.728762\n",
      "Running initial clustering …\n",
      "Found 47 clusters\n"
     ]
    },
    {
     "data": {
      "text/plain": "  0%|          | Permuting : 0/99 [00:00<?,       ?it/s]",
      "application/vnd.jupyter.widget-view+json": {
       "version_major": 2,
       "version_minor": 0,
       "model_id": "5d27d5e67e11433381e7f1a40b04a303"
      }
     },
     "metadata": {},
     "output_type": "display_data"
    },
    {
     "name": "stdout",
     "output_type": "stream",
     "text": [
      "Step-down-in-jumps iteration #1 found 1 cluster to exclude from subsequent iterations\n"
     ]
    },
    {
     "data": {
      "text/plain": "  0%|          | Permuting : 0/99 [00:00<?,       ?it/s]",
      "application/vnd.jupyter.widget-view+json": {
       "version_major": 2,
       "version_minor": 0,
       "model_id": "242874fb89e349bfb7fc8705d50cba3e"
      }
     },
     "metadata": {},
     "output_type": "display_data"
    },
    {
     "name": "stdout",
     "output_type": "stream",
     "text": [
      "Step-down-in-jumps iteration #2 found 0 additional clusters to exclude from subsequent iterations\n",
      "Using a threshold of -1.894579\n",
      "stat_fun(H1): min=-8.332267 max=9.728762\n",
      "Running initial clustering …\n",
      "Found 35 clusters\n"
     ]
    },
    {
     "data": {
      "text/plain": "  0%|          | Permuting : 0/99 [00:00<?,       ?it/s]",
      "application/vnd.jupyter.widget-view+json": {
       "version_major": 2,
       "version_minor": 0,
       "model_id": "2b4111dbc1564f499fbd9f7d153e1741"
      }
     },
     "metadata": {},
     "output_type": "display_data"
    },
    {
     "name": "stdout",
     "output_type": "stream",
     "text": [
      "Step-down-in-jumps iteration #1 found 0 clusters to exclude from subsequent iterations\n",
      "NOTE: pick_channels() is a legacy function. New code should use inst.pick(...).\n",
      "No baseline correction applied\n",
      "Using a threshold of 1.894579\n",
      "stat_fun(H1): min=-16.997076 max=8.862493\n",
      "Running initial clustering …\n",
      "Found 95 clusters\n"
     ]
    },
    {
     "data": {
      "text/plain": "  0%|          | Permuting : 0/99 [00:00<?,       ?it/s]",
      "application/vnd.jupyter.widget-view+json": {
       "version_major": 2,
       "version_minor": 0,
       "model_id": "4fd255acc16746d780722acc46d6060f"
      }
     },
     "metadata": {},
     "output_type": "display_data"
    },
    {
     "name": "stdout",
     "output_type": "stream",
     "text": [
      "Step-down-in-jumps iteration #1 found 0 clusters to exclude from subsequent iterations\n",
      "Using a threshold of -1.894579\n",
      "stat_fun(H1): min=-16.997076 max=8.862493\n",
      "Running initial clustering …\n",
      "Found 26 clusters\n"
     ]
    },
    {
     "data": {
      "text/plain": "  0%|          | Permuting : 0/99 [00:00<?,       ?it/s]",
      "application/vnd.jupyter.widget-view+json": {
       "version_major": 2,
       "version_minor": 0,
       "model_id": "da4d2565ce5f497c84ec708c744a7fef"
      }
     },
     "metadata": {},
     "output_type": "display_data"
    },
    {
     "name": "stdout",
     "output_type": "stream",
     "text": [
      "Step-down-in-jumps iteration #1 found 0 clusters to exclude from subsequent iterations\n",
      "NOTE: pick_channels() is a legacy function. New code should use inst.pick(...).\n",
      "No baseline correction applied\n",
      "Using a threshold of 1.894579\n",
      "stat_fun(H1): min=-18.674465 max=6.355671\n",
      "Running initial clustering …\n",
      "Found 46 clusters\n"
     ]
    },
    {
     "data": {
      "text/plain": "  0%|          | Permuting : 0/99 [00:00<?,       ?it/s]",
      "application/vnd.jupyter.widget-view+json": {
       "version_major": 2,
       "version_minor": 0,
       "model_id": "dcf90920d8b64f888935d67c1c751310"
      }
     },
     "metadata": {},
     "output_type": "display_data"
    },
    {
     "name": "stdout",
     "output_type": "stream",
     "text": [
      "Step-down-in-jumps iteration #1 found 1 cluster to exclude from subsequent iterations\n"
     ]
    },
    {
     "data": {
      "text/plain": "  0%|          | Permuting : 0/99 [00:00<?,       ?it/s]",
      "application/vnd.jupyter.widget-view+json": {
       "version_major": 2,
       "version_minor": 0,
       "model_id": "b7faf4b4e5ae466992025e9294163405"
      }
     },
     "metadata": {},
     "output_type": "display_data"
    },
    {
     "name": "stdout",
     "output_type": "stream",
     "text": [
      "Step-down-in-jumps iteration #2 found 0 additional clusters to exclude from subsequent iterations\n",
      "Using a threshold of -1.894579\n",
      "stat_fun(H1): min=-18.674465 max=6.355671\n",
      "Running initial clustering …\n",
      "Found 37 clusters\n"
     ]
    },
    {
     "data": {
      "text/plain": "  0%|          | Permuting : 0/99 [00:00<?,       ?it/s]",
      "application/vnd.jupyter.widget-view+json": {
       "version_major": 2,
       "version_minor": 0,
       "model_id": "041d4a640a0345f4bfed0e5214cf68a3"
      }
     },
     "metadata": {},
     "output_type": "display_data"
    },
    {
     "name": "stdout",
     "output_type": "stream",
     "text": [
      "Step-down-in-jumps iteration #1 found 0 clusters to exclude from subsequent iterations\n",
      "NOTE: pick_channels() is a legacy function. New code should use inst.pick(...).\n",
      "No baseline correction applied\n",
      "Using a threshold of 1.894579\n",
      "stat_fun(H1): min=-19.099261 max=6.739105\n",
      "Running initial clustering …\n",
      "Found 57 clusters\n"
     ]
    },
    {
     "data": {
      "text/plain": "  0%|          | Permuting : 0/99 [00:00<?,       ?it/s]",
      "application/vnd.jupyter.widget-view+json": {
       "version_major": 2,
       "version_minor": 0,
       "model_id": "8d9b8e5488174ad693ce24d4b8940cc2"
      }
     },
     "metadata": {},
     "output_type": "display_data"
    },
    {
     "name": "stdout",
     "output_type": "stream",
     "text": [
      "Step-down-in-jumps iteration #1 found 0 clusters to exclude from subsequent iterations\n",
      "Using a threshold of -1.894579\n",
      "stat_fun(H1): min=-19.099261 max=6.739105\n",
      "Running initial clustering …\n",
      "Found 30 clusters\n"
     ]
    },
    {
     "data": {
      "text/plain": "  0%|          | Permuting : 0/99 [00:00<?,       ?it/s]",
      "application/vnd.jupyter.widget-view+json": {
       "version_major": 2,
       "version_minor": 0,
       "model_id": "b3533a97678f437c8ff762a2305a6046"
      }
     },
     "metadata": {},
     "output_type": "display_data"
    },
    {
     "name": "stdout",
     "output_type": "stream",
     "text": [
      "Step-down-in-jumps iteration #1 found 1 cluster to exclude from subsequent iterations\n"
     ]
    },
    {
     "data": {
      "text/plain": "  0%|          | Permuting : 0/99 [00:00<?,       ?it/s]",
      "application/vnd.jupyter.widget-view+json": {
       "version_major": 2,
       "version_minor": 0,
       "model_id": "2aec2b75fa7f4ac0872c520da2877c98"
      }
     },
     "metadata": {},
     "output_type": "display_data"
    },
    {
     "name": "stdout",
     "output_type": "stream",
     "text": [
      "Step-down-in-jumps iteration #2 found 0 additional clusters to exclude from subsequent iterations\n",
      "NOTE: pick_channels() is a legacy function. New code should use inst.pick(...).\n",
      "No baseline correction applied\n",
      "Using a threshold of 1.894579\n",
      "stat_fun(H1): min=-15.652838 max=11.643845\n",
      "Running initial clustering …\n",
      "Found 78 clusters\n"
     ]
    },
    {
     "data": {
      "text/plain": "  0%|          | Permuting : 0/99 [00:00<?,       ?it/s]",
      "application/vnd.jupyter.widget-view+json": {
       "version_major": 2,
       "version_minor": 0,
       "model_id": "c2865f1f62d34dc1bd79b238dbfa82dd"
      }
     },
     "metadata": {},
     "output_type": "display_data"
    },
    {
     "name": "stdout",
     "output_type": "stream",
     "text": [
      "Step-down-in-jumps iteration #1 found 0 clusters to exclude from subsequent iterations\n",
      "Using a threshold of -1.894579\n",
      "stat_fun(H1): min=-15.652838 max=11.643845\n",
      "Running initial clustering …\n",
      "Found 30 clusters\n"
     ]
    },
    {
     "data": {
      "text/plain": "  0%|          | Permuting : 0/99 [00:00<?,       ?it/s]",
      "application/vnd.jupyter.widget-view+json": {
       "version_major": 2,
       "version_minor": 0,
       "model_id": "6021ee3f36134fc6842ca5f67021930a"
      }
     },
     "metadata": {},
     "output_type": "display_data"
    },
    {
     "name": "stdout",
     "output_type": "stream",
     "text": [
      "Step-down-in-jumps iteration #1 found 1 cluster to exclude from subsequent iterations\n"
     ]
    },
    {
     "data": {
      "text/plain": "  0%|          | Permuting : 0/99 [00:00<?,       ?it/s]",
      "application/vnd.jupyter.widget-view+json": {
       "version_major": 2,
       "version_minor": 0,
       "model_id": "7abc4077b1a048b8a2fd65f9e7b6dca3"
      }
     },
     "metadata": {},
     "output_type": "display_data"
    },
    {
     "name": "stdout",
     "output_type": "stream",
     "text": [
      "Step-down-in-jumps iteration #2 found 0 additional clusters to exclude from subsequent iterations\n",
      "NOTE: pick_channels() is a legacy function. New code should use inst.pick(...).\n",
      "No baseline correction applied\n",
      "Using a threshold of 1.894579\n",
      "stat_fun(H1): min=-19.394625 max=4.755399\n",
      "Running initial clustering …\n",
      "Found 48 clusters\n"
     ]
    },
    {
     "data": {
      "text/plain": "  0%|          | Permuting : 0/99 [00:00<?,       ?it/s]",
      "application/vnd.jupyter.widget-view+json": {
       "version_major": 2,
       "version_minor": 0,
       "model_id": "02b11a3db5f24deb9f394f5b1e5143c6"
      }
     },
     "metadata": {},
     "output_type": "display_data"
    },
    {
     "name": "stdout",
     "output_type": "stream",
     "text": [
      "Step-down-in-jumps iteration #1 found 1 cluster to exclude from subsequent iterations\n"
     ]
    },
    {
     "data": {
      "text/plain": "  0%|          | Permuting : 0/99 [00:00<?,       ?it/s]",
      "application/vnd.jupyter.widget-view+json": {
       "version_major": 2,
       "version_minor": 0,
       "model_id": "611db30471ba43f59570ab64b082a062"
      }
     },
     "metadata": {},
     "output_type": "display_data"
    },
    {
     "name": "stdout",
     "output_type": "stream",
     "text": [
      "Step-down-in-jumps iteration #2 found 0 additional clusters to exclude from subsequent iterations\n",
      "Using a threshold of -1.894579\n",
      "stat_fun(H1): min=-19.394625 max=4.755399\n",
      "Running initial clustering …\n",
      "Found 34 clusters\n"
     ]
    },
    {
     "data": {
      "text/plain": "  0%|          | Permuting : 0/99 [00:00<?,       ?it/s]",
      "application/vnd.jupyter.widget-view+json": {
       "version_major": 2,
       "version_minor": 0,
       "model_id": "91c608812dd044e2a99a21f4ba0c0bc3"
      }
     },
     "metadata": {},
     "output_type": "display_data"
    },
    {
     "name": "stdout",
     "output_type": "stream",
     "text": [
      "Step-down-in-jumps iteration #1 found 1 cluster to exclude from subsequent iterations\n"
     ]
    },
    {
     "data": {
      "text/plain": "  0%|          | Permuting : 0/99 [00:00<?,       ?it/s]",
      "application/vnd.jupyter.widget-view+json": {
       "version_major": 2,
       "version_minor": 0,
       "model_id": "47a5f527ccf14857a54dd0412305db5e"
      }
     },
     "metadata": {},
     "output_type": "display_data"
    },
    {
     "name": "stdout",
     "output_type": "stream",
     "text": [
      "Step-down-in-jumps iteration #2 found 0 additional clusters to exclude from subsequent iterations\n",
      "NOTE: pick_channels() is a legacy function. New code should use inst.pick(...).\n",
      "No baseline correction applied\n",
      "Using a threshold of 1.894579\n",
      "stat_fun(H1): min=-8.883908 max=16.279036\n",
      "Running initial clustering …\n",
      "Found 95 clusters\n"
     ]
    },
    {
     "data": {
      "text/plain": "  0%|          | Permuting : 0/99 [00:00<?,       ?it/s]",
      "application/vnd.jupyter.widget-view+json": {
       "version_major": 2,
       "version_minor": 0,
       "model_id": "aff51e5494fb4801b2ff993728de7fe0"
      }
     },
     "metadata": {},
     "output_type": "display_data"
    },
    {
     "name": "stdout",
     "output_type": "stream",
     "text": [
      "Step-down-in-jumps iteration #1 found 0 clusters to exclude from subsequent iterations\n",
      "Using a threshold of -1.894579\n",
      "stat_fun(H1): min=-8.883908 max=16.279036\n",
      "Running initial clustering …\n",
      "Found 20 clusters\n"
     ]
    },
    {
     "data": {
      "text/plain": "  0%|          | Permuting : 0/99 [00:00<?,       ?it/s]",
      "application/vnd.jupyter.widget-view+json": {
       "version_major": 2,
       "version_minor": 0,
       "model_id": "25a0765d30c24e548fcd4a796d9dd2d0"
      }
     },
     "metadata": {},
     "output_type": "display_data"
    },
    {
     "name": "stdout",
     "output_type": "stream",
     "text": [
      "Step-down-in-jumps iteration #1 found 0 clusters to exclude from subsequent iterations\n",
      "NOTE: pick_channels() is a legacy function. New code should use inst.pick(...).\n",
      "No baseline correction applied\n",
      "Creating RawArray with float64 data, n_channels=15, n_times=45000\n",
      "    Range : 0 ... 44999 =      0.000 ...    44.999 secs\n",
      "Ready.\n",
      "Not setting metadata\n",
      "8 matching events found\n",
      "No baseline correction applied\n",
      "0 projection items activated\n",
      "Using data from preloaded Raw for 8 events and 5001 original time points ...\n",
      "0 bad epochs dropped\n"
     ]
    },
    {
     "name": "stderr",
     "output_type": "stream",
     "text": [
      "[Parallel(n_jobs=1)]: Using backend SequentialBackend with 1 concurrent workers.\n",
      "[Parallel(n_jobs=1)]: Done   1 out of   1 | elapsed:    0.1s remaining:    0.0s\n",
      "[Parallel(n_jobs=1)]: Done   2 out of   2 | elapsed:    0.2s remaining:    0.0s\n",
      "[Parallel(n_jobs=1)]: Done   3 out of   3 | elapsed:    0.4s remaining:    0.0s\n",
      "[Parallel(n_jobs=1)]: Done   4 out of   4 | elapsed:    0.6s remaining:    0.0s\n"
     ]
    },
    {
     "name": "stdout",
     "output_type": "stream",
     "text": [
      "Not setting metadata\n",
      "Applying baseline correction (mode: percent)\n"
     ]
    },
    {
     "name": "stderr",
     "output_type": "stream",
     "text": [
      "[Parallel(n_jobs=1)]: Done  15 out of  15 | elapsed:    2.4s finished\n"
     ]
    },
    {
     "name": "stdout",
     "output_type": "stream",
     "text": [
      "Using a threshold of 1.894579\n",
      "stat_fun(H1): min=-12.163331 max=7.925168\n",
      "Running initial clustering …\n",
      "Found 72 clusters\n"
     ]
    },
    {
     "data": {
      "text/plain": "  0%|          | Permuting : 0/99 [00:00<?,       ?it/s]",
      "application/vnd.jupyter.widget-view+json": {
       "version_major": 2,
       "version_minor": 0,
       "model_id": "4ef00f3a0bee4585a5d604d2a540d690"
      }
     },
     "metadata": {},
     "output_type": "display_data"
    },
    {
     "name": "stdout",
     "output_type": "stream",
     "text": [
      "Step-down-in-jumps iteration #1 found 0 clusters to exclude from subsequent iterations\n",
      "Using a threshold of -1.894579\n",
      "stat_fun(H1): min=-12.163331 max=7.925168\n",
      "Running initial clustering …\n",
      "Found 55 clusters\n"
     ]
    },
    {
     "data": {
      "text/plain": "  0%|          | Permuting : 0/99 [00:00<?,       ?it/s]",
      "application/vnd.jupyter.widget-view+json": {
       "version_major": 2,
       "version_minor": 0,
       "model_id": "463b66f6638b4a4a8bda5c019acde53c"
      }
     },
     "metadata": {},
     "output_type": "display_data"
    },
    {
     "name": "stdout",
     "output_type": "stream",
     "text": [
      "Step-down-in-jumps iteration #1 found 0 clusters to exclude from subsequent iterations\n",
      "NOTE: pick_channels() is a legacy function. New code should use inst.pick(...).\n",
      "No baseline correction applied\n",
      "Using a threshold of 1.894579\n",
      "stat_fun(H1): min=-11.575285 max=9.356139\n",
      "Running initial clustering …\n",
      "Found 60 clusters\n"
     ]
    },
    {
     "data": {
      "text/plain": "  0%|          | Permuting : 0/99 [00:00<?,       ?it/s]",
      "application/vnd.jupyter.widget-view+json": {
       "version_major": 2,
       "version_minor": 0,
       "model_id": "87d7b33c4f6943d380dec2de6d92f4a9"
      }
     },
     "metadata": {},
     "output_type": "display_data"
    },
    {
     "name": "stdout",
     "output_type": "stream",
     "text": [
      "Step-down-in-jumps iteration #1 found 0 clusters to exclude from subsequent iterations\n",
      "Using a threshold of -1.894579\n",
      "stat_fun(H1): min=-11.575285 max=9.356139\n",
      "Running initial clustering …\n",
      "Found 90 clusters\n"
     ]
    },
    {
     "data": {
      "text/plain": "  0%|          | Permuting : 0/99 [00:00<?,       ?it/s]",
      "application/vnd.jupyter.widget-view+json": {
       "version_major": 2,
       "version_minor": 0,
       "model_id": "29fc251ddf0b4c4babab938be4fbd24c"
      }
     },
     "metadata": {},
     "output_type": "display_data"
    },
    {
     "name": "stdout",
     "output_type": "stream",
     "text": [
      "Step-down-in-jumps iteration #1 found 0 clusters to exclude from subsequent iterations\n",
      "NOTE: pick_channels() is a legacy function. New code should use inst.pick(...).\n",
      "No baseline correction applied\n",
      "Using a threshold of 1.894579\n",
      "stat_fun(H1): min=-11.487850 max=4.831369\n",
      "Running initial clustering …\n",
      "Found 56 clusters\n"
     ]
    },
    {
     "data": {
      "text/plain": "  0%|          | Permuting : 0/99 [00:00<?,       ?it/s]",
      "application/vnd.jupyter.widget-view+json": {
       "version_major": 2,
       "version_minor": 0,
       "model_id": "baa9324c0a7044c4a2d5631faae3709e"
      }
     },
     "metadata": {},
     "output_type": "display_data"
    },
    {
     "name": "stdout",
     "output_type": "stream",
     "text": [
      "Step-down-in-jumps iteration #1 found 0 clusters to exclude from subsequent iterations\n",
      "Using a threshold of -1.894579\n",
      "stat_fun(H1): min=-11.487850 max=4.831369\n",
      "Running initial clustering …\n",
      "Found 40 clusters\n"
     ]
    },
    {
     "data": {
      "text/plain": "  0%|          | Permuting : 0/99 [00:00<?,       ?it/s]",
      "application/vnd.jupyter.widget-view+json": {
       "version_major": 2,
       "version_minor": 0,
       "model_id": "77102cdd7d1847769bb5dd5da3830778"
      }
     },
     "metadata": {},
     "output_type": "display_data"
    },
    {
     "name": "stdout",
     "output_type": "stream",
     "text": [
      "Step-down-in-jumps iteration #1 found 0 clusters to exclude from subsequent iterations\n",
      "NOTE: pick_channels() is a legacy function. New code should use inst.pick(...).\n",
      "No baseline correction applied\n",
      "Using a threshold of 1.894579\n",
      "stat_fun(H1): min=-11.364889 max=8.672849\n",
      "Running initial clustering …\n",
      "Found 35 clusters\n"
     ]
    },
    {
     "data": {
      "text/plain": "  0%|          | Permuting : 0/99 [00:00<?,       ?it/s]",
      "application/vnd.jupyter.widget-view+json": {
       "version_major": 2,
       "version_minor": 0,
       "model_id": "4a075f28551b44acb2833eabe59e85ec"
      }
     },
     "metadata": {},
     "output_type": "display_data"
    },
    {
     "name": "stdout",
     "output_type": "stream",
     "text": [
      "Step-down-in-jumps iteration #1 found 1 cluster to exclude from subsequent iterations\n"
     ]
    },
    {
     "data": {
      "text/plain": "  0%|          | Permuting : 0/99 [00:00<?,       ?it/s]",
      "application/vnd.jupyter.widget-view+json": {
       "version_major": 2,
       "version_minor": 0,
       "model_id": "4c1be3ea367d4dd78d357e5411650b44"
      }
     },
     "metadata": {},
     "output_type": "display_data"
    },
    {
     "name": "stdout",
     "output_type": "stream",
     "text": [
      "Step-down-in-jumps iteration #2 found 0 additional clusters to exclude from subsequent iterations\n",
      "Using a threshold of -1.894579\n",
      "stat_fun(H1): min=-11.364889 max=8.672849\n",
      "Running initial clustering …\n",
      "Found 60 clusters\n"
     ]
    },
    {
     "data": {
      "text/plain": "  0%|          | Permuting : 0/99 [00:00<?,       ?it/s]",
      "application/vnd.jupyter.widget-view+json": {
       "version_major": 2,
       "version_minor": 0,
       "model_id": "afad684d443841039bd135e3c700598c"
      }
     },
     "metadata": {},
     "output_type": "display_data"
    },
    {
     "name": "stdout",
     "output_type": "stream",
     "text": [
      "Step-down-in-jumps iteration #1 found 0 clusters to exclude from subsequent iterations\n",
      "NOTE: pick_channels() is a legacy function. New code should use inst.pick(...).\n",
      "No baseline correction applied\n",
      "Using a threshold of 1.894579\n",
      "stat_fun(H1): min=-12.554516 max=7.356930\n",
      "Running initial clustering …\n",
      "Found 66 clusters\n"
     ]
    },
    {
     "data": {
      "text/plain": "  0%|          | Permuting : 0/99 [00:00<?,       ?it/s]",
      "application/vnd.jupyter.widget-view+json": {
       "version_major": 2,
       "version_minor": 0,
       "model_id": "672183b7de90481983c69e1bb9606128"
      }
     },
     "metadata": {},
     "output_type": "display_data"
    },
    {
     "name": "stdout",
     "output_type": "stream",
     "text": [
      "Step-down-in-jumps iteration #1 found 0 clusters to exclude from subsequent iterations\n",
      "Using a threshold of -1.894579\n",
      "stat_fun(H1): min=-12.554516 max=7.356930\n",
      "Running initial clustering …\n",
      "Found 65 clusters\n"
     ]
    },
    {
     "data": {
      "text/plain": "  0%|          | Permuting : 0/99 [00:00<?,       ?it/s]",
      "application/vnd.jupyter.widget-view+json": {
       "version_major": 2,
       "version_minor": 0,
       "model_id": "feded229767046eaa4de2b1131591712"
      }
     },
     "metadata": {},
     "output_type": "display_data"
    },
    {
     "name": "stdout",
     "output_type": "stream",
     "text": [
      "Step-down-in-jumps iteration #1 found 0 clusters to exclude from subsequent iterations\n",
      "NOTE: pick_channels() is a legacy function. New code should use inst.pick(...).\n",
      "No baseline correction applied\n",
      "Using a threshold of 1.894579\n",
      "stat_fun(H1): min=-14.212539 max=9.161457\n",
      "Running initial clustering …\n",
      "Found 93 clusters\n"
     ]
    },
    {
     "data": {
      "text/plain": "  0%|          | Permuting : 0/99 [00:00<?,       ?it/s]",
      "application/vnd.jupyter.widget-view+json": {
       "version_major": 2,
       "version_minor": 0,
       "model_id": "e29695e8324b4ffca916d707806032db"
      }
     },
     "metadata": {},
     "output_type": "display_data"
    },
    {
     "name": "stdout",
     "output_type": "stream",
     "text": [
      "Step-down-in-jumps iteration #1 found 0 clusters to exclude from subsequent iterations\n",
      "Using a threshold of -1.894579\n",
      "stat_fun(H1): min=-14.212539 max=9.161457\n",
      "Running initial clustering …\n",
      "Found 50 clusters\n"
     ]
    },
    {
     "data": {
      "text/plain": "  0%|          | Permuting : 0/99 [00:00<?,       ?it/s]",
      "application/vnd.jupyter.widget-view+json": {
       "version_major": 2,
       "version_minor": 0,
       "model_id": "ed6224aa1eab4686ac1ac16230cbb194"
      }
     },
     "metadata": {},
     "output_type": "display_data"
    },
    {
     "name": "stdout",
     "output_type": "stream",
     "text": [
      "Step-down-in-jumps iteration #1 found 0 clusters to exclude from subsequent iterations\n",
      "NOTE: pick_channels() is a legacy function. New code should use inst.pick(...).\n",
      "No baseline correction applied\n",
      "Using a threshold of 1.894579\n",
      "stat_fun(H1): min=-16.196913 max=4.816330\n",
      "Running initial clustering …\n",
      "Found 63 clusters\n"
     ]
    },
    {
     "data": {
      "text/plain": "  0%|          | Permuting : 0/99 [00:00<?,       ?it/s]",
      "application/vnd.jupyter.widget-view+json": {
       "version_major": 2,
       "version_minor": 0,
       "model_id": "079370cada384ac48fb6bec7ffb9b43a"
      }
     },
     "metadata": {},
     "output_type": "display_data"
    },
    {
     "name": "stdout",
     "output_type": "stream",
     "text": [
      "Step-down-in-jumps iteration #1 found 0 clusters to exclude from subsequent iterations\n",
      "Using a threshold of -1.894579\n",
      "stat_fun(H1): min=-16.196913 max=4.816330\n",
      "Running initial clustering …\n",
      "Found 64 clusters\n"
     ]
    },
    {
     "data": {
      "text/plain": "  0%|          | Permuting : 0/99 [00:00<?,       ?it/s]",
      "application/vnd.jupyter.widget-view+json": {
       "version_major": 2,
       "version_minor": 0,
       "model_id": "d577499d15024a0cb3651906be559e17"
      }
     },
     "metadata": {},
     "output_type": "display_data"
    },
    {
     "name": "stdout",
     "output_type": "stream",
     "text": [
      "Step-down-in-jumps iteration #1 found 2 clusters to exclude from subsequent iterations\n"
     ]
    },
    {
     "data": {
      "text/plain": "  0%|          | Permuting : 0/99 [00:00<?,       ?it/s]",
      "application/vnd.jupyter.widget-view+json": {
       "version_major": 2,
       "version_minor": 0,
       "model_id": "ba496b6d449c48a593aeb4d02a524a5a"
      }
     },
     "metadata": {},
     "output_type": "display_data"
    },
    {
     "name": "stdout",
     "output_type": "stream",
     "text": [
      "Step-down-in-jumps iteration #2 found 0 additional clusters to exclude from subsequent iterations\n",
      "NOTE: pick_channels() is a legacy function. New code should use inst.pick(...).\n",
      "No baseline correction applied\n",
      "Using a threshold of 1.894579\n",
      "stat_fun(H1): min=-14.345723 max=11.383978\n",
      "Running initial clustering …\n",
      "Found 58 clusters\n"
     ]
    },
    {
     "data": {
      "text/plain": "  0%|          | Permuting : 0/99 [00:00<?,       ?it/s]",
      "application/vnd.jupyter.widget-view+json": {
       "version_major": 2,
       "version_minor": 0,
       "model_id": "b532a13c46ae4e4ba7f7cb123f2f39c3"
      }
     },
     "metadata": {},
     "output_type": "display_data"
    },
    {
     "name": "stdout",
     "output_type": "stream",
     "text": [
      "Step-down-in-jumps iteration #1 found 0 clusters to exclude from subsequent iterations\n",
      "Using a threshold of -1.894579\n",
      "stat_fun(H1): min=-14.345723 max=11.383978\n",
      "Running initial clustering …\n",
      "Found 47 clusters\n"
     ]
    },
    {
     "data": {
      "text/plain": "  0%|          | Permuting : 0/99 [00:00<?,       ?it/s]",
      "application/vnd.jupyter.widget-view+json": {
       "version_major": 2,
       "version_minor": 0,
       "model_id": "2b14acec639b4b88ad0e2779fd6f1a9c"
      }
     },
     "metadata": {},
     "output_type": "display_data"
    },
    {
     "name": "stdout",
     "output_type": "stream",
     "text": [
      "Step-down-in-jumps iteration #1 found 1 cluster to exclude from subsequent iterations\n"
     ]
    },
    {
     "data": {
      "text/plain": "  0%|          | Permuting : 0/99 [00:00<?,       ?it/s]",
      "application/vnd.jupyter.widget-view+json": {
       "version_major": 2,
       "version_minor": 0,
       "model_id": "45265d0c75b54764a56fc5d6ad0d531f"
      }
     },
     "metadata": {},
     "output_type": "display_data"
    },
    {
     "name": "stdout",
     "output_type": "stream",
     "text": [
      "Step-down-in-jumps iteration #2 found 0 additional clusters to exclude from subsequent iterations\n",
      "NOTE: pick_channels() is a legacy function. New code should use inst.pick(...).\n",
      "No baseline correction applied\n",
      "Using a threshold of 1.894579\n",
      "stat_fun(H1): min=-11.676376 max=6.120319\n",
      "Running initial clustering …\n",
      "Found 92 clusters\n"
     ]
    },
    {
     "data": {
      "text/plain": "  0%|          | Permuting : 0/99 [00:00<?,       ?it/s]",
      "application/vnd.jupyter.widget-view+json": {
       "version_major": 2,
       "version_minor": 0,
       "model_id": "e924e40bd5324f59a7b20a4d9f0304a3"
      }
     },
     "metadata": {},
     "output_type": "display_data"
    },
    {
     "name": "stdout",
     "output_type": "stream",
     "text": [
      "Step-down-in-jumps iteration #1 found 0 clusters to exclude from subsequent iterations\n",
      "Using a threshold of -1.894579\n",
      "stat_fun(H1): min=-11.676376 max=6.120319\n",
      "Running initial clustering …\n",
      "Found 33 clusters\n"
     ]
    },
    {
     "data": {
      "text/plain": "  0%|          | Permuting : 0/99 [00:00<?,       ?it/s]",
      "application/vnd.jupyter.widget-view+json": {
       "version_major": 2,
       "version_minor": 0,
       "model_id": "315c75940c3c4626b0b951de9604556a"
      }
     },
     "metadata": {},
     "output_type": "display_data"
    },
    {
     "name": "stdout",
     "output_type": "stream",
     "text": [
      "Step-down-in-jumps iteration #1 found 0 clusters to exclude from subsequent iterations\n",
      "NOTE: pick_channels() is a legacy function. New code should use inst.pick(...).\n",
      "No baseline correction applied\n",
      "Using a threshold of 1.894579\n",
      "stat_fun(H1): min=-14.212539 max=9.161457\n",
      "Running initial clustering …\n",
      "Found 93 clusters\n"
     ]
    },
    {
     "data": {
      "text/plain": "  0%|          | Permuting : 0/99 [00:00<?,       ?it/s]",
      "application/vnd.jupyter.widget-view+json": {
       "version_major": 2,
       "version_minor": 0,
       "model_id": "b6b6e4571e7c4e1f80b10ec0c78976e4"
      }
     },
     "metadata": {},
     "output_type": "display_data"
    },
    {
     "name": "stdout",
     "output_type": "stream",
     "text": [
      "Step-down-in-jumps iteration #1 found 0 clusters to exclude from subsequent iterations\n",
      "Using a threshold of -1.894579\n",
      "stat_fun(H1): min=-14.212539 max=9.161457\n",
      "Running initial clustering …\n",
      "Found 50 clusters\n"
     ]
    },
    {
     "data": {
      "text/plain": "  0%|          | Permuting : 0/99 [00:00<?,       ?it/s]",
      "application/vnd.jupyter.widget-view+json": {
       "version_major": 2,
       "version_minor": 0,
       "model_id": "cc2794a4b6954455ba4b2d983eaef68f"
      }
     },
     "metadata": {},
     "output_type": "display_data"
    },
    {
     "name": "stdout",
     "output_type": "stream",
     "text": [
      "Step-down-in-jumps iteration #1 found 0 clusters to exclude from subsequent iterations\n",
      "NOTE: pick_channels() is a legacy function. New code should use inst.pick(...).\n",
      "No baseline correction applied\n",
      "Using a threshold of 1.894579\n",
      "stat_fun(H1): min=-11.653437 max=6.591836\n",
      "Running initial clustering …\n",
      "Found 88 clusters\n"
     ]
    },
    {
     "data": {
      "text/plain": "  0%|          | Permuting : 0/99 [00:00<?,       ?it/s]",
      "application/vnd.jupyter.widget-view+json": {
       "version_major": 2,
       "version_minor": 0,
       "model_id": "9108e39a92a54d8f8947cfac1fa6e4a9"
      }
     },
     "metadata": {},
     "output_type": "display_data"
    },
    {
     "name": "stdout",
     "output_type": "stream",
     "text": [
      "Step-down-in-jumps iteration #1 found 0 clusters to exclude from subsequent iterations\n",
      "Using a threshold of -1.894579\n",
      "stat_fun(H1): min=-11.653437 max=6.591836\n",
      "Running initial clustering …\n",
      "Found 66 clusters\n"
     ]
    },
    {
     "data": {
      "text/plain": "  0%|          | Permuting : 0/99 [00:00<?,       ?it/s]",
      "application/vnd.jupyter.widget-view+json": {
       "version_major": 2,
       "version_minor": 0,
       "model_id": "7bf3c579f83c45dd87d73e8eaa53ed29"
      }
     },
     "metadata": {},
     "output_type": "display_data"
    },
    {
     "name": "stdout",
     "output_type": "stream",
     "text": [
      "Step-down-in-jumps iteration #1 found 1 cluster to exclude from subsequent iterations\n"
     ]
    },
    {
     "data": {
      "text/plain": "  0%|          | Permuting : 0/99 [00:00<?,       ?it/s]",
      "application/vnd.jupyter.widget-view+json": {
       "version_major": 2,
       "version_minor": 0,
       "model_id": "3104195380db4da8955f5f1b98828e41"
      }
     },
     "metadata": {},
     "output_type": "display_data"
    },
    {
     "name": "stdout",
     "output_type": "stream",
     "text": [
      "Step-down-in-jumps iteration #2 found 0 additional clusters to exclude from subsequent iterations\n",
      "NOTE: pick_channels() is a legacy function. New code should use inst.pick(...).\n",
      "No baseline correction applied\n",
      "Using a threshold of 1.894579\n",
      "stat_fun(H1): min=-17.384634 max=7.481129\n",
      "Running initial clustering …\n",
      "Found 36 clusters\n"
     ]
    },
    {
     "data": {
      "text/plain": "  0%|          | Permuting : 0/99 [00:00<?,       ?it/s]",
      "application/vnd.jupyter.widget-view+json": {
       "version_major": 2,
       "version_minor": 0,
       "model_id": "56ff53d95b1340c6939056378a54d3f8"
      }
     },
     "metadata": {},
     "output_type": "display_data"
    },
    {
     "name": "stdout",
     "output_type": "stream",
     "text": [
      "Step-down-in-jumps iteration #1 found 0 clusters to exclude from subsequent iterations\n",
      "Using a threshold of -1.894579\n",
      "stat_fun(H1): min=-17.384634 max=7.481129\n",
      "Running initial clustering …\n",
      "Found 63 clusters\n"
     ]
    },
    {
     "data": {
      "text/plain": "  0%|          | Permuting : 0/99 [00:00<?,       ?it/s]",
      "application/vnd.jupyter.widget-view+json": {
       "version_major": 2,
       "version_minor": 0,
       "model_id": "d0abbb5c493d474bb23f08ef682617c2"
      }
     },
     "metadata": {},
     "output_type": "display_data"
    },
    {
     "name": "stdout",
     "output_type": "stream",
     "text": [
      "Step-down-in-jumps iteration #1 found 0 clusters to exclude from subsequent iterations\n",
      "NOTE: pick_channels() is a legacy function. New code should use inst.pick(...).\n",
      "No baseline correction applied\n",
      "Using a threshold of 1.894579\n",
      "stat_fun(H1): min=-19.801726 max=4.836588\n",
      "Running initial clustering …\n",
      "Found 74 clusters\n"
     ]
    },
    {
     "data": {
      "text/plain": "  0%|          | Permuting : 0/99 [00:00<?,       ?it/s]",
      "application/vnd.jupyter.widget-view+json": {
       "version_major": 2,
       "version_minor": 0,
       "model_id": "ee0bd622151249719244a862cd2fc9e5"
      }
     },
     "metadata": {},
     "output_type": "display_data"
    },
    {
     "name": "stdout",
     "output_type": "stream",
     "text": [
      "Step-down-in-jumps iteration #1 found 0 clusters to exclude from subsequent iterations\n",
      "Using a threshold of -1.894579\n",
      "stat_fun(H1): min=-19.801726 max=4.836588\n",
      "Running initial clustering …\n",
      "Found 66 clusters\n"
     ]
    },
    {
     "data": {
      "text/plain": "  0%|          | Permuting : 0/99 [00:00<?,       ?it/s]",
      "application/vnd.jupyter.widget-view+json": {
       "version_major": 2,
       "version_minor": 0,
       "model_id": "3aa6acd85ded42cd9ec6335e87760d4a"
      }
     },
     "metadata": {},
     "output_type": "display_data"
    },
    {
     "name": "stdout",
     "output_type": "stream",
     "text": [
      "Step-down-in-jumps iteration #1 found 0 clusters to exclude from subsequent iterations\n",
      "NOTE: pick_channels() is a legacy function. New code should use inst.pick(...).\n",
      "No baseline correction applied\n",
      "Using a threshold of 1.894579\n",
      "stat_fun(H1): min=-13.778418 max=13.151945\n",
      "Running initial clustering …\n",
      "Found 48 clusters\n"
     ]
    },
    {
     "data": {
      "text/plain": "  0%|          | Permuting : 0/99 [00:00<?,       ?it/s]",
      "application/vnd.jupyter.widget-view+json": {
       "version_major": 2,
       "version_minor": 0,
       "model_id": "369fbc45d3664accbf504984bf943906"
      }
     },
     "metadata": {},
     "output_type": "display_data"
    },
    {
     "name": "stdout",
     "output_type": "stream",
     "text": [
      "Step-down-in-jumps iteration #1 found 0 clusters to exclude from subsequent iterations\n",
      "Using a threshold of -1.894579\n",
      "stat_fun(H1): min=-13.778418 max=13.151945\n",
      "Running initial clustering …\n",
      "Found 43 clusters\n"
     ]
    },
    {
     "data": {
      "text/plain": "  0%|          | Permuting : 0/99 [00:00<?,       ?it/s]",
      "application/vnd.jupyter.widget-view+json": {
       "version_major": 2,
       "version_minor": 0,
       "model_id": "e9b82f7a63574e6e9597759911dee9de"
      }
     },
     "metadata": {},
     "output_type": "display_data"
    },
    {
     "name": "stdout",
     "output_type": "stream",
     "text": [
      "Step-down-in-jumps iteration #1 found 0 clusters to exclude from subsequent iterations\n",
      "NOTE: pick_channels() is a legacy function. New code should use inst.pick(...).\n",
      "No baseline correction applied\n",
      "Using a threshold of 1.894579\n",
      "stat_fun(H1): min=-14.367532 max=14.086815\n",
      "Running initial clustering …\n",
      "Found 100 clusters\n"
     ]
    },
    {
     "data": {
      "text/plain": "  0%|          | Permuting : 0/99 [00:00<?,       ?it/s]",
      "application/vnd.jupyter.widget-view+json": {
       "version_major": 2,
       "version_minor": 0,
       "model_id": "c31ac2f797454ac1b5a27f3904e054d8"
      }
     },
     "metadata": {},
     "output_type": "display_data"
    },
    {
     "name": "stdout",
     "output_type": "stream",
     "text": [
      "Step-down-in-jumps iteration #1 found 0 clusters to exclude from subsequent iterations\n",
      "Using a threshold of -1.894579\n",
      "stat_fun(H1): min=-14.367532 max=14.086815\n",
      "Running initial clustering …\n",
      "Found 55 clusters\n"
     ]
    },
    {
     "data": {
      "text/plain": "  0%|          | Permuting : 0/99 [00:00<?,       ?it/s]",
      "application/vnd.jupyter.widget-view+json": {
       "version_major": 2,
       "version_minor": 0,
       "model_id": "6698e2519d53439e95660d7f765ec536"
      }
     },
     "metadata": {},
     "output_type": "display_data"
    },
    {
     "name": "stdout",
     "output_type": "stream",
     "text": [
      "Step-down-in-jumps iteration #1 found 1 cluster to exclude from subsequent iterations\n"
     ]
    },
    {
     "data": {
      "text/plain": "  0%|          | Permuting : 0/99 [00:00<?,       ?it/s]",
      "application/vnd.jupyter.widget-view+json": {
       "version_major": 2,
       "version_minor": 0,
       "model_id": "ded3b3266f5249a080c986b0256d3640"
      }
     },
     "metadata": {},
     "output_type": "display_data"
    },
    {
     "name": "stdout",
     "output_type": "stream",
     "text": [
      "Step-down-in-jumps iteration #2 found 0 additional clusters to exclude from subsequent iterations\n",
      "NOTE: pick_channels() is a legacy function. New code should use inst.pick(...).\n",
      "No baseline correction applied\n",
      "Creating RawArray with float64 data, n_channels=15, n_times=45000\n",
      "    Range : 0 ... 44999 =      0.000 ...    44.999 secs\n",
      "Ready.\n",
      "Not setting metadata\n",
      "8 matching events found\n",
      "No baseline correction applied\n",
      "0 projection items activated\n",
      "Using data from preloaded Raw for 8 events and 5001 original time points ...\n",
      "0 bad epochs dropped\n"
     ]
    },
    {
     "name": "stderr",
     "output_type": "stream",
     "text": [
      "[Parallel(n_jobs=1)]: Using backend SequentialBackend with 1 concurrent workers.\n",
      "[Parallel(n_jobs=1)]: Done   1 out of   1 | elapsed:    0.1s remaining:    0.0s\n",
      "[Parallel(n_jobs=1)]: Done   2 out of   2 | elapsed:    0.3s remaining:    0.0s\n",
      "[Parallel(n_jobs=1)]: Done   3 out of   3 | elapsed:    0.5s remaining:    0.0s\n",
      "[Parallel(n_jobs=1)]: Done   4 out of   4 | elapsed:    0.6s remaining:    0.0s\n"
     ]
    },
    {
     "name": "stdout",
     "output_type": "stream",
     "text": [
      "Not setting metadata\n",
      "Applying baseline correction (mode: percent)\n"
     ]
    },
    {
     "name": "stderr",
     "output_type": "stream",
     "text": [
      "[Parallel(n_jobs=1)]: Done  15 out of  15 | elapsed:    2.6s finished\n"
     ]
    },
    {
     "name": "stdout",
     "output_type": "stream",
     "text": [
      "Using a threshold of 1.894579\n",
      "stat_fun(H1): min=-22.858613 max=8.326383\n",
      "Running initial clustering …\n",
      "Found 51 clusters\n"
     ]
    },
    {
     "data": {
      "text/plain": "  0%|          | Permuting : 0/99 [00:00<?,       ?it/s]",
      "application/vnd.jupyter.widget-view+json": {
       "version_major": 2,
       "version_minor": 0,
       "model_id": "9ed8418afae84314a44df07d749bb336"
      }
     },
     "metadata": {},
     "output_type": "display_data"
    },
    {
     "name": "stdout",
     "output_type": "stream",
     "text": [
      "Step-down-in-jumps iteration #1 found 0 clusters to exclude from subsequent iterations\n",
      "Using a threshold of -1.894579\n",
      "stat_fun(H1): min=-22.858613 max=8.326383\n",
      "Running initial clustering …\n",
      "Found 56 clusters\n"
     ]
    },
    {
     "data": {
      "text/plain": "  0%|          | Permuting : 0/99 [00:00<?,       ?it/s]",
      "application/vnd.jupyter.widget-view+json": {
       "version_major": 2,
       "version_minor": 0,
       "model_id": "0910c842ab2d47fdb7de2f39ee3591e5"
      }
     },
     "metadata": {},
     "output_type": "display_data"
    },
    {
     "name": "stdout",
     "output_type": "stream",
     "text": [
      "Step-down-in-jumps iteration #1 found 1 cluster to exclude from subsequent iterations\n"
     ]
    },
    {
     "data": {
      "text/plain": "  0%|          | Permuting : 0/99 [00:00<?,       ?it/s]",
      "application/vnd.jupyter.widget-view+json": {
       "version_major": 2,
       "version_minor": 0,
       "model_id": "293dac6e4b3b419c918a75754b0fb082"
      }
     },
     "metadata": {},
     "output_type": "display_data"
    },
    {
     "name": "stdout",
     "output_type": "stream",
     "text": [
      "Step-down-in-jumps iteration #2 found 0 additional clusters to exclude from subsequent iterations\n",
      "NOTE: pick_channels() is a legacy function. New code should use inst.pick(...).\n",
      "No baseline correction applied\n",
      "Using a threshold of 1.894579\n",
      "stat_fun(H1): min=-21.077383 max=5.796923\n",
      "Running initial clustering …\n",
      "Found 40 clusters\n"
     ]
    },
    {
     "data": {
      "text/plain": "  0%|          | Permuting : 0/99 [00:00<?,       ?it/s]",
      "application/vnd.jupyter.widget-view+json": {
       "version_major": 2,
       "version_minor": 0,
       "model_id": "d3b4ee8b8a324cd3b88c29946a69557f"
      }
     },
     "metadata": {},
     "output_type": "display_data"
    },
    {
     "name": "stdout",
     "output_type": "stream",
     "text": [
      "Step-down-in-jumps iteration #1 found 0 clusters to exclude from subsequent iterations\n",
      "Using a threshold of -1.894579\n",
      "stat_fun(H1): min=-21.077383 max=5.796923\n",
      "Running initial clustering …\n",
      "Found 53 clusters\n"
     ]
    },
    {
     "data": {
      "text/plain": "  0%|          | Permuting : 0/99 [00:00<?,       ?it/s]",
      "application/vnd.jupyter.widget-view+json": {
       "version_major": 2,
       "version_minor": 0,
       "model_id": "fabdfd8aed904304948176337de4bfea"
      }
     },
     "metadata": {},
     "output_type": "display_data"
    },
    {
     "name": "stdout",
     "output_type": "stream",
     "text": [
      "Step-down-in-jumps iteration #1 found 2 clusters to exclude from subsequent iterations\n"
     ]
    },
    {
     "data": {
      "text/plain": "  0%|          | Permuting : 0/99 [00:00<?,       ?it/s]",
      "application/vnd.jupyter.widget-view+json": {
       "version_major": 2,
       "version_minor": 0,
       "model_id": "b1cbbb3a59824728a8e5fe14b46f739f"
      }
     },
     "metadata": {},
     "output_type": "display_data"
    },
    {
     "name": "stdout",
     "output_type": "stream",
     "text": [
      "Step-down-in-jumps iteration #2 found 0 additional clusters to exclude from subsequent iterations\n",
      "NOTE: pick_channels() is a legacy function. New code should use inst.pick(...).\n",
      "No baseline correction applied\n",
      "Using a threshold of 1.894579\n",
      "stat_fun(H1): min=-31.831909 max=7.771284\n",
      "Running initial clustering …\n",
      "Found 26 clusters\n"
     ]
    },
    {
     "data": {
      "text/plain": "  0%|          | Permuting : 0/99 [00:00<?,       ?it/s]",
      "application/vnd.jupyter.widget-view+json": {
       "version_major": 2,
       "version_minor": 0,
       "model_id": "4fe706210dd44320bd6c170e600763d6"
      }
     },
     "metadata": {},
     "output_type": "display_data"
    },
    {
     "name": "stdout",
     "output_type": "stream",
     "text": [
      "Step-down-in-jumps iteration #1 found 0 clusters to exclude from subsequent iterations\n",
      "Using a threshold of -1.894579\n",
      "stat_fun(H1): min=-31.831909 max=7.771284\n",
      "Running initial clustering …\n",
      "Found 71 clusters\n"
     ]
    },
    {
     "data": {
      "text/plain": "  0%|          | Permuting : 0/99 [00:00<?,       ?it/s]",
      "application/vnd.jupyter.widget-view+json": {
       "version_major": 2,
       "version_minor": 0,
       "model_id": "f7a2aeaca6414a6690f3e14966bcdba8"
      }
     },
     "metadata": {},
     "output_type": "display_data"
    },
    {
     "name": "stdout",
     "output_type": "stream",
     "text": [
      "Step-down-in-jumps iteration #1 found 1 cluster to exclude from subsequent iterations\n"
     ]
    },
    {
     "data": {
      "text/plain": "  0%|          | Permuting : 0/99 [00:00<?,       ?it/s]",
      "application/vnd.jupyter.widget-view+json": {
       "version_major": 2,
       "version_minor": 0,
       "model_id": "1af875c5677743798469748d98c97d10"
      }
     },
     "metadata": {},
     "output_type": "display_data"
    },
    {
     "name": "stdout",
     "output_type": "stream",
     "text": [
      "Step-down-in-jumps iteration #2 found 0 additional clusters to exclude from subsequent iterations\n",
      "NOTE: pick_channels() is a legacy function. New code should use inst.pick(...).\n",
      "No baseline correction applied\n",
      "Using a threshold of 1.894579\n",
      "stat_fun(H1): min=-19.907016 max=8.040158\n",
      "Running initial clustering …\n",
      "Found 38 clusters\n"
     ]
    },
    {
     "data": {
      "text/plain": "  0%|          | Permuting : 0/99 [00:00<?,       ?it/s]",
      "application/vnd.jupyter.widget-view+json": {
       "version_major": 2,
       "version_minor": 0,
       "model_id": "a3ecfbb5cd5748ac8029d05381549ec4"
      }
     },
     "metadata": {},
     "output_type": "display_data"
    },
    {
     "name": "stdout",
     "output_type": "stream",
     "text": [
      "Step-down-in-jumps iteration #1 found 0 clusters to exclude from subsequent iterations\n",
      "Using a threshold of -1.894579\n",
      "stat_fun(H1): min=-19.907016 max=8.040158\n",
      "Running initial clustering …\n",
      "Found 49 clusters\n"
     ]
    },
    {
     "data": {
      "text/plain": "  0%|          | Permuting : 0/99 [00:00<?,       ?it/s]",
      "application/vnd.jupyter.widget-view+json": {
       "version_major": 2,
       "version_minor": 0,
       "model_id": "b5e1caab4ce74fc6b46ca5c6e6013187"
      }
     },
     "metadata": {},
     "output_type": "display_data"
    },
    {
     "name": "stdout",
     "output_type": "stream",
     "text": [
      "Step-down-in-jumps iteration #1 found 1 cluster to exclude from subsequent iterations\n"
     ]
    },
    {
     "data": {
      "text/plain": "  0%|          | Permuting : 0/99 [00:00<?,       ?it/s]",
      "application/vnd.jupyter.widget-view+json": {
       "version_major": 2,
       "version_minor": 0,
       "model_id": "6c628a029f8142eda69e21d8cff52a6d"
      }
     },
     "metadata": {},
     "output_type": "display_data"
    },
    {
     "name": "stdout",
     "output_type": "stream",
     "text": [
      "Step-down-in-jumps iteration #2 found 0 additional clusters to exclude from subsequent iterations\n",
      "NOTE: pick_channels() is a legacy function. New code should use inst.pick(...).\n",
      "No baseline correction applied\n",
      "Using a threshold of 1.894579\n",
      "stat_fun(H1): min=-12.203761 max=7.748167\n",
      "Running initial clustering …\n",
      "Found 40 clusters\n"
     ]
    },
    {
     "data": {
      "text/plain": "  0%|          | Permuting : 0/99 [00:00<?,       ?it/s]",
      "application/vnd.jupyter.widget-view+json": {
       "version_major": 2,
       "version_minor": 0,
       "model_id": "b602ae8c389741918e458b369114212c"
      }
     },
     "metadata": {},
     "output_type": "display_data"
    },
    {
     "name": "stdout",
     "output_type": "stream",
     "text": [
      "Step-down-in-jumps iteration #1 found 0 clusters to exclude from subsequent iterations\n",
      "Using a threshold of -1.894579\n",
      "stat_fun(H1): min=-12.203761 max=7.748167\n",
      "Running initial clustering …\n",
      "Found 35 clusters\n"
     ]
    },
    {
     "data": {
      "text/plain": "  0%|          | Permuting : 0/99 [00:00<?,       ?it/s]",
      "application/vnd.jupyter.widget-view+json": {
       "version_major": 2,
       "version_minor": 0,
       "model_id": "c5df67446b274c149644ff439e46ff07"
      }
     },
     "metadata": {},
     "output_type": "display_data"
    },
    {
     "name": "stdout",
     "output_type": "stream",
     "text": [
      "Step-down-in-jumps iteration #1 found 0 clusters to exclude from subsequent iterations\n",
      "NOTE: pick_channels() is a legacy function. New code should use inst.pick(...).\n",
      "No baseline correction applied\n",
      "Using a threshold of 1.894579\n",
      "stat_fun(H1): min=-23.717315 max=8.267887\n",
      "Running initial clustering …\n",
      "Found 36 clusters\n"
     ]
    },
    {
     "data": {
      "text/plain": "  0%|          | Permuting : 0/99 [00:00<?,       ?it/s]",
      "application/vnd.jupyter.widget-view+json": {
       "version_major": 2,
       "version_minor": 0,
       "model_id": "028c865bff484d9abab3053b220c7ef6"
      }
     },
     "metadata": {},
     "output_type": "display_data"
    },
    {
     "name": "stdout",
     "output_type": "stream",
     "text": [
      "Step-down-in-jumps iteration #1 found 0 clusters to exclude from subsequent iterations\n",
      "Using a threshold of -1.894579\n",
      "stat_fun(H1): min=-23.717315 max=8.267887\n",
      "Running initial clustering …\n",
      "Found 61 clusters\n"
     ]
    },
    {
     "data": {
      "text/plain": "  0%|          | Permuting : 0/99 [00:00<?,       ?it/s]",
      "application/vnd.jupyter.widget-view+json": {
       "version_major": 2,
       "version_minor": 0,
       "model_id": "e04f21b6472b4dd486f97e94695af738"
      }
     },
     "metadata": {},
     "output_type": "display_data"
    },
    {
     "name": "stdout",
     "output_type": "stream",
     "text": [
      "Step-down-in-jumps iteration #1 found 1 cluster to exclude from subsequent iterations\n"
     ]
    },
    {
     "data": {
      "text/plain": "  0%|          | Permuting : 0/99 [00:00<?,       ?it/s]",
      "application/vnd.jupyter.widget-view+json": {
       "version_major": 2,
       "version_minor": 0,
       "model_id": "bafe23de5515491ab61b3f617180d15d"
      }
     },
     "metadata": {},
     "output_type": "display_data"
    },
    {
     "name": "stdout",
     "output_type": "stream",
     "text": [
      "Step-down-in-jumps iteration #2 found 0 additional clusters to exclude from subsequent iterations\n",
      "NOTE: pick_channels() is a legacy function. New code should use inst.pick(...).\n",
      "No baseline correction applied\n",
      "Using a threshold of 1.894579\n",
      "stat_fun(H1): min=-31.615772 max=7.554079\n",
      "Running initial clustering …\n",
      "Found 35 clusters\n"
     ]
    },
    {
     "data": {
      "text/plain": "  0%|          | Permuting : 0/99 [00:00<?,       ?it/s]",
      "application/vnd.jupyter.widget-view+json": {
       "version_major": 2,
       "version_minor": 0,
       "model_id": "1afb80409327429ba02714e69acf988f"
      }
     },
     "metadata": {},
     "output_type": "display_data"
    },
    {
     "name": "stdout",
     "output_type": "stream",
     "text": [
      "Step-down-in-jumps iteration #1 found 0 clusters to exclude from subsequent iterations\n",
      "Using a threshold of -1.894579\n",
      "stat_fun(H1): min=-31.615772 max=7.554079\n",
      "Running initial clustering …\n",
      "Found 48 clusters\n"
     ]
    },
    {
     "data": {
      "text/plain": "  0%|          | Permuting : 0/99 [00:00<?,       ?it/s]",
      "application/vnd.jupyter.widget-view+json": {
       "version_major": 2,
       "version_minor": 0,
       "model_id": "7eba9baad9084c61b9499a0d202d83c7"
      }
     },
     "metadata": {},
     "output_type": "display_data"
    },
    {
     "name": "stdout",
     "output_type": "stream",
     "text": [
      "Step-down-in-jumps iteration #1 found 1 cluster to exclude from subsequent iterations\n"
     ]
    },
    {
     "data": {
      "text/plain": "  0%|          | Permuting : 0/99 [00:00<?,       ?it/s]",
      "application/vnd.jupyter.widget-view+json": {
       "version_major": 2,
       "version_minor": 0,
       "model_id": "3f362b889d294c3fb94d534cadacd4b1"
      }
     },
     "metadata": {},
     "output_type": "display_data"
    },
    {
     "name": "stdout",
     "output_type": "stream",
     "text": [
      "Step-down-in-jumps iteration #2 found 0 additional clusters to exclude from subsequent iterations\n",
      "NOTE: pick_channels() is a legacy function. New code should use inst.pick(...).\n",
      "No baseline correction applied\n",
      "Using a threshold of 1.894579\n",
      "stat_fun(H1): min=-25.762039 max=5.288157\n",
      "Running initial clustering …\n",
      "Found 31 clusters\n"
     ]
    },
    {
     "data": {
      "text/plain": "  0%|          | Permuting : 0/99 [00:00<?,       ?it/s]",
      "application/vnd.jupyter.widget-view+json": {
       "version_major": 2,
       "version_minor": 0,
       "model_id": "9679b4d5c50f4edd983103c61c877181"
      }
     },
     "metadata": {},
     "output_type": "display_data"
    },
    {
     "name": "stdout",
     "output_type": "stream",
     "text": [
      "Step-down-in-jumps iteration #1 found 0 clusters to exclude from subsequent iterations\n",
      "Using a threshold of -1.894579\n",
      "stat_fun(H1): min=-25.762039 max=5.288157\n",
      "Running initial clustering …\n",
      "Found 67 clusters\n"
     ]
    },
    {
     "data": {
      "text/plain": "  0%|          | Permuting : 0/99 [00:00<?,       ?it/s]",
      "application/vnd.jupyter.widget-view+json": {
       "version_major": 2,
       "version_minor": 0,
       "model_id": "060d17eaf10f4abc8418a3c04facf363"
      }
     },
     "metadata": {},
     "output_type": "display_data"
    },
    {
     "name": "stdout",
     "output_type": "stream",
     "text": [
      "Step-down-in-jumps iteration #1 found 1 cluster to exclude from subsequent iterations\n"
     ]
    },
    {
     "data": {
      "text/plain": "  0%|          | Permuting : 0/99 [00:00<?,       ?it/s]",
      "application/vnd.jupyter.widget-view+json": {
       "version_major": 2,
       "version_minor": 0,
       "model_id": "be5af9238a8a488584f999c54228b993"
      }
     },
     "metadata": {},
     "output_type": "display_data"
    },
    {
     "name": "stdout",
     "output_type": "stream",
     "text": [
      "Step-down-in-jumps iteration #2 found 0 additional clusters to exclude from subsequent iterations\n",
      "NOTE: pick_channels() is a legacy function. New code should use inst.pick(...).\n",
      "No baseline correction applied\n",
      "Using a threshold of 1.894579\n",
      "stat_fun(H1): min=-34.609403 max=6.625636\n",
      "Running initial clustering …\n",
      "Found 63 clusters\n"
     ]
    },
    {
     "data": {
      "text/plain": "  0%|          | Permuting : 0/99 [00:00<?,       ?it/s]",
      "application/vnd.jupyter.widget-view+json": {
       "version_major": 2,
       "version_minor": 0,
       "model_id": "993a5d33582d42e386470c3d316edffa"
      }
     },
     "metadata": {},
     "output_type": "display_data"
    },
    {
     "name": "stdout",
     "output_type": "stream",
     "text": [
      "Step-down-in-jumps iteration #1 found 0 clusters to exclude from subsequent iterations\n",
      "Using a threshold of -1.894579\n",
      "stat_fun(H1): min=-34.609403 max=6.625636\n",
      "Running initial clustering …\n",
      "Found 55 clusters\n"
     ]
    },
    {
     "data": {
      "text/plain": "  0%|          | Permuting : 0/99 [00:00<?,       ?it/s]",
      "application/vnd.jupyter.widget-view+json": {
       "version_major": 2,
       "version_minor": 0,
       "model_id": "da99d2c7b4174267a639e046317c080e"
      }
     },
     "metadata": {},
     "output_type": "display_data"
    },
    {
     "name": "stdout",
     "output_type": "stream",
     "text": [
      "Step-down-in-jumps iteration #1 found 2 clusters to exclude from subsequent iterations\n"
     ]
    },
    {
     "data": {
      "text/plain": "  0%|          | Permuting : 0/99 [00:00<?,       ?it/s]",
      "application/vnd.jupyter.widget-view+json": {
       "version_major": 2,
       "version_minor": 0,
       "model_id": "e26c822ec5644d8d877f9450d8a532e2"
      }
     },
     "metadata": {},
     "output_type": "display_data"
    },
    {
     "name": "stdout",
     "output_type": "stream",
     "text": [
      "Step-down-in-jumps iteration #2 found 0 additional clusters to exclude from subsequent iterations\n",
      "NOTE: pick_channels() is a legacy function. New code should use inst.pick(...).\n",
      "No baseline correction applied\n",
      "Using a threshold of 1.894579\n",
      "stat_fun(H1): min=-23.717315 max=8.267887\n",
      "Running initial clustering …\n",
      "Found 36 clusters\n"
     ]
    },
    {
     "data": {
      "text/plain": "  0%|          | Permuting : 0/99 [00:00<?,       ?it/s]",
      "application/vnd.jupyter.widget-view+json": {
       "version_major": 2,
       "version_minor": 0,
       "model_id": "c1d2d509b45a460b8e2ac748dafa2a90"
      }
     },
     "metadata": {},
     "output_type": "display_data"
    },
    {
     "name": "stdout",
     "output_type": "stream",
     "text": [
      "Step-down-in-jumps iteration #1 found 0 clusters to exclude from subsequent iterations\n",
      "Using a threshold of -1.894579\n",
      "stat_fun(H1): min=-23.717315 max=8.267887\n",
      "Running initial clustering …\n",
      "Found 61 clusters\n"
     ]
    },
    {
     "data": {
      "text/plain": "  0%|          | Permuting : 0/99 [00:00<?,       ?it/s]",
      "application/vnd.jupyter.widget-view+json": {
       "version_major": 2,
       "version_minor": 0,
       "model_id": "5e8bfe7181364e26acc2d3e559c14ed6"
      }
     },
     "metadata": {},
     "output_type": "display_data"
    },
    {
     "name": "stdout",
     "output_type": "stream",
     "text": [
      "Step-down-in-jumps iteration #1 found 1 cluster to exclude from subsequent iterations\n"
     ]
    },
    {
     "data": {
      "text/plain": "  0%|          | Permuting : 0/99 [00:00<?,       ?it/s]",
      "application/vnd.jupyter.widget-view+json": {
       "version_major": 2,
       "version_minor": 0,
       "model_id": "344f55aee86f409e836cb3aadc9ce60e"
      }
     },
     "metadata": {},
     "output_type": "display_data"
    },
    {
     "name": "stdout",
     "output_type": "stream",
     "text": [
      "Step-down-in-jumps iteration #2 found 0 additional clusters to exclude from subsequent iterations\n",
      "NOTE: pick_channels() is a legacy function. New code should use inst.pick(...).\n",
      "No baseline correction applied\n",
      "Using a threshold of 1.894579\n",
      "stat_fun(H1): min=-21.113170 max=8.366586\n",
      "Running initial clustering …\n",
      "Found 47 clusters\n"
     ]
    },
    {
     "data": {
      "text/plain": "  0%|          | Permuting : 0/99 [00:00<?,       ?it/s]",
      "application/vnd.jupyter.widget-view+json": {
       "version_major": 2,
       "version_minor": 0,
       "model_id": "4420574ee5894b20891cff8076a01459"
      }
     },
     "metadata": {},
     "output_type": "display_data"
    },
    {
     "name": "stdout",
     "output_type": "stream",
     "text": [
      "Step-down-in-jumps iteration #1 found 0 clusters to exclude from subsequent iterations\n",
      "Using a threshold of -1.894579\n",
      "stat_fun(H1): min=-21.113170 max=8.366586\n",
      "Running initial clustering …\n",
      "Found 47 clusters\n"
     ]
    },
    {
     "data": {
      "text/plain": "  0%|          | Permuting : 0/99 [00:00<?,       ?it/s]",
      "application/vnd.jupyter.widget-view+json": {
       "version_major": 2,
       "version_minor": 0,
       "model_id": "2d0a55897fef465a953a7085f4b2fe5b"
      }
     },
     "metadata": {},
     "output_type": "display_data"
    },
    {
     "name": "stdout",
     "output_type": "stream",
     "text": [
      "Step-down-in-jumps iteration #1 found 2 clusters to exclude from subsequent iterations\n"
     ]
    },
    {
     "data": {
      "text/plain": "  0%|          | Permuting : 0/99 [00:00<?,       ?it/s]",
      "application/vnd.jupyter.widget-view+json": {
       "version_major": 2,
       "version_minor": 0,
       "model_id": "b4e46de7264c4568b59c5e93400947b9"
      }
     },
     "metadata": {},
     "output_type": "display_data"
    },
    {
     "name": "stdout",
     "output_type": "stream",
     "text": [
      "Step-down-in-jumps iteration #2 found 0 additional clusters to exclude from subsequent iterations\n",
      "NOTE: pick_channels() is a legacy function. New code should use inst.pick(...).\n",
      "No baseline correction applied\n",
      "Using a threshold of 1.894579\n",
      "stat_fun(H1): min=-22.684593 max=9.545757\n",
      "Running initial clustering …\n",
      "Found 43 clusters\n"
     ]
    },
    {
     "data": {
      "text/plain": "  0%|          | Permuting : 0/99 [00:00<?,       ?it/s]",
      "application/vnd.jupyter.widget-view+json": {
       "version_major": 2,
       "version_minor": 0,
       "model_id": "34e7ca3264f94a718c77e0de89832356"
      }
     },
     "metadata": {},
     "output_type": "display_data"
    },
    {
     "name": "stdout",
     "output_type": "stream",
     "text": [
      "Step-down-in-jumps iteration #1 found 0 clusters to exclude from subsequent iterations\n",
      "Using a threshold of -1.894579\n",
      "stat_fun(H1): min=-22.684593 max=9.545757\n",
      "Running initial clustering …\n",
      "Found 40 clusters\n"
     ]
    },
    {
     "data": {
      "text/plain": "  0%|          | Permuting : 0/99 [00:00<?,       ?it/s]",
      "application/vnd.jupyter.widget-view+json": {
       "version_major": 2,
       "version_minor": 0,
       "model_id": "263439393e154856a7ec5f4cf3e4de86"
      }
     },
     "metadata": {},
     "output_type": "display_data"
    },
    {
     "name": "stdout",
     "output_type": "stream",
     "text": [
      "Step-down-in-jumps iteration #1 found 1 cluster to exclude from subsequent iterations\n"
     ]
    },
    {
     "data": {
      "text/plain": "  0%|          | Permuting : 0/99 [00:00<?,       ?it/s]",
      "application/vnd.jupyter.widget-view+json": {
       "version_major": 2,
       "version_minor": 0,
       "model_id": "42c32d19551a4459856a90d3c1b55f3d"
      }
     },
     "metadata": {},
     "output_type": "display_data"
    },
    {
     "name": "stdout",
     "output_type": "stream",
     "text": [
      "Step-down-in-jumps iteration #2 found 0 additional clusters to exclude from subsequent iterations\n",
      "NOTE: pick_channels() is a legacy function. New code should use inst.pick(...).\n",
      "No baseline correction applied\n",
      "Using a threshold of 1.894579\n",
      "stat_fun(H1): min=-20.471727 max=5.859685\n",
      "Running initial clustering …\n",
      "Found 38 clusters\n"
     ]
    },
    {
     "data": {
      "text/plain": "  0%|          | Permuting : 0/99 [00:00<?,       ?it/s]",
      "application/vnd.jupyter.widget-view+json": {
       "version_major": 2,
       "version_minor": 0,
       "model_id": "bd69c0c94b4a4d9aad6cbb47c1dfb883"
      }
     },
     "metadata": {},
     "output_type": "display_data"
    },
    {
     "name": "stdout",
     "output_type": "stream",
     "text": [
      "Step-down-in-jumps iteration #1 found 0 clusters to exclude from subsequent iterations\n",
      "Using a threshold of -1.894579\n",
      "stat_fun(H1): min=-20.471727 max=5.859685\n",
      "Running initial clustering …\n",
      "Found 44 clusters\n"
     ]
    },
    {
     "data": {
      "text/plain": "  0%|          | Permuting : 0/99 [00:00<?,       ?it/s]",
      "application/vnd.jupyter.widget-view+json": {
       "version_major": 2,
       "version_minor": 0,
       "model_id": "1090b546d3cf444ebd7023b7b57b2e45"
      }
     },
     "metadata": {},
     "output_type": "display_data"
    },
    {
     "name": "stdout",
     "output_type": "stream",
     "text": [
      "Step-down-in-jumps iteration #1 found 1 cluster to exclude from subsequent iterations\n"
     ]
    },
    {
     "data": {
      "text/plain": "  0%|          | Permuting : 0/99 [00:00<?,       ?it/s]",
      "application/vnd.jupyter.widget-view+json": {
       "version_major": 2,
       "version_minor": 0,
       "model_id": "c1561ae102e34735b4abd5d79e1378fd"
      }
     },
     "metadata": {},
     "output_type": "display_data"
    },
    {
     "name": "stdout",
     "output_type": "stream",
     "text": [
      "Step-down-in-jumps iteration #2 found 0 additional clusters to exclude from subsequent iterations\n",
      "NOTE: pick_channels() is a legacy function. New code should use inst.pick(...).\n",
      "No baseline correction applied\n",
      "Using a threshold of 1.894579\n",
      "stat_fun(H1): min=-42.545960 max=6.699699\n",
      "Running initial clustering …\n",
      "Found 41 clusters\n"
     ]
    },
    {
     "data": {
      "text/plain": "  0%|          | Permuting : 0/99 [00:00<?,       ?it/s]",
      "application/vnd.jupyter.widget-view+json": {
       "version_major": 2,
       "version_minor": 0,
       "model_id": "9cabccbe22ff4da9be89bf9f5753b390"
      }
     },
     "metadata": {},
     "output_type": "display_data"
    },
    {
     "name": "stdout",
     "output_type": "stream",
     "text": [
      "Step-down-in-jumps iteration #1 found 0 clusters to exclude from subsequent iterations\n",
      "Using a threshold of -1.894579\n",
      "stat_fun(H1): min=-42.545960 max=6.699699\n",
      "Running initial clustering …\n",
      "Found 44 clusters\n"
     ]
    },
    {
     "data": {
      "text/plain": "  0%|          | Permuting : 0/99 [00:00<?,       ?it/s]",
      "application/vnd.jupyter.widget-view+json": {
       "version_major": 2,
       "version_minor": 0,
       "model_id": "2a8d7333fe4f48b1906df3ff7ae11068"
      }
     },
     "metadata": {},
     "output_type": "display_data"
    },
    {
     "name": "stdout",
     "output_type": "stream",
     "text": [
      "Step-down-in-jumps iteration #1 found 1 cluster to exclude from subsequent iterations\n"
     ]
    },
    {
     "data": {
      "text/plain": "  0%|          | Permuting : 0/99 [00:00<?,       ?it/s]",
      "application/vnd.jupyter.widget-view+json": {
       "version_major": 2,
       "version_minor": 0,
       "model_id": "ad04c5bceb91481fbe4400c7ccdda54d"
      }
     },
     "metadata": {},
     "output_type": "display_data"
    },
    {
     "name": "stdout",
     "output_type": "stream",
     "text": [
      "Step-down-in-jumps iteration #2 found 0 additional clusters to exclude from subsequent iterations\n",
      "NOTE: pick_channels() is a legacy function. New code should use inst.pick(...).\n",
      "No baseline correction applied\n",
      "Using a threshold of 1.894579\n",
      "stat_fun(H1): min=-34.052104 max=8.914758\n",
      "Running initial clustering …\n",
      "Found 30 clusters\n"
     ]
    },
    {
     "data": {
      "text/plain": "  0%|          | Permuting : 0/99 [00:00<?,       ?it/s]",
      "application/vnd.jupyter.widget-view+json": {
       "version_major": 2,
       "version_minor": 0,
       "model_id": "935f0321f85144bfa3b3e4a06397dc3c"
      }
     },
     "metadata": {},
     "output_type": "display_data"
    },
    {
     "name": "stdout",
     "output_type": "stream",
     "text": [
      "Step-down-in-jumps iteration #1 found 0 clusters to exclude from subsequent iterations\n",
      "Using a threshold of -1.894579\n",
      "stat_fun(H1): min=-34.052104 max=8.914758\n",
      "Running initial clustering …\n",
      "Found 44 clusters\n"
     ]
    },
    {
     "data": {
      "text/plain": "  0%|          | Permuting : 0/99 [00:00<?,       ?it/s]",
      "application/vnd.jupyter.widget-view+json": {
       "version_major": 2,
       "version_minor": 0,
       "model_id": "5da2f821212a4d74b3d994b1c6f9030d"
      }
     },
     "metadata": {},
     "output_type": "display_data"
    },
    {
     "name": "stdout",
     "output_type": "stream",
     "text": [
      "Step-down-in-jumps iteration #1 found 1 cluster to exclude from subsequent iterations\n"
     ]
    },
    {
     "data": {
      "text/plain": "  0%|          | Permuting : 0/99 [00:00<?,       ?it/s]",
      "application/vnd.jupyter.widget-view+json": {
       "version_major": 2,
       "version_minor": 0,
       "model_id": "3b96e09cf05c4ea3a090a08864ebd882"
      }
     },
     "metadata": {},
     "output_type": "display_data"
    },
    {
     "name": "stdout",
     "output_type": "stream",
     "text": [
      "Step-down-in-jumps iteration #2 found 1 additional cluster to exclude from subsequent iterations\n"
     ]
    },
    {
     "data": {
      "text/plain": "  0%|          | Permuting : 0/99 [00:00<?,       ?it/s]",
      "application/vnd.jupyter.widget-view+json": {
       "version_major": 2,
       "version_minor": 0,
       "model_id": "194c657631c14633ae8c7f655f6a8158"
      }
     },
     "metadata": {},
     "output_type": "display_data"
    },
    {
     "name": "stdout",
     "output_type": "stream",
     "text": [
      "Step-down-in-jumps iteration #3 found 0 additional clusters to exclude from subsequent iterations\n",
      "NOTE: pick_channels() is a legacy function. New code should use inst.pick(...).\n",
      "No baseline correction applied\n",
      "Creating RawArray with float64 data, n_channels=15, n_times=45000\n",
      "    Range : 0 ... 44999 =      0.000 ...    44.999 secs\n",
      "Ready.\n",
      "Not setting metadata\n",
      "8 matching events found\n",
      "No baseline correction applied\n",
      "0 projection items activated\n",
      "Using data from preloaded Raw for 8 events and 5001 original time points ...\n",
      "0 bad epochs dropped\n"
     ]
    },
    {
     "name": "stderr",
     "output_type": "stream",
     "text": [
      "[Parallel(n_jobs=1)]: Using backend SequentialBackend with 1 concurrent workers.\n",
      "[Parallel(n_jobs=1)]: Done   1 out of   1 | elapsed:    0.1s remaining:    0.0s\n",
      "[Parallel(n_jobs=1)]: Done   2 out of   2 | elapsed:    0.2s remaining:    0.0s\n",
      "[Parallel(n_jobs=1)]: Done   3 out of   3 | elapsed:    0.4s remaining:    0.0s\n",
      "[Parallel(n_jobs=1)]: Done   4 out of   4 | elapsed:    0.6s remaining:    0.0s\n"
     ]
    },
    {
     "name": "stdout",
     "output_type": "stream",
     "text": [
      "Not setting metadata\n",
      "Applying baseline correction (mode: percent)\n"
     ]
    },
    {
     "name": "stderr",
     "output_type": "stream",
     "text": [
      "[Parallel(n_jobs=1)]: Done  15 out of  15 | elapsed:    2.5s finished\n"
     ]
    },
    {
     "name": "stdout",
     "output_type": "stream",
     "text": [
      "Using a threshold of 1.894579\n",
      "stat_fun(H1): min=-12.894376 max=6.826348\n",
      "Running initial clustering …\n",
      "Found 29 clusters\n"
     ]
    },
    {
     "data": {
      "text/plain": "  0%|          | Permuting : 0/99 [00:00<?,       ?it/s]",
      "application/vnd.jupyter.widget-view+json": {
       "version_major": 2,
       "version_minor": 0,
       "model_id": "c50788c7c3014efc9afcf0fc47888163"
      }
     },
     "metadata": {},
     "output_type": "display_data"
    },
    {
     "name": "stdout",
     "output_type": "stream",
     "text": [
      "Step-down-in-jumps iteration #1 found 1 cluster to exclude from subsequent iterations\n"
     ]
    },
    {
     "data": {
      "text/plain": "  0%|          | Permuting : 0/99 [00:00<?,       ?it/s]",
      "application/vnd.jupyter.widget-view+json": {
       "version_major": 2,
       "version_minor": 0,
       "model_id": "940827a8c9584058af0c110e3c0cd77e"
      }
     },
     "metadata": {},
     "output_type": "display_data"
    },
    {
     "name": "stdout",
     "output_type": "stream",
     "text": [
      "Step-down-in-jumps iteration #2 found 0 additional clusters to exclude from subsequent iterations\n",
      "Using a threshold of -1.894579\n",
      "stat_fun(H1): min=-12.894376 max=6.826348\n",
      "Running initial clustering …\n",
      "Found 30 clusters\n"
     ]
    },
    {
     "data": {
      "text/plain": "  0%|          | Permuting : 0/99 [00:00<?,       ?it/s]",
      "application/vnd.jupyter.widget-view+json": {
       "version_major": 2,
       "version_minor": 0,
       "model_id": "cbb834dc042e4a7e9cba2289e7431e68"
      }
     },
     "metadata": {},
     "output_type": "display_data"
    },
    {
     "name": "stdout",
     "output_type": "stream",
     "text": [
      "Step-down-in-jumps iteration #1 found 2 clusters to exclude from subsequent iterations\n"
     ]
    },
    {
     "data": {
      "text/plain": "  0%|          | Permuting : 0/99 [00:00<?,       ?it/s]",
      "application/vnd.jupyter.widget-view+json": {
       "version_major": 2,
       "version_minor": 0,
       "model_id": "d0b5baa3984941b7a44bf8e2b94b2325"
      }
     },
     "metadata": {},
     "output_type": "display_data"
    },
    {
     "name": "stdout",
     "output_type": "stream",
     "text": [
      "Step-down-in-jumps iteration #2 found 0 additional clusters to exclude from subsequent iterations\n",
      "NOTE: pick_channels() is a legacy function. New code should use inst.pick(...).\n",
      "No baseline correction applied\n",
      "Using a threshold of 1.894579\n",
      "stat_fun(H1): min=-16.316228 max=7.354951\n",
      "Running initial clustering …\n",
      "Found 35 clusters\n"
     ]
    },
    {
     "data": {
      "text/plain": "  0%|          | Permuting : 0/99 [00:00<?,       ?it/s]",
      "application/vnd.jupyter.widget-view+json": {
       "version_major": 2,
       "version_minor": 0,
       "model_id": "4e8868831b354d1a9abfb42e79a8c750"
      }
     },
     "metadata": {},
     "output_type": "display_data"
    },
    {
     "name": "stdout",
     "output_type": "stream",
     "text": [
      "Step-down-in-jumps iteration #1 found 0 clusters to exclude from subsequent iterations\n",
      "Using a threshold of -1.894579\n",
      "stat_fun(H1): min=-16.316228 max=7.354951\n",
      "Running initial clustering …\n",
      "Found 41 clusters\n"
     ]
    },
    {
     "data": {
      "text/plain": "  0%|          | Permuting : 0/99 [00:00<?,       ?it/s]",
      "application/vnd.jupyter.widget-view+json": {
       "version_major": 2,
       "version_minor": 0,
       "model_id": "8a1479d25c0f44bc8053c36f3027490f"
      }
     },
     "metadata": {},
     "output_type": "display_data"
    },
    {
     "name": "stdout",
     "output_type": "stream",
     "text": [
      "Step-down-in-jumps iteration #1 found 1 cluster to exclude from subsequent iterations\n"
     ]
    },
    {
     "data": {
      "text/plain": "  0%|          | Permuting : 0/99 [00:00<?,       ?it/s]",
      "application/vnd.jupyter.widget-view+json": {
       "version_major": 2,
       "version_minor": 0,
       "model_id": "13c3f6ccdf954dccbf40430d7601c4e9"
      }
     },
     "metadata": {},
     "output_type": "display_data"
    },
    {
     "name": "stdout",
     "output_type": "stream",
     "text": [
      "Step-down-in-jumps iteration #2 found 0 additional clusters to exclude from subsequent iterations\n",
      "NOTE: pick_channels() is a legacy function. New code should use inst.pick(...).\n",
      "No baseline correction applied\n",
      "Using a threshold of 1.894579\n",
      "stat_fun(H1): min=-12.781830 max=7.728840\n",
      "Running initial clustering …\n",
      "Found 43 clusters\n"
     ]
    },
    {
     "data": {
      "text/plain": "  0%|          | Permuting : 0/99 [00:00<?,       ?it/s]",
      "application/vnd.jupyter.widget-view+json": {
       "version_major": 2,
       "version_minor": 0,
       "model_id": "1d6e4b5674c6452b9542dcdbd849dc43"
      }
     },
     "metadata": {},
     "output_type": "display_data"
    },
    {
     "name": "stdout",
     "output_type": "stream",
     "text": [
      "Step-down-in-jumps iteration #1 found 0 clusters to exclude from subsequent iterations\n",
      "Using a threshold of -1.894579\n",
      "stat_fun(H1): min=-12.781830 max=7.728840\n",
      "Running initial clustering …\n",
      "Found 43 clusters\n"
     ]
    },
    {
     "data": {
      "text/plain": "  0%|          | Permuting : 0/99 [00:00<?,       ?it/s]",
      "application/vnd.jupyter.widget-view+json": {
       "version_major": 2,
       "version_minor": 0,
       "model_id": "b1cb7afbdc9c40f385c62aa9c35c4456"
      }
     },
     "metadata": {},
     "output_type": "display_data"
    },
    {
     "name": "stdout",
     "output_type": "stream",
     "text": [
      "Step-down-in-jumps iteration #1 found 1 cluster to exclude from subsequent iterations\n"
     ]
    },
    {
     "data": {
      "text/plain": "  0%|          | Permuting : 0/99 [00:00<?,       ?it/s]",
      "application/vnd.jupyter.widget-view+json": {
       "version_major": 2,
       "version_minor": 0,
       "model_id": "26f976fb1abd4207a6ccdec1b63f0e69"
      }
     },
     "metadata": {},
     "output_type": "display_data"
    },
    {
     "name": "stdout",
     "output_type": "stream",
     "text": [
      "Step-down-in-jumps iteration #2 found 0 additional clusters to exclude from subsequent iterations\n",
      "NOTE: pick_channels() is a legacy function. New code should use inst.pick(...).\n",
      "No baseline correction applied\n",
      "Using a threshold of 1.894579\n",
      "stat_fun(H1): min=-23.337263 max=7.810914\n",
      "Running initial clustering …\n",
      "Found 41 clusters\n"
     ]
    },
    {
     "data": {
      "text/plain": "  0%|          | Permuting : 0/99 [00:00<?,       ?it/s]",
      "application/vnd.jupyter.widget-view+json": {
       "version_major": 2,
       "version_minor": 0,
       "model_id": "9dc316a8b4d94a4ea58d6376997ec74f"
      }
     },
     "metadata": {},
     "output_type": "display_data"
    },
    {
     "name": "stdout",
     "output_type": "stream",
     "text": [
      "Step-down-in-jumps iteration #1 found 0 clusters to exclude from subsequent iterations\n",
      "Using a threshold of -1.894579\n",
      "stat_fun(H1): min=-23.337263 max=7.810914\n",
      "Running initial clustering …\n",
      "Found 52 clusters\n"
     ]
    },
    {
     "data": {
      "text/plain": "  0%|          | Permuting : 0/99 [00:00<?,       ?it/s]",
      "application/vnd.jupyter.widget-view+json": {
       "version_major": 2,
       "version_minor": 0,
       "model_id": "08675bf1f1954287b54fbf17ff26556d"
      }
     },
     "metadata": {},
     "output_type": "display_data"
    },
    {
     "name": "stdout",
     "output_type": "stream",
     "text": [
      "Step-down-in-jumps iteration #1 found 0 clusters to exclude from subsequent iterations\n",
      "NOTE: pick_channels() is a legacy function. New code should use inst.pick(...).\n",
      "No baseline correction applied\n",
      "Using a threshold of 1.894579\n",
      "stat_fun(H1): min=-15.986344 max=8.264063\n",
      "Running initial clustering …\n",
      "Found 16 clusters\n"
     ]
    },
    {
     "data": {
      "text/plain": "  0%|          | Permuting : 0/99 [00:00<?,       ?it/s]",
      "application/vnd.jupyter.widget-view+json": {
       "version_major": 2,
       "version_minor": 0,
       "model_id": "ed6884c5e06548e9958bed59180af546"
      }
     },
     "metadata": {},
     "output_type": "display_data"
    },
    {
     "name": "stdout",
     "output_type": "stream",
     "text": [
      "Step-down-in-jumps iteration #1 found 1 cluster to exclude from subsequent iterations\n"
     ]
    },
    {
     "data": {
      "text/plain": "  0%|          | Permuting : 0/99 [00:00<?,       ?it/s]",
      "application/vnd.jupyter.widget-view+json": {
       "version_major": 2,
       "version_minor": 0,
       "model_id": "ed10467634b34baaa737620b56721272"
      }
     },
     "metadata": {},
     "output_type": "display_data"
    },
    {
     "name": "stdout",
     "output_type": "stream",
     "text": [
      "Step-down-in-jumps iteration #2 found 0 additional clusters to exclude from subsequent iterations\n",
      "Using a threshold of -1.894579\n",
      "stat_fun(H1): min=-15.986344 max=8.264063\n",
      "Running initial clustering …\n",
      "Found 22 clusters\n"
     ]
    },
    {
     "data": {
      "text/plain": "  0%|          | Permuting : 0/99 [00:00<?,       ?it/s]",
      "application/vnd.jupyter.widget-view+json": {
       "version_major": 2,
       "version_minor": 0,
       "model_id": "cb2d216c2b5d4755b17c6c146382c4de"
      }
     },
     "metadata": {},
     "output_type": "display_data"
    },
    {
     "name": "stdout",
     "output_type": "stream",
     "text": [
      "Step-down-in-jumps iteration #1 found 1 cluster to exclude from subsequent iterations\n"
     ]
    },
    {
     "data": {
      "text/plain": "  0%|          | Permuting : 0/99 [00:00<?,       ?it/s]",
      "application/vnd.jupyter.widget-view+json": {
       "version_major": 2,
       "version_minor": 0,
       "model_id": "0d6d87abcbe447f5beeed68d339914de"
      }
     },
     "metadata": {},
     "output_type": "display_data"
    },
    {
     "name": "stdout",
     "output_type": "stream",
     "text": [
      "Step-down-in-jumps iteration #2 found 0 additional clusters to exclude from subsequent iterations\n",
      "NOTE: pick_channels() is a legacy function. New code should use inst.pick(...).\n",
      "No baseline correction applied\n",
      "Using a threshold of 1.894579\n",
      "stat_fun(H1): min=-8.605094 max=9.575205\n",
      "Running initial clustering …\n",
      "Found 56 clusters\n"
     ]
    },
    {
     "data": {
      "text/plain": "  0%|          | Permuting : 0/99 [00:00<?,       ?it/s]",
      "application/vnd.jupyter.widget-view+json": {
       "version_major": 2,
       "version_minor": 0,
       "model_id": "54b711279a1545469bee2242f66dbe8a"
      }
     },
     "metadata": {},
     "output_type": "display_data"
    },
    {
     "name": "stdout",
     "output_type": "stream",
     "text": [
      "Step-down-in-jumps iteration #1 found 2 clusters to exclude from subsequent iterations\n"
     ]
    },
    {
     "data": {
      "text/plain": "  0%|          | Permuting : 0/99 [00:00<?,       ?it/s]",
      "application/vnd.jupyter.widget-view+json": {
       "version_major": 2,
       "version_minor": 0,
       "model_id": "4b0de694a6f0472997b61af96ee9e69a"
      }
     },
     "metadata": {},
     "output_type": "display_data"
    },
    {
     "name": "stdout",
     "output_type": "stream",
     "text": [
      "Step-down-in-jumps iteration #2 found 0 additional clusters to exclude from subsequent iterations\n",
      "Using a threshold of -1.894579\n",
      "stat_fun(H1): min=-8.605094 max=9.575205\n",
      "Running initial clustering …\n",
      "Found 29 clusters\n"
     ]
    },
    {
     "data": {
      "text/plain": "  0%|          | Permuting : 0/99 [00:00<?,       ?it/s]",
      "application/vnd.jupyter.widget-view+json": {
       "version_major": 2,
       "version_minor": 0,
       "model_id": "72a8eee0be144515b9850fe8af97beaa"
      }
     },
     "metadata": {},
     "output_type": "display_data"
    },
    {
     "name": "stdout",
     "output_type": "stream",
     "text": [
      "Step-down-in-jumps iteration #1 found 1 cluster to exclude from subsequent iterations\n"
     ]
    },
    {
     "data": {
      "text/plain": "  0%|          | Permuting : 0/99 [00:00<?,       ?it/s]",
      "application/vnd.jupyter.widget-view+json": {
       "version_major": 2,
       "version_minor": 0,
       "model_id": "a1e29f370e60420192283babc95bf416"
      }
     },
     "metadata": {},
     "output_type": "display_data"
    },
    {
     "name": "stdout",
     "output_type": "stream",
     "text": [
      "Step-down-in-jumps iteration #2 found 0 additional clusters to exclude from subsequent iterations\n",
      "NOTE: pick_channels() is a legacy function. New code should use inst.pick(...).\n",
      "No baseline correction applied\n",
      "Using a threshold of 1.894579\n",
      "stat_fun(H1): min=-15.057998 max=8.955549\n",
      "Running initial clustering …\n",
      "Found 32 clusters\n"
     ]
    },
    {
     "data": {
      "text/plain": "  0%|          | Permuting : 0/99 [00:00<?,       ?it/s]",
      "application/vnd.jupyter.widget-view+json": {
       "version_major": 2,
       "version_minor": 0,
       "model_id": "75e8e3aa9cbc46758e0e315ab0df9c57"
      }
     },
     "metadata": {},
     "output_type": "display_data"
    },
    {
     "name": "stdout",
     "output_type": "stream",
     "text": [
      "Step-down-in-jumps iteration #1 found 0 clusters to exclude from subsequent iterations\n",
      "Using a threshold of -1.894579\n",
      "stat_fun(H1): min=-15.057998 max=8.955549\n",
      "Running initial clustering …\n",
      "Found 48 clusters\n"
     ]
    },
    {
     "data": {
      "text/plain": "  0%|          | Permuting : 0/99 [00:00<?,       ?it/s]",
      "application/vnd.jupyter.widget-view+json": {
       "version_major": 2,
       "version_minor": 0,
       "model_id": "32bf3e00aa3041ab8024387adf10fa21"
      }
     },
     "metadata": {},
     "output_type": "display_data"
    },
    {
     "name": "stdout",
     "output_type": "stream",
     "text": [
      "Step-down-in-jumps iteration #1 found 0 clusters to exclude from subsequent iterations\n",
      "NOTE: pick_channels() is a legacy function. New code should use inst.pick(...).\n",
      "No baseline correction applied\n",
      "Using a threshold of 1.894579\n",
      "stat_fun(H1): min=-21.311459 max=9.174098\n",
      "Running initial clustering …\n",
      "Found 35 clusters\n"
     ]
    },
    {
     "data": {
      "text/plain": "  0%|          | Permuting : 0/99 [00:00<?,       ?it/s]",
      "application/vnd.jupyter.widget-view+json": {
       "version_major": 2,
       "version_minor": 0,
       "model_id": "567505e1597d48e59d0d62172a038ee2"
      }
     },
     "metadata": {},
     "output_type": "display_data"
    },
    {
     "name": "stdout",
     "output_type": "stream",
     "text": [
      "Step-down-in-jumps iteration #1 found 0 clusters to exclude from subsequent iterations\n",
      "Using a threshold of -1.894579\n",
      "stat_fun(H1): min=-21.311459 max=9.174098\n",
      "Running initial clustering …\n",
      "Found 55 clusters\n"
     ]
    },
    {
     "data": {
      "text/plain": "  0%|          | Permuting : 0/99 [00:00<?,       ?it/s]",
      "application/vnd.jupyter.widget-view+json": {
       "version_major": 2,
       "version_minor": 0,
       "model_id": "dff28b071bf045b39b357a4476ec6221"
      }
     },
     "metadata": {},
     "output_type": "display_data"
    },
    {
     "name": "stdout",
     "output_type": "stream",
     "text": [
      "Step-down-in-jumps iteration #1 found 0 clusters to exclude from subsequent iterations\n",
      "NOTE: pick_channels() is a legacy function. New code should use inst.pick(...).\n",
      "No baseline correction applied\n",
      "Using a threshold of 1.894579\n",
      "stat_fun(H1): min=-15.243482 max=7.101666\n",
      "Running initial clustering …\n",
      "Found 44 clusters\n"
     ]
    },
    {
     "data": {
      "text/plain": "  0%|          | Permuting : 0/99 [00:00<?,       ?it/s]",
      "application/vnd.jupyter.widget-view+json": {
       "version_major": 2,
       "version_minor": 0,
       "model_id": "10167836148f4d16a6b2c86af7bed791"
      }
     },
     "metadata": {},
     "output_type": "display_data"
    },
    {
     "name": "stdout",
     "output_type": "stream",
     "text": [
      "Step-down-in-jumps iteration #1 found 1 cluster to exclude from subsequent iterations\n"
     ]
    },
    {
     "data": {
      "text/plain": "  0%|          | Permuting : 0/99 [00:00<?,       ?it/s]",
      "application/vnd.jupyter.widget-view+json": {
       "version_major": 2,
       "version_minor": 0,
       "model_id": "7ec6ebadb1b54e6483cb0633fe96efde"
      }
     },
     "metadata": {},
     "output_type": "display_data"
    },
    {
     "name": "stdout",
     "output_type": "stream",
     "text": [
      "Step-down-in-jumps iteration #2 found 0 additional clusters to exclude from subsequent iterations\n",
      "Using a threshold of -1.894579\n",
      "stat_fun(H1): min=-15.243482 max=7.101666\n",
      "Running initial clustering …\n",
      "Found 35 clusters\n"
     ]
    },
    {
     "data": {
      "text/plain": "  0%|          | Permuting : 0/99 [00:00<?,       ?it/s]",
      "application/vnd.jupyter.widget-view+json": {
       "version_major": 2,
       "version_minor": 0,
       "model_id": "75caf21f8b6a42f09324b7546c9b1ef3"
      }
     },
     "metadata": {},
     "output_type": "display_data"
    },
    {
     "name": "stdout",
     "output_type": "stream",
     "text": [
      "Step-down-in-jumps iteration #1 found 1 cluster to exclude from subsequent iterations\n"
     ]
    },
    {
     "data": {
      "text/plain": "  0%|          | Permuting : 0/99 [00:00<?,       ?it/s]",
      "application/vnd.jupyter.widget-view+json": {
       "version_major": 2,
       "version_minor": 0,
       "model_id": "ed72c6c2be684b39bef87c37f11d4dbc"
      }
     },
     "metadata": {},
     "output_type": "display_data"
    },
    {
     "name": "stdout",
     "output_type": "stream",
     "text": [
      "Step-down-in-jumps iteration #2 found 0 additional clusters to exclude from subsequent iterations\n",
      "NOTE: pick_channels() is a legacy function. New code should use inst.pick(...).\n",
      "No baseline correction applied\n",
      "Using a threshold of 1.894579\n",
      "stat_fun(H1): min=-12.438357 max=6.146169\n",
      "Running initial clustering …\n",
      "Found 37 clusters\n"
     ]
    },
    {
     "data": {
      "text/plain": "  0%|          | Permuting : 0/99 [00:00<?,       ?it/s]",
      "application/vnd.jupyter.widget-view+json": {
       "version_major": 2,
       "version_minor": 0,
       "model_id": "8b5a8a6c8b494157aa66d992031d6b94"
      }
     },
     "metadata": {},
     "output_type": "display_data"
    },
    {
     "name": "stdout",
     "output_type": "stream",
     "text": [
      "Step-down-in-jumps iteration #1 found 1 cluster to exclude from subsequent iterations\n"
     ]
    },
    {
     "data": {
      "text/plain": "  0%|          | Permuting : 0/99 [00:00<?,       ?it/s]",
      "application/vnd.jupyter.widget-view+json": {
       "version_major": 2,
       "version_minor": 0,
       "model_id": "c0613d9624464e83b4d148a04c4b5d74"
      }
     },
     "metadata": {},
     "output_type": "display_data"
    },
    {
     "name": "stdout",
     "output_type": "stream",
     "text": [
      "Step-down-in-jumps iteration #2 found 0 additional clusters to exclude from subsequent iterations\n",
      "Using a threshold of -1.894579\n",
      "stat_fun(H1): min=-12.438357 max=6.146169\n",
      "Running initial clustering …\n",
      "Found 35 clusters\n"
     ]
    },
    {
     "data": {
      "text/plain": "  0%|          | Permuting : 0/99 [00:00<?,       ?it/s]",
      "application/vnd.jupyter.widget-view+json": {
       "version_major": 2,
       "version_minor": 0,
       "model_id": "02e9a4cd255c4c80a5d0930f1fdf0afc"
      }
     },
     "metadata": {},
     "output_type": "display_data"
    },
    {
     "name": "stdout",
     "output_type": "stream",
     "text": [
      "Step-down-in-jumps iteration #1 found 0 clusters to exclude from subsequent iterations\n",
      "NOTE: pick_channels() is a legacy function. New code should use inst.pick(...).\n",
      "No baseline correction applied\n",
      "Using a threshold of 1.894579\n",
      "stat_fun(H1): min=-11.320225 max=21.284337\n",
      "Running initial clustering …\n",
      "Found 43 clusters\n"
     ]
    },
    {
     "data": {
      "text/plain": "  0%|          | Permuting : 0/99 [00:00<?,       ?it/s]",
      "application/vnd.jupyter.widget-view+json": {
       "version_major": 2,
       "version_minor": 0,
       "model_id": "014851dc8b654b91bed8e8dc42b01846"
      }
     },
     "metadata": {},
     "output_type": "display_data"
    },
    {
     "name": "stdout",
     "output_type": "stream",
     "text": [
      "Step-down-in-jumps iteration #1 found 0 clusters to exclude from subsequent iterations\n",
      "Using a threshold of -1.894579\n",
      "stat_fun(H1): min=-11.320225 max=21.284337\n",
      "Running initial clustering …\n",
      "Found 67 clusters\n"
     ]
    },
    {
     "data": {
      "text/plain": "  0%|          | Permuting : 0/99 [00:00<?,       ?it/s]",
      "application/vnd.jupyter.widget-view+json": {
       "version_major": 2,
       "version_minor": 0,
       "model_id": "a2bfb8db8b5d49059c8f9a1ea081febf"
      }
     },
     "metadata": {},
     "output_type": "display_data"
    },
    {
     "name": "stdout",
     "output_type": "stream",
     "text": [
      "Step-down-in-jumps iteration #1 found 0 clusters to exclude from subsequent iterations\n",
      "NOTE: pick_channels() is a legacy function. New code should use inst.pick(...).\n",
      "No baseline correction applied\n",
      "Using a threshold of 1.894579\n",
      "stat_fun(H1): min=-16.650252 max=6.349534\n",
      "Running initial clustering …\n",
      "Found 23 clusters\n"
     ]
    },
    {
     "data": {
      "text/plain": "  0%|          | Permuting : 0/99 [00:00<?,       ?it/s]",
      "application/vnd.jupyter.widget-view+json": {
       "version_major": 2,
       "version_minor": 0,
       "model_id": "0d124fe6a14f4792a2eb68d1fc424300"
      }
     },
     "metadata": {},
     "output_type": "display_data"
    },
    {
     "name": "stdout",
     "output_type": "stream",
     "text": [
      "Step-down-in-jumps iteration #1 found 0 clusters to exclude from subsequent iterations\n",
      "Using a threshold of -1.894579\n",
      "stat_fun(H1): min=-16.650252 max=6.349534\n",
      "Running initial clustering …\n",
      "Found 34 clusters\n"
     ]
    },
    {
     "data": {
      "text/plain": "  0%|          | Permuting : 0/99 [00:00<?,       ?it/s]",
      "application/vnd.jupyter.widget-view+json": {
       "version_major": 2,
       "version_minor": 0,
       "model_id": "c253faf31ff64d0ba0c46134ff510a05"
      }
     },
     "metadata": {},
     "output_type": "display_data"
    },
    {
     "name": "stdout",
     "output_type": "stream",
     "text": [
      "Step-down-in-jumps iteration #1 found 1 cluster to exclude from subsequent iterations\n"
     ]
    },
    {
     "data": {
      "text/plain": "  0%|          | Permuting : 0/99 [00:00<?,       ?it/s]",
      "application/vnd.jupyter.widget-view+json": {
       "version_major": 2,
       "version_minor": 0,
       "model_id": "3dc1b19c03b54dca96e84dfc62209b70"
      }
     },
     "metadata": {},
     "output_type": "display_data"
    },
    {
     "name": "stdout",
     "output_type": "stream",
     "text": [
      "Step-down-in-jumps iteration #2 found 0 additional clusters to exclude from subsequent iterations\n",
      "NOTE: pick_channels() is a legacy function. New code should use inst.pick(...).\n",
      "No baseline correction applied\n",
      "Using a threshold of 1.894579\n",
      "stat_fun(H1): min=-26.596343 max=10.600908\n",
      "Running initial clustering …\n",
      "Found 36 clusters\n"
     ]
    },
    {
     "data": {
      "text/plain": "  0%|          | Permuting : 0/99 [00:00<?,       ?it/s]",
      "application/vnd.jupyter.widget-view+json": {
       "version_major": 2,
       "version_minor": 0,
       "model_id": "37c34ce7c37a409cbed6fd2dcfb97cdd"
      }
     },
     "metadata": {},
     "output_type": "display_data"
    },
    {
     "name": "stdout",
     "output_type": "stream",
     "text": [
      "Step-down-in-jumps iteration #1 found 0 clusters to exclude from subsequent iterations\n",
      "Using a threshold of -1.894579\n",
      "stat_fun(H1): min=-26.596343 max=10.600908\n",
      "Running initial clustering …\n",
      "Found 42 clusters\n"
     ]
    },
    {
     "data": {
      "text/plain": "  0%|          | Permuting : 0/99 [00:00<?,       ?it/s]",
      "application/vnd.jupyter.widget-view+json": {
       "version_major": 2,
       "version_minor": 0,
       "model_id": "bb8cbb235cc3404cb11c3d48a6f168fd"
      }
     },
     "metadata": {},
     "output_type": "display_data"
    },
    {
     "name": "stdout",
     "output_type": "stream",
     "text": [
      "Step-down-in-jumps iteration #1 found 1 cluster to exclude from subsequent iterations\n"
     ]
    },
    {
     "data": {
      "text/plain": "  0%|          | Permuting : 0/99 [00:00<?,       ?it/s]",
      "application/vnd.jupyter.widget-view+json": {
       "version_major": 2,
       "version_minor": 0,
       "model_id": "b4820678fc20401db0a5149cd4751b7f"
      }
     },
     "metadata": {},
     "output_type": "display_data"
    },
    {
     "name": "stdout",
     "output_type": "stream",
     "text": [
      "Step-down-in-jumps iteration #2 found 0 additional clusters to exclude from subsequent iterations\n",
      "NOTE: pick_channels() is a legacy function. New code should use inst.pick(...).\n",
      "No baseline correction applied\n",
      "Using a threshold of 1.894579\n",
      "stat_fun(H1): min=-15.927847 max=11.427611\n",
      "Running initial clustering …\n",
      "Found 40 clusters\n"
     ]
    },
    {
     "data": {
      "text/plain": "  0%|          | Permuting : 0/99 [00:00<?,       ?it/s]",
      "application/vnd.jupyter.widget-view+json": {
       "version_major": 2,
       "version_minor": 0,
       "model_id": "48a8710b1a174ad6956e47369585b3d3"
      }
     },
     "metadata": {},
     "output_type": "display_data"
    },
    {
     "name": "stdout",
     "output_type": "stream",
     "text": [
      "Step-down-in-jumps iteration #1 found 0 clusters to exclude from subsequent iterations\n",
      "Using a threshold of -1.894579\n",
      "stat_fun(H1): min=-15.927847 max=11.427611\n",
      "Running initial clustering …\n",
      "Found 75 clusters\n"
     ]
    },
    {
     "data": {
      "text/plain": "  0%|          | Permuting : 0/99 [00:00<?,       ?it/s]",
      "application/vnd.jupyter.widget-view+json": {
       "version_major": 2,
       "version_minor": 0,
       "model_id": "7480ceafbe434c4181adac291dadc4c4"
      }
     },
     "metadata": {},
     "output_type": "display_data"
    },
    {
     "name": "stdout",
     "output_type": "stream",
     "text": [
      "Step-down-in-jumps iteration #1 found 0 clusters to exclude from subsequent iterations\n",
      "NOTE: pick_channels() is a legacy function. New code should use inst.pick(...).\n",
      "No baseline correction applied\n",
      "Using a threshold of 1.894579\n",
      "stat_fun(H1): min=-9.562886 max=6.417694\n",
      "Running initial clustering …\n",
      "Found 41 clusters\n"
     ]
    },
    {
     "data": {
      "text/plain": "  0%|          | Permuting : 0/99 [00:00<?,       ?it/s]",
      "application/vnd.jupyter.widget-view+json": {
       "version_major": 2,
       "version_minor": 0,
       "model_id": "95668bbeab6e43bd8e3874a04f0510f7"
      }
     },
     "metadata": {},
     "output_type": "display_data"
    },
    {
     "name": "stdout",
     "output_type": "stream",
     "text": [
      "Step-down-in-jumps iteration #1 found 1 cluster to exclude from subsequent iterations\n"
     ]
    },
    {
     "data": {
      "text/plain": "  0%|          | Permuting : 0/99 [00:00<?,       ?it/s]",
      "application/vnd.jupyter.widget-view+json": {
       "version_major": 2,
       "version_minor": 0,
       "model_id": "701029b468514fba9d941daf41028aa6"
      }
     },
     "metadata": {},
     "output_type": "display_data"
    },
    {
     "name": "stdout",
     "output_type": "stream",
     "text": [
      "Step-down-in-jumps iteration #2 found 0 additional clusters to exclude from subsequent iterations\n",
      "Using a threshold of -1.894579\n",
      "stat_fun(H1): min=-9.562886 max=6.417694\n",
      "Running initial clustering …\n",
      "Found 29 clusters\n"
     ]
    },
    {
     "data": {
      "text/plain": "  0%|          | Permuting : 0/99 [00:00<?,       ?it/s]",
      "application/vnd.jupyter.widget-view+json": {
       "version_major": 2,
       "version_minor": 0,
       "model_id": "463d52d1cdd2454dbdad32f66324c249"
      }
     },
     "metadata": {},
     "output_type": "display_data"
    },
    {
     "name": "stdout",
     "output_type": "stream",
     "text": [
      "Step-down-in-jumps iteration #1 found 1 cluster to exclude from subsequent iterations\n"
     ]
    },
    {
     "data": {
      "text/plain": "  0%|          | Permuting : 0/99 [00:00<?,       ?it/s]",
      "application/vnd.jupyter.widget-view+json": {
       "version_major": 2,
       "version_minor": 0,
       "model_id": "f631ab0a9bab42d193b9ca96e2a554f3"
      }
     },
     "metadata": {},
     "output_type": "display_data"
    },
    {
     "name": "stdout",
     "output_type": "stream",
     "text": [
      "Step-down-in-jumps iteration #2 found 0 additional clusters to exclude from subsequent iterations\n",
      "NOTE: pick_channels() is a legacy function. New code should use inst.pick(...).\n",
      "No baseline correction applied\n",
      "Creating RawArray with float64 data, n_channels=15, n_times=45000\n",
      "    Range : 0 ... 44999 =      0.000 ...    44.999 secs\n",
      "Ready.\n",
      "Not setting metadata\n",
      "8 matching events found\n",
      "No baseline correction applied\n",
      "0 projection items activated\n",
      "Using data from preloaded Raw for 8 events and 5001 original time points ...\n",
      "0 bad epochs dropped\n"
     ]
    },
    {
     "name": "stderr",
     "output_type": "stream",
     "text": [
      "[Parallel(n_jobs=1)]: Using backend SequentialBackend with 1 concurrent workers.\n",
      "[Parallel(n_jobs=1)]: Done   1 out of   1 | elapsed:    0.1s remaining:    0.0s\n",
      "[Parallel(n_jobs=1)]: Done   2 out of   2 | elapsed:    0.3s remaining:    0.0s\n",
      "[Parallel(n_jobs=1)]: Done   3 out of   3 | elapsed:    0.4s remaining:    0.0s\n",
      "[Parallel(n_jobs=1)]: Done   4 out of   4 | elapsed:    0.6s remaining:    0.0s\n"
     ]
    },
    {
     "name": "stdout",
     "output_type": "stream",
     "text": [
      "Not setting metadata\n",
      "Applying baseline correction (mode: percent)\n"
     ]
    },
    {
     "name": "stderr",
     "output_type": "stream",
     "text": [
      "[Parallel(n_jobs=1)]: Done  15 out of  15 | elapsed:    2.6s finished\n"
     ]
    },
    {
     "name": "stdout",
     "output_type": "stream",
     "text": [
      "Using a threshold of 1.894579\n",
      "stat_fun(H1): min=-17.018256 max=5.990399\n",
      "Running initial clustering …\n",
      "Found 28 clusters\n"
     ]
    },
    {
     "data": {
      "text/plain": "  0%|          | Permuting : 0/99 [00:00<?,       ?it/s]",
      "application/vnd.jupyter.widget-view+json": {
       "version_major": 2,
       "version_minor": 0,
       "model_id": "4b567772684d4c2db3423bffb1a9e384"
      }
     },
     "metadata": {},
     "output_type": "display_data"
    },
    {
     "name": "stdout",
     "output_type": "stream",
     "text": [
      "Step-down-in-jumps iteration #1 found 0 clusters to exclude from subsequent iterations\n",
      "Using a threshold of -1.894579\n",
      "stat_fun(H1): min=-17.018256 max=5.990399\n",
      "Running initial clustering …\n",
      "Found 31 clusters\n"
     ]
    },
    {
     "data": {
      "text/plain": "  0%|          | Permuting : 0/99 [00:00<?,       ?it/s]",
      "application/vnd.jupyter.widget-view+json": {
       "version_major": 2,
       "version_minor": 0,
       "model_id": "d21eea0c4ff34263b5ef2a45e24c3ddb"
      }
     },
     "metadata": {},
     "output_type": "display_data"
    },
    {
     "name": "stdout",
     "output_type": "stream",
     "text": [
      "Step-down-in-jumps iteration #1 found 0 clusters to exclude from subsequent iterations\n",
      "NOTE: pick_channels() is a legacy function. New code should use inst.pick(...).\n",
      "No baseline correction applied\n",
      "Using a threshold of 1.894579\n",
      "stat_fun(H1): min=-19.193904 max=15.049522\n",
      "Running initial clustering …\n",
      "Found 42 clusters\n"
     ]
    },
    {
     "data": {
      "text/plain": "  0%|          | Permuting : 0/99 [00:00<?,       ?it/s]",
      "application/vnd.jupyter.widget-view+json": {
       "version_major": 2,
       "version_minor": 0,
       "model_id": "852aaff166e544698fcdec94464a1062"
      }
     },
     "metadata": {},
     "output_type": "display_data"
    },
    {
     "name": "stdout",
     "output_type": "stream",
     "text": [
      "Step-down-in-jumps iteration #1 found 0 clusters to exclude from subsequent iterations\n",
      "Using a threshold of -1.894579\n",
      "stat_fun(H1): min=-19.193904 max=15.049522\n",
      "Running initial clustering …\n",
      "Found 46 clusters\n"
     ]
    },
    {
     "data": {
      "text/plain": "  0%|          | Permuting : 0/99 [00:00<?,       ?it/s]",
      "application/vnd.jupyter.widget-view+json": {
       "version_major": 2,
       "version_minor": 0,
       "model_id": "99ff1d621ee84e248dcb2900be932a3b"
      }
     },
     "metadata": {},
     "output_type": "display_data"
    },
    {
     "name": "stdout",
     "output_type": "stream",
     "text": [
      "Step-down-in-jumps iteration #1 found 0 clusters to exclude from subsequent iterations\n",
      "NOTE: pick_channels() is a legacy function. New code should use inst.pick(...).\n",
      "No baseline correction applied\n",
      "Using a threshold of 1.894579\n",
      "stat_fun(H1): min=-27.431719 max=9.246282\n",
      "Running initial clustering …\n",
      "Found 23 clusters\n"
     ]
    },
    {
     "data": {
      "text/plain": "  0%|          | Permuting : 0/99 [00:00<?,       ?it/s]",
      "application/vnd.jupyter.widget-view+json": {
       "version_major": 2,
       "version_minor": 0,
       "model_id": "c1bad5ae103743da8d80cc4b6825fc17"
      }
     },
     "metadata": {},
     "output_type": "display_data"
    },
    {
     "name": "stdout",
     "output_type": "stream",
     "text": [
      "Step-down-in-jumps iteration #1 found 0 clusters to exclude from subsequent iterations\n",
      "Using a threshold of -1.894579\n",
      "stat_fun(H1): min=-27.431719 max=9.246282\n",
      "Running initial clustering …\n",
      "Found 44 clusters\n"
     ]
    },
    {
     "data": {
      "text/plain": "  0%|          | Permuting : 0/99 [00:00<?,       ?it/s]",
      "application/vnd.jupyter.widget-view+json": {
       "version_major": 2,
       "version_minor": 0,
       "model_id": "048e764c80c04809a64e1aae72872c26"
      }
     },
     "metadata": {},
     "output_type": "display_data"
    },
    {
     "name": "stdout",
     "output_type": "stream",
     "text": [
      "Step-down-in-jumps iteration #1 found 1 cluster to exclude from subsequent iterations\n"
     ]
    },
    {
     "data": {
      "text/plain": "  0%|          | Permuting : 0/99 [00:00<?,       ?it/s]",
      "application/vnd.jupyter.widget-view+json": {
       "version_major": 2,
       "version_minor": 0,
       "model_id": "b708b2f71c434b4ab5dbbd0eec5071ad"
      }
     },
     "metadata": {},
     "output_type": "display_data"
    },
    {
     "name": "stdout",
     "output_type": "stream",
     "text": [
      "Step-down-in-jumps iteration #2 found 1 additional cluster to exclude from subsequent iterations\n"
     ]
    },
    {
     "data": {
      "text/plain": "  0%|          | Permuting : 0/99 [00:00<?,       ?it/s]",
      "application/vnd.jupyter.widget-view+json": {
       "version_major": 2,
       "version_minor": 0,
       "model_id": "ed0a6c1ec5f749a495b74597a238283f"
      }
     },
     "metadata": {},
     "output_type": "display_data"
    },
    {
     "name": "stdout",
     "output_type": "stream",
     "text": [
      "Step-down-in-jumps iteration #3 found 0 additional clusters to exclude from subsequent iterations\n",
      "NOTE: pick_channels() is a legacy function. New code should use inst.pick(...).\n",
      "No baseline correction applied\n",
      "Using a threshold of 1.894579\n",
      "stat_fun(H1): min=-12.868339 max=8.734516\n",
      "Running initial clustering …\n",
      "Found 33 clusters\n"
     ]
    },
    {
     "data": {
      "text/plain": "  0%|          | Permuting : 0/99 [00:00<?,       ?it/s]",
      "application/vnd.jupyter.widget-view+json": {
       "version_major": 2,
       "version_minor": 0,
       "model_id": "d28dbec2a6ad4f228f3fd95b868aad2e"
      }
     },
     "metadata": {},
     "output_type": "display_data"
    },
    {
     "name": "stdout",
     "output_type": "stream",
     "text": [
      "Step-down-in-jumps iteration #1 found 0 clusters to exclude from subsequent iterations\n",
      "Using a threshold of -1.894579\n",
      "stat_fun(H1): min=-12.868339 max=8.734516\n",
      "Running initial clustering …\n",
      "Found 55 clusters\n"
     ]
    },
    {
     "data": {
      "text/plain": "  0%|          | Permuting : 0/99 [00:00<?,       ?it/s]",
      "application/vnd.jupyter.widget-view+json": {
       "version_major": 2,
       "version_minor": 0,
       "model_id": "5d57ddc0dc504ea2a0ac1910671e06f8"
      }
     },
     "metadata": {},
     "output_type": "display_data"
    },
    {
     "name": "stdout",
     "output_type": "stream",
     "text": [
      "Step-down-in-jumps iteration #1 found 0 clusters to exclude from subsequent iterations\n",
      "NOTE: pick_channels() is a legacy function. New code should use inst.pick(...).\n",
      "No baseline correction applied\n",
      "Using a threshold of 1.894579\n",
      "stat_fun(H1): min=-19.467796 max=11.036855\n",
      "Running initial clustering …\n",
      "Found 39 clusters\n"
     ]
    },
    {
     "data": {
      "text/plain": "  0%|          | Permuting : 0/99 [00:00<?,       ?it/s]",
      "application/vnd.jupyter.widget-view+json": {
       "version_major": 2,
       "version_minor": 0,
       "model_id": "573c97d92f0a4500a47df74440fa9fc3"
      }
     },
     "metadata": {},
     "output_type": "display_data"
    },
    {
     "name": "stdout",
     "output_type": "stream",
     "text": [
      "Step-down-in-jumps iteration #1 found 0 clusters to exclude from subsequent iterations\n",
      "Using a threshold of -1.894579\n",
      "stat_fun(H1): min=-19.467796 max=11.036855\n",
      "Running initial clustering …\n",
      "Found 38 clusters\n"
     ]
    },
    {
     "data": {
      "text/plain": "  0%|          | Permuting : 0/99 [00:00<?,       ?it/s]",
      "application/vnd.jupyter.widget-view+json": {
       "version_major": 2,
       "version_minor": 0,
       "model_id": "fbc0fa9d45c84bf3bdd053393f959d40"
      }
     },
     "metadata": {},
     "output_type": "display_data"
    },
    {
     "name": "stdout",
     "output_type": "stream",
     "text": [
      "Step-down-in-jumps iteration #1 found 1 cluster to exclude from subsequent iterations\n"
     ]
    },
    {
     "data": {
      "text/plain": "  0%|          | Permuting : 0/99 [00:00<?,       ?it/s]",
      "application/vnd.jupyter.widget-view+json": {
       "version_major": 2,
       "version_minor": 0,
       "model_id": "3d19972ec678427ab2cb2f3d7a1e1554"
      }
     },
     "metadata": {},
     "output_type": "display_data"
    },
    {
     "name": "stdout",
     "output_type": "stream",
     "text": [
      "Step-down-in-jumps iteration #2 found 0 additional clusters to exclude from subsequent iterations\n",
      "NOTE: pick_channels() is a legacy function. New code should use inst.pick(...).\n",
      "No baseline correction applied\n",
      "Using a threshold of 1.894579\n",
      "stat_fun(H1): min=-17.774693 max=6.649084\n",
      "Running initial clustering …\n",
      "Found 39 clusters\n"
     ]
    },
    {
     "data": {
      "text/plain": "  0%|          | Permuting : 0/99 [00:00<?,       ?it/s]",
      "application/vnd.jupyter.widget-view+json": {
       "version_major": 2,
       "version_minor": 0,
       "model_id": "c370d1a197b74d24b6fb25f1f25dc8fd"
      }
     },
     "metadata": {},
     "output_type": "display_data"
    },
    {
     "name": "stdout",
     "output_type": "stream",
     "text": [
      "Step-down-in-jumps iteration #1 found 0 clusters to exclude from subsequent iterations\n",
      "Using a threshold of -1.894579\n",
      "stat_fun(H1): min=-17.774693 max=6.649084\n",
      "Running initial clustering …\n",
      "Found 36 clusters\n"
     ]
    },
    {
     "data": {
      "text/plain": "  0%|          | Permuting : 0/99 [00:00<?,       ?it/s]",
      "application/vnd.jupyter.widget-view+json": {
       "version_major": 2,
       "version_minor": 0,
       "model_id": "48518e9a3c00489a8ac2bed8d73ede65"
      }
     },
     "metadata": {},
     "output_type": "display_data"
    },
    {
     "name": "stdout",
     "output_type": "stream",
     "text": [
      "Step-down-in-jumps iteration #1 found 1 cluster to exclude from subsequent iterations\n"
     ]
    },
    {
     "data": {
      "text/plain": "  0%|          | Permuting : 0/99 [00:00<?,       ?it/s]",
      "application/vnd.jupyter.widget-view+json": {
       "version_major": 2,
       "version_minor": 0,
       "model_id": "4ed0078242944523b65feb2c7e512025"
      }
     },
     "metadata": {},
     "output_type": "display_data"
    },
    {
     "name": "stdout",
     "output_type": "stream",
     "text": [
      "Step-down-in-jumps iteration #2 found 0 additional clusters to exclude from subsequent iterations\n",
      "NOTE: pick_channels() is a legacy function. New code should use inst.pick(...).\n",
      "No baseline correction applied\n",
      "Using a threshold of 1.894579\n",
      "stat_fun(H1): min=-15.979487 max=8.263991\n",
      "Running initial clustering …\n",
      "Found 12 clusters\n"
     ]
    },
    {
     "data": {
      "text/plain": "  0%|          | Permuting : 0/99 [00:00<?,       ?it/s]",
      "application/vnd.jupyter.widget-view+json": {
       "version_major": 2,
       "version_minor": 0,
       "model_id": "4e6ffca692614848ad55d7542f389ef0"
      }
     },
     "metadata": {},
     "output_type": "display_data"
    },
    {
     "name": "stdout",
     "output_type": "stream",
     "text": [
      "Step-down-in-jumps iteration #1 found 0 clusters to exclude from subsequent iterations\n",
      "Using a threshold of -1.894579\n",
      "stat_fun(H1): min=-15.979487 max=8.263991\n",
      "Running initial clustering …\n",
      "Found 75 clusters\n"
     ]
    },
    {
     "data": {
      "text/plain": "  0%|          | Permuting : 0/99 [00:00<?,       ?it/s]",
      "application/vnd.jupyter.widget-view+json": {
       "version_major": 2,
       "version_minor": 0,
       "model_id": "2a566c6954a94d8dae6612ced6a3453d"
      }
     },
     "metadata": {},
     "output_type": "display_data"
    },
    {
     "name": "stdout",
     "output_type": "stream",
     "text": [
      "Step-down-in-jumps iteration #1 found 2 clusters to exclude from subsequent iterations\n"
     ]
    },
    {
     "data": {
      "text/plain": "  0%|          | Permuting : 0/99 [00:00<?,       ?it/s]",
      "application/vnd.jupyter.widget-view+json": {
       "version_major": 2,
       "version_minor": 0,
       "model_id": "909b4bf0f6254e9bbb0bf591d6c1a2f8"
      }
     },
     "metadata": {},
     "output_type": "display_data"
    },
    {
     "name": "stdout",
     "output_type": "stream",
     "text": [
      "Step-down-in-jumps iteration #2 found 0 additional clusters to exclude from subsequent iterations\n",
      "NOTE: pick_channels() is a legacy function. New code should use inst.pick(...).\n",
      "No baseline correction applied\n",
      "Using a threshold of 1.894579\n",
      "stat_fun(H1): min=-15.835459 max=8.153946\n",
      "Running initial clustering …\n",
      "Found 45 clusters\n"
     ]
    },
    {
     "data": {
      "text/plain": "  0%|          | Permuting : 0/99 [00:00<?,       ?it/s]",
      "application/vnd.jupyter.widget-view+json": {
       "version_major": 2,
       "version_minor": 0,
       "model_id": "f3c3a74275c245cf96fe3b59e42fbc01"
      }
     },
     "metadata": {},
     "output_type": "display_data"
    },
    {
     "name": "stdout",
     "output_type": "stream",
     "text": [
      "Step-down-in-jumps iteration #1 found 0 clusters to exclude from subsequent iterations\n",
      "Using a threshold of -1.894579\n",
      "stat_fun(H1): min=-15.835459 max=8.153946\n",
      "Running initial clustering …\n",
      "Found 55 clusters\n"
     ]
    },
    {
     "data": {
      "text/plain": "  0%|          | Permuting : 0/99 [00:00<?,       ?it/s]",
      "application/vnd.jupyter.widget-view+json": {
       "version_major": 2,
       "version_minor": 0,
       "model_id": "e3d44f6aad2d4d9f9796a16673761ffd"
      }
     },
     "metadata": {},
     "output_type": "display_data"
    },
    {
     "name": "stdout",
     "output_type": "stream",
     "text": [
      "Step-down-in-jumps iteration #1 found 1 cluster to exclude from subsequent iterations\n"
     ]
    },
    {
     "data": {
      "text/plain": "  0%|          | Permuting : 0/99 [00:00<?,       ?it/s]",
      "application/vnd.jupyter.widget-view+json": {
       "version_major": 2,
       "version_minor": 0,
       "model_id": "05ef53f76cbd48a7aac6ffdffbb1b66c"
      }
     },
     "metadata": {},
     "output_type": "display_data"
    },
    {
     "name": "stdout",
     "output_type": "stream",
     "text": [
      "Step-down-in-jumps iteration #2 found 0 additional clusters to exclude from subsequent iterations\n",
      "NOTE: pick_channels() is a legacy function. New code should use inst.pick(...).\n",
      "No baseline correction applied\n",
      "Using a threshold of 1.894579\n",
      "stat_fun(H1): min=-24.256120 max=8.471018\n",
      "Running initial clustering …\n",
      "Found 31 clusters\n"
     ]
    },
    {
     "data": {
      "text/plain": "  0%|          | Permuting : 0/99 [00:00<?,       ?it/s]",
      "application/vnd.jupyter.widget-view+json": {
       "version_major": 2,
       "version_minor": 0,
       "model_id": "afc61f6347914250bfaf40fd7be8aeb6"
      }
     },
     "metadata": {},
     "output_type": "display_data"
    },
    {
     "name": "stdout",
     "output_type": "stream",
     "text": [
      "Step-down-in-jumps iteration #1 found 0 clusters to exclude from subsequent iterations\n",
      "Using a threshold of -1.894579\n",
      "stat_fun(H1): min=-24.256120 max=8.471018\n",
      "Running initial clustering …\n",
      "Found 40 clusters\n"
     ]
    },
    {
     "data": {
      "text/plain": "  0%|          | Permuting : 0/99 [00:00<?,       ?it/s]",
      "application/vnd.jupyter.widget-view+json": {
       "version_major": 2,
       "version_minor": 0,
       "model_id": "da0c46039f8d46eba5453e662e4a8e66"
      }
     },
     "metadata": {},
     "output_type": "display_data"
    },
    {
     "name": "stdout",
     "output_type": "stream",
     "text": [
      "Step-down-in-jumps iteration #1 found 1 cluster to exclude from subsequent iterations\n"
     ]
    },
    {
     "data": {
      "text/plain": "  0%|          | Permuting : 0/99 [00:00<?,       ?it/s]",
      "application/vnd.jupyter.widget-view+json": {
       "version_major": 2,
       "version_minor": 0,
       "model_id": "37f8d2198ace404b83d08958c9d2f40f"
      }
     },
     "metadata": {},
     "output_type": "display_data"
    },
    {
     "name": "stdout",
     "output_type": "stream",
     "text": [
      "Step-down-in-jumps iteration #2 found 0 additional clusters to exclude from subsequent iterations\n",
      "NOTE: pick_channels() is a legacy function. New code should use inst.pick(...).\n",
      "No baseline correction applied\n",
      "Using a threshold of 1.894579\n",
      "stat_fun(H1): min=-17.774693 max=6.649084\n",
      "Running initial clustering …\n",
      "Found 39 clusters\n"
     ]
    },
    {
     "data": {
      "text/plain": "  0%|          | Permuting : 0/99 [00:00<?,       ?it/s]",
      "application/vnd.jupyter.widget-view+json": {
       "version_major": 2,
       "version_minor": 0,
       "model_id": "6c4ea08ac6284c11afed69d85264c22e"
      }
     },
     "metadata": {},
     "output_type": "display_data"
    },
    {
     "name": "stdout",
     "output_type": "stream",
     "text": [
      "Step-down-in-jumps iteration #1 found 0 clusters to exclude from subsequent iterations\n",
      "Using a threshold of -1.894579\n",
      "stat_fun(H1): min=-17.774693 max=6.649084\n",
      "Running initial clustering …\n",
      "Found 36 clusters\n"
     ]
    },
    {
     "data": {
      "text/plain": "  0%|          | Permuting : 0/99 [00:00<?,       ?it/s]",
      "application/vnd.jupyter.widget-view+json": {
       "version_major": 2,
       "version_minor": 0,
       "model_id": "81d71abc4d974f55ba8855480867f2ee"
      }
     },
     "metadata": {},
     "output_type": "display_data"
    },
    {
     "name": "stdout",
     "output_type": "stream",
     "text": [
      "Step-down-in-jumps iteration #1 found 1 cluster to exclude from subsequent iterations\n"
     ]
    },
    {
     "data": {
      "text/plain": "  0%|          | Permuting : 0/99 [00:00<?,       ?it/s]",
      "application/vnd.jupyter.widget-view+json": {
       "version_major": 2,
       "version_minor": 0,
       "model_id": "cf920f93bcf64e31b83e4a85c6b83a1d"
      }
     },
     "metadata": {},
     "output_type": "display_data"
    },
    {
     "name": "stdout",
     "output_type": "stream",
     "text": [
      "Step-down-in-jumps iteration #2 found 0 additional clusters to exclude from subsequent iterations\n",
      "NOTE: pick_channels() is a legacy function. New code should use inst.pick(...).\n",
      "No baseline correction applied\n",
      "Using a threshold of 1.894579\n",
      "stat_fun(H1): min=-19.796595 max=7.736177\n",
      "Running initial clustering …\n",
      "Found 34 clusters\n"
     ]
    },
    {
     "data": {
      "text/plain": "  0%|          | Permuting : 0/99 [00:00<?,       ?it/s]",
      "application/vnd.jupyter.widget-view+json": {
       "version_major": 2,
       "version_minor": 0,
       "model_id": "ef509dec7cc043f89b4b140456f61511"
      }
     },
     "metadata": {},
     "output_type": "display_data"
    },
    {
     "name": "stdout",
     "output_type": "stream",
     "text": [
      "Step-down-in-jumps iteration #1 found 0 clusters to exclude from subsequent iterations\n",
      "Using a threshold of -1.894579\n",
      "stat_fun(H1): min=-19.796595 max=7.736177\n",
      "Running initial clustering …\n",
      "Found 65 clusters\n"
     ]
    },
    {
     "data": {
      "text/plain": "  0%|          | Permuting : 0/99 [00:00<?,       ?it/s]",
      "application/vnd.jupyter.widget-view+json": {
       "version_major": 2,
       "version_minor": 0,
       "model_id": "75e423f38a544efb8255efdd62da83b3"
      }
     },
     "metadata": {},
     "output_type": "display_data"
    },
    {
     "name": "stdout",
     "output_type": "stream",
     "text": [
      "Step-down-in-jumps iteration #1 found 1 cluster to exclude from subsequent iterations\n"
     ]
    },
    {
     "data": {
      "text/plain": "  0%|          | Permuting : 0/99 [00:00<?,       ?it/s]",
      "application/vnd.jupyter.widget-view+json": {
       "version_major": 2,
       "version_minor": 0,
       "model_id": "887e3102de584789a323ee9bdb45bc70"
      }
     },
     "metadata": {},
     "output_type": "display_data"
    },
    {
     "name": "stdout",
     "output_type": "stream",
     "text": [
      "Step-down-in-jumps iteration #2 found 0 additional clusters to exclude from subsequent iterations\n",
      "NOTE: pick_channels() is a legacy function. New code should use inst.pick(...).\n",
      "No baseline correction applied\n",
      "Using a threshold of 1.894579\n",
      "stat_fun(H1): min=-17.457834 max=6.034349\n",
      "Running initial clustering …\n",
      "Found 29 clusters\n"
     ]
    },
    {
     "data": {
      "text/plain": "  0%|          | Permuting : 0/99 [00:00<?,       ?it/s]",
      "application/vnd.jupyter.widget-view+json": {
       "version_major": 2,
       "version_minor": 0,
       "model_id": "f91dc6a26e8a41a288e2c7c1f31cee5d"
      }
     },
     "metadata": {},
     "output_type": "display_data"
    },
    {
     "name": "stdout",
     "output_type": "stream",
     "text": [
      "Step-down-in-jumps iteration #1 found 0 clusters to exclude from subsequent iterations\n",
      "Using a threshold of -1.894579\n",
      "stat_fun(H1): min=-17.457834 max=6.034349\n",
      "Running initial clustering …\n",
      "Found 39 clusters\n"
     ]
    },
    {
     "data": {
      "text/plain": "  0%|          | Permuting : 0/99 [00:00<?,       ?it/s]",
      "application/vnd.jupyter.widget-view+json": {
       "version_major": 2,
       "version_minor": 0,
       "model_id": "97b59132f9e042c1bae654903127d7ea"
      }
     },
     "metadata": {},
     "output_type": "display_data"
    },
    {
     "name": "stdout",
     "output_type": "stream",
     "text": [
      "Step-down-in-jumps iteration #1 found 0 clusters to exclude from subsequent iterations\n",
      "NOTE: pick_channels() is a legacy function. New code should use inst.pick(...).\n",
      "No baseline correction applied\n",
      "Using a threshold of 1.894579\n",
      "stat_fun(H1): min=-20.074650 max=6.307158\n",
      "Running initial clustering …\n",
      "Found 53 clusters\n"
     ]
    },
    {
     "data": {
      "text/plain": "  0%|          | Permuting : 0/99 [00:00<?,       ?it/s]",
      "application/vnd.jupyter.widget-view+json": {
       "version_major": 2,
       "version_minor": 0,
       "model_id": "f73acc72ff8744eab4b1c9639a8e206c"
      }
     },
     "metadata": {},
     "output_type": "display_data"
    },
    {
     "name": "stdout",
     "output_type": "stream",
     "text": [
      "Step-down-in-jumps iteration #1 found 0 clusters to exclude from subsequent iterations\n",
      "Using a threshold of -1.894579\n",
      "stat_fun(H1): min=-20.074650 max=6.307158\n",
      "Running initial clustering …\n",
      "Found 45 clusters\n"
     ]
    },
    {
     "data": {
      "text/plain": "  0%|          | Permuting : 0/99 [00:00<?,       ?it/s]",
      "application/vnd.jupyter.widget-view+json": {
       "version_major": 2,
       "version_minor": 0,
       "model_id": "6ec02403465e4785b1592c15816dab13"
      }
     },
     "metadata": {},
     "output_type": "display_data"
    },
    {
     "name": "stdout",
     "output_type": "stream",
     "text": [
      "Step-down-in-jumps iteration #1 found 0 clusters to exclude from subsequent iterations\n",
      "NOTE: pick_channels() is a legacy function. New code should use inst.pick(...).\n",
      "No baseline correction applied\n",
      "Using a threshold of 1.894579\n",
      "stat_fun(H1): min=-20.956108 max=7.089135\n",
      "Running initial clustering …\n",
      "Found 50 clusters\n"
     ]
    },
    {
     "data": {
      "text/plain": "  0%|          | Permuting : 0/99 [00:00<?,       ?it/s]",
      "application/vnd.jupyter.widget-view+json": {
       "version_major": 2,
       "version_minor": 0,
       "model_id": "c255e1294b184bedba12fbc8d635abdd"
      }
     },
     "metadata": {},
     "output_type": "display_data"
    },
    {
     "name": "stdout",
     "output_type": "stream",
     "text": [
      "Step-down-in-jumps iteration #1 found 0 clusters to exclude from subsequent iterations\n",
      "Using a threshold of -1.894579\n",
      "stat_fun(H1): min=-20.956108 max=7.089135\n",
      "Running initial clustering …\n",
      "Found 62 clusters\n"
     ]
    },
    {
     "data": {
      "text/plain": "  0%|          | Permuting : 0/99 [00:00<?,       ?it/s]",
      "application/vnd.jupyter.widget-view+json": {
       "version_major": 2,
       "version_minor": 0,
       "model_id": "a8387faa7ba846b2aa5606b4d46fe242"
      }
     },
     "metadata": {},
     "output_type": "display_data"
    },
    {
     "name": "stdout",
     "output_type": "stream",
     "text": [
      "Step-down-in-jumps iteration #1 found 1 cluster to exclude from subsequent iterations\n"
     ]
    },
    {
     "data": {
      "text/plain": "  0%|          | Permuting : 0/99 [00:00<?,       ?it/s]",
      "application/vnd.jupyter.widget-view+json": {
       "version_major": 2,
       "version_minor": 0,
       "model_id": "0db167bcc67945808a25ab412ecb373a"
      }
     },
     "metadata": {},
     "output_type": "display_data"
    },
    {
     "name": "stdout",
     "output_type": "stream",
     "text": [
      "Step-down-in-jumps iteration #2 found 0 additional clusters to exclude from subsequent iterations\n",
      "NOTE: pick_channels() is a legacy function. New code should use inst.pick(...).\n",
      "No baseline correction applied\n",
      "Using a threshold of 1.894579\n",
      "stat_fun(H1): min=-8.866571 max=5.519789\n",
      "Running initial clustering …\n",
      "Found 44 clusters\n"
     ]
    },
    {
     "data": {
      "text/plain": "  0%|          | Permuting : 0/99 [00:00<?,       ?it/s]",
      "application/vnd.jupyter.widget-view+json": {
       "version_major": 2,
       "version_minor": 0,
       "model_id": "9817881021ac4fc886efb8d3224b6e39"
      }
     },
     "metadata": {},
     "output_type": "display_data"
    },
    {
     "name": "stdout",
     "output_type": "stream",
     "text": [
      "Step-down-in-jumps iteration #1 found 0 clusters to exclude from subsequent iterations\n",
      "Using a threshold of -1.894579\n",
      "stat_fun(H1): min=-8.866571 max=5.519789\n",
      "Running initial clustering …\n",
      "Found 40 clusters\n"
     ]
    },
    {
     "data": {
      "text/plain": "  0%|          | Permuting : 0/99 [00:00<?,       ?it/s]",
      "application/vnd.jupyter.widget-view+json": {
       "version_major": 2,
       "version_minor": 0,
       "model_id": "d8f3dcedcebc4a399a678d10f7742af6"
      }
     },
     "metadata": {},
     "output_type": "display_data"
    },
    {
     "name": "stdout",
     "output_type": "stream",
     "text": [
      "Step-down-in-jumps iteration #1 found 0 clusters to exclude from subsequent iterations\n",
      "NOTE: pick_channels() is a legacy function. New code should use inst.pick(...).\n",
      "No baseline correction applied\n",
      "Creating RawArray with float64 data, n_channels=15, n_times=45000\n",
      "    Range : 0 ... 44999 =      0.000 ...    44.999 secs\n",
      "Ready.\n",
      "Not setting metadata\n",
      "8 matching events found\n",
      "No baseline correction applied\n",
      "0 projection items activated\n",
      "Using data from preloaded Raw for 8 events and 5001 original time points ...\n",
      "0 bad epochs dropped\n"
     ]
    },
    {
     "name": "stderr",
     "output_type": "stream",
     "text": [
      "[Parallel(n_jobs=1)]: Using backend SequentialBackend with 1 concurrent workers.\n",
      "[Parallel(n_jobs=1)]: Done   1 out of   1 | elapsed:    0.1s remaining:    0.0s\n",
      "[Parallel(n_jobs=1)]: Done   2 out of   2 | elapsed:    0.2s remaining:    0.0s\n",
      "[Parallel(n_jobs=1)]: Done   3 out of   3 | elapsed:    0.4s remaining:    0.0s\n",
      "[Parallel(n_jobs=1)]: Done   4 out of   4 | elapsed:    0.6s remaining:    0.0s\n"
     ]
    },
    {
     "name": "stdout",
     "output_type": "stream",
     "text": [
      "Not setting metadata\n",
      "Applying baseline correction (mode: percent)\n"
     ]
    },
    {
     "name": "stderr",
     "output_type": "stream",
     "text": [
      "[Parallel(n_jobs=1)]: Done  15 out of  15 | elapsed:    2.5s finished\n"
     ]
    },
    {
     "name": "stdout",
     "output_type": "stream",
     "text": [
      "Using a threshold of 1.894579\n",
      "stat_fun(H1): min=-11.424831 max=6.679866\n",
      "Running initial clustering …\n",
      "Found 68 clusters\n"
     ]
    },
    {
     "data": {
      "text/plain": "  0%|          | Permuting : 0/99 [00:00<?,       ?it/s]",
      "application/vnd.jupyter.widget-view+json": {
       "version_major": 2,
       "version_minor": 0,
       "model_id": "757f3f8f1def49d88e31e7883c0b8ea1"
      }
     },
     "metadata": {},
     "output_type": "display_data"
    },
    {
     "name": "stdout",
     "output_type": "stream",
     "text": [
      "Step-down-in-jumps iteration #1 found 0 clusters to exclude from subsequent iterations\n",
      "Using a threshold of -1.894579\n",
      "stat_fun(H1): min=-11.424831 max=6.679866\n",
      "Running initial clustering …\n",
      "Found 34 clusters\n"
     ]
    },
    {
     "data": {
      "text/plain": "  0%|          | Permuting : 0/99 [00:00<?,       ?it/s]",
      "application/vnd.jupyter.widget-view+json": {
       "version_major": 2,
       "version_minor": 0,
       "model_id": "534eaff714264198a317a8196ed8015d"
      }
     },
     "metadata": {},
     "output_type": "display_data"
    },
    {
     "name": "stdout",
     "output_type": "stream",
     "text": [
      "Step-down-in-jumps iteration #1 found 0 clusters to exclude from subsequent iterations\n",
      "NOTE: pick_channels() is a legacy function. New code should use inst.pick(...).\n",
      "No baseline correction applied\n",
      "Using a threshold of 1.894579\n",
      "stat_fun(H1): min=-9.642263 max=9.289107\n",
      "Running initial clustering …\n",
      "Found 47 clusters\n"
     ]
    },
    {
     "data": {
      "text/plain": "  0%|          | Permuting : 0/99 [00:00<?,       ?it/s]",
      "application/vnd.jupyter.widget-view+json": {
       "version_major": 2,
       "version_minor": 0,
       "model_id": "3d3356bcd63340a58e1cd6480a562f99"
      }
     },
     "metadata": {},
     "output_type": "display_data"
    },
    {
     "name": "stdout",
     "output_type": "stream",
     "text": [
      "Step-down-in-jumps iteration #1 found 0 clusters to exclude from subsequent iterations\n",
      "Using a threshold of -1.894579\n",
      "stat_fun(H1): min=-9.642263 max=9.289107\n",
      "Running initial clustering …\n",
      "Found 47 clusters\n"
     ]
    },
    {
     "data": {
      "text/plain": "  0%|          | Permuting : 0/99 [00:00<?,       ?it/s]",
      "application/vnd.jupyter.widget-view+json": {
       "version_major": 2,
       "version_minor": 0,
       "model_id": "6cd5c622d9e44c69939cf11864af9923"
      }
     },
     "metadata": {},
     "output_type": "display_data"
    },
    {
     "name": "stdout",
     "output_type": "stream",
     "text": [
      "Step-down-in-jumps iteration #1 found 0 clusters to exclude from subsequent iterations\n",
      "NOTE: pick_channels() is a legacy function. New code should use inst.pick(...).\n",
      "No baseline correction applied\n",
      "Using a threshold of 1.894579\n",
      "stat_fun(H1): min=-22.110085 max=9.027500\n",
      "Running initial clustering …\n",
      "Found 34 clusters\n"
     ]
    },
    {
     "data": {
      "text/plain": "  0%|          | Permuting : 0/99 [00:00<?,       ?it/s]",
      "application/vnd.jupyter.widget-view+json": {
       "version_major": 2,
       "version_minor": 0,
       "model_id": "ee8cb14a064f49c49a2fa368dbdf7764"
      }
     },
     "metadata": {},
     "output_type": "display_data"
    },
    {
     "name": "stdout",
     "output_type": "stream",
     "text": [
      "Step-down-in-jumps iteration #1 found 0 clusters to exclude from subsequent iterations\n",
      "Using a threshold of -1.894579\n",
      "stat_fun(H1): min=-22.110085 max=9.027500\n",
      "Running initial clustering …\n",
      "Found 35 clusters\n"
     ]
    },
    {
     "data": {
      "text/plain": "  0%|          | Permuting : 0/99 [00:00<?,       ?it/s]",
      "application/vnd.jupyter.widget-view+json": {
       "version_major": 2,
       "version_minor": 0,
       "model_id": "4d44c19c124a4f4da999baf74c15d0da"
      }
     },
     "metadata": {},
     "output_type": "display_data"
    },
    {
     "name": "stdout",
     "output_type": "stream",
     "text": [
      "Step-down-in-jumps iteration #1 found 1 cluster to exclude from subsequent iterations\n"
     ]
    },
    {
     "data": {
      "text/plain": "  0%|          | Permuting : 0/99 [00:00<?,       ?it/s]",
      "application/vnd.jupyter.widget-view+json": {
       "version_major": 2,
       "version_minor": 0,
       "model_id": "a1ab5d1ef75e4b00b288333dbfe0409c"
      }
     },
     "metadata": {},
     "output_type": "display_data"
    },
    {
     "name": "stdout",
     "output_type": "stream",
     "text": [
      "Step-down-in-jumps iteration #2 found 1 additional cluster to exclude from subsequent iterations\n"
     ]
    },
    {
     "data": {
      "text/plain": "  0%|          | Permuting : 0/99 [00:00<?,       ?it/s]",
      "application/vnd.jupyter.widget-view+json": {
       "version_major": 2,
       "version_minor": 0,
       "model_id": "93defb3d73aa4b1abd9b3fd1f6d254fe"
      }
     },
     "metadata": {},
     "output_type": "display_data"
    },
    {
     "name": "stdout",
     "output_type": "stream",
     "text": [
      "Step-down-in-jumps iteration #3 found 0 additional clusters to exclude from subsequent iterations\n",
      "NOTE: pick_channels() is a legacy function. New code should use inst.pick(...).\n",
      "No baseline correction applied\n",
      "Using a threshold of 1.894579\n",
      "stat_fun(H1): min=-8.935260 max=5.960151\n",
      "Running initial clustering …\n",
      "Found 61 clusters\n"
     ]
    },
    {
     "data": {
      "text/plain": "  0%|          | Permuting : 0/99 [00:00<?,       ?it/s]",
      "application/vnd.jupyter.widget-view+json": {
       "version_major": 2,
       "version_minor": 0,
       "model_id": "b5793146ed0d47c287778396ceccc68a"
      }
     },
     "metadata": {},
     "output_type": "display_data"
    },
    {
     "name": "stdout",
     "output_type": "stream",
     "text": [
      "Step-down-in-jumps iteration #1 found 0 clusters to exclude from subsequent iterations\n",
      "Using a threshold of -1.894579\n",
      "stat_fun(H1): min=-8.935260 max=5.960151\n",
      "Running initial clustering …\n",
      "Found 53 clusters\n"
     ]
    },
    {
     "data": {
      "text/plain": "  0%|          | Permuting : 0/99 [00:00<?,       ?it/s]",
      "application/vnd.jupyter.widget-view+json": {
       "version_major": 2,
       "version_minor": 0,
       "model_id": "1097608629e84043b10dfaa5fde41253"
      }
     },
     "metadata": {},
     "output_type": "display_data"
    },
    {
     "name": "stdout",
     "output_type": "stream",
     "text": [
      "Step-down-in-jumps iteration #1 found 0 clusters to exclude from subsequent iterations\n",
      "NOTE: pick_channels() is a legacy function. New code should use inst.pick(...).\n",
      "No baseline correction applied\n",
      "Using a threshold of 1.894579\n",
      "stat_fun(H1): min=-18.634897 max=7.854192\n",
      "Running initial clustering …\n",
      "Found 33 clusters\n"
     ]
    },
    {
     "data": {
      "text/plain": "  0%|          | Permuting : 0/99 [00:00<?,       ?it/s]",
      "application/vnd.jupyter.widget-view+json": {
       "version_major": 2,
       "version_minor": 0,
       "model_id": "7a7db6ad5fa34710811f05f6398416b3"
      }
     },
     "metadata": {},
     "output_type": "display_data"
    },
    {
     "name": "stdout",
     "output_type": "stream",
     "text": [
      "Step-down-in-jumps iteration #1 found 0 clusters to exclude from subsequent iterations\n",
      "Using a threshold of -1.894579\n",
      "stat_fun(H1): min=-18.634897 max=7.854192\n",
      "Running initial clustering …\n",
      "Found 51 clusters\n"
     ]
    },
    {
     "data": {
      "text/plain": "  0%|          | Permuting : 0/99 [00:00<?,       ?it/s]",
      "application/vnd.jupyter.widget-view+json": {
       "version_major": 2,
       "version_minor": 0,
       "model_id": "a8c263b9bacb4632a9c39a0794b95000"
      }
     },
     "metadata": {},
     "output_type": "display_data"
    },
    {
     "name": "stdout",
     "output_type": "stream",
     "text": [
      "Step-down-in-jumps iteration #1 found 1 cluster to exclude from subsequent iterations\n"
     ]
    },
    {
     "data": {
      "text/plain": "  0%|          | Permuting : 0/99 [00:00<?,       ?it/s]",
      "application/vnd.jupyter.widget-view+json": {
       "version_major": 2,
       "version_minor": 0,
       "model_id": "9a2fc72b9df340deabe82cf4d3786cda"
      }
     },
     "metadata": {},
     "output_type": "display_data"
    },
    {
     "name": "stdout",
     "output_type": "stream",
     "text": [
      "Step-down-in-jumps iteration #2 found 0 additional clusters to exclude from subsequent iterations\n",
      "NOTE: pick_channels() is a legacy function. New code should use inst.pick(...).\n",
      "No baseline correction applied\n",
      "Using a threshold of 1.894579\n",
      "stat_fun(H1): min=-21.127544 max=10.264734\n",
      "Running initial clustering …\n",
      "Found 54 clusters\n"
     ]
    },
    {
     "data": {
      "text/plain": "  0%|          | Permuting : 0/99 [00:00<?,       ?it/s]",
      "application/vnd.jupyter.widget-view+json": {
       "version_major": 2,
       "version_minor": 0,
       "model_id": "e6aac5cfdd234454ba08dae55dd128db"
      }
     },
     "metadata": {},
     "output_type": "display_data"
    },
    {
     "name": "stdout",
     "output_type": "stream",
     "text": [
      "Step-down-in-jumps iteration #1 found 0 clusters to exclude from subsequent iterations\n",
      "Using a threshold of -1.894579\n",
      "stat_fun(H1): min=-21.127544 max=10.264734\n",
      "Running initial clustering …\n",
      "Found 51 clusters\n"
     ]
    },
    {
     "data": {
      "text/plain": "  0%|          | Permuting : 0/99 [00:00<?,       ?it/s]",
      "application/vnd.jupyter.widget-view+json": {
       "version_major": 2,
       "version_minor": 0,
       "model_id": "53ff6233c9ad4b95af3388cbabefe299"
      }
     },
     "metadata": {},
     "output_type": "display_data"
    },
    {
     "name": "stdout",
     "output_type": "stream",
     "text": [
      "Step-down-in-jumps iteration #1 found 1 cluster to exclude from subsequent iterations\n"
     ]
    },
    {
     "data": {
      "text/plain": "  0%|          | Permuting : 0/99 [00:00<?,       ?it/s]",
      "application/vnd.jupyter.widget-view+json": {
       "version_major": 2,
       "version_minor": 0,
       "model_id": "41391b2bda2549f1b982f2ca25b3b728"
      }
     },
     "metadata": {},
     "output_type": "display_data"
    },
    {
     "name": "stdout",
     "output_type": "stream",
     "text": [
      "Step-down-in-jumps iteration #2 found 0 additional clusters to exclude from subsequent iterations\n",
      "NOTE: pick_channels() is a legacy function. New code should use inst.pick(...).\n",
      "No baseline correction applied\n",
      "Using a threshold of 1.894579\n",
      "stat_fun(H1): min=-12.975976 max=5.536873\n",
      "Running initial clustering …\n",
      "Found 40 clusters\n"
     ]
    },
    {
     "data": {
      "text/plain": "  0%|          | Permuting : 0/99 [00:00<?,       ?it/s]",
      "application/vnd.jupyter.widget-view+json": {
       "version_major": 2,
       "version_minor": 0,
       "model_id": "5446efac926f4433afb6ce8af401decc"
      }
     },
     "metadata": {},
     "output_type": "display_data"
    },
    {
     "name": "stdout",
     "output_type": "stream",
     "text": [
      "Step-down-in-jumps iteration #1 found 0 clusters to exclude from subsequent iterations\n",
      "Using a threshold of -1.894579\n",
      "stat_fun(H1): min=-12.975976 max=5.536873\n",
      "Running initial clustering …\n",
      "Found 38 clusters\n"
     ]
    },
    {
     "data": {
      "text/plain": "  0%|          | Permuting : 0/99 [00:00<?,       ?it/s]",
      "application/vnd.jupyter.widget-view+json": {
       "version_major": 2,
       "version_minor": 0,
       "model_id": "ef4abbcdd9f04e03a43248852cb9a243"
      }
     },
     "metadata": {},
     "output_type": "display_data"
    },
    {
     "name": "stdout",
     "output_type": "stream",
     "text": [
      "Step-down-in-jumps iteration #1 found 1 cluster to exclude from subsequent iterations\n"
     ]
    },
    {
     "data": {
      "text/plain": "  0%|          | Permuting : 0/99 [00:00<?,       ?it/s]",
      "application/vnd.jupyter.widget-view+json": {
       "version_major": 2,
       "version_minor": 0,
       "model_id": "e37be95b77ce45ef9fa3c086b0cc0f1f"
      }
     },
     "metadata": {},
     "output_type": "display_data"
    },
    {
     "name": "stdout",
     "output_type": "stream",
     "text": [
      "Step-down-in-jumps iteration #2 found 1 additional cluster to exclude from subsequent iterations\n"
     ]
    },
    {
     "data": {
      "text/plain": "  0%|          | Permuting : 0/99 [00:00<?,       ?it/s]",
      "application/vnd.jupyter.widget-view+json": {
       "version_major": 2,
       "version_minor": 0,
       "model_id": "dd971bd91d6b47bfa3f1d7b031b38f24"
      }
     },
     "metadata": {},
     "output_type": "display_data"
    },
    {
     "name": "stdout",
     "output_type": "stream",
     "text": [
      "Step-down-in-jumps iteration #3 found 0 additional clusters to exclude from subsequent iterations\n",
      "NOTE: pick_channels() is a legacy function. New code should use inst.pick(...).\n",
      "No baseline correction applied\n",
      "Using a threshold of 1.894579\n",
      "stat_fun(H1): min=-17.775865 max=7.203920\n",
      "Running initial clustering …\n",
      "Found 31 clusters\n"
     ]
    },
    {
     "data": {
      "text/plain": "  0%|          | Permuting : 0/99 [00:00<?,       ?it/s]",
      "application/vnd.jupyter.widget-view+json": {
       "version_major": 2,
       "version_minor": 0,
       "model_id": "3b9d4191d57a4685bdd57105cdfaf0d0"
      }
     },
     "metadata": {},
     "output_type": "display_data"
    },
    {
     "name": "stdout",
     "output_type": "stream",
     "text": [
      "Step-down-in-jumps iteration #1 found 0 clusters to exclude from subsequent iterations\n",
      "Using a threshold of -1.894579\n",
      "stat_fun(H1): min=-17.775865 max=7.203920\n",
      "Running initial clustering …\n",
      "Found 58 clusters\n"
     ]
    },
    {
     "data": {
      "text/plain": "  0%|          | Permuting : 0/99 [00:00<?,       ?it/s]",
      "application/vnd.jupyter.widget-view+json": {
       "version_major": 2,
       "version_minor": 0,
       "model_id": "48b8be18c3d54ae5a73ad1284b8e6d9e"
      }
     },
     "metadata": {},
     "output_type": "display_data"
    },
    {
     "name": "stdout",
     "output_type": "stream",
     "text": [
      "Step-down-in-jumps iteration #1 found 2 clusters to exclude from subsequent iterations\n"
     ]
    },
    {
     "data": {
      "text/plain": "  0%|          | Permuting : 0/99 [00:00<?,       ?it/s]",
      "application/vnd.jupyter.widget-view+json": {
       "version_major": 2,
       "version_minor": 0,
       "model_id": "d3fe5b1d60564c91a1a8ec1a1abe49af"
      }
     },
     "metadata": {},
     "output_type": "display_data"
    },
    {
     "name": "stdout",
     "output_type": "stream",
     "text": [
      "Step-down-in-jumps iteration #2 found 1 additional cluster to exclude from subsequent iterations\n"
     ]
    },
    {
     "data": {
      "text/plain": "  0%|          | Permuting : 0/99 [00:00<?,       ?it/s]",
      "application/vnd.jupyter.widget-view+json": {
       "version_major": 2,
       "version_minor": 0,
       "model_id": "2a106e64b13b4f5c977c63eea542a789"
      }
     },
     "metadata": {},
     "output_type": "display_data"
    },
    {
     "name": "stdout",
     "output_type": "stream",
     "text": [
      "Step-down-in-jumps iteration #3 found 0 additional clusters to exclude from subsequent iterations\n",
      "NOTE: pick_channels() is a legacy function. New code should use inst.pick(...).\n",
      "No baseline correction applied\n",
      "Using a threshold of 1.894579\n",
      "stat_fun(H1): min=-17.296098 max=8.419925\n",
      "Running initial clustering …\n",
      "Found 33 clusters\n"
     ]
    },
    {
     "data": {
      "text/plain": "  0%|          | Permuting : 0/99 [00:00<?,       ?it/s]",
      "application/vnd.jupyter.widget-view+json": {
       "version_major": 2,
       "version_minor": 0,
       "model_id": "4d34f7d8ebc44870a4364e1a6d5dcfb8"
      }
     },
     "metadata": {},
     "output_type": "display_data"
    },
    {
     "name": "stdout",
     "output_type": "stream",
     "text": [
      "Step-down-in-jumps iteration #1 found 0 clusters to exclude from subsequent iterations\n",
      "Using a threshold of -1.894579\n",
      "stat_fun(H1): min=-17.296098 max=8.419925\n",
      "Running initial clustering …\n",
      "Found 26 clusters\n"
     ]
    },
    {
     "data": {
      "text/plain": "  0%|          | Permuting : 0/99 [00:00<?,       ?it/s]",
      "application/vnd.jupyter.widget-view+json": {
       "version_major": 2,
       "version_minor": 0,
       "model_id": "13274dcecf0645b6a8e34b2c0dbfdef2"
      }
     },
     "metadata": {},
     "output_type": "display_data"
    },
    {
     "name": "stdout",
     "output_type": "stream",
     "text": [
      "Step-down-in-jumps iteration #1 found 1 cluster to exclude from subsequent iterations\n"
     ]
    },
    {
     "data": {
      "text/plain": "  0%|          | Permuting : 0/99 [00:00<?,       ?it/s]",
      "application/vnd.jupyter.widget-view+json": {
       "version_major": 2,
       "version_minor": 0,
       "model_id": "30ec54a73dde4349a7e4b93121f429b6"
      }
     },
     "metadata": {},
     "output_type": "display_data"
    },
    {
     "name": "stdout",
     "output_type": "stream",
     "text": [
      "Step-down-in-jumps iteration #2 found 0 additional clusters to exclude from subsequent iterations\n",
      "NOTE: pick_channels() is a legacy function. New code should use inst.pick(...).\n",
      "No baseline correction applied\n",
      "Using a threshold of 1.894579\n",
      "stat_fun(H1): min=-21.127544 max=10.264734\n",
      "Running initial clustering …\n",
      "Found 54 clusters\n"
     ]
    },
    {
     "data": {
      "text/plain": "  0%|          | Permuting : 0/99 [00:00<?,       ?it/s]",
      "application/vnd.jupyter.widget-view+json": {
       "version_major": 2,
       "version_minor": 0,
       "model_id": "70f144bf28df47c4914e9cd973682bd4"
      }
     },
     "metadata": {},
     "output_type": "display_data"
    },
    {
     "name": "stdout",
     "output_type": "stream",
     "text": [
      "Step-down-in-jumps iteration #1 found 0 clusters to exclude from subsequent iterations\n",
      "Using a threshold of -1.894579\n",
      "stat_fun(H1): min=-21.127544 max=10.264734\n",
      "Running initial clustering …\n",
      "Found 51 clusters\n"
     ]
    },
    {
     "data": {
      "text/plain": "  0%|          | Permuting : 0/99 [00:00<?,       ?it/s]",
      "application/vnd.jupyter.widget-view+json": {
       "version_major": 2,
       "version_minor": 0,
       "model_id": "e16d99de1a374fcda2d05d199b773ec0"
      }
     },
     "metadata": {},
     "output_type": "display_data"
    },
    {
     "name": "stdout",
     "output_type": "stream",
     "text": [
      "Step-down-in-jumps iteration #1 found 1 cluster to exclude from subsequent iterations\n"
     ]
    },
    {
     "data": {
      "text/plain": "  0%|          | Permuting : 0/99 [00:00<?,       ?it/s]",
      "application/vnd.jupyter.widget-view+json": {
       "version_major": 2,
       "version_minor": 0,
       "model_id": "23ef961e9ff244cab06e1ef1ccf336a4"
      }
     },
     "metadata": {},
     "output_type": "display_data"
    },
    {
     "name": "stdout",
     "output_type": "stream",
     "text": [
      "Step-down-in-jumps iteration #2 found 0 additional clusters to exclude from subsequent iterations\n",
      "NOTE: pick_channels() is a legacy function. New code should use inst.pick(...).\n",
      "No baseline correction applied\n",
      "Using a threshold of 1.894579\n",
      "stat_fun(H1): min=-12.370075 max=6.087500\n",
      "Running initial clustering …\n",
      "Found 43 clusters\n"
     ]
    },
    {
     "data": {
      "text/plain": "  0%|          | Permuting : 0/99 [00:00<?,       ?it/s]",
      "application/vnd.jupyter.widget-view+json": {
       "version_major": 2,
       "version_minor": 0,
       "model_id": "209e75582d0d4eec937a6e54573c3380"
      }
     },
     "metadata": {},
     "output_type": "display_data"
    },
    {
     "name": "stdout",
     "output_type": "stream",
     "text": [
      "Step-down-in-jumps iteration #1 found 0 clusters to exclude from subsequent iterations\n",
      "Using a threshold of -1.894579\n",
      "stat_fun(H1): min=-12.370075 max=6.087500\n",
      "Running initial clustering …\n",
      "Found 48 clusters\n"
     ]
    },
    {
     "data": {
      "text/plain": "  0%|          | Permuting : 0/99 [00:00<?,       ?it/s]",
      "application/vnd.jupyter.widget-view+json": {
       "version_major": 2,
       "version_minor": 0,
       "model_id": "ab533d8c2e57456a9bb69c9dd97fff1e"
      }
     },
     "metadata": {},
     "output_type": "display_data"
    },
    {
     "name": "stdout",
     "output_type": "stream",
     "text": [
      "Step-down-in-jumps iteration #1 found 1 cluster to exclude from subsequent iterations\n"
     ]
    },
    {
     "data": {
      "text/plain": "  0%|          | Permuting : 0/99 [00:00<?,       ?it/s]",
      "application/vnd.jupyter.widget-view+json": {
       "version_major": 2,
       "version_minor": 0,
       "model_id": "5268703989004af793bd1fc7fcca05a9"
      }
     },
     "metadata": {},
     "output_type": "display_data"
    },
    {
     "name": "stdout",
     "output_type": "stream",
     "text": [
      "Step-down-in-jumps iteration #2 found 1 additional cluster to exclude from subsequent iterations\n"
     ]
    },
    {
     "data": {
      "text/plain": "  0%|          | Permuting : 0/99 [00:00<?,       ?it/s]",
      "application/vnd.jupyter.widget-view+json": {
       "version_major": 2,
       "version_minor": 0,
       "model_id": "e066edc0604e4166a74a016562a7f46b"
      }
     },
     "metadata": {},
     "output_type": "display_data"
    },
    {
     "name": "stdout",
     "output_type": "stream",
     "text": [
      "Step-down-in-jumps iteration #3 found 0 additional clusters to exclude from subsequent iterations\n",
      "NOTE: pick_channels() is a legacy function. New code should use inst.pick(...).\n",
      "No baseline correction applied\n",
      "Using a threshold of 1.894579\n",
      "stat_fun(H1): min=-12.401547 max=5.670425\n",
      "Running initial clustering …\n",
      "Found 61 clusters\n"
     ]
    },
    {
     "data": {
      "text/plain": "  0%|          | Permuting : 0/99 [00:00<?,       ?it/s]",
      "application/vnd.jupyter.widget-view+json": {
       "version_major": 2,
       "version_minor": 0,
       "model_id": "3b996fae6b954a3ba8822bb7ca9218ba"
      }
     },
     "metadata": {},
     "output_type": "display_data"
    },
    {
     "name": "stdout",
     "output_type": "stream",
     "text": [
      "Step-down-in-jumps iteration #1 found 0 clusters to exclude from subsequent iterations\n",
      "Using a threshold of -1.894579\n",
      "stat_fun(H1): min=-12.401547 max=5.670425\n",
      "Running initial clustering …\n",
      "Found 51 clusters\n"
     ]
    },
    {
     "data": {
      "text/plain": "  0%|          | Permuting : 0/99 [00:00<?,       ?it/s]",
      "application/vnd.jupyter.widget-view+json": {
       "version_major": 2,
       "version_minor": 0,
       "model_id": "69747d2b515e40a0b5f2d59926adcf4a"
      }
     },
     "metadata": {},
     "output_type": "display_data"
    },
    {
     "name": "stdout",
     "output_type": "stream",
     "text": [
      "Step-down-in-jumps iteration #1 found 1 cluster to exclude from subsequent iterations\n"
     ]
    },
    {
     "data": {
      "text/plain": "  0%|          | Permuting : 0/99 [00:00<?,       ?it/s]",
      "application/vnd.jupyter.widget-view+json": {
       "version_major": 2,
       "version_minor": 0,
       "model_id": "461ef0844efe4a2a8d3b3a258dee9820"
      }
     },
     "metadata": {},
     "output_type": "display_data"
    },
    {
     "name": "stdout",
     "output_type": "stream",
     "text": [
      "Step-down-in-jumps iteration #2 found 0 additional clusters to exclude from subsequent iterations\n",
      "NOTE: pick_channels() is a legacy function. New code should use inst.pick(...).\n",
      "No baseline correction applied\n",
      "Using a threshold of 1.894579\n",
      "stat_fun(H1): min=-11.097496 max=7.327524\n",
      "Running initial clustering …\n",
      "Found 60 clusters\n"
     ]
    },
    {
     "data": {
      "text/plain": "  0%|          | Permuting : 0/99 [00:00<?,       ?it/s]",
      "application/vnd.jupyter.widget-view+json": {
       "version_major": 2,
       "version_minor": 0,
       "model_id": "9155d953b022422f82778ec4b1371473"
      }
     },
     "metadata": {},
     "output_type": "display_data"
    },
    {
     "name": "stdout",
     "output_type": "stream",
     "text": [
      "Step-down-in-jumps iteration #1 found 0 clusters to exclude from subsequent iterations\n",
      "Using a threshold of -1.894579\n",
      "stat_fun(H1): min=-11.097496 max=7.327524\n",
      "Running initial clustering …\n",
      "Found 38 clusters\n"
     ]
    },
    {
     "data": {
      "text/plain": "  0%|          | Permuting : 0/99 [00:00<?,       ?it/s]",
      "application/vnd.jupyter.widget-view+json": {
       "version_major": 2,
       "version_minor": 0,
       "model_id": "0618c1fb15264cbba4a009c0f94db626"
      }
     },
     "metadata": {},
     "output_type": "display_data"
    },
    {
     "name": "stdout",
     "output_type": "stream",
     "text": [
      "Step-down-in-jumps iteration #1 found 0 clusters to exclude from subsequent iterations\n",
      "NOTE: pick_channels() is a legacy function. New code should use inst.pick(...).\n",
      "No baseline correction applied\n",
      "Using a threshold of 1.894579\n",
      "stat_fun(H1): min=-18.089588 max=7.441895\n",
      "Running initial clustering …\n",
      "Found 51 clusters\n"
     ]
    },
    {
     "data": {
      "text/plain": "  0%|          | Permuting : 0/99 [00:00<?,       ?it/s]",
      "application/vnd.jupyter.widget-view+json": {
       "version_major": 2,
       "version_minor": 0,
       "model_id": "d95c327a5ec340dd8355b97ee5a06577"
      }
     },
     "metadata": {},
     "output_type": "display_data"
    },
    {
     "name": "stdout",
     "output_type": "stream",
     "text": [
      "Step-down-in-jumps iteration #1 found 0 clusters to exclude from subsequent iterations\n",
      "Using a threshold of -1.894579\n",
      "stat_fun(H1): min=-18.089588 max=7.441895\n",
      "Running initial clustering …\n",
      "Found 49 clusters\n"
     ]
    },
    {
     "data": {
      "text/plain": "  0%|          | Permuting : 0/99 [00:00<?,       ?it/s]",
      "application/vnd.jupyter.widget-view+json": {
       "version_major": 2,
       "version_minor": 0,
       "model_id": "dfbe5b63702f4fc9aae1875ec5917079"
      }
     },
     "metadata": {},
     "output_type": "display_data"
    },
    {
     "name": "stdout",
     "output_type": "stream",
     "text": [
      "Step-down-in-jumps iteration #1 found 1 cluster to exclude from subsequent iterations\n"
     ]
    },
    {
     "data": {
      "text/plain": "  0%|          | Permuting : 0/99 [00:00<?,       ?it/s]",
      "application/vnd.jupyter.widget-view+json": {
       "version_major": 2,
       "version_minor": 0,
       "model_id": "f7f20ed825c448aea97df47964a51fb3"
      }
     },
     "metadata": {},
     "output_type": "display_data"
    },
    {
     "name": "stdout",
     "output_type": "stream",
     "text": [
      "Step-down-in-jumps iteration #2 found 0 additional clusters to exclude from subsequent iterations\n",
      "NOTE: pick_channels() is a legacy function. New code should use inst.pick(...).\n",
      "No baseline correction applied\n",
      "Using a threshold of 1.894579\n",
      "stat_fun(H1): min=-14.944088 max=5.026538\n",
      "Running initial clustering …\n",
      "Found 29 clusters\n"
     ]
    },
    {
     "data": {
      "text/plain": "  0%|          | Permuting : 0/99 [00:00<?,       ?it/s]",
      "application/vnd.jupyter.widget-view+json": {
       "version_major": 2,
       "version_minor": 0,
       "model_id": "321974016af1410b87f8940cfab094ca"
      }
     },
     "metadata": {},
     "output_type": "display_data"
    },
    {
     "name": "stdout",
     "output_type": "stream",
     "text": [
      "Step-down-in-jumps iteration #1 found 1 cluster to exclude from subsequent iterations\n"
     ]
    },
    {
     "data": {
      "text/plain": "  0%|          | Permuting : 0/99 [00:00<?,       ?it/s]",
      "application/vnd.jupyter.widget-view+json": {
       "version_major": 2,
       "version_minor": 0,
       "model_id": "fc5ea9c3e652487792bbb126a8d1e0f3"
      }
     },
     "metadata": {},
     "output_type": "display_data"
    },
    {
     "name": "stdout",
     "output_type": "stream",
     "text": [
      "Step-down-in-jumps iteration #2 found 0 additional clusters to exclude from subsequent iterations\n",
      "Using a threshold of -1.894579\n",
      "stat_fun(H1): min=-14.944088 max=5.026538\n",
      "Running initial clustering …\n",
      "Found 56 clusters\n"
     ]
    },
    {
     "data": {
      "text/plain": "  0%|          | Permuting : 0/99 [00:00<?,       ?it/s]",
      "application/vnd.jupyter.widget-view+json": {
       "version_major": 2,
       "version_minor": 0,
       "model_id": "f87ec73e780047d38c2d9da04ad164ec"
      }
     },
     "metadata": {},
     "output_type": "display_data"
    },
    {
     "name": "stdout",
     "output_type": "stream",
     "text": [
      "Step-down-in-jumps iteration #1 found 1 cluster to exclude from subsequent iterations\n"
     ]
    },
    {
     "data": {
      "text/plain": "  0%|          | Permuting : 0/99 [00:00<?,       ?it/s]",
      "application/vnd.jupyter.widget-view+json": {
       "version_major": 2,
       "version_minor": 0,
       "model_id": "1a6421f4ce544d07b6074516bd768649"
      }
     },
     "metadata": {},
     "output_type": "display_data"
    },
    {
     "name": "stdout",
     "output_type": "stream",
     "text": [
      "Step-down-in-jumps iteration #2 found 0 additional clusters to exclude from subsequent iterations\n",
      "NOTE: pick_channels() is a legacy function. New code should use inst.pick(...).\n",
      "No baseline correction applied\n",
      "Creating RawArray with float64 data, n_channels=15, n_times=45000\n",
      "    Range : 0 ... 44999 =      0.000 ...    44.999 secs\n",
      "Ready.\n",
      "Not setting metadata\n",
      "8 matching events found\n",
      "No baseline correction applied\n",
      "0 projection items activated\n",
      "Using data from preloaded Raw for 8 events and 5001 original time points ...\n",
      "0 bad epochs dropped\n"
     ]
    },
    {
     "name": "stderr",
     "output_type": "stream",
     "text": [
      "[Parallel(n_jobs=1)]: Using backend SequentialBackend with 1 concurrent workers.\n",
      "[Parallel(n_jobs=1)]: Done   1 out of   1 | elapsed:    0.1s remaining:    0.0s\n",
      "[Parallel(n_jobs=1)]: Done   2 out of   2 | elapsed:    0.2s remaining:    0.0s\n",
      "[Parallel(n_jobs=1)]: Done   3 out of   3 | elapsed:    0.4s remaining:    0.0s\n",
      "[Parallel(n_jobs=1)]: Done   4 out of   4 | elapsed:    0.6s remaining:    0.0s\n"
     ]
    },
    {
     "name": "stdout",
     "output_type": "stream",
     "text": [
      "Not setting metadata\n",
      "Applying baseline correction (mode: percent)\n"
     ]
    },
    {
     "name": "stderr",
     "output_type": "stream",
     "text": [
      "[Parallel(n_jobs=1)]: Done  15 out of  15 | elapsed:    2.5s finished\n"
     ]
    },
    {
     "name": "stdout",
     "output_type": "stream",
     "text": [
      "Using a threshold of 1.894579\n",
      "stat_fun(H1): min=-10.525592 max=7.583746\n",
      "Running initial clustering …\n",
      "Found 67 clusters\n"
     ]
    },
    {
     "data": {
      "text/plain": "  0%|          | Permuting : 0/99 [00:00<?,       ?it/s]",
      "application/vnd.jupyter.widget-view+json": {
       "version_major": 2,
       "version_minor": 0,
       "model_id": "9f1c55810f1448cfb52b7e865d43bf46"
      }
     },
     "metadata": {},
     "output_type": "display_data"
    },
    {
     "name": "stdout",
     "output_type": "stream",
     "text": [
      "Step-down-in-jumps iteration #1 found 0 clusters to exclude from subsequent iterations\n",
      "Using a threshold of -1.894579\n",
      "stat_fun(H1): min=-10.525592 max=7.583746\n",
      "Running initial clustering …\n",
      "Found 14 clusters\n"
     ]
    },
    {
     "data": {
      "text/plain": "  0%|          | Permuting : 0/99 [00:00<?,       ?it/s]",
      "application/vnd.jupyter.widget-view+json": {
       "version_major": 2,
       "version_minor": 0,
       "model_id": "059b70d41df941b0a24c7d2aadf1cf0d"
      }
     },
     "metadata": {},
     "output_type": "display_data"
    },
    {
     "name": "stdout",
     "output_type": "stream",
     "text": [
      "Step-down-in-jumps iteration #1 found 1 cluster to exclude from subsequent iterations\n"
     ]
    },
    {
     "data": {
      "text/plain": "  0%|          | Permuting : 0/99 [00:00<?,       ?it/s]",
      "application/vnd.jupyter.widget-view+json": {
       "version_major": 2,
       "version_minor": 0,
       "model_id": "850eaf20ea8c4a6d8127f04f833c8168"
      }
     },
     "metadata": {},
     "output_type": "display_data"
    },
    {
     "name": "stdout",
     "output_type": "stream",
     "text": [
      "Step-down-in-jumps iteration #2 found 0 additional clusters to exclude from subsequent iterations\n",
      "NOTE: pick_channels() is a legacy function. New code should use inst.pick(...).\n",
      "No baseline correction applied\n",
      "Using a threshold of 1.894579\n",
      "stat_fun(H1): min=-21.958593 max=7.432041\n",
      "Running initial clustering …\n",
      "Found 66 clusters\n"
     ]
    },
    {
     "data": {
      "text/plain": "  0%|          | Permuting : 0/99 [00:00<?,       ?it/s]",
      "application/vnd.jupyter.widget-view+json": {
       "version_major": 2,
       "version_minor": 0,
       "model_id": "bff27404d58d4accb3c734cec6615b56"
      }
     },
     "metadata": {},
     "output_type": "display_data"
    },
    {
     "name": "stdout",
     "output_type": "stream",
     "text": [
      "Step-down-in-jumps iteration #1 found 0 clusters to exclude from subsequent iterations\n",
      "Using a threshold of -1.894579\n",
      "stat_fun(H1): min=-21.958593 max=7.432041\n",
      "Running initial clustering …\n",
      "Found 33 clusters\n"
     ]
    },
    {
     "data": {
      "text/plain": "  0%|          | Permuting : 0/99 [00:00<?,       ?it/s]",
      "application/vnd.jupyter.widget-view+json": {
       "version_major": 2,
       "version_minor": 0,
       "model_id": "7714663bb44f450fa4b06e7597ad006c"
      }
     },
     "metadata": {},
     "output_type": "display_data"
    },
    {
     "name": "stdout",
     "output_type": "stream",
     "text": [
      "Step-down-in-jumps iteration #1 found 0 clusters to exclude from subsequent iterations\n",
      "NOTE: pick_channels() is a legacy function. New code should use inst.pick(...).\n",
      "No baseline correction applied\n",
      "Using a threshold of 1.894579\n",
      "stat_fun(H1): min=-15.710233 max=13.317513\n",
      "Running initial clustering …\n",
      "Found 45 clusters\n"
     ]
    },
    {
     "data": {
      "text/plain": "  0%|          | Permuting : 0/99 [00:00<?,       ?it/s]",
      "application/vnd.jupyter.widget-view+json": {
       "version_major": 2,
       "version_minor": 0,
       "model_id": "3d77730929db4e5a88c4eeb765af0b88"
      }
     },
     "metadata": {},
     "output_type": "display_data"
    },
    {
     "name": "stdout",
     "output_type": "stream",
     "text": [
      "Step-down-in-jumps iteration #1 found 0 clusters to exclude from subsequent iterations\n",
      "Using a threshold of -1.894579\n",
      "stat_fun(H1): min=-15.710233 max=13.317513\n",
      "Running initial clustering …\n",
      "Found 36 clusters\n"
     ]
    },
    {
     "data": {
      "text/plain": "  0%|          | Permuting : 0/99 [00:00<?,       ?it/s]",
      "application/vnd.jupyter.widget-view+json": {
       "version_major": 2,
       "version_minor": 0,
       "model_id": "3a34d4ffdb0f4444a3dbc26d2fac40cc"
      }
     },
     "metadata": {},
     "output_type": "display_data"
    },
    {
     "name": "stdout",
     "output_type": "stream",
     "text": [
      "Step-down-in-jumps iteration #1 found 1 cluster to exclude from subsequent iterations\n"
     ]
    },
    {
     "data": {
      "text/plain": "  0%|          | Permuting : 0/99 [00:00<?,       ?it/s]",
      "application/vnd.jupyter.widget-view+json": {
       "version_major": 2,
       "version_minor": 0,
       "model_id": "f1e12ee430e14df493a5541cba290867"
      }
     },
     "metadata": {},
     "output_type": "display_data"
    },
    {
     "name": "stdout",
     "output_type": "stream",
     "text": [
      "Step-down-in-jumps iteration #2 found 0 additional clusters to exclude from subsequent iterations\n",
      "NOTE: pick_channels() is a legacy function. New code should use inst.pick(...).\n",
      "No baseline correction applied\n",
      "Using a threshold of 1.894579\n",
      "stat_fun(H1): min=-13.101868 max=10.617376\n",
      "Running initial clustering …\n",
      "Found 69 clusters\n"
     ]
    },
    {
     "data": {
      "text/plain": "  0%|          | Permuting : 0/99 [00:00<?,       ?it/s]",
      "application/vnd.jupyter.widget-view+json": {
       "version_major": 2,
       "version_minor": 0,
       "model_id": "efa7bd269dc742dd85ffff79d0331320"
      }
     },
     "metadata": {},
     "output_type": "display_data"
    },
    {
     "name": "stdout",
     "output_type": "stream",
     "text": [
      "Step-down-in-jumps iteration #1 found 0 clusters to exclude from subsequent iterations\n",
      "Using a threshold of -1.894579\n",
      "stat_fun(H1): min=-13.101868 max=10.617376\n",
      "Running initial clustering …\n",
      "Found 21 clusters\n"
     ]
    },
    {
     "data": {
      "text/plain": "  0%|          | Permuting : 0/99 [00:00<?,       ?it/s]",
      "application/vnd.jupyter.widget-view+json": {
       "version_major": 2,
       "version_minor": 0,
       "model_id": "f08296635a3b4e97b10d56dd88559f4a"
      }
     },
     "metadata": {},
     "output_type": "display_data"
    },
    {
     "name": "stdout",
     "output_type": "stream",
     "text": [
      "Step-down-in-jumps iteration #1 found 1 cluster to exclude from subsequent iterations\n"
     ]
    },
    {
     "data": {
      "text/plain": "  0%|          | Permuting : 0/99 [00:00<?,       ?it/s]",
      "application/vnd.jupyter.widget-view+json": {
       "version_major": 2,
       "version_minor": 0,
       "model_id": "8ac43f516f7f4337a512e9fd4f7cc836"
      }
     },
     "metadata": {},
     "output_type": "display_data"
    },
    {
     "name": "stdout",
     "output_type": "stream",
     "text": [
      "Step-down-in-jumps iteration #2 found 0 additional clusters to exclude from subsequent iterations\n",
      "NOTE: pick_channels() is a legacy function. New code should use inst.pick(...).\n",
      "No baseline correction applied\n",
      "Using a threshold of 1.894579\n",
      "stat_fun(H1): min=-10.720259 max=6.457844\n",
      "Running initial clustering …\n",
      "Found 62 clusters\n"
     ]
    },
    {
     "data": {
      "text/plain": "  0%|          | Permuting : 0/99 [00:00<?,       ?it/s]",
      "application/vnd.jupyter.widget-view+json": {
       "version_major": 2,
       "version_minor": 0,
       "model_id": "217c057f4f634c948dd370068d8a5496"
      }
     },
     "metadata": {},
     "output_type": "display_data"
    },
    {
     "name": "stdout",
     "output_type": "stream",
     "text": [
      "Step-down-in-jumps iteration #1 found 0 clusters to exclude from subsequent iterations\n",
      "Using a threshold of -1.894579\n",
      "stat_fun(H1): min=-10.720259 max=6.457844\n",
      "Running initial clustering …\n",
      "Found 26 clusters\n"
     ]
    },
    {
     "data": {
      "text/plain": "  0%|          | Permuting : 0/99 [00:00<?,       ?it/s]",
      "application/vnd.jupyter.widget-view+json": {
       "version_major": 2,
       "version_minor": 0,
       "model_id": "7e56888373c346e59249b788dd3e4f7f"
      }
     },
     "metadata": {},
     "output_type": "display_data"
    },
    {
     "name": "stdout",
     "output_type": "stream",
     "text": [
      "Step-down-in-jumps iteration #1 found 1 cluster to exclude from subsequent iterations\n"
     ]
    },
    {
     "data": {
      "text/plain": "  0%|          | Permuting : 0/99 [00:00<?,       ?it/s]",
      "application/vnd.jupyter.widget-view+json": {
       "version_major": 2,
       "version_minor": 0,
       "model_id": "524e1c32364a45f299e731545edaff0c"
      }
     },
     "metadata": {},
     "output_type": "display_data"
    },
    {
     "name": "stdout",
     "output_type": "stream",
     "text": [
      "Step-down-in-jumps iteration #2 found 0 additional clusters to exclude from subsequent iterations\n",
      "NOTE: pick_channels() is a legacy function. New code should use inst.pick(...).\n",
      "No baseline correction applied\n",
      "Using a threshold of 1.894579\n",
      "stat_fun(H1): min=-21.694007 max=12.805961\n",
      "Running initial clustering …\n",
      "Found 59 clusters\n"
     ]
    },
    {
     "data": {
      "text/plain": "  0%|          | Permuting : 0/99 [00:00<?,       ?it/s]",
      "application/vnd.jupyter.widget-view+json": {
       "version_major": 2,
       "version_minor": 0,
       "model_id": "a53fbd47a34f49f999d70aa137be1c22"
      }
     },
     "metadata": {},
     "output_type": "display_data"
    },
    {
     "name": "stdout",
     "output_type": "stream",
     "text": [
      "Step-down-in-jumps iteration #1 found 0 clusters to exclude from subsequent iterations\n",
      "Using a threshold of -1.894579\n",
      "stat_fun(H1): min=-21.694007 max=12.805961\n",
      "Running initial clustering …\n",
      "Found 26 clusters\n"
     ]
    },
    {
     "data": {
      "text/plain": "  0%|          | Permuting : 0/99 [00:00<?,       ?it/s]",
      "application/vnd.jupyter.widget-view+json": {
       "version_major": 2,
       "version_minor": 0,
       "model_id": "c04552823cdc40c9b1d61fb2e14d91d9"
      }
     },
     "metadata": {},
     "output_type": "display_data"
    },
    {
     "name": "stdout",
     "output_type": "stream",
     "text": [
      "Step-down-in-jumps iteration #1 found 2 clusters to exclude from subsequent iterations\n"
     ]
    },
    {
     "data": {
      "text/plain": "  0%|          | Permuting : 0/99 [00:00<?,       ?it/s]",
      "application/vnd.jupyter.widget-view+json": {
       "version_major": 2,
       "version_minor": 0,
       "model_id": "cb82064dea134d55b86869c803fdfc30"
      }
     },
     "metadata": {},
     "output_type": "display_data"
    },
    {
     "name": "stdout",
     "output_type": "stream",
     "text": [
      "Step-down-in-jumps iteration #2 found 0 additional clusters to exclude from subsequent iterations\n",
      "NOTE: pick_channels() is a legacy function. New code should use inst.pick(...).\n",
      "No baseline correction applied\n",
      "Using a threshold of 1.894579\n",
      "stat_fun(H1): min=-17.464723 max=10.641317\n",
      "Running initial clustering …\n",
      "Found 50 clusters\n"
     ]
    },
    {
     "data": {
      "text/plain": "  0%|          | Permuting : 0/99 [00:00<?,       ?it/s]",
      "application/vnd.jupyter.widget-view+json": {
       "version_major": 2,
       "version_minor": 0,
       "model_id": "982acdf2e8874f198c207f2f53e24d4d"
      }
     },
     "metadata": {},
     "output_type": "display_data"
    },
    {
     "name": "stdout",
     "output_type": "stream",
     "text": [
      "Step-down-in-jumps iteration #1 found 0 clusters to exclude from subsequent iterations\n",
      "Using a threshold of -1.894579\n",
      "stat_fun(H1): min=-17.464723 max=10.641317\n",
      "Running initial clustering …\n",
      "Found 44 clusters\n"
     ]
    },
    {
     "data": {
      "text/plain": "  0%|          | Permuting : 0/99 [00:00<?,       ?it/s]",
      "application/vnd.jupyter.widget-view+json": {
       "version_major": 2,
       "version_minor": 0,
       "model_id": "b72c459ad11444e0b529ee3e0b9ccc26"
      }
     },
     "metadata": {},
     "output_type": "display_data"
    },
    {
     "name": "stdout",
     "output_type": "stream",
     "text": [
      "Step-down-in-jumps iteration #1 found 0 clusters to exclude from subsequent iterations\n",
      "NOTE: pick_channels() is a legacy function. New code should use inst.pick(...).\n",
      "No baseline correction applied\n",
      "Using a threshold of 1.894579\n",
      "stat_fun(H1): min=-11.340413 max=6.770666\n",
      "Running initial clustering …\n",
      "Found 70 clusters\n"
     ]
    },
    {
     "data": {
      "text/plain": "  0%|          | Permuting : 0/99 [00:00<?,       ?it/s]",
      "application/vnd.jupyter.widget-view+json": {
       "version_major": 2,
       "version_minor": 0,
       "model_id": "f4f65d7232c041b4b50e6e34814e7ed1"
      }
     },
     "metadata": {},
     "output_type": "display_data"
    },
    {
     "name": "stdout",
     "output_type": "stream",
     "text": [
      "Step-down-in-jumps iteration #1 found 1 cluster to exclude from subsequent iterations\n"
     ]
    },
    {
     "data": {
      "text/plain": "  0%|          | Permuting : 0/99 [00:00<?,       ?it/s]",
      "application/vnd.jupyter.widget-view+json": {
       "version_major": 2,
       "version_minor": 0,
       "model_id": "d19f9059af4b49c6a7548c282dd80d86"
      }
     },
     "metadata": {},
     "output_type": "display_data"
    },
    {
     "name": "stdout",
     "output_type": "stream",
     "text": [
      "Step-down-in-jumps iteration #2 found 0 additional clusters to exclude from subsequent iterations\n",
      "Using a threshold of -1.894579\n",
      "stat_fun(H1): min=-11.340413 max=6.770666\n",
      "Running initial clustering …\n",
      "Found 15 clusters\n"
     ]
    },
    {
     "data": {
      "text/plain": "  0%|          | Permuting : 0/99 [00:00<?,       ?it/s]",
      "application/vnd.jupyter.widget-view+json": {
       "version_major": 2,
       "version_minor": 0,
       "model_id": "9eff279be6ce410ab7b9998a5b463cc4"
      }
     },
     "metadata": {},
     "output_type": "display_data"
    },
    {
     "name": "stdout",
     "output_type": "stream",
     "text": [
      "Step-down-in-jumps iteration #1 found 0 clusters to exclude from subsequent iterations\n",
      "NOTE: pick_channels() is a legacy function. New code should use inst.pick(...).\n",
      "No baseline correction applied\n",
      "Using a threshold of 1.894579\n",
      "stat_fun(H1): min=-12.227417 max=8.292180\n",
      "Running initial clustering …\n",
      "Found 40 clusters\n"
     ]
    },
    {
     "data": {
      "text/plain": "  0%|          | Permuting : 0/99 [00:00<?,       ?it/s]",
      "application/vnd.jupyter.widget-view+json": {
       "version_major": 2,
       "version_minor": 0,
       "model_id": "7e350c6fe16747f088737e8d4aa7c6cd"
      }
     },
     "metadata": {},
     "output_type": "display_data"
    },
    {
     "name": "stdout",
     "output_type": "stream",
     "text": [
      "Step-down-in-jumps iteration #1 found 0 clusters to exclude from subsequent iterations\n",
      "Using a threshold of -1.894579\n",
      "stat_fun(H1): min=-12.227417 max=8.292180\n",
      "Running initial clustering …\n",
      "Found 36 clusters\n"
     ]
    },
    {
     "data": {
      "text/plain": "  0%|          | Permuting : 0/99 [00:00<?,       ?it/s]",
      "application/vnd.jupyter.widget-view+json": {
       "version_major": 2,
       "version_minor": 0,
       "model_id": "fe1cac7b9c684874b792cb1370e9680a"
      }
     },
     "metadata": {},
     "output_type": "display_data"
    },
    {
     "name": "stdout",
     "output_type": "stream",
     "text": [
      "Step-down-in-jumps iteration #1 found 1 cluster to exclude from subsequent iterations\n"
     ]
    },
    {
     "data": {
      "text/plain": "  0%|          | Permuting : 0/99 [00:00<?,       ?it/s]",
      "application/vnd.jupyter.widget-view+json": {
       "version_major": 2,
       "version_minor": 0,
       "model_id": "10cf699ea3aa4c048d83a9947647827f"
      }
     },
     "metadata": {},
     "output_type": "display_data"
    },
    {
     "name": "stdout",
     "output_type": "stream",
     "text": [
      "Step-down-in-jumps iteration #2 found 0 additional clusters to exclude from subsequent iterations\n",
      "NOTE: pick_channels() is a legacy function. New code should use inst.pick(...).\n",
      "No baseline correction applied\n",
      "Using a threshold of 1.894579\n",
      "stat_fun(H1): min=-9.753411 max=9.157777\n",
      "Running initial clustering …\n",
      "Found 72 clusters\n"
     ]
    },
    {
     "data": {
      "text/plain": "  0%|          | Permuting : 0/99 [00:00<?,       ?it/s]",
      "application/vnd.jupyter.widget-view+json": {
       "version_major": 2,
       "version_minor": 0,
       "model_id": "bb7814ab351c4646901e6222a064e63f"
      }
     },
     "metadata": {},
     "output_type": "display_data"
    },
    {
     "name": "stdout",
     "output_type": "stream",
     "text": [
      "Step-down-in-jumps iteration #1 found 0 clusters to exclude from subsequent iterations\n",
      "Using a threshold of -1.894579\n",
      "stat_fun(H1): min=-9.753411 max=9.157777\n",
      "Running initial clustering …\n",
      "Found 15 clusters\n"
     ]
    },
    {
     "data": {
      "text/plain": "  0%|          | Permuting : 0/99 [00:00<?,       ?it/s]",
      "application/vnd.jupyter.widget-view+json": {
       "version_major": 2,
       "version_minor": 0,
       "model_id": "4d57a2ca9cd541d1a76a92179570f3d8"
      }
     },
     "metadata": {},
     "output_type": "display_data"
    },
    {
     "name": "stdout",
     "output_type": "stream",
     "text": [
      "Step-down-in-jumps iteration #1 found 1 cluster to exclude from subsequent iterations\n"
     ]
    },
    {
     "data": {
      "text/plain": "  0%|          | Permuting : 0/99 [00:00<?,       ?it/s]",
      "application/vnd.jupyter.widget-view+json": {
       "version_major": 2,
       "version_minor": 0,
       "model_id": "04f3da7a647948a19733c969414de294"
      }
     },
     "metadata": {},
     "output_type": "display_data"
    },
    {
     "name": "stdout",
     "output_type": "stream",
     "text": [
      "Step-down-in-jumps iteration #2 found 0 additional clusters to exclude from subsequent iterations\n",
      "NOTE: pick_channels() is a legacy function. New code should use inst.pick(...).\n",
      "No baseline correction applied\n",
      "Using a threshold of 1.894579\n",
      "stat_fun(H1): min=-17.796234 max=9.463976\n",
      "Running initial clustering …\n",
      "Found 52 clusters\n"
     ]
    },
    {
     "data": {
      "text/plain": "  0%|          | Permuting : 0/99 [00:00<?,       ?it/s]",
      "application/vnd.jupyter.widget-view+json": {
       "version_major": 2,
       "version_minor": 0,
       "model_id": "2f616ccdc9e549fb97194c46743787e5"
      }
     },
     "metadata": {},
     "output_type": "display_data"
    },
    {
     "name": "stdout",
     "output_type": "stream",
     "text": [
      "Step-down-in-jumps iteration #1 found 0 clusters to exclude from subsequent iterations\n",
      "Using a threshold of -1.894579\n",
      "stat_fun(H1): min=-17.796234 max=9.463976\n",
      "Running initial clustering …\n",
      "Found 43 clusters\n"
     ]
    },
    {
     "data": {
      "text/plain": "  0%|          | Permuting : 0/99 [00:00<?,       ?it/s]",
      "application/vnd.jupyter.widget-view+json": {
       "version_major": 2,
       "version_minor": 0,
       "model_id": "9f59a240d6024b629451c0cb7b15f817"
      }
     },
     "metadata": {},
     "output_type": "display_data"
    },
    {
     "name": "stdout",
     "output_type": "stream",
     "text": [
      "Step-down-in-jumps iteration #1 found 0 clusters to exclude from subsequent iterations\n",
      "NOTE: pick_channels() is a legacy function. New code should use inst.pick(...).\n",
      "No baseline correction applied\n",
      "Using a threshold of 1.894579\n",
      "stat_fun(H1): min=-27.975730 max=9.618136\n",
      "Running initial clustering …\n",
      "Found 43 clusters\n"
     ]
    },
    {
     "data": {
      "text/plain": "  0%|          | Permuting : 0/99 [00:00<?,       ?it/s]",
      "application/vnd.jupyter.widget-view+json": {
       "version_major": 2,
       "version_minor": 0,
       "model_id": "d66a4f97e8fa4b499bace47ef9de343c"
      }
     },
     "metadata": {},
     "output_type": "display_data"
    },
    {
     "name": "stdout",
     "output_type": "stream",
     "text": [
      "Step-down-in-jumps iteration #1 found 0 clusters to exclude from subsequent iterations\n",
      "Using a threshold of -1.894579\n",
      "stat_fun(H1): min=-27.975730 max=9.618136\n",
      "Running initial clustering …\n",
      "Found 22 clusters\n"
     ]
    },
    {
     "data": {
      "text/plain": "  0%|          | Permuting : 0/99 [00:00<?,       ?it/s]",
      "application/vnd.jupyter.widget-view+json": {
       "version_major": 2,
       "version_minor": 0,
       "model_id": "30adbae81f97401caff4ac9a8b7188c7"
      }
     },
     "metadata": {},
     "output_type": "display_data"
    },
    {
     "name": "stdout",
     "output_type": "stream",
     "text": [
      "Step-down-in-jumps iteration #1 found 0 clusters to exclude from subsequent iterations\n",
      "NOTE: pick_channels() is a legacy function. New code should use inst.pick(...).\n",
      "No baseline correction applied\n",
      "Using a threshold of 1.894579\n",
      "stat_fun(H1): min=-11.921133 max=7.800167\n",
      "Running initial clustering …\n",
      "Found 50 clusters\n"
     ]
    },
    {
     "data": {
      "text/plain": "  0%|          | Permuting : 0/99 [00:00<?,       ?it/s]",
      "application/vnd.jupyter.widget-view+json": {
       "version_major": 2,
       "version_minor": 0,
       "model_id": "9ddfafe1eb6f4453837dd54ea4a34863"
      }
     },
     "metadata": {},
     "output_type": "display_data"
    },
    {
     "name": "stdout",
     "output_type": "stream",
     "text": [
      "Step-down-in-jumps iteration #1 found 0 clusters to exclude from subsequent iterations\n",
      "Using a threshold of -1.894579\n",
      "stat_fun(H1): min=-11.921133 max=7.800167\n",
      "Running initial clustering …\n",
      "Found 22 clusters\n"
     ]
    },
    {
     "data": {
      "text/plain": "  0%|          | Permuting : 0/99 [00:00<?,       ?it/s]",
      "application/vnd.jupyter.widget-view+json": {
       "version_major": 2,
       "version_minor": 0,
       "model_id": "f9f5c764bd66495da766f8a4c7d36ff8"
      }
     },
     "metadata": {},
     "output_type": "display_data"
    },
    {
     "name": "stdout",
     "output_type": "stream",
     "text": [
      "Step-down-in-jumps iteration #1 found 0 clusters to exclude from subsequent iterations\n",
      "NOTE: pick_channels() is a legacy function. New code should use inst.pick(...).\n",
      "No baseline correction applied\n",
      "Using a threshold of 1.894579\n",
      "stat_fun(H1): min=-19.968718 max=17.946512\n",
      "Running initial clustering …\n",
      "Found 61 clusters\n"
     ]
    },
    {
     "data": {
      "text/plain": "  0%|          | Permuting : 0/99 [00:00<?,       ?it/s]",
      "application/vnd.jupyter.widget-view+json": {
       "version_major": 2,
       "version_minor": 0,
       "model_id": "e301de961c0b46f2959f9d14fe3db2cd"
      }
     },
     "metadata": {},
     "output_type": "display_data"
    },
    {
     "name": "stdout",
     "output_type": "stream",
     "text": [
      "Step-down-in-jumps iteration #1 found 0 clusters to exclude from subsequent iterations\n",
      "Using a threshold of -1.894579\n",
      "stat_fun(H1): min=-19.968718 max=17.946512\n",
      "Running initial clustering …\n",
      "Found 30 clusters\n"
     ]
    },
    {
     "data": {
      "text/plain": "  0%|          | Permuting : 0/99 [00:00<?,       ?it/s]",
      "application/vnd.jupyter.widget-view+json": {
       "version_major": 2,
       "version_minor": 0,
       "model_id": "599d58f8eea94a328622b9cc9b7ecb71"
      }
     },
     "metadata": {},
     "output_type": "display_data"
    },
    {
     "name": "stdout",
     "output_type": "stream",
     "text": [
      "Step-down-in-jumps iteration #1 found 0 clusters to exclude from subsequent iterations\n",
      "NOTE: pick_channels() is a legacy function. New code should use inst.pick(...).\n",
      "No baseline correction applied\n",
      "Using a threshold of 1.894579\n",
      "stat_fun(H1): min=-9.728565 max=7.148234\n",
      "Running initial clustering …\n",
      "Found 85 clusters\n"
     ]
    },
    {
     "data": {
      "text/plain": "  0%|          | Permuting : 0/99 [00:00<?,       ?it/s]",
      "application/vnd.jupyter.widget-view+json": {
       "version_major": 2,
       "version_minor": 0,
       "model_id": "07380bb60a9e47e9bcc5799dd82853ed"
      }
     },
     "metadata": {},
     "output_type": "display_data"
    },
    {
     "name": "stdout",
     "output_type": "stream",
     "text": [
      "Step-down-in-jumps iteration #1 found 0 clusters to exclude from subsequent iterations\n",
      "Using a threshold of -1.894579\n",
      "stat_fun(H1): min=-9.728565 max=7.148234\n",
      "Running initial clustering …\n",
      "Found 24 clusters\n"
     ]
    },
    {
     "data": {
      "text/plain": "  0%|          | Permuting : 0/99 [00:00<?,       ?it/s]",
      "application/vnd.jupyter.widget-view+json": {
       "version_major": 2,
       "version_minor": 0,
       "model_id": "9288e8f04cd949d6a65337282643b155"
      }
     },
     "metadata": {},
     "output_type": "display_data"
    },
    {
     "name": "stdout",
     "output_type": "stream",
     "text": [
      "Step-down-in-jumps iteration #1 found 1 cluster to exclude from subsequent iterations\n"
     ]
    },
    {
     "data": {
      "text/plain": "  0%|          | Permuting : 0/99 [00:00<?,       ?it/s]",
      "application/vnd.jupyter.widget-view+json": {
       "version_major": 2,
       "version_minor": 0,
       "model_id": "d254230c53e44b869f1cf788304816db"
      }
     },
     "metadata": {},
     "output_type": "display_data"
    },
    {
     "name": "stdout",
     "output_type": "stream",
     "text": [
      "Step-down-in-jumps iteration #2 found 0 additional clusters to exclude from subsequent iterations\n",
      "NOTE: pick_channels() is a legacy function. New code should use inst.pick(...).\n",
      "No baseline correction applied\n",
      "Creating RawArray with float64 data, n_channels=15, n_times=40000\n",
      "    Range : 0 ... 39999 =      0.000 ...    39.999 secs\n",
      "Ready.\n",
      "Not setting metadata\n",
      "7 matching events found\n",
      "No baseline correction applied\n",
      "0 projection items activated\n",
      "Using data from preloaded Raw for 7 events and 5001 original time points ...\n",
      "0 bad epochs dropped\n"
     ]
    },
    {
     "name": "stderr",
     "output_type": "stream",
     "text": [
      "[Parallel(n_jobs=1)]: Using backend SequentialBackend with 1 concurrent workers.\n",
      "[Parallel(n_jobs=1)]: Done   1 out of   1 | elapsed:    0.1s remaining:    0.0s\n",
      "[Parallel(n_jobs=1)]: Done   2 out of   2 | elapsed:    0.2s remaining:    0.0s\n",
      "[Parallel(n_jobs=1)]: Done   3 out of   3 | elapsed:    0.4s remaining:    0.0s\n",
      "[Parallel(n_jobs=1)]: Done   4 out of   4 | elapsed:    0.5s remaining:    0.0s\n"
     ]
    },
    {
     "name": "stdout",
     "output_type": "stream",
     "text": [
      "Not setting metadata\n",
      "Applying baseline correction (mode: percent)\n"
     ]
    },
    {
     "name": "stderr",
     "output_type": "stream",
     "text": [
      "[Parallel(n_jobs=1)]: Done  15 out of  15 | elapsed:    2.2s finished\n"
     ]
    },
    {
     "name": "stdout",
     "output_type": "stream",
     "text": [
      "Using a threshold of 1.943180\n",
      "stat_fun(H1): min=-27.482241 max=5.123928\n",
      "Running initial clustering …\n",
      "Found 37 clusters\n"
     ]
    },
    {
     "data": {
      "text/plain": "  0%|          | Permuting : 0/99 [00:00<?,       ?it/s]",
      "application/vnd.jupyter.widget-view+json": {
       "version_major": 2,
       "version_minor": 0,
       "model_id": "6c31a8d791ce49419df275f8412410bd"
      }
     },
     "metadata": {},
     "output_type": "display_data"
    },
    {
     "name": "stdout",
     "output_type": "stream",
     "text": [
      "Step-down-in-jumps iteration #1 found 0 clusters to exclude from subsequent iterations\n",
      "Using a threshold of -1.943180\n",
      "stat_fun(H1): min=-27.482241 max=5.123928\n",
      "Running initial clustering …\n",
      "Found 15 clusters\n"
     ]
    },
    {
     "data": {
      "text/plain": "  0%|          | Permuting : 0/99 [00:00<?,       ?it/s]",
      "application/vnd.jupyter.widget-view+json": {
       "version_major": 2,
       "version_minor": 0,
       "model_id": "9ea1dfe8de2d4d978bea631e8ff113b2"
      }
     },
     "metadata": {},
     "output_type": "display_data"
    },
    {
     "name": "stdout",
     "output_type": "stream",
     "text": [
      "Step-down-in-jumps iteration #1 found 1 cluster to exclude from subsequent iterations\n"
     ]
    },
    {
     "data": {
      "text/plain": "  0%|          | Permuting : 0/99 [00:00<?,       ?it/s]",
      "application/vnd.jupyter.widget-view+json": {
       "version_major": 2,
       "version_minor": 0,
       "model_id": "1dcd67d7335f43fe9ebaca03dfcbccb8"
      }
     },
     "metadata": {},
     "output_type": "display_data"
    },
    {
     "name": "stdout",
     "output_type": "stream",
     "text": [
      "Step-down-in-jumps iteration #2 found 0 additional clusters to exclude from subsequent iterations\n",
      "NOTE: pick_channels() is a legacy function. New code should use inst.pick(...).\n",
      "No baseline correction applied\n",
      "Using a threshold of 1.943180\n",
      "stat_fun(H1): min=-13.434548 max=8.481315\n",
      "Running initial clustering …\n",
      "Found 53 clusters\n"
     ]
    },
    {
     "data": {
      "text/plain": "  0%|          | Permuting : 0/99 [00:00<?,       ?it/s]",
      "application/vnd.jupyter.widget-view+json": {
       "version_major": 2,
       "version_minor": 0,
       "model_id": "39c3a52a48ce43dea8f29d492e4e48c5"
      }
     },
     "metadata": {},
     "output_type": "display_data"
    },
    {
     "name": "stdout",
     "output_type": "stream",
     "text": [
      "Step-down-in-jumps iteration #1 found 0 clusters to exclude from subsequent iterations\n",
      "Using a threshold of -1.943180\n",
      "stat_fun(H1): min=-13.434548 max=8.481315\n",
      "Running initial clustering …\n",
      "Found 30 clusters\n"
     ]
    },
    {
     "data": {
      "text/plain": "  0%|          | Permuting : 0/99 [00:00<?,       ?it/s]",
      "application/vnd.jupyter.widget-view+json": {
       "version_major": 2,
       "version_minor": 0,
       "model_id": "ccd1c027c89543eaa988499af4081409"
      }
     },
     "metadata": {},
     "output_type": "display_data"
    },
    {
     "name": "stdout",
     "output_type": "stream",
     "text": [
      "Step-down-in-jumps iteration #1 found 1 cluster to exclude from subsequent iterations\n"
     ]
    },
    {
     "data": {
      "text/plain": "  0%|          | Permuting : 0/99 [00:00<?,       ?it/s]",
      "application/vnd.jupyter.widget-view+json": {
       "version_major": 2,
       "version_minor": 0,
       "model_id": "b5229260c3bc4331838163ecd1572360"
      }
     },
     "metadata": {},
     "output_type": "display_data"
    },
    {
     "name": "stdout",
     "output_type": "stream",
     "text": [
      "Step-down-in-jumps iteration #2 found 0 additional clusters to exclude from subsequent iterations\n",
      "NOTE: pick_channels() is a legacy function. New code should use inst.pick(...).\n",
      "No baseline correction applied\n",
      "Using a threshold of 1.943180\n",
      "stat_fun(H1): min=-17.196042 max=4.275612\n",
      "Running initial clustering …\n",
      "Found 38 clusters\n"
     ]
    },
    {
     "data": {
      "text/plain": "  0%|          | Permuting : 0/99 [00:00<?,       ?it/s]",
      "application/vnd.jupyter.widget-view+json": {
       "version_major": 2,
       "version_minor": 0,
       "model_id": "4bf9af7f4f924f3b9285ab810e941f32"
      }
     },
     "metadata": {},
     "output_type": "display_data"
    },
    {
     "name": "stdout",
     "output_type": "stream",
     "text": [
      "Step-down-in-jumps iteration #1 found 0 clusters to exclude from subsequent iterations\n",
      "Using a threshold of -1.943180\n",
      "stat_fun(H1): min=-17.196042 max=4.275612\n",
      "Running initial clustering …\n",
      "Found 37 clusters\n"
     ]
    },
    {
     "data": {
      "text/plain": "  0%|          | Permuting : 0/99 [00:00<?,       ?it/s]",
      "application/vnd.jupyter.widget-view+json": {
       "version_major": 2,
       "version_minor": 0,
       "model_id": "820d14958f1a446e8fe579e110ab361c"
      }
     },
     "metadata": {},
     "output_type": "display_data"
    },
    {
     "name": "stdout",
     "output_type": "stream",
     "text": [
      "Step-down-in-jumps iteration #1 found 2 clusters to exclude from subsequent iterations\n"
     ]
    },
    {
     "data": {
      "text/plain": "  0%|          | Permuting : 0/99 [00:00<?,       ?it/s]",
      "application/vnd.jupyter.widget-view+json": {
       "version_major": 2,
       "version_minor": 0,
       "model_id": "af78f880c97648daa8e27180a9668939"
      }
     },
     "metadata": {},
     "output_type": "display_data"
    },
    {
     "name": "stdout",
     "output_type": "stream",
     "text": [
      "Step-down-in-jumps iteration #2 found 0 additional clusters to exclude from subsequent iterations\n",
      "NOTE: pick_channels() is a legacy function. New code should use inst.pick(...).\n",
      "No baseline correction applied\n",
      "Using a threshold of 1.943180\n",
      "stat_fun(H1): min=-15.772509 max=3.928720\n",
      "Running initial clustering …\n",
      "Found 39 clusters\n"
     ]
    },
    {
     "data": {
      "text/plain": "  0%|          | Permuting : 0/99 [00:00<?,       ?it/s]",
      "application/vnd.jupyter.widget-view+json": {
       "version_major": 2,
       "version_minor": 0,
       "model_id": "a3a57311bac146cfb798bdc00e1f879d"
      }
     },
     "metadata": {},
     "output_type": "display_data"
    },
    {
     "name": "stdout",
     "output_type": "stream",
     "text": [
      "Step-down-in-jumps iteration #1 found 0 clusters to exclude from subsequent iterations\n",
      "Using a threshold of -1.943180\n",
      "stat_fun(H1): min=-15.772509 max=3.928720\n",
      "Running initial clustering …\n",
      "Found 24 clusters\n"
     ]
    },
    {
     "data": {
      "text/plain": "  0%|          | Permuting : 0/99 [00:00<?,       ?it/s]",
      "application/vnd.jupyter.widget-view+json": {
       "version_major": 2,
       "version_minor": 0,
       "model_id": "dcdb3f1df42d41e19dfdc17e2af4d52c"
      }
     },
     "metadata": {},
     "output_type": "display_data"
    },
    {
     "name": "stdout",
     "output_type": "stream",
     "text": [
      "Step-down-in-jumps iteration #1 found 0 clusters to exclude from subsequent iterations\n",
      "NOTE: pick_channels() is a legacy function. New code should use inst.pick(...).\n",
      "No baseline correction applied\n",
      "Using a threshold of 1.943180\n",
      "stat_fun(H1): min=-10.957846 max=5.615032\n",
      "Running initial clustering …\n",
      "Found 43 clusters\n"
     ]
    },
    {
     "data": {
      "text/plain": "  0%|          | Permuting : 0/99 [00:00<?,       ?it/s]",
      "application/vnd.jupyter.widget-view+json": {
       "version_major": 2,
       "version_minor": 0,
       "model_id": "dabd193690524230a99fdbee9f0d3bd2"
      }
     },
     "metadata": {},
     "output_type": "display_data"
    },
    {
     "name": "stdout",
     "output_type": "stream",
     "text": [
      "Step-down-in-jumps iteration #1 found 0 clusters to exclude from subsequent iterations\n",
      "Using a threshold of -1.943180\n",
      "stat_fun(H1): min=-10.957846 max=5.615032\n",
      "Running initial clustering …\n",
      "Found 40 clusters\n"
     ]
    },
    {
     "data": {
      "text/plain": "  0%|          | Permuting : 0/99 [00:00<?,       ?it/s]",
      "application/vnd.jupyter.widget-view+json": {
       "version_major": 2,
       "version_minor": 0,
       "model_id": "8571de016618412dba9be188796614a4"
      }
     },
     "metadata": {},
     "output_type": "display_data"
    },
    {
     "name": "stdout",
     "output_type": "stream",
     "text": [
      "Step-down-in-jumps iteration #1 found 0 clusters to exclude from subsequent iterations\n",
      "NOTE: pick_channels() is a legacy function. New code should use inst.pick(...).\n",
      "No baseline correction applied\n",
      "Using a threshold of 1.943180\n",
      "stat_fun(H1): min=-15.550542 max=5.915634\n",
      "Running initial clustering …\n",
      "Found 45 clusters\n"
     ]
    },
    {
     "data": {
      "text/plain": "  0%|          | Permuting : 0/99 [00:00<?,       ?it/s]",
      "application/vnd.jupyter.widget-view+json": {
       "version_major": 2,
       "version_minor": 0,
       "model_id": "3786be6c15534560aeb3729069d1b129"
      }
     },
     "metadata": {},
     "output_type": "display_data"
    },
    {
     "name": "stdout",
     "output_type": "stream",
     "text": [
      "Step-down-in-jumps iteration #1 found 0 clusters to exclude from subsequent iterations\n",
      "Using a threshold of -1.943180\n",
      "stat_fun(H1): min=-15.550542 max=5.915634\n",
      "Running initial clustering …\n",
      "Found 24 clusters\n"
     ]
    },
    {
     "data": {
      "text/plain": "  0%|          | Permuting : 0/99 [00:00<?,       ?it/s]",
      "application/vnd.jupyter.widget-view+json": {
       "version_major": 2,
       "version_minor": 0,
       "model_id": "da7c1046c7f342e491119c454de14ab1"
      }
     },
     "metadata": {},
     "output_type": "display_data"
    },
    {
     "name": "stdout",
     "output_type": "stream",
     "text": [
      "Step-down-in-jumps iteration #1 found 2 clusters to exclude from subsequent iterations\n"
     ]
    },
    {
     "data": {
      "text/plain": "  0%|          | Permuting : 0/99 [00:00<?,       ?it/s]",
      "application/vnd.jupyter.widget-view+json": {
       "version_major": 2,
       "version_minor": 0,
       "model_id": "f8c815920edd433fab97c125b21bc866"
      }
     },
     "metadata": {},
     "output_type": "display_data"
    },
    {
     "name": "stdout",
     "output_type": "stream",
     "text": [
      "Step-down-in-jumps iteration #2 found 0 additional clusters to exclude from subsequent iterations\n",
      "NOTE: pick_channels() is a legacy function. New code should use inst.pick(...).\n",
      "No baseline correction applied\n",
      "Using a threshold of 1.943180\n",
      "stat_fun(H1): min=-11.600613 max=6.517922\n",
      "Running initial clustering …\n",
      "Found 46 clusters\n"
     ]
    },
    {
     "data": {
      "text/plain": "  0%|          | Permuting : 0/99 [00:00<?,       ?it/s]",
      "application/vnd.jupyter.widget-view+json": {
       "version_major": 2,
       "version_minor": 0,
       "model_id": "be72d1611b864b1eb6b908468362c6f1"
      }
     },
     "metadata": {},
     "output_type": "display_data"
    },
    {
     "name": "stdout",
     "output_type": "stream",
     "text": [
      "Step-down-in-jumps iteration #1 found 0 clusters to exclude from subsequent iterations\n",
      "Using a threshold of -1.943180\n",
      "stat_fun(H1): min=-11.600613 max=6.517922\n",
      "Running initial clustering …\n",
      "Found 33 clusters\n"
     ]
    },
    {
     "data": {
      "text/plain": "  0%|          | Permuting : 0/99 [00:00<?,       ?it/s]",
      "application/vnd.jupyter.widget-view+json": {
       "version_major": 2,
       "version_minor": 0,
       "model_id": "f9ef908c9556427582726bb18cd7d8cb"
      }
     },
     "metadata": {},
     "output_type": "display_data"
    },
    {
     "name": "stdout",
     "output_type": "stream",
     "text": [
      "Step-down-in-jumps iteration #1 found 0 clusters to exclude from subsequent iterations\n",
      "NOTE: pick_channels() is a legacy function. New code should use inst.pick(...).\n",
      "No baseline correction applied\n",
      "Using a threshold of 1.943180\n",
      "stat_fun(H1): min=-19.023690 max=14.645486\n",
      "Running initial clustering …\n",
      "Found 49 clusters\n"
     ]
    },
    {
     "data": {
      "text/plain": "  0%|          | Permuting : 0/99 [00:00<?,       ?it/s]",
      "application/vnd.jupyter.widget-view+json": {
       "version_major": 2,
       "version_minor": 0,
       "model_id": "afaf940c70ee48ef9261563f58dd86f4"
      }
     },
     "metadata": {},
     "output_type": "display_data"
    },
    {
     "name": "stdout",
     "output_type": "stream",
     "text": [
      "Step-down-in-jumps iteration #1 found 0 clusters to exclude from subsequent iterations\n",
      "Using a threshold of -1.943180\n",
      "stat_fun(H1): min=-19.023690 max=14.645486\n",
      "Running initial clustering …\n",
      "Found 27 clusters\n"
     ]
    },
    {
     "data": {
      "text/plain": "  0%|          | Permuting : 0/99 [00:00<?,       ?it/s]",
      "application/vnd.jupyter.widget-view+json": {
       "version_major": 2,
       "version_minor": 0,
       "model_id": "71f3ec05988c4b72aee0700ddc6b329f"
      }
     },
     "metadata": {},
     "output_type": "display_data"
    },
    {
     "name": "stdout",
     "output_type": "stream",
     "text": [
      "Step-down-in-jumps iteration #1 found 1 cluster to exclude from subsequent iterations\n"
     ]
    },
    {
     "data": {
      "text/plain": "  0%|          | Permuting : 0/99 [00:00<?,       ?it/s]",
      "application/vnd.jupyter.widget-view+json": {
       "version_major": 2,
       "version_minor": 0,
       "model_id": "40d4d1460cfa43d9a9b510c552468678"
      }
     },
     "metadata": {},
     "output_type": "display_data"
    },
    {
     "name": "stdout",
     "output_type": "stream",
     "text": [
      "Step-down-in-jumps iteration #2 found 0 additional clusters to exclude from subsequent iterations\n",
      "NOTE: pick_channels() is a legacy function. New code should use inst.pick(...).\n",
      "No baseline correction applied\n",
      "Using a threshold of 1.943180\n",
      "stat_fun(H1): min=-34.939077 max=6.195180\n",
      "Running initial clustering …\n",
      "Found 46 clusters\n"
     ]
    },
    {
     "data": {
      "text/plain": "  0%|          | Permuting : 0/99 [00:00<?,       ?it/s]",
      "application/vnd.jupyter.widget-view+json": {
       "version_major": 2,
       "version_minor": 0,
       "model_id": "a9ac9b215f7347b39e57346028e671c8"
      }
     },
     "metadata": {},
     "output_type": "display_data"
    },
    {
     "name": "stdout",
     "output_type": "stream",
     "text": [
      "Step-down-in-jumps iteration #1 found 0 clusters to exclude from subsequent iterations\n",
      "Using a threshold of -1.943180\n",
      "stat_fun(H1): min=-34.939077 max=6.195180\n",
      "Running initial clustering …\n",
      "Found 24 clusters\n"
     ]
    },
    {
     "data": {
      "text/plain": "  0%|          | Permuting : 0/99 [00:00<?,       ?it/s]",
      "application/vnd.jupyter.widget-view+json": {
       "version_major": 2,
       "version_minor": 0,
       "model_id": "e9d1dad327d24911880255de93608978"
      }
     },
     "metadata": {},
     "output_type": "display_data"
    },
    {
     "name": "stdout",
     "output_type": "stream",
     "text": [
      "Step-down-in-jumps iteration #1 found 1 cluster to exclude from subsequent iterations\n"
     ]
    },
    {
     "data": {
      "text/plain": "  0%|          | Permuting : 0/99 [00:00<?,       ?it/s]",
      "application/vnd.jupyter.widget-view+json": {
       "version_major": 2,
       "version_minor": 0,
       "model_id": "d230f4a39bb54c9486ca2969ec4d802a"
      }
     },
     "metadata": {},
     "output_type": "display_data"
    },
    {
     "name": "stdout",
     "output_type": "stream",
     "text": [
      "Step-down-in-jumps iteration #2 found 0 additional clusters to exclude from subsequent iterations\n",
      "NOTE: pick_channels() is a legacy function. New code should use inst.pick(...).\n",
      "No baseline correction applied\n",
      "Using a threshold of 1.943180\n",
      "stat_fun(H1): min=-15.550542 max=5.915634\n",
      "Running initial clustering …\n",
      "Found 45 clusters\n"
     ]
    },
    {
     "data": {
      "text/plain": "  0%|          | Permuting : 0/99 [00:00<?,       ?it/s]",
      "application/vnd.jupyter.widget-view+json": {
       "version_major": 2,
       "version_minor": 0,
       "model_id": "864783a5e1944e80afde93c727a03c52"
      }
     },
     "metadata": {},
     "output_type": "display_data"
    },
    {
     "name": "stdout",
     "output_type": "stream",
     "text": [
      "Step-down-in-jumps iteration #1 found 0 clusters to exclude from subsequent iterations\n",
      "Using a threshold of -1.943180\n",
      "stat_fun(H1): min=-15.550542 max=5.915634\n",
      "Running initial clustering …\n",
      "Found 24 clusters\n"
     ]
    },
    {
     "data": {
      "text/plain": "  0%|          | Permuting : 0/99 [00:00<?,       ?it/s]",
      "application/vnd.jupyter.widget-view+json": {
       "version_major": 2,
       "version_minor": 0,
       "model_id": "665794a372094825a31811f14109d86d"
      }
     },
     "metadata": {},
     "output_type": "display_data"
    },
    {
     "name": "stdout",
     "output_type": "stream",
     "text": [
      "Step-down-in-jumps iteration #1 found 2 clusters to exclude from subsequent iterations\n"
     ]
    },
    {
     "data": {
      "text/plain": "  0%|          | Permuting : 0/99 [00:00<?,       ?it/s]",
      "application/vnd.jupyter.widget-view+json": {
       "version_major": 2,
       "version_minor": 0,
       "model_id": "a254168a8a464bcf9836e0417acf8060"
      }
     },
     "metadata": {},
     "output_type": "display_data"
    },
    {
     "name": "stdout",
     "output_type": "stream",
     "text": [
      "Step-down-in-jumps iteration #2 found 0 additional clusters to exclude from subsequent iterations\n",
      "NOTE: pick_channels() is a legacy function. New code should use inst.pick(...).\n",
      "No baseline correction applied\n",
      "Using a threshold of 1.943180\n",
      "stat_fun(H1): min=-9.188163 max=6.966315\n",
      "Running initial clustering …\n",
      "Found 66 clusters\n"
     ]
    },
    {
     "data": {
      "text/plain": "  0%|          | Permuting : 0/99 [00:00<?,       ?it/s]",
      "application/vnd.jupyter.widget-view+json": {
       "version_major": 2,
       "version_minor": 0,
       "model_id": "f4a186b9ae874f8ba1ca9b30b9d913da"
      }
     },
     "metadata": {},
     "output_type": "display_data"
    },
    {
     "name": "stdout",
     "output_type": "stream",
     "text": [
      "Step-down-in-jumps iteration #1 found 1 cluster to exclude from subsequent iterations\n"
     ]
    },
    {
     "data": {
      "text/plain": "  0%|          | Permuting : 0/99 [00:00<?,       ?it/s]",
      "application/vnd.jupyter.widget-view+json": {
       "version_major": 2,
       "version_minor": 0,
       "model_id": "d0fb4511aa124b38857b2e4a35b577ad"
      }
     },
     "metadata": {},
     "output_type": "display_data"
    },
    {
     "name": "stdout",
     "output_type": "stream",
     "text": [
      "Step-down-in-jumps iteration #2 found 0 additional clusters to exclude from subsequent iterations\n",
      "Using a threshold of -1.943180\n",
      "stat_fun(H1): min=-9.188163 max=6.966315\n",
      "Running initial clustering …\n",
      "Found 25 clusters\n"
     ]
    },
    {
     "data": {
      "text/plain": "  0%|          | Permuting : 0/99 [00:00<?,       ?it/s]",
      "application/vnd.jupyter.widget-view+json": {
       "version_major": 2,
       "version_minor": 0,
       "model_id": "040cf7257bfc485cbababf5a14d68a01"
      }
     },
     "metadata": {},
     "output_type": "display_data"
    },
    {
     "name": "stdout",
     "output_type": "stream",
     "text": [
      "Step-down-in-jumps iteration #1 found 0 clusters to exclude from subsequent iterations\n",
      "NOTE: pick_channels() is a legacy function. New code should use inst.pick(...).\n",
      "No baseline correction applied\n",
      "Using a threshold of 1.943180\n",
      "stat_fun(H1): min=-14.989700 max=7.992344\n",
      "Running initial clustering …\n",
      "Found 62 clusters\n"
     ]
    },
    {
     "data": {
      "text/plain": "  0%|          | Permuting : 0/99 [00:00<?,       ?it/s]",
      "application/vnd.jupyter.widget-view+json": {
       "version_major": 2,
       "version_minor": 0,
       "model_id": "bb9d63f5d63542edaeb0c1bf67f54aef"
      }
     },
     "metadata": {},
     "output_type": "display_data"
    },
    {
     "name": "stdout",
     "output_type": "stream",
     "text": [
      "Step-down-in-jumps iteration #1 found 0 clusters to exclude from subsequent iterations\n",
      "Using a threshold of -1.943180\n",
      "stat_fun(H1): min=-14.989700 max=7.992344\n",
      "Running initial clustering …\n",
      "Found 29 clusters\n"
     ]
    },
    {
     "data": {
      "text/plain": "  0%|          | Permuting : 0/99 [00:00<?,       ?it/s]",
      "application/vnd.jupyter.widget-view+json": {
       "version_major": 2,
       "version_minor": 0,
       "model_id": "21642e09e1e34236ba3fdc88eaefbb4f"
      }
     },
     "metadata": {},
     "output_type": "display_data"
    },
    {
     "name": "stdout",
     "output_type": "stream",
     "text": [
      "Step-down-in-jumps iteration #1 found 1 cluster to exclude from subsequent iterations\n"
     ]
    },
    {
     "data": {
      "text/plain": "  0%|          | Permuting : 0/99 [00:00<?,       ?it/s]",
      "application/vnd.jupyter.widget-view+json": {
       "version_major": 2,
       "version_minor": 0,
       "model_id": "2fa62c58cd5143f88b74d768b2664dc6"
      }
     },
     "metadata": {},
     "output_type": "display_data"
    },
    {
     "name": "stdout",
     "output_type": "stream",
     "text": [
      "Step-down-in-jumps iteration #2 found 0 additional clusters to exclude from subsequent iterations\n",
      "NOTE: pick_channels() is a legacy function. New code should use inst.pick(...).\n",
      "No baseline correction applied\n",
      "Using a threshold of 1.943180\n",
      "stat_fun(H1): min=-15.150309 max=6.984501\n",
      "Running initial clustering …\n",
      "Found 50 clusters\n"
     ]
    },
    {
     "data": {
      "text/plain": "  0%|          | Permuting : 0/99 [00:00<?,       ?it/s]",
      "application/vnd.jupyter.widget-view+json": {
       "version_major": 2,
       "version_minor": 0,
       "model_id": "e9fde590af134fba8d7604773d98f90c"
      }
     },
     "metadata": {},
     "output_type": "display_data"
    },
    {
     "name": "stdout",
     "output_type": "stream",
     "text": [
      "Step-down-in-jumps iteration #1 found 0 clusters to exclude from subsequent iterations\n",
      "Using a threshold of -1.943180\n",
      "stat_fun(H1): min=-15.150309 max=6.984501\n",
      "Running initial clustering …\n",
      "Found 28 clusters\n"
     ]
    },
    {
     "data": {
      "text/plain": "  0%|          | Permuting : 0/99 [00:00<?,       ?it/s]",
      "application/vnd.jupyter.widget-view+json": {
       "version_major": 2,
       "version_minor": 0,
       "model_id": "7efd9da01dbe4a5598d36488c000a247"
      }
     },
     "metadata": {},
     "output_type": "display_data"
    },
    {
     "name": "stdout",
     "output_type": "stream",
     "text": [
      "Step-down-in-jumps iteration #1 found 2 clusters to exclude from subsequent iterations\n"
     ]
    },
    {
     "data": {
      "text/plain": "  0%|          | Permuting : 0/99 [00:00<?,       ?it/s]",
      "application/vnd.jupyter.widget-view+json": {
       "version_major": 2,
       "version_minor": 0,
       "model_id": "e4655ef04d334c47a76cf8b8069efd94"
      }
     },
     "metadata": {},
     "output_type": "display_data"
    },
    {
     "name": "stdout",
     "output_type": "stream",
     "text": [
      "Step-down-in-jumps iteration #2 found 0 additional clusters to exclude from subsequent iterations\n",
      "NOTE: pick_channels() is a legacy function. New code should use inst.pick(...).\n",
      "No baseline correction applied\n",
      "Using a threshold of 1.943180\n",
      "stat_fun(H1): min=-14.143564 max=7.131593\n",
      "Running initial clustering …\n",
      "Found 44 clusters\n"
     ]
    },
    {
     "data": {
      "text/plain": "  0%|          | Permuting : 0/99 [00:00<?,       ?it/s]",
      "application/vnd.jupyter.widget-view+json": {
       "version_major": 2,
       "version_minor": 0,
       "model_id": "9a9d173237594580ad84f6143d4fe099"
      }
     },
     "metadata": {},
     "output_type": "display_data"
    },
    {
     "name": "stdout",
     "output_type": "stream",
     "text": [
      "Step-down-in-jumps iteration #1 found 0 clusters to exclude from subsequent iterations\n",
      "Using a threshold of -1.943180\n",
      "stat_fun(H1): min=-14.143564 max=7.131593\n",
      "Running initial clustering …\n",
      "Found 35 clusters\n"
     ]
    },
    {
     "data": {
      "text/plain": "  0%|          | Permuting : 0/99 [00:00<?,       ?it/s]",
      "application/vnd.jupyter.widget-view+json": {
       "version_major": 2,
       "version_minor": 0,
       "model_id": "045be48702d8454696915af136cf3998"
      }
     },
     "metadata": {},
     "output_type": "display_data"
    },
    {
     "name": "stdout",
     "output_type": "stream",
     "text": [
      "Step-down-in-jumps iteration #1 found 0 clusters to exclude from subsequent iterations\n",
      "NOTE: pick_channels() is a legacy function. New code should use inst.pick(...).\n",
      "No baseline correction applied\n",
      "Using a threshold of 1.943180\n",
      "stat_fun(H1): min=-25.807014 max=4.801698\n",
      "Running initial clustering …\n",
      "Found 50 clusters\n"
     ]
    },
    {
     "data": {
      "text/plain": "  0%|          | Permuting : 0/99 [00:00<?,       ?it/s]",
      "application/vnd.jupyter.widget-view+json": {
       "version_major": 2,
       "version_minor": 0,
       "model_id": "542d70d1a799464cbfc936b94878c66f"
      }
     },
     "metadata": {},
     "output_type": "display_data"
    },
    {
     "name": "stdout",
     "output_type": "stream",
     "text": [
      "Step-down-in-jumps iteration #1 found 0 clusters to exclude from subsequent iterations\n",
      "Using a threshold of -1.943180\n",
      "stat_fun(H1): min=-25.807014 max=4.801698\n",
      "Running initial clustering …\n",
      "Found 27 clusters\n"
     ]
    },
    {
     "data": {
      "text/plain": "  0%|          | Permuting : 0/99 [00:00<?,       ?it/s]",
      "application/vnd.jupyter.widget-view+json": {
       "version_major": 2,
       "version_minor": 0,
       "model_id": "5cbf714e409c44aeafaa0f32f30162cb"
      }
     },
     "metadata": {},
     "output_type": "display_data"
    },
    {
     "name": "stdout",
     "output_type": "stream",
     "text": [
      "Step-down-in-jumps iteration #1 found 2 clusters to exclude from subsequent iterations\n"
     ]
    },
    {
     "data": {
      "text/plain": "  0%|          | Permuting : 0/99 [00:00<?,       ?it/s]",
      "application/vnd.jupyter.widget-view+json": {
       "version_major": 2,
       "version_minor": 0,
       "model_id": "a3b21e62dc5148cbacf64e785b1da927"
      }
     },
     "metadata": {},
     "output_type": "display_data"
    },
    {
     "name": "stdout",
     "output_type": "stream",
     "text": [
      "Step-down-in-jumps iteration #2 found 0 additional clusters to exclude from subsequent iterations\n",
      "NOTE: pick_channels() is a legacy function. New code should use inst.pick(...).\n",
      "No baseline correction applied\n",
      "Creating RawArray with float64 data, n_channels=15, n_times=45000\n",
      "    Range : 0 ... 44999 =      0.000 ...    44.999 secs\n",
      "Ready.\n",
      "Not setting metadata\n",
      "8 matching events found\n",
      "No baseline correction applied\n",
      "0 projection items activated\n",
      "Using data from preloaded Raw for 8 events and 5001 original time points ...\n",
      "0 bad epochs dropped\n"
     ]
    },
    {
     "name": "stderr",
     "output_type": "stream",
     "text": [
      "[Parallel(n_jobs=1)]: Using backend SequentialBackend with 1 concurrent workers.\n",
      "[Parallel(n_jobs=1)]: Done   1 out of   1 | elapsed:    0.1s remaining:    0.0s\n",
      "[Parallel(n_jobs=1)]: Done   2 out of   2 | elapsed:    0.2s remaining:    0.0s\n",
      "[Parallel(n_jobs=1)]: Done   3 out of   3 | elapsed:    0.4s remaining:    0.0s\n",
      "[Parallel(n_jobs=1)]: Done   4 out of   4 | elapsed:    0.6s remaining:    0.0s\n"
     ]
    },
    {
     "name": "stdout",
     "output_type": "stream",
     "text": [
      "Not setting metadata\n",
      "Applying baseline correction (mode: percent)\n"
     ]
    },
    {
     "name": "stderr",
     "output_type": "stream",
     "text": [
      "[Parallel(n_jobs=1)]: Done  15 out of  15 | elapsed:    2.4s finished\n"
     ]
    },
    {
     "name": "stdout",
     "output_type": "stream",
     "text": [
      "Using a threshold of 1.894579\n",
      "stat_fun(H1): min=-10.419966 max=7.160260\n",
      "Running initial clustering …\n",
      "Found 73 clusters\n"
     ]
    },
    {
     "data": {
      "text/plain": "  0%|          | Permuting : 0/99 [00:00<?,       ?it/s]",
      "application/vnd.jupyter.widget-view+json": {
       "version_major": 2,
       "version_minor": 0,
       "model_id": "afe6fb7a927d471482d30c344676d612"
      }
     },
     "metadata": {},
     "output_type": "display_data"
    },
    {
     "name": "stdout",
     "output_type": "stream",
     "text": [
      "Step-down-in-jumps iteration #1 found 0 clusters to exclude from subsequent iterations\n",
      "Using a threshold of -1.894579\n",
      "stat_fun(H1): min=-10.419966 max=7.160260\n",
      "Running initial clustering …\n",
      "Found 34 clusters\n"
     ]
    },
    {
     "data": {
      "text/plain": "  0%|          | Permuting : 0/99 [00:00<?,       ?it/s]",
      "application/vnd.jupyter.widget-view+json": {
       "version_major": 2,
       "version_minor": 0,
       "model_id": "df7e20b6612a4f129c989f75f832f6d4"
      }
     },
     "metadata": {},
     "output_type": "display_data"
    },
    {
     "name": "stdout",
     "output_type": "stream",
     "text": [
      "Step-down-in-jumps iteration #1 found 1 cluster to exclude from subsequent iterations\n"
     ]
    },
    {
     "data": {
      "text/plain": "  0%|          | Permuting : 0/99 [00:00<?,       ?it/s]",
      "application/vnd.jupyter.widget-view+json": {
       "version_major": 2,
       "version_minor": 0,
       "model_id": "b659d5ea9f9e406f95c463a2b5e44126"
      }
     },
     "metadata": {},
     "output_type": "display_data"
    },
    {
     "name": "stdout",
     "output_type": "stream",
     "text": [
      "Step-down-in-jumps iteration #2 found 0 additional clusters to exclude from subsequent iterations\n",
      "NOTE: pick_channels() is a legacy function. New code should use inst.pick(...).\n",
      "No baseline correction applied\n",
      "Using a threshold of 1.894579\n",
      "stat_fun(H1): min=-20.095146 max=5.929687\n",
      "Running initial clustering …\n",
      "Found 55 clusters\n"
     ]
    },
    {
     "data": {
      "text/plain": "  0%|          | Permuting : 0/99 [00:00<?,       ?it/s]",
      "application/vnd.jupyter.widget-view+json": {
       "version_major": 2,
       "version_minor": 0,
       "model_id": "f97632d7b7d346cfa0e8e3ed9bbb0bed"
      }
     },
     "metadata": {},
     "output_type": "display_data"
    },
    {
     "name": "stdout",
     "output_type": "stream",
     "text": [
      "Step-down-in-jumps iteration #1 found 0 clusters to exclude from subsequent iterations\n",
      "Using a threshold of -1.894579\n",
      "stat_fun(H1): min=-20.095146 max=5.929687\n",
      "Running initial clustering …\n",
      "Found 29 clusters\n"
     ]
    },
    {
     "data": {
      "text/plain": "  0%|          | Permuting : 0/99 [00:00<?,       ?it/s]",
      "application/vnd.jupyter.widget-view+json": {
       "version_major": 2,
       "version_minor": 0,
       "model_id": "7d96e376206c46479026481e36f899aa"
      }
     },
     "metadata": {},
     "output_type": "display_data"
    },
    {
     "name": "stdout",
     "output_type": "stream",
     "text": [
      "Step-down-in-jumps iteration #1 found 0 clusters to exclude from subsequent iterations\n",
      "NOTE: pick_channels() is a legacy function. New code should use inst.pick(...).\n",
      "No baseline correction applied\n",
      "Using a threshold of 1.894579\n",
      "stat_fun(H1): min=-14.107980 max=7.420219\n",
      "Running initial clustering …\n",
      "Found 49 clusters\n"
     ]
    },
    {
     "data": {
      "text/plain": "  0%|          | Permuting : 0/99 [00:00<?,       ?it/s]",
      "application/vnd.jupyter.widget-view+json": {
       "version_major": 2,
       "version_minor": 0,
       "model_id": "19181d086c204f8a92188c413ac345c8"
      }
     },
     "metadata": {},
     "output_type": "display_data"
    },
    {
     "name": "stdout",
     "output_type": "stream",
     "text": [
      "Step-down-in-jumps iteration #1 found 0 clusters to exclude from subsequent iterations\n",
      "Using a threshold of -1.894579\n",
      "stat_fun(H1): min=-14.107980 max=7.420219\n",
      "Running initial clustering …\n",
      "Found 72 clusters\n"
     ]
    },
    {
     "data": {
      "text/plain": "  0%|          | Permuting : 0/99 [00:00<?,       ?it/s]",
      "application/vnd.jupyter.widget-view+json": {
       "version_major": 2,
       "version_minor": 0,
       "model_id": "c037a4bdbd8b43a1a1055bd24bc6a7ea"
      }
     },
     "metadata": {},
     "output_type": "display_data"
    },
    {
     "name": "stdout",
     "output_type": "stream",
     "text": [
      "Step-down-in-jumps iteration #1 found 0 clusters to exclude from subsequent iterations\n",
      "NOTE: pick_channels() is a legacy function. New code should use inst.pick(...).\n",
      "No baseline correction applied\n",
      "Using a threshold of 1.894579\n",
      "stat_fun(H1): min=-17.608509 max=13.308576\n",
      "Running initial clustering …\n",
      "Found 48 clusters\n"
     ]
    },
    {
     "data": {
      "text/plain": "  0%|          | Permuting : 0/99 [00:00<?,       ?it/s]",
      "application/vnd.jupyter.widget-view+json": {
       "version_major": 2,
       "version_minor": 0,
       "model_id": "8ec8a815dff34958a9a06c29c22737be"
      }
     },
     "metadata": {},
     "output_type": "display_data"
    },
    {
     "name": "stdout",
     "output_type": "stream",
     "text": [
      "Step-down-in-jumps iteration #1 found 0 clusters to exclude from subsequent iterations\n",
      "Using a threshold of -1.894579\n",
      "stat_fun(H1): min=-17.608509 max=13.308576\n",
      "Running initial clustering …\n",
      "Found 33 clusters\n"
     ]
    },
    {
     "data": {
      "text/plain": "  0%|          | Permuting : 0/99 [00:00<?,       ?it/s]",
      "application/vnd.jupyter.widget-view+json": {
       "version_major": 2,
       "version_minor": 0,
       "model_id": "d1c245757ddc48a28fa264a3247d64ac"
      }
     },
     "metadata": {},
     "output_type": "display_data"
    },
    {
     "name": "stdout",
     "output_type": "stream",
     "text": [
      "Step-down-in-jumps iteration #1 found 1 cluster to exclude from subsequent iterations\n"
     ]
    },
    {
     "data": {
      "text/plain": "  0%|          | Permuting : 0/99 [00:00<?,       ?it/s]",
      "application/vnd.jupyter.widget-view+json": {
       "version_major": 2,
       "version_minor": 0,
       "model_id": "63def45dc9cc4c649a79a2f82c4e0ff6"
      }
     },
     "metadata": {},
     "output_type": "display_data"
    },
    {
     "name": "stdout",
     "output_type": "stream",
     "text": [
      "Step-down-in-jumps iteration #2 found 0 additional clusters to exclude from subsequent iterations\n",
      "NOTE: pick_channels() is a legacy function. New code should use inst.pick(...).\n",
      "No baseline correction applied\n",
      "Using a threshold of 1.894579\n",
      "stat_fun(H1): min=-17.324359 max=5.670416\n",
      "Running initial clustering …\n",
      "Found 54 clusters\n"
     ]
    },
    {
     "data": {
      "text/plain": "  0%|          | Permuting : 0/99 [00:00<?,       ?it/s]",
      "application/vnd.jupyter.widget-view+json": {
       "version_major": 2,
       "version_minor": 0,
       "model_id": "86130df01733442094c241cdb7330660"
      }
     },
     "metadata": {},
     "output_type": "display_data"
    },
    {
     "name": "stdout",
     "output_type": "stream",
     "text": [
      "Step-down-in-jumps iteration #1 found 1 cluster to exclude from subsequent iterations\n"
     ]
    },
    {
     "data": {
      "text/plain": "  0%|          | Permuting : 0/99 [00:00<?,       ?it/s]",
      "application/vnd.jupyter.widget-view+json": {
       "version_major": 2,
       "version_minor": 0,
       "model_id": "e10e2fa837014e75ab96a6ac72a1cf04"
      }
     },
     "metadata": {},
     "output_type": "display_data"
    },
    {
     "name": "stdout",
     "output_type": "stream",
     "text": [
      "Step-down-in-jumps iteration #2 found 0 additional clusters to exclude from subsequent iterations\n",
      "Using a threshold of -1.894579\n",
      "stat_fun(H1): min=-17.324359 max=5.670416\n",
      "Running initial clustering …\n",
      "Found 35 clusters\n"
     ]
    },
    {
     "data": {
      "text/plain": "  0%|          | Permuting : 0/99 [00:00<?,       ?it/s]",
      "application/vnd.jupyter.widget-view+json": {
       "version_major": 2,
       "version_minor": 0,
       "model_id": "701a910ca2c1459e8b806e2eb441c0a3"
      }
     },
     "metadata": {},
     "output_type": "display_data"
    },
    {
     "name": "stdout",
     "output_type": "stream",
     "text": [
      "Step-down-in-jumps iteration #1 found 2 clusters to exclude from subsequent iterations\n"
     ]
    },
    {
     "data": {
      "text/plain": "  0%|          | Permuting : 0/99 [00:00<?,       ?it/s]",
      "application/vnd.jupyter.widget-view+json": {
       "version_major": 2,
       "version_minor": 0,
       "model_id": "b480976442424f79854f4cd4d8596acf"
      }
     },
     "metadata": {},
     "output_type": "display_data"
    },
    {
     "name": "stdout",
     "output_type": "stream",
     "text": [
      "Step-down-in-jumps iteration #2 found 0 additional clusters to exclude from subsequent iterations\n",
      "NOTE: pick_channels() is a legacy function. New code should use inst.pick(...).\n",
      "No baseline correction applied\n",
      "Using a threshold of 1.894579\n",
      "stat_fun(H1): min=-12.303535 max=8.193479\n",
      "Running initial clustering …\n",
      "Found 58 clusters\n"
     ]
    },
    {
     "data": {
      "text/plain": "  0%|          | Permuting : 0/99 [00:00<?,       ?it/s]",
      "application/vnd.jupyter.widget-view+json": {
       "version_major": 2,
       "version_minor": 0,
       "model_id": "e184aecd4428497886d5f850a53ac076"
      }
     },
     "metadata": {},
     "output_type": "display_data"
    },
    {
     "name": "stdout",
     "output_type": "stream",
     "text": [
      "Step-down-in-jumps iteration #1 found 0 clusters to exclude from subsequent iterations\n",
      "Using a threshold of -1.894579\n",
      "stat_fun(H1): min=-12.303535 max=8.193479\n",
      "Running initial clustering …\n",
      "Found 47 clusters\n"
     ]
    },
    {
     "data": {
      "text/plain": "  0%|          | Permuting : 0/99 [00:00<?,       ?it/s]",
      "application/vnd.jupyter.widget-view+json": {
       "version_major": 2,
       "version_minor": 0,
       "model_id": "cd5195805e4945838cc4fd6ab7522cf2"
      }
     },
     "metadata": {},
     "output_type": "display_data"
    },
    {
     "name": "stdout",
     "output_type": "stream",
     "text": [
      "Step-down-in-jumps iteration #1 found 0 clusters to exclude from subsequent iterations\n",
      "NOTE: pick_channels() is a legacy function. New code should use inst.pick(...).\n",
      "No baseline correction applied\n",
      "Using a threshold of 1.894579\n",
      "stat_fun(H1): min=-17.504601 max=6.461913\n",
      "Running initial clustering …\n",
      "Found 54 clusters\n"
     ]
    },
    {
     "data": {
      "text/plain": "  0%|          | Permuting : 0/99 [00:00<?,       ?it/s]",
      "application/vnd.jupyter.widget-view+json": {
       "version_major": 2,
       "version_minor": 0,
       "model_id": "51abc86ef7fa4b09a0fd7e883f08af84"
      }
     },
     "metadata": {},
     "output_type": "display_data"
    },
    {
     "name": "stdout",
     "output_type": "stream",
     "text": [
      "Step-down-in-jumps iteration #1 found 0 clusters to exclude from subsequent iterations\n",
      "Using a threshold of -1.894579\n",
      "stat_fun(H1): min=-17.504601 max=6.461913\n",
      "Running initial clustering …\n",
      "Found 56 clusters\n"
     ]
    },
    {
     "data": {
      "text/plain": "  0%|          | Permuting : 0/99 [00:00<?,       ?it/s]",
      "application/vnd.jupyter.widget-view+json": {
       "version_major": 2,
       "version_minor": 0,
       "model_id": "688a082e766a42dc81553a5f7e221919"
      }
     },
     "metadata": {},
     "output_type": "display_data"
    },
    {
     "name": "stdout",
     "output_type": "stream",
     "text": [
      "Step-down-in-jumps iteration #1 found 1 cluster to exclude from subsequent iterations\n"
     ]
    },
    {
     "data": {
      "text/plain": "  0%|          | Permuting : 0/99 [00:00<?,       ?it/s]",
      "application/vnd.jupyter.widget-view+json": {
       "version_major": 2,
       "version_minor": 0,
       "model_id": "21c652812ebc454a86cdaaec63d5ec11"
      }
     },
     "metadata": {},
     "output_type": "display_data"
    },
    {
     "name": "stdout",
     "output_type": "stream",
     "text": [
      "Step-down-in-jumps iteration #2 found 0 additional clusters to exclude from subsequent iterations\n",
      "NOTE: pick_channels() is a legacy function. New code should use inst.pick(...).\n",
      "No baseline correction applied\n",
      "Using a threshold of 1.894579\n",
      "stat_fun(H1): min=-11.969343 max=7.511322\n",
      "Running initial clustering …\n",
      "Found 33 clusters\n"
     ]
    },
    {
     "data": {
      "text/plain": "  0%|          | Permuting : 0/99 [00:00<?,       ?it/s]",
      "application/vnd.jupyter.widget-view+json": {
       "version_major": 2,
       "version_minor": 0,
       "model_id": "9517548665554815b23f358c97a32a39"
      }
     },
     "metadata": {},
     "output_type": "display_data"
    },
    {
     "name": "stdout",
     "output_type": "stream",
     "text": [
      "Step-down-in-jumps iteration #1 found 0 clusters to exclude from subsequent iterations\n",
      "Using a threshold of -1.894579\n",
      "stat_fun(H1): min=-11.969343 max=7.511322\n",
      "Running initial clustering …\n",
      "Found 41 clusters\n"
     ]
    },
    {
     "data": {
      "text/plain": "  0%|          | Permuting : 0/99 [00:00<?,       ?it/s]",
      "application/vnd.jupyter.widget-view+json": {
       "version_major": 2,
       "version_minor": 0,
       "model_id": "5b079c01bc8a44a6a75e2e2fe01dad3f"
      }
     },
     "metadata": {},
     "output_type": "display_data"
    },
    {
     "name": "stdout",
     "output_type": "stream",
     "text": [
      "Step-down-in-jumps iteration #1 found 0 clusters to exclude from subsequent iterations\n",
      "NOTE: pick_channels() is a legacy function. New code should use inst.pick(...).\n",
      "No baseline correction applied\n",
      "Using a threshold of 1.894579\n",
      "stat_fun(H1): min=-16.776057 max=7.973416\n",
      "Running initial clustering …\n",
      "Found 35 clusters\n"
     ]
    },
    {
     "data": {
      "text/plain": "  0%|          | Permuting : 0/99 [00:00<?,       ?it/s]",
      "application/vnd.jupyter.widget-view+json": {
       "version_major": 2,
       "version_minor": 0,
       "model_id": "4e41975c53b945ccab78003a789e5fd0"
      }
     },
     "metadata": {},
     "output_type": "display_data"
    },
    {
     "name": "stdout",
     "output_type": "stream",
     "text": [
      "Step-down-in-jumps iteration #1 found 0 clusters to exclude from subsequent iterations\n",
      "Using a threshold of -1.894579\n",
      "stat_fun(H1): min=-16.776057 max=7.973416\n",
      "Running initial clustering …\n",
      "Found 58 clusters\n"
     ]
    },
    {
     "data": {
      "text/plain": "  0%|          | Permuting : 0/99 [00:00<?,       ?it/s]",
      "application/vnd.jupyter.widget-view+json": {
       "version_major": 2,
       "version_minor": 0,
       "model_id": "9521cbc47681491d9ea0dd2247be5b5e"
      }
     },
     "metadata": {},
     "output_type": "display_data"
    },
    {
     "name": "stdout",
     "output_type": "stream",
     "text": [
      "Step-down-in-jumps iteration #1 found 1 cluster to exclude from subsequent iterations\n"
     ]
    },
    {
     "data": {
      "text/plain": "  0%|          | Permuting : 0/99 [00:00<?,       ?it/s]",
      "application/vnd.jupyter.widget-view+json": {
       "version_major": 2,
       "version_minor": 0,
       "model_id": "b3f661b7acb94748b56a6968d755302a"
      }
     },
     "metadata": {},
     "output_type": "display_data"
    },
    {
     "name": "stdout",
     "output_type": "stream",
     "text": [
      "Step-down-in-jumps iteration #2 found 0 additional clusters to exclude from subsequent iterations\n",
      "NOTE: pick_channels() is a legacy function. New code should use inst.pick(...).\n",
      "No baseline correction applied\n",
      "Using a threshold of 1.894579\n",
      "stat_fun(H1): min=-12.307813 max=6.451978\n",
      "Running initial clustering …\n",
      "Found 57 clusters\n"
     ]
    },
    {
     "data": {
      "text/plain": "  0%|          | Permuting : 0/99 [00:00<?,       ?it/s]",
      "application/vnd.jupyter.widget-view+json": {
       "version_major": 2,
       "version_minor": 0,
       "model_id": "45ef216940114f2a923f85dc158735b9"
      }
     },
     "metadata": {},
     "output_type": "display_data"
    },
    {
     "name": "stdout",
     "output_type": "stream",
     "text": [
      "Step-down-in-jumps iteration #1 found 0 clusters to exclude from subsequent iterations\n",
      "Using a threshold of -1.894579\n",
      "stat_fun(H1): min=-12.307813 max=6.451978\n",
      "Running initial clustering …\n",
      "Found 56 clusters\n"
     ]
    },
    {
     "data": {
      "text/plain": "  0%|          | Permuting : 0/99 [00:00<?,       ?it/s]",
      "application/vnd.jupyter.widget-view+json": {
       "version_major": 2,
       "version_minor": 0,
       "model_id": "8ea54dc79cdb4399a5dbf95f1633ea9e"
      }
     },
     "metadata": {},
     "output_type": "display_data"
    },
    {
     "name": "stdout",
     "output_type": "stream",
     "text": [
      "Step-down-in-jumps iteration #1 found 0 clusters to exclude from subsequent iterations\n",
      "NOTE: pick_channels() is a legacy function. New code should use inst.pick(...).\n",
      "No baseline correction applied\n",
      "Using a threshold of 1.894579\n",
      "stat_fun(H1): min=-12.509654 max=7.471046\n",
      "Running initial clustering …\n",
      "Found 45 clusters\n"
     ]
    },
    {
     "data": {
      "text/plain": "  0%|          | Permuting : 0/99 [00:00<?,       ?it/s]",
      "application/vnd.jupyter.widget-view+json": {
       "version_major": 2,
       "version_minor": 0,
       "model_id": "f47e26e326b5451493149ca825b31c22"
      }
     },
     "metadata": {},
     "output_type": "display_data"
    },
    {
     "name": "stdout",
     "output_type": "stream",
     "text": [
      "Step-down-in-jumps iteration #1 found 0 clusters to exclude from subsequent iterations\n",
      "Using a threshold of -1.894579\n",
      "stat_fun(H1): min=-12.509654 max=7.471046\n",
      "Running initial clustering …\n",
      "Found 48 clusters\n"
     ]
    },
    {
     "data": {
      "text/plain": "  0%|          | Permuting : 0/99 [00:00<?,       ?it/s]",
      "application/vnd.jupyter.widget-view+json": {
       "version_major": 2,
       "version_minor": 0,
       "model_id": "643d42ce472c4f92be30e71e658c1dc2"
      }
     },
     "metadata": {},
     "output_type": "display_data"
    },
    {
     "name": "stdout",
     "output_type": "stream",
     "text": [
      "Step-down-in-jumps iteration #1 found 0 clusters to exclude from subsequent iterations\n",
      "NOTE: pick_channels() is a legacy function. New code should use inst.pick(...).\n",
      "No baseline correction applied\n",
      "Using a threshold of 1.894579\n",
      "stat_fun(H1): min=-14.106699 max=8.805364\n",
      "Running initial clustering …\n",
      "Found 28 clusters\n"
     ]
    },
    {
     "data": {
      "text/plain": "  0%|          | Permuting : 0/99 [00:00<?,       ?it/s]",
      "application/vnd.jupyter.widget-view+json": {
       "version_major": 2,
       "version_minor": 0,
       "model_id": "51d7c7960b564ebb916fca72d4bb79fc"
      }
     },
     "metadata": {},
     "output_type": "display_data"
    },
    {
     "name": "stdout",
     "output_type": "stream",
     "text": [
      "Step-down-in-jumps iteration #1 found 0 clusters to exclude from subsequent iterations\n",
      "Using a threshold of -1.894579\n",
      "stat_fun(H1): min=-14.106699 max=8.805364\n",
      "Running initial clustering …\n",
      "Found 29 clusters\n"
     ]
    },
    {
     "data": {
      "text/plain": "  0%|          | Permuting : 0/99 [00:00<?,       ?it/s]",
      "application/vnd.jupyter.widget-view+json": {
       "version_major": 2,
       "version_minor": 0,
       "model_id": "9d96498d95844468b0ac48deab1a8122"
      }
     },
     "metadata": {},
     "output_type": "display_data"
    },
    {
     "name": "stdout",
     "output_type": "stream",
     "text": [
      "Step-down-in-jumps iteration #1 found 2 clusters to exclude from subsequent iterations\n"
     ]
    },
    {
     "data": {
      "text/plain": "  0%|          | Permuting : 0/99 [00:00<?,       ?it/s]",
      "application/vnd.jupyter.widget-view+json": {
       "version_major": 2,
       "version_minor": 0,
       "model_id": "c0525e029c5d489db257766dc37cfd81"
      }
     },
     "metadata": {},
     "output_type": "display_data"
    },
    {
     "name": "stdout",
     "output_type": "stream",
     "text": [
      "Step-down-in-jumps iteration #2 found 0 additional clusters to exclude from subsequent iterations\n",
      "NOTE: pick_channels() is a legacy function. New code should use inst.pick(...).\n",
      "No baseline correction applied\n",
      "Using a threshold of 1.894579\n",
      "stat_fun(H1): min=-17.865641 max=8.868116\n",
      "Running initial clustering …\n",
      "Found 42 clusters\n"
     ]
    },
    {
     "data": {
      "text/plain": "  0%|          | Permuting : 0/99 [00:00<?,       ?it/s]",
      "application/vnd.jupyter.widget-view+json": {
       "version_major": 2,
       "version_minor": 0,
       "model_id": "06eeba07969346ef95e482990ed3169b"
      }
     },
     "metadata": {},
     "output_type": "display_data"
    },
    {
     "name": "stdout",
     "output_type": "stream",
     "text": [
      "Step-down-in-jumps iteration #1 found 0 clusters to exclude from subsequent iterations\n",
      "Using a threshold of -1.894579\n",
      "stat_fun(H1): min=-17.865641 max=8.868116\n",
      "Running initial clustering …\n",
      "Found 59 clusters\n"
     ]
    },
    {
     "data": {
      "text/plain": "  0%|          | Permuting : 0/99 [00:00<?,       ?it/s]",
      "application/vnd.jupyter.widget-view+json": {
       "version_major": 2,
       "version_minor": 0,
       "model_id": "f5f71a4f32a04de784037b6bad30ea15"
      }
     },
     "metadata": {},
     "output_type": "display_data"
    },
    {
     "name": "stdout",
     "output_type": "stream",
     "text": [
      "Step-down-in-jumps iteration #1 found 1 cluster to exclude from subsequent iterations\n"
     ]
    },
    {
     "data": {
      "text/plain": "  0%|          | Permuting : 0/99 [00:00<?,       ?it/s]",
      "application/vnd.jupyter.widget-view+json": {
       "version_major": 2,
       "version_minor": 0,
       "model_id": "45d0676520e9431ea705d9e1ed1d261a"
      }
     },
     "metadata": {},
     "output_type": "display_data"
    },
    {
     "name": "stdout",
     "output_type": "stream",
     "text": [
      "Step-down-in-jumps iteration #2 found 0 additional clusters to exclude from subsequent iterations\n",
      "NOTE: pick_channels() is a legacy function. New code should use inst.pick(...).\n",
      "No baseline correction applied\n",
      "Using a threshold of 1.894579\n",
      "stat_fun(H1): min=-23.304091 max=11.799607\n",
      "Running initial clustering …\n",
      "Found 36 clusters\n"
     ]
    },
    {
     "data": {
      "text/plain": "  0%|          | Permuting : 0/99 [00:00<?,       ?it/s]",
      "application/vnd.jupyter.widget-view+json": {
       "version_major": 2,
       "version_minor": 0,
       "model_id": "44e9234101fa4fc1a197bc5f214b0747"
      }
     },
     "metadata": {},
     "output_type": "display_data"
    },
    {
     "name": "stdout",
     "output_type": "stream",
     "text": [
      "Step-down-in-jumps iteration #1 found 0 clusters to exclude from subsequent iterations\n",
      "Using a threshold of -1.894579\n",
      "stat_fun(H1): min=-23.304091 max=11.799607\n",
      "Running initial clustering …\n",
      "Found 66 clusters\n"
     ]
    },
    {
     "data": {
      "text/plain": "  0%|          | Permuting : 0/99 [00:00<?,       ?it/s]",
      "application/vnd.jupyter.widget-view+json": {
       "version_major": 2,
       "version_minor": 0,
       "model_id": "8ea6e84d5d13402b97dba3419c8c3e93"
      }
     },
     "metadata": {},
     "output_type": "display_data"
    },
    {
     "name": "stdout",
     "output_type": "stream",
     "text": [
      "Step-down-in-jumps iteration #1 found 0 clusters to exclude from subsequent iterations\n",
      "NOTE: pick_channels() is a legacy function. New code should use inst.pick(...).\n",
      "No baseline correction applied\n",
      "Using a threshold of 1.894579\n",
      "stat_fun(H1): min=-11.207747 max=18.064387\n",
      "Running initial clustering …\n",
      "Found 40 clusters\n"
     ]
    },
    {
     "data": {
      "text/plain": "  0%|          | Permuting : 0/99 [00:00<?,       ?it/s]",
      "application/vnd.jupyter.widget-view+json": {
       "version_major": 2,
       "version_minor": 0,
       "model_id": "5b199b47c77643309072848012fd9f7e"
      }
     },
     "metadata": {},
     "output_type": "display_data"
    },
    {
     "name": "stdout",
     "output_type": "stream",
     "text": [
      "Step-down-in-jumps iteration #1 found 0 clusters to exclude from subsequent iterations\n",
      "Using a threshold of -1.894579\n",
      "stat_fun(H1): min=-11.207747 max=18.064387\n",
      "Running initial clustering …\n",
      "Found 59 clusters\n"
     ]
    },
    {
     "data": {
      "text/plain": "  0%|          | Permuting : 0/99 [00:00<?,       ?it/s]",
      "application/vnd.jupyter.widget-view+json": {
       "version_major": 2,
       "version_minor": 0,
       "model_id": "69aa73d69e5d4c80af219d830b2f3c54"
      }
     },
     "metadata": {},
     "output_type": "display_data"
    },
    {
     "name": "stdout",
     "output_type": "stream",
     "text": [
      "Step-down-in-jumps iteration #1 found 1 cluster to exclude from subsequent iterations\n"
     ]
    },
    {
     "data": {
      "text/plain": "  0%|          | Permuting : 0/99 [00:00<?,       ?it/s]",
      "application/vnd.jupyter.widget-view+json": {
       "version_major": 2,
       "version_minor": 0,
       "model_id": "8651f0be87274e779eecc36a4c3c7c7b"
      }
     },
     "metadata": {},
     "output_type": "display_data"
    },
    {
     "name": "stdout",
     "output_type": "stream",
     "text": [
      "Step-down-in-jumps iteration #2 found 0 additional clusters to exclude from subsequent iterations\n",
      "NOTE: pick_channels() is a legacy function. New code should use inst.pick(...).\n",
      "No baseline correction applied\n",
      "Creating RawArray with float64 data, n_channels=15, n_times=100000\n",
      "    Range : 0 ... 99999 =      0.000 ...    99.999 secs\n",
      "Ready.\n",
      "Not setting metadata\n",
      "19 matching events found\n",
      "No baseline correction applied\n",
      "0 projection items activated\n",
      "Using data from preloaded Raw for 19 events and 5001 original time points ...\n",
      "0 bad epochs dropped\n"
     ]
    },
    {
     "name": "stderr",
     "output_type": "stream",
     "text": [
      "[Parallel(n_jobs=1)]: Using backend SequentialBackend with 1 concurrent workers.\n",
      "[Parallel(n_jobs=1)]: Done   1 out of   1 | elapsed:    0.3s remaining:    0.0s\n",
      "[Parallel(n_jobs=1)]: Done   2 out of   2 | elapsed:    0.7s remaining:    0.0s\n",
      "[Parallel(n_jobs=1)]: Done   3 out of   3 | elapsed:    1.1s remaining:    0.0s\n",
      "[Parallel(n_jobs=1)]: Done   4 out of   4 | elapsed:    1.6s remaining:    0.0s\n"
     ]
    },
    {
     "name": "stdout",
     "output_type": "stream",
     "text": [
      "Not setting metadata\n"
     ]
    },
    {
     "name": "stderr",
     "output_type": "stream",
     "text": [
      "[Parallel(n_jobs=1)]: Done  15 out of  15 | elapsed:    5.9s finished\n"
     ]
    },
    {
     "name": "stdout",
     "output_type": "stream",
     "text": [
      "Applying baseline correction (mode: percent)\n",
      "Using a threshold of 1.734064\n",
      "stat_fun(H1): min=-8.780464 max=4.359680\n",
      "Running initial clustering …\n",
      "Found 67 clusters\n"
     ]
    },
    {
     "data": {
      "text/plain": "  0%|          | Permuting : 0/99 [00:00<?,       ?it/s]",
      "application/vnd.jupyter.widget-view+json": {
       "version_major": 2,
       "version_minor": 0,
       "model_id": "594644b8ea8f4bfeae2b6038b2bf9b9b"
      }
     },
     "metadata": {},
     "output_type": "display_data"
    },
    {
     "name": "stdout",
     "output_type": "stream",
     "text": [
      "Step-down-in-jumps iteration #1 found 2 clusters to exclude from subsequent iterations\n"
     ]
    },
    {
     "data": {
      "text/plain": "  0%|          | Permuting : 0/99 [00:00<?,       ?it/s]",
      "application/vnd.jupyter.widget-view+json": {
       "version_major": 2,
       "version_minor": 0,
       "model_id": "23d2a791859f4475a9bf3f0516afd73a"
      }
     },
     "metadata": {},
     "output_type": "display_data"
    },
    {
     "name": "stdout",
     "output_type": "stream",
     "text": [
      "Step-down-in-jumps iteration #2 found 2 additional clusters to exclude from subsequent iterations\n"
     ]
    },
    {
     "data": {
      "text/plain": "  0%|          | Permuting : 0/99 [00:00<?,       ?it/s]",
      "application/vnd.jupyter.widget-view+json": {
       "version_major": 2,
       "version_minor": 0,
       "model_id": "22ca47309d3f4b80b12b7ed3387f1044"
      }
     },
     "metadata": {},
     "output_type": "display_data"
    },
    {
     "name": "stdout",
     "output_type": "stream",
     "text": [
      "Step-down-in-jumps iteration #3 found 0 additional clusters to exclude from subsequent iterations\n",
      "Using a threshold of -1.734064\n",
      "stat_fun(H1): min=-8.780464 max=4.359680\n",
      "Running initial clustering …\n",
      "Found 9 clusters\n"
     ]
    },
    {
     "data": {
      "text/plain": "  0%|          | Permuting : 0/99 [00:00<?,       ?it/s]",
      "application/vnd.jupyter.widget-view+json": {
       "version_major": 2,
       "version_minor": 0,
       "model_id": "eb00f09ffa9f44c89ecd0f98c6844bfa"
      }
     },
     "metadata": {},
     "output_type": "display_data"
    },
    {
     "name": "stdout",
     "output_type": "stream",
     "text": [
      "Step-down-in-jumps iteration #1 found 1 cluster to exclude from subsequent iterations\n"
     ]
    },
    {
     "data": {
      "text/plain": "  0%|          | Permuting : 0/99 [00:00<?,       ?it/s]",
      "application/vnd.jupyter.widget-view+json": {
       "version_major": 2,
       "version_minor": 0,
       "model_id": "ddb0e57a6a0744d987f1c697c77b9cda"
      }
     },
     "metadata": {},
     "output_type": "display_data"
    },
    {
     "name": "stdout",
     "output_type": "stream",
     "text": [
      "Step-down-in-jumps iteration #2 found 0 additional clusters to exclude from subsequent iterations\n",
      "NOTE: pick_channels() is a legacy function. New code should use inst.pick(...).\n",
      "No baseline correction applied\n",
      "Using a threshold of 1.734064\n",
      "stat_fun(H1): min=-9.150778 max=5.114366\n",
      "Running initial clustering …\n",
      "Found 44 clusters\n"
     ]
    },
    {
     "data": {
      "text/plain": "  0%|          | Permuting : 0/99 [00:00<?,       ?it/s]",
      "application/vnd.jupyter.widget-view+json": {
       "version_major": 2,
       "version_minor": 0,
       "model_id": "b6fd5df0e0fb4760b6925193fe0530b0"
      }
     },
     "metadata": {},
     "output_type": "display_data"
    },
    {
     "name": "stdout",
     "output_type": "stream",
     "text": [
      "Step-down-in-jumps iteration #1 found 3 clusters to exclude from subsequent iterations\n"
     ]
    },
    {
     "data": {
      "text/plain": "  0%|          | Permuting : 0/99 [00:00<?,       ?it/s]",
      "application/vnd.jupyter.widget-view+json": {
       "version_major": 2,
       "version_minor": 0,
       "model_id": "288f878aec0b4b35a084735322eb5985"
      }
     },
     "metadata": {},
     "output_type": "display_data"
    },
    {
     "name": "stdout",
     "output_type": "stream",
     "text": [
      "Step-down-in-jumps iteration #2 found 1 additional cluster to exclude from subsequent iterations\n"
     ]
    },
    {
     "data": {
      "text/plain": "  0%|          | Permuting : 0/99 [00:00<?,       ?it/s]",
      "application/vnd.jupyter.widget-view+json": {
       "version_major": 2,
       "version_minor": 0,
       "model_id": "272222436ded4ad6992548ad8dc957a7"
      }
     },
     "metadata": {},
     "output_type": "display_data"
    },
    {
     "name": "stdout",
     "output_type": "stream",
     "text": [
      "Step-down-in-jumps iteration #3 found 0 additional clusters to exclude from subsequent iterations\n",
      "Using a threshold of -1.734064\n",
      "stat_fun(H1): min=-9.150778 max=5.114366\n",
      "Running initial clustering …\n",
      "Found 11 clusters\n"
     ]
    },
    {
     "data": {
      "text/plain": "  0%|          | Permuting : 0/99 [00:00<?,       ?it/s]",
      "application/vnd.jupyter.widget-view+json": {
       "version_major": 2,
       "version_minor": 0,
       "model_id": "da984fead250492b8f19d793b197454e"
      }
     },
     "metadata": {},
     "output_type": "display_data"
    },
    {
     "name": "stdout",
     "output_type": "stream",
     "text": [
      "Step-down-in-jumps iteration #1 found 1 cluster to exclude from subsequent iterations\n"
     ]
    },
    {
     "data": {
      "text/plain": "  0%|          | Permuting : 0/99 [00:00<?,       ?it/s]",
      "application/vnd.jupyter.widget-view+json": {
       "version_major": 2,
       "version_minor": 0,
       "model_id": "9796f6baf88145d7a164ba942b21a542"
      }
     },
     "metadata": {},
     "output_type": "display_data"
    },
    {
     "name": "stdout",
     "output_type": "stream",
     "text": [
      "Step-down-in-jumps iteration #2 found 0 additional clusters to exclude from subsequent iterations\n",
      "NOTE: pick_channels() is a legacy function. New code should use inst.pick(...).\n",
      "No baseline correction applied\n",
      "Using a threshold of 1.734064\n",
      "stat_fun(H1): min=-11.517772 max=6.081115\n",
      "Running initial clustering …\n",
      "Found 77 clusters\n"
     ]
    },
    {
     "data": {
      "text/plain": "  0%|          | Permuting : 0/99 [00:00<?,       ?it/s]",
      "application/vnd.jupyter.widget-view+json": {
       "version_major": 2,
       "version_minor": 0,
       "model_id": "5f53f230344548e6ba741767916158b8"
      }
     },
     "metadata": {},
     "output_type": "display_data"
    },
    {
     "name": "stdout",
     "output_type": "stream",
     "text": [
      "Step-down-in-jumps iteration #1 found 1 cluster to exclude from subsequent iterations\n"
     ]
    },
    {
     "data": {
      "text/plain": "  0%|          | Permuting : 0/99 [00:00<?,       ?it/s]",
      "application/vnd.jupyter.widget-view+json": {
       "version_major": 2,
       "version_minor": 0,
       "model_id": "09c5b469d19847d2a5b99d255957c4dd"
      }
     },
     "metadata": {},
     "output_type": "display_data"
    },
    {
     "name": "stdout",
     "output_type": "stream",
     "text": [
      "Step-down-in-jumps iteration #2 found 2 additional clusters to exclude from subsequent iterations\n"
     ]
    },
    {
     "data": {
      "text/plain": "  0%|          | Permuting : 0/99 [00:00<?,       ?it/s]",
      "application/vnd.jupyter.widget-view+json": {
       "version_major": 2,
       "version_minor": 0,
       "model_id": "68f90806a62f48b2a91901e4c5d57967"
      }
     },
     "metadata": {},
     "output_type": "display_data"
    },
    {
     "name": "stdout",
     "output_type": "stream",
     "text": [
      "Step-down-in-jumps iteration #3 found 0 additional clusters to exclude from subsequent iterations\n",
      "Using a threshold of -1.734064\n",
      "stat_fun(H1): min=-11.517772 max=6.081115\n",
      "Running initial clustering …\n",
      "Found 13 clusters\n"
     ]
    },
    {
     "data": {
      "text/plain": "  0%|          | Permuting : 0/99 [00:00<?,       ?it/s]",
      "application/vnd.jupyter.widget-view+json": {
       "version_major": 2,
       "version_minor": 0,
       "model_id": "2673e7e74f8941caa154a1affc011d76"
      }
     },
     "metadata": {},
     "output_type": "display_data"
    },
    {
     "name": "stdout",
     "output_type": "stream",
     "text": [
      "Step-down-in-jumps iteration #1 found 1 cluster to exclude from subsequent iterations\n"
     ]
    },
    {
     "data": {
      "text/plain": "  0%|          | Permuting : 0/99 [00:00<?,       ?it/s]",
      "application/vnd.jupyter.widget-view+json": {
       "version_major": 2,
       "version_minor": 0,
       "model_id": "267358c8ec2a4b749998855e3f58f49b"
      }
     },
     "metadata": {},
     "output_type": "display_data"
    },
    {
     "name": "stdout",
     "output_type": "stream",
     "text": [
      "Step-down-in-jumps iteration #2 found 0 additional clusters to exclude from subsequent iterations\n",
      "NOTE: pick_channels() is a legacy function. New code should use inst.pick(...).\n",
      "No baseline correction applied\n",
      "Using a threshold of 1.734064\n",
      "stat_fun(H1): min=-10.012471 max=5.028468\n",
      "Running initial clustering …\n",
      "Found 48 clusters\n"
     ]
    },
    {
     "data": {
      "text/plain": "  0%|          | Permuting : 0/99 [00:00<?,       ?it/s]",
      "application/vnd.jupyter.widget-view+json": {
       "version_major": 2,
       "version_minor": 0,
       "model_id": "37167a2963074dd9a70cae9f36780f62"
      }
     },
     "metadata": {},
     "output_type": "display_data"
    },
    {
     "name": "stdout",
     "output_type": "stream",
     "text": [
      "Step-down-in-jumps iteration #1 found 2 clusters to exclude from subsequent iterations\n"
     ]
    },
    {
     "data": {
      "text/plain": "  0%|          | Permuting : 0/99 [00:00<?,       ?it/s]",
      "application/vnd.jupyter.widget-view+json": {
       "version_major": 2,
       "version_minor": 0,
       "model_id": "6c32874b9ed949668d5d3d08a8cc3ab2"
      }
     },
     "metadata": {},
     "output_type": "display_data"
    },
    {
     "name": "stdout",
     "output_type": "stream",
     "text": [
      "Step-down-in-jumps iteration #2 found 0 additional clusters to exclude from subsequent iterations\n",
      "Using a threshold of -1.734064\n",
      "stat_fun(H1): min=-10.012471 max=5.028468\n",
      "Running initial clustering …\n",
      "Found 4 clusters\n"
     ]
    },
    {
     "data": {
      "text/plain": "  0%|          | Permuting : 0/99 [00:00<?,       ?it/s]",
      "application/vnd.jupyter.widget-view+json": {
       "version_major": 2,
       "version_minor": 0,
       "model_id": "301590812e75474490b50dadb97e4f70"
      }
     },
     "metadata": {},
     "output_type": "display_data"
    },
    {
     "name": "stdout",
     "output_type": "stream",
     "text": [
      "Step-down-in-jumps iteration #1 found 1 cluster to exclude from subsequent iterations\n"
     ]
    },
    {
     "data": {
      "text/plain": "  0%|          | Permuting : 0/99 [00:00<?,       ?it/s]",
      "application/vnd.jupyter.widget-view+json": {
       "version_major": 2,
       "version_minor": 0,
       "model_id": "369c3298f0284519bb02a1f9815d3a30"
      }
     },
     "metadata": {},
     "output_type": "display_data"
    },
    {
     "name": "stdout",
     "output_type": "stream",
     "text": [
      "Step-down-in-jumps iteration #2 found 0 additional clusters to exclude from subsequent iterations\n",
      "NOTE: pick_channels() is a legacy function. New code should use inst.pick(...).\n",
      "No baseline correction applied\n",
      "Using a threshold of 1.734064\n",
      "stat_fun(H1): min=-8.758057 max=4.568514\n",
      "Running initial clustering …\n",
      "Found 53 clusters\n"
     ]
    },
    {
     "data": {
      "text/plain": "  0%|          | Permuting : 0/99 [00:00<?,       ?it/s]",
      "application/vnd.jupyter.widget-view+json": {
       "version_major": 2,
       "version_minor": 0,
       "model_id": "c7dc031120f84bf78c6768a6bf1037ff"
      }
     },
     "metadata": {},
     "output_type": "display_data"
    },
    {
     "name": "stdout",
     "output_type": "stream",
     "text": [
      "Step-down-in-jumps iteration #1 found 4 clusters to exclude from subsequent iterations\n"
     ]
    },
    {
     "data": {
      "text/plain": "  0%|          | Permuting : 0/99 [00:00<?,       ?it/s]",
      "application/vnd.jupyter.widget-view+json": {
       "version_major": 2,
       "version_minor": 0,
       "model_id": "ce264b23f4334d8d822ec98064fa4af4"
      }
     },
     "metadata": {},
     "output_type": "display_data"
    },
    {
     "name": "stdout",
     "output_type": "stream",
     "text": [
      "Step-down-in-jumps iteration #2 found 0 additional clusters to exclude from subsequent iterations\n",
      "Using a threshold of -1.734064\n",
      "stat_fun(H1): min=-8.758057 max=4.568514\n",
      "Running initial clustering …\n",
      "Found 12 clusters\n"
     ]
    },
    {
     "data": {
      "text/plain": "  0%|          | Permuting : 0/99 [00:00<?,       ?it/s]",
      "application/vnd.jupyter.widget-view+json": {
       "version_major": 2,
       "version_minor": 0,
       "model_id": "b6d7fb253b734931b5c28ddf726ce8e6"
      }
     },
     "metadata": {},
     "output_type": "display_data"
    },
    {
     "name": "stdout",
     "output_type": "stream",
     "text": [
      "Step-down-in-jumps iteration #1 found 1 cluster to exclude from subsequent iterations\n"
     ]
    },
    {
     "data": {
      "text/plain": "  0%|          | Permuting : 0/99 [00:00<?,       ?it/s]",
      "application/vnd.jupyter.widget-view+json": {
       "version_major": 2,
       "version_minor": 0,
       "model_id": "54595993b2bf42b4a53620e2cbdd9895"
      }
     },
     "metadata": {},
     "output_type": "display_data"
    },
    {
     "name": "stdout",
     "output_type": "stream",
     "text": [
      "Step-down-in-jumps iteration #2 found 0 additional clusters to exclude from subsequent iterations\n",
      "NOTE: pick_channels() is a legacy function. New code should use inst.pick(...).\n",
      "No baseline correction applied\n",
      "Using a threshold of 1.734064\n",
      "stat_fun(H1): min=-8.842031 max=4.830820\n",
      "Running initial clustering …\n",
      "Found 63 clusters\n"
     ]
    },
    {
     "data": {
      "text/plain": "  0%|          | Permuting : 0/99 [00:00<?,       ?it/s]",
      "application/vnd.jupyter.widget-view+json": {
       "version_major": 2,
       "version_minor": 0,
       "model_id": "5db2f767c8424031a02dd7084c835154"
      }
     },
     "metadata": {},
     "output_type": "display_data"
    },
    {
     "name": "stdout",
     "output_type": "stream",
     "text": [
      "Step-down-in-jumps iteration #1 found 1 cluster to exclude from subsequent iterations\n"
     ]
    },
    {
     "data": {
      "text/plain": "  0%|          | Permuting : 0/99 [00:00<?,       ?it/s]",
      "application/vnd.jupyter.widget-view+json": {
       "version_major": 2,
       "version_minor": 0,
       "model_id": "7c747df35e694720b601c46b75db5344"
      }
     },
     "metadata": {},
     "output_type": "display_data"
    },
    {
     "name": "stdout",
     "output_type": "stream",
     "text": [
      "Step-down-in-jumps iteration #2 found 1 additional cluster to exclude from subsequent iterations\n"
     ]
    },
    {
     "data": {
      "text/plain": "  0%|          | Permuting : 0/99 [00:00<?,       ?it/s]",
      "application/vnd.jupyter.widget-view+json": {
       "version_major": 2,
       "version_minor": 0,
       "model_id": "40d9c31e53c64d0a9012586c3e71aaca"
      }
     },
     "metadata": {},
     "output_type": "display_data"
    },
    {
     "name": "stdout",
     "output_type": "stream",
     "text": [
      "Step-down-in-jumps iteration #3 found 1 additional cluster to exclude from subsequent iterations\n"
     ]
    },
    {
     "data": {
      "text/plain": "  0%|          | Permuting : 0/99 [00:00<?,       ?it/s]",
      "application/vnd.jupyter.widget-view+json": {
       "version_major": 2,
       "version_minor": 0,
       "model_id": "f4819ab271c142748ec4ea3ab8daacfb"
      }
     },
     "metadata": {},
     "output_type": "display_data"
    },
    {
     "name": "stdout",
     "output_type": "stream",
     "text": [
      "Step-down-in-jumps iteration #4 found 0 additional clusters to exclude from subsequent iterations\n",
      "Using a threshold of -1.734064\n",
      "stat_fun(H1): min=-8.842031 max=4.830820\n",
      "Running initial clustering …\n",
      "Found 6 clusters\n"
     ]
    },
    {
     "data": {
      "text/plain": "  0%|          | Permuting : 0/99 [00:00<?,       ?it/s]",
      "application/vnd.jupyter.widget-view+json": {
       "version_major": 2,
       "version_minor": 0,
       "model_id": "41991e89409f4c34ac11094186c9bac5"
      }
     },
     "metadata": {},
     "output_type": "display_data"
    },
    {
     "name": "stdout",
     "output_type": "stream",
     "text": [
      "Step-down-in-jumps iteration #1 found 1 cluster to exclude from subsequent iterations\n"
     ]
    },
    {
     "data": {
      "text/plain": "  0%|          | Permuting : 0/99 [00:00<?,       ?it/s]",
      "application/vnd.jupyter.widget-view+json": {
       "version_major": 2,
       "version_minor": 0,
       "model_id": "3d1418b5c84d4bb7a955469ad77ffab4"
      }
     },
     "metadata": {},
     "output_type": "display_data"
    },
    {
     "name": "stdout",
     "output_type": "stream",
     "text": [
      "Step-down-in-jumps iteration #2 found 0 additional clusters to exclude from subsequent iterations\n",
      "NOTE: pick_channels() is a legacy function. New code should use inst.pick(...).\n",
      "No baseline correction applied\n",
      "Using a threshold of 1.734064\n",
      "stat_fun(H1): min=-9.779048 max=5.438562\n",
      "Running initial clustering …\n",
      "Found 66 clusters\n"
     ]
    },
    {
     "data": {
      "text/plain": "  0%|          | Permuting : 0/99 [00:00<?,       ?it/s]",
      "application/vnd.jupyter.widget-view+json": {
       "version_major": 2,
       "version_minor": 0,
       "model_id": "ba91661af07349d1b97a7721c6d264ab"
      }
     },
     "metadata": {},
     "output_type": "display_data"
    },
    {
     "name": "stdout",
     "output_type": "stream",
     "text": [
      "Step-down-in-jumps iteration #1 found 1 cluster to exclude from subsequent iterations\n"
     ]
    },
    {
     "data": {
      "text/plain": "  0%|          | Permuting : 0/99 [00:00<?,       ?it/s]",
      "application/vnd.jupyter.widget-view+json": {
       "version_major": 2,
       "version_minor": 0,
       "model_id": "bafee81f3471462685ed109d661eacfe"
      }
     },
     "metadata": {},
     "output_type": "display_data"
    },
    {
     "name": "stdout",
     "output_type": "stream",
     "text": [
      "Step-down-in-jumps iteration #2 found 1 additional cluster to exclude from subsequent iterations\n"
     ]
    },
    {
     "data": {
      "text/plain": "  0%|          | Permuting : 0/99 [00:00<?,       ?it/s]",
      "application/vnd.jupyter.widget-view+json": {
       "version_major": 2,
       "version_minor": 0,
       "model_id": "18b53ca587cc4b40a57cac97d6a8ad56"
      }
     },
     "metadata": {},
     "output_type": "display_data"
    },
    {
     "name": "stdout",
     "output_type": "stream",
     "text": [
      "Step-down-in-jumps iteration #3 found 0 additional clusters to exclude from subsequent iterations\n",
      "Using a threshold of -1.734064\n",
      "stat_fun(H1): min=-9.779048 max=5.438562\n",
      "Running initial clustering …\n",
      "Found 13 clusters\n"
     ]
    },
    {
     "data": {
      "text/plain": "  0%|          | Permuting : 0/99 [00:00<?,       ?it/s]",
      "application/vnd.jupyter.widget-view+json": {
       "version_major": 2,
       "version_minor": 0,
       "model_id": "69709cc762594d20b0f29940852d9c9b"
      }
     },
     "metadata": {},
     "output_type": "display_data"
    },
    {
     "name": "stdout",
     "output_type": "stream",
     "text": [
      "Step-down-in-jumps iteration #1 found 1 cluster to exclude from subsequent iterations\n"
     ]
    },
    {
     "data": {
      "text/plain": "  0%|          | Permuting : 0/99 [00:00<?,       ?it/s]",
      "application/vnd.jupyter.widget-view+json": {
       "version_major": 2,
       "version_minor": 0,
       "model_id": "dab354a0a4274d4d94b0ad52388d84c5"
      }
     },
     "metadata": {},
     "output_type": "display_data"
    },
    {
     "name": "stdout",
     "output_type": "stream",
     "text": [
      "Step-down-in-jumps iteration #2 found 0 additional clusters to exclude from subsequent iterations\n",
      "NOTE: pick_channels() is a legacy function. New code should use inst.pick(...).\n",
      "No baseline correction applied\n",
      "Using a threshold of 1.734064\n",
      "stat_fun(H1): min=-11.610439 max=4.459329\n",
      "Running initial clustering …\n",
      "Found 62 clusters\n"
     ]
    },
    {
     "data": {
      "text/plain": "  0%|          | Permuting : 0/99 [00:00<?,       ?it/s]",
      "application/vnd.jupyter.widget-view+json": {
       "version_major": 2,
       "version_minor": 0,
       "model_id": "eab093dc6e234e05859a54abb49da126"
      }
     },
     "metadata": {},
     "output_type": "display_data"
    },
    {
     "name": "stdout",
     "output_type": "stream",
     "text": [
      "Step-down-in-jumps iteration #1 found 1 cluster to exclude from subsequent iterations\n"
     ]
    },
    {
     "data": {
      "text/plain": "  0%|          | Permuting : 0/99 [00:00<?,       ?it/s]",
      "application/vnd.jupyter.widget-view+json": {
       "version_major": 2,
       "version_minor": 0,
       "model_id": "661373e6a2304bc8a0955d0b4a42745c"
      }
     },
     "metadata": {},
     "output_type": "display_data"
    },
    {
     "name": "stdout",
     "output_type": "stream",
     "text": [
      "Step-down-in-jumps iteration #2 found 1 additional cluster to exclude from subsequent iterations\n"
     ]
    },
    {
     "data": {
      "text/plain": "  0%|          | Permuting : 0/99 [00:00<?,       ?it/s]",
      "application/vnd.jupyter.widget-view+json": {
       "version_major": 2,
       "version_minor": 0,
       "model_id": "5613fc2e044e4f71b8932b6f12dd33f1"
      }
     },
     "metadata": {},
     "output_type": "display_data"
    },
    {
     "name": "stdout",
     "output_type": "stream",
     "text": [
      "Step-down-in-jumps iteration #3 found 0 additional clusters to exclude from subsequent iterations\n",
      "Using a threshold of -1.734064\n",
      "stat_fun(H1): min=-11.610439 max=4.459329\n",
      "Running initial clustering …\n",
      "Found 21 clusters\n"
     ]
    },
    {
     "data": {
      "text/plain": "  0%|          | Permuting : 0/99 [00:00<?,       ?it/s]",
      "application/vnd.jupyter.widget-view+json": {
       "version_major": 2,
       "version_minor": 0,
       "model_id": "10bcb4af510e4722875068b4590f2559"
      }
     },
     "metadata": {},
     "output_type": "display_data"
    },
    {
     "name": "stdout",
     "output_type": "stream",
     "text": [
      "Step-down-in-jumps iteration #1 found 1 cluster to exclude from subsequent iterations\n"
     ]
    },
    {
     "data": {
      "text/plain": "  0%|          | Permuting : 0/99 [00:00<?,       ?it/s]",
      "application/vnd.jupyter.widget-view+json": {
       "version_major": 2,
       "version_minor": 0,
       "model_id": "828e1fc1d85b4e8890a73cbefb67b358"
      }
     },
     "metadata": {},
     "output_type": "display_data"
    },
    {
     "name": "stdout",
     "output_type": "stream",
     "text": [
      "Step-down-in-jumps iteration #2 found 0 additional clusters to exclude from subsequent iterations\n",
      "NOTE: pick_channels() is a legacy function. New code should use inst.pick(...).\n",
      "No baseline correction applied\n",
      "Using a threshold of 1.734064\n",
      "stat_fun(H1): min=-13.413316 max=6.198649\n",
      "Running initial clustering …\n",
      "Found 47 clusters\n"
     ]
    },
    {
     "data": {
      "text/plain": "  0%|          | Permuting : 0/99 [00:00<?,       ?it/s]",
      "application/vnd.jupyter.widget-view+json": {
       "version_major": 2,
       "version_minor": 0,
       "model_id": "f37d2f57cd9846f9ba4f69e90ef5f02b"
      }
     },
     "metadata": {},
     "output_type": "display_data"
    },
    {
     "name": "stdout",
     "output_type": "stream",
     "text": [
      "Step-down-in-jumps iteration #1 found 1 cluster to exclude from subsequent iterations\n"
     ]
    },
    {
     "data": {
      "text/plain": "  0%|          | Permuting : 0/99 [00:00<?,       ?it/s]",
      "application/vnd.jupyter.widget-view+json": {
       "version_major": 2,
       "version_minor": 0,
       "model_id": "16df65fb32284704beb416a26efa5721"
      }
     },
     "metadata": {},
     "output_type": "display_data"
    },
    {
     "name": "stdout",
     "output_type": "stream",
     "text": [
      "Step-down-in-jumps iteration #2 found 1 additional cluster to exclude from subsequent iterations\n"
     ]
    },
    {
     "data": {
      "text/plain": "  0%|          | Permuting : 0/99 [00:00<?,       ?it/s]",
      "application/vnd.jupyter.widget-view+json": {
       "version_major": 2,
       "version_minor": 0,
       "model_id": "dac8ab7afcb940d98461a2eebb1e2a00"
      }
     },
     "metadata": {},
     "output_type": "display_data"
    },
    {
     "name": "stdout",
     "output_type": "stream",
     "text": [
      "Step-down-in-jumps iteration #3 found 0 additional clusters to exclude from subsequent iterations\n",
      "Using a threshold of -1.734064\n",
      "stat_fun(H1): min=-13.413316 max=6.198649\n",
      "Running initial clustering …\n",
      "Found 15 clusters\n"
     ]
    },
    {
     "data": {
      "text/plain": "  0%|          | Permuting : 0/99 [00:00<?,       ?it/s]",
      "application/vnd.jupyter.widget-view+json": {
       "version_major": 2,
       "version_minor": 0,
       "model_id": "9d0c7c0d0fec4f5c84e7f3eea92ea234"
      }
     },
     "metadata": {},
     "output_type": "display_data"
    },
    {
     "name": "stdout",
     "output_type": "stream",
     "text": [
      "Step-down-in-jumps iteration #1 found 1 cluster to exclude from subsequent iterations\n"
     ]
    },
    {
     "data": {
      "text/plain": "  0%|          | Permuting : 0/99 [00:00<?,       ?it/s]",
      "application/vnd.jupyter.widget-view+json": {
       "version_major": 2,
       "version_minor": 0,
       "model_id": "1c4190c70b5746538f387049c1fac534"
      }
     },
     "metadata": {},
     "output_type": "display_data"
    },
    {
     "name": "stdout",
     "output_type": "stream",
     "text": [
      "Step-down-in-jumps iteration #2 found 0 additional clusters to exclude from subsequent iterations\n",
      "NOTE: pick_channels() is a legacy function. New code should use inst.pick(...).\n",
      "No baseline correction applied\n",
      "Using a threshold of 1.734064\n",
      "stat_fun(H1): min=-9.196028 max=4.819927\n",
      "Running initial clustering …\n",
      "Found 60 clusters\n"
     ]
    },
    {
     "data": {
      "text/plain": "  0%|          | Permuting : 0/99 [00:00<?,       ?it/s]",
      "application/vnd.jupyter.widget-view+json": {
       "version_major": 2,
       "version_minor": 0,
       "model_id": "adfec12de87b42d4a8e151641e90faa6"
      }
     },
     "metadata": {},
     "output_type": "display_data"
    },
    {
     "name": "stdout",
     "output_type": "stream",
     "text": [
      "Step-down-in-jumps iteration #1 found 2 clusters to exclude from subsequent iterations\n"
     ]
    },
    {
     "data": {
      "text/plain": "  0%|          | Permuting : 0/99 [00:00<?,       ?it/s]",
      "application/vnd.jupyter.widget-view+json": {
       "version_major": 2,
       "version_minor": 0,
       "model_id": "5b99d6ac11554253922170c51ddd34f3"
      }
     },
     "metadata": {},
     "output_type": "display_data"
    },
    {
     "name": "stdout",
     "output_type": "stream",
     "text": [
      "Step-down-in-jumps iteration #2 found 1 additional cluster to exclude from subsequent iterations\n"
     ]
    },
    {
     "data": {
      "text/plain": "  0%|          | Permuting : 0/99 [00:00<?,       ?it/s]",
      "application/vnd.jupyter.widget-view+json": {
       "version_major": 2,
       "version_minor": 0,
       "model_id": "a9bc7254b9004bd58dc97f2143edb33d"
      }
     },
     "metadata": {},
     "output_type": "display_data"
    },
    {
     "name": "stdout",
     "output_type": "stream",
     "text": [
      "Step-down-in-jumps iteration #3 found 0 additional clusters to exclude from subsequent iterations\n",
      "Using a threshold of -1.734064\n",
      "stat_fun(H1): min=-9.196028 max=4.819927\n",
      "Running initial clustering …\n",
      "Found 12 clusters\n"
     ]
    },
    {
     "data": {
      "text/plain": "  0%|          | Permuting : 0/99 [00:00<?,       ?it/s]",
      "application/vnd.jupyter.widget-view+json": {
       "version_major": 2,
       "version_minor": 0,
       "model_id": "7b89173b805e4bb8a6900a91728b81cf"
      }
     },
     "metadata": {},
     "output_type": "display_data"
    },
    {
     "name": "stdout",
     "output_type": "stream",
     "text": [
      "Step-down-in-jumps iteration #1 found 1 cluster to exclude from subsequent iterations\n"
     ]
    },
    {
     "data": {
      "text/plain": "  0%|          | Permuting : 0/99 [00:00<?,       ?it/s]",
      "application/vnd.jupyter.widget-view+json": {
       "version_major": 2,
       "version_minor": 0,
       "model_id": "202235c3560a4785ab1c3edb4be0aecc"
      }
     },
     "metadata": {},
     "output_type": "display_data"
    },
    {
     "name": "stdout",
     "output_type": "stream",
     "text": [
      "Step-down-in-jumps iteration #2 found 0 additional clusters to exclude from subsequent iterations\n",
      "NOTE: pick_channels() is a legacy function. New code should use inst.pick(...).\n",
      "No baseline correction applied\n",
      "Using a threshold of 1.734064\n",
      "stat_fun(H1): min=-9.215435 max=5.295273\n",
      "Running initial clustering …\n",
      "Found 80 clusters\n"
     ]
    },
    {
     "data": {
      "text/plain": "  0%|          | Permuting : 0/99 [00:00<?,       ?it/s]",
      "application/vnd.jupyter.widget-view+json": {
       "version_major": 2,
       "version_minor": 0,
       "model_id": "77821f44065942f5bb82717861db4375"
      }
     },
     "metadata": {},
     "output_type": "display_data"
    },
    {
     "name": "stdout",
     "output_type": "stream",
     "text": [
      "Step-down-in-jumps iteration #1 found 2 clusters to exclude from subsequent iterations\n"
     ]
    },
    {
     "data": {
      "text/plain": "  0%|          | Permuting : 0/99 [00:00<?,       ?it/s]",
      "application/vnd.jupyter.widget-view+json": {
       "version_major": 2,
       "version_minor": 0,
       "model_id": "651659e824e84db4ae5aad54813dc803"
      }
     },
     "metadata": {},
     "output_type": "display_data"
    },
    {
     "name": "stdout",
     "output_type": "stream",
     "text": [
      "Step-down-in-jumps iteration #2 found 0 additional clusters to exclude from subsequent iterations\n",
      "Using a threshold of -1.734064\n",
      "stat_fun(H1): min=-9.215435 max=5.295273\n",
      "Running initial clustering …\n",
      "Found 13 clusters\n"
     ]
    },
    {
     "data": {
      "text/plain": "  0%|          | Permuting : 0/99 [00:00<?,       ?it/s]",
      "application/vnd.jupyter.widget-view+json": {
       "version_major": 2,
       "version_minor": 0,
       "model_id": "e9063a9ddb2242d2b102977a94afe079"
      }
     },
     "metadata": {},
     "output_type": "display_data"
    },
    {
     "name": "stdout",
     "output_type": "stream",
     "text": [
      "Step-down-in-jumps iteration #1 found 1 cluster to exclude from subsequent iterations\n"
     ]
    },
    {
     "data": {
      "text/plain": "  0%|          | Permuting : 0/99 [00:00<?,       ?it/s]",
      "application/vnd.jupyter.widget-view+json": {
       "version_major": 2,
       "version_minor": 0,
       "model_id": "7a595e9428de4e05b61aba2ce61555a3"
      }
     },
     "metadata": {},
     "output_type": "display_data"
    },
    {
     "name": "stdout",
     "output_type": "stream",
     "text": [
      "Step-down-in-jumps iteration #2 found 0 additional clusters to exclude from subsequent iterations\n",
      "NOTE: pick_channels() is a legacy function. New code should use inst.pick(...).\n",
      "No baseline correction applied\n",
      "Using a threshold of 1.734064\n",
      "stat_fun(H1): min=-10.445784 max=4.408417\n",
      "Running initial clustering …\n",
      "Found 66 clusters\n"
     ]
    },
    {
     "data": {
      "text/plain": "  0%|          | Permuting : 0/99 [00:00<?,       ?it/s]",
      "application/vnd.jupyter.widget-view+json": {
       "version_major": 2,
       "version_minor": 0,
       "model_id": "0b29f7da64484514883103c28825259a"
      }
     },
     "metadata": {},
     "output_type": "display_data"
    },
    {
     "name": "stdout",
     "output_type": "stream",
     "text": [
      "Step-down-in-jumps iteration #1 found 1 cluster to exclude from subsequent iterations\n"
     ]
    },
    {
     "data": {
      "text/plain": "  0%|          | Permuting : 0/99 [00:00<?,       ?it/s]",
      "application/vnd.jupyter.widget-view+json": {
       "version_major": 2,
       "version_minor": 0,
       "model_id": "7a7435d4674c4d73817dfc1234f453f8"
      }
     },
     "metadata": {},
     "output_type": "display_data"
    }
   ],
   "source": [
    "plot_save_path = 'E:/YandexDisk/EEG/experiments/ERDS/erds_maps/'\n",
    "\n",
    "ch_names = electrodes_names\n",
    "sfreq = sample_frequency_29\n",
    "ch_types = ['eeg'] * len(ch_names)\n",
    "info = mne.create_info(ch_names, sfreq, ch_types)\n",
    "\n",
    "for subject_id in range(0, len(data_indexes['left_real'])):\n",
    "\n",
    "    raw_data = mne.io.RawArray(data_subjects['left_real'][subject_id], info)\n",
    "    curr_index = data_indexes['left_real'][subject_id]\n",
    "    \n",
    "    events = mne.make_fixed_length_events(raw_data, id=1, start=1.0, stop=None, duration=5.0, first_samp=True, overlap=0.0)\n",
    "    \n",
    "    event_ids = dict(left_real=1)\n",
    "    t_min = -1.0\n",
    "    t_max = 4.0\n",
    "    epochs = mne.Epochs(raw_data, events, event_id=event_ids, tmin=t_min, tmax=t_max, baseline=None, preload=True)\n",
    "    \n",
    "    freqs = np.arange(2, 36)  # frequencies from 2-35Hz\n",
    "    vmin, vmax = -1, 1.5  # set min and max ERDS values in plot\n",
    "    baseline = (-1, 0)  # baseline interval (in s)\n",
    "    cnorm = TwoSlopeNorm(vmin=vmin, vcenter=0, vmax=vmax)  # min, center & max ERDS\n",
    "    \n",
    "    kwargs = dict(\n",
    "        n_permutations=100, step_down_p=0.05, seed=1, buffer_size=None, out_type=\"mask\"\n",
    "    )  # for cluster test\n",
    "    \n",
    "    tfr = tfr_multitaper(\n",
    "        epochs,\n",
    "        freqs=freqs,\n",
    "        n_cycles=freqs,\n",
    "        use_fft=True,\n",
    "        return_itc=False,\n",
    "        average=False,\n",
    "        decim=2,\n",
    "    )\n",
    "    tfr.crop(t_min, t_max).apply_baseline(baseline, mode=\"percent\")\n",
    "    \n",
    "    for event in event_ids:\n",
    "        # select desired epochs for visualization\n",
    "        tfr_ev = tfr[event]\n",
    "        fig, axes = plt.subplots(nrows=5, ncols=3, figsize=(9, 16))\n",
    "        plt.rcParams.update({'font.size': 10})\n",
    "        for ch_id in range(0, len(common_electrodes)):  # for each channel\n",
    "            # positive clusters\n",
    "            _, c1, p1, _ = pcluster_test(tfr_ev.data[:, ch_id], tail=1, **kwargs)\n",
    "            # negative clusters\n",
    "            _, c2, p2, _ = pcluster_test(tfr_ev.data[:, ch_id], tail=-1, **kwargs)\n",
    "    \n",
    "            # note that we keep clusters with p <= 0.05 from the combined clusters\n",
    "            # of two independent tests; in this example, we do not correct for\n",
    "            # these two comparisons\n",
    "            c = np.stack(c1 + c2, axis=2)  # combined clusters\n",
    "            p = np.concatenate((p1, p2))  # combined p-values\n",
    "            mask = c[..., p <= 0.05].any(axis=-1)\n",
    "            \n",
    "            row_id = ch_id // 3\n",
    "            column_id = ch_id % 3\n",
    "    \n",
    "            # plot TFR (ERDS map with masking)\n",
    "            tfr_ev.average().plot(\n",
    "                [ch_id],\n",
    "                cmap=\"RdBu\",\n",
    "                cnorm=cnorm,\n",
    "                axes=axes[row_id, column_id],\n",
    "                colorbar=True,\n",
    "                show=False,\n",
    "                mask=mask,\n",
    "                mask_style=\"mask\",\n",
    "            )\n",
    "            axes[row_id, column_id].set_title(epochs.ch_names[ch_id], loc='left')\n",
    "            axes[row_id, column_id].axvline(0, linewidth=1, color=\"black\", linestyle=\":\")  # event\n",
    "        \n",
    "        plt.rcParams.update({'font.size': 10})\n",
    "        fig.suptitle(f\"ERDS ({event}) \\n\")\n",
    "        plt.tight_layout()\n",
    "        \n",
    "        fig.savefig(f\"{plot_save_path}/{curr_index}.png\", dpi=400)\n",
    "        fig.savefig(f\"{plot_save_path}/{curr_index}.pdf\")"
   ],
   "metadata": {
    "collapsed": false,
    "is_executing": true,
    "ExecuteTime": {
     "start_time": "2023-09-18T21:32:11.325141400Z"
    }
   },
   "id": "fbb6b6fd49f78071"
  }
 ],
 "metadata": {
  "kernelspec": {
   "display_name": "Python 3",
   "language": "python",
   "name": "python3"
  },
  "language_info": {
   "codemirror_mode": {
    "name": "ipython",
    "version": 2
   },
   "file_extension": ".py",
   "mimetype": "text/x-python",
   "name": "python",
   "nbconvert_exporter": "python",
   "pygments_lexer": "ipython2",
   "version": "2.7.6"
  }
 },
 "nbformat": 4,
 "nbformat_minor": 5
}
