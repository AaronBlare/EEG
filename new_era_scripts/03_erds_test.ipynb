{
 "cells": [
  {
   "cell_type": "code",
   "execution_count": null,
   "id": "initial_id",
   "metadata": {
    "collapsed": true
   },
   "outputs": [],
   "source": [
    "import pickle\n",
    "import mne\n",
    "from pathlib import Path\n",
    "import numpy as np\n",
    "import pandas as pd"
   ]
  },
  {
   "cell_type": "code",
   "execution_count": null,
   "outputs": [],
   "source": [
    "eeg_electrodes_32 = ['FP1', 'FP2', 'F7', 'F3', 'Fz', 'F4', 'F8', 'FT9', 'FC5', 'FC1', 'FC2', 'FC6', 'FT10', 'T7', 'C3', 'Cz', 'C4', 'T8', 'TP9', 'CP5', 'CP1', 'CP2', 'CP6', 'TP10', 'P7', 'P3', 'Pz', 'P4', 'P8', 'O1', 'Oz', 'O2']\n",
    "eeg_electrodes_29 = ['F1', 'F2', 'Fz', 'CP3', 'C3', 'FC3', 'FCz', 'Cz', 'CPz', 'FC4', 'C4', 'CP4', 'FC5', 'C5', 'CP5', 'FC1', 'C1', 'CP1', 'FC2', 'C2', 'CP2', 'FC6', 'C6', 'CP6', 'P4', 'P3', 'P1', 'Pz', 'P2']\n",
    "common_electrodes = set(eeg_electrodes_32).intersection(set(eeg_electrodes_29))"
   ],
   "metadata": {
    "collapsed": false
   },
   "id": "67a151a470f94409"
  },
  {
   "cell_type": "code",
   "execution_count": null,
   "outputs": [],
   "source": [
    "data_indexes = {'left_real': [], 'right_real': []}\n",
    "data_stat = {'subject': [], 'left': [], 'right': []} # subject_trial_ids\n",
    "data_subjects_32 = {'left_real': [], 'right_real': []} # data without trials\n",
    "data_subjects_29 = {'left_real': [], 'right_real': []} # data without trials\n",
    "data_subjects = {'left_real': [], 'right_real': []} # data without trials"
   ],
   "metadata": {
    "collapsed": false
   },
   "id": "444f6d00a4c17218"
  },
  {
   "cell_type": "markdown",
   "source": [
    "Read 29 electrodes data"
   ],
   "metadata": {
    "collapsed": false
   },
   "id": "fdba77ea6ff0dfe8"
  },
  {
   "cell_type": "code",
   "execution_count": null,
   "outputs": [],
   "source": [
    "data_29_path = 'E:/YandexDisk/EEG/raw/MI_NN/29_chanels/Real/'\n",
    "data_codes = {'left_real': 1.0, 'right_real': 2.0}\n",
    "subject_id = 0\n",
    "for subject_path in Path(data_29_path).iterdir():\n",
    "    data_stat['subject'].append(f\"S{subject_id}\")\n",
    "    with open(f'{subject_path}/data_full.pkl', \"rb\") as f:\n",
    "        data_full = pickle.load(f, encoding=\"bytes\")\n",
    "    with open(f'{subject_path}/states_full.pkl', \"rb\") as f:\n",
    "        states_full = pickle.load(f, encoding=\"bytes\")\n",
    "    for movement in data_codes:\n",
    "        movement_ids = np.argwhere(states_full == data_codes[movement])\n",
    "        diff_values = np.diff(movement_ids[:, 1])\n",
    "        split_indexes_ids = np.where(diff_values > 1.0)[0]\n",
    "        split_indexes = movement_ids[:, 1][split_indexes_ids]\n",
    "        data_stat[movement[:-5]].append(len(split_indexes_ids) + 1)\n",
    "        for trial_id in range(0, len(split_indexes_ids) + 1):\n",
    "            if trial_id == 0:\n",
    "                trial_start = movement_ids[0, 1]\n",
    "                trial_end = movement_ids[split_indexes_ids[trial_id], 1] + 1\n",
    "            elif trial_id == len(split_indexes_ids):\n",
    "                trial_start = movement_ids[split_indexes_ids[trial_id - 1], 1]\n",
    "                trial_end = movement_ids[-1, 1] + 1\n",
    "            else:\n",
    "                trial_start = movement_ids[split_indexes_ids[trial_id - 1] + 1, 1]\n",
    "                trial_end = movement_ids[split_indexes_ids[trial_id], 1] + 1\n",
    "            if trial_id == 0 and states_full[:, trial_start - 1] in [0.0, 3.0]:\n",
    "                data_subjects_29[movement].append(data_full[:, trial_start-2500:trial_start+2500] * 10 ** 6)\n",
    "            if trial_id > 0 and states_full[:, trial_start - 1] in [0.0, 3.0]:\n",
    "                data_subjects_29[movement][subject_id] = np.concatenate((data_subjects_29[movement][subject_id], data_full[:, trial_start-2000:trial_start+2000] * 10 ** 6), axis=1)\n",
    "            data_indexes[movement].append(f\"S{subject_id}_{movement}_29\")\n",
    "    subject_id += 1\n",
    "\n",
    "num_subjects_29 = subject_id - 1\n",
    "mne_python_raw = mne.io.read_raw_fif(f'{subject_path}/mne_python_raw.fif')\n",
    "sample_frequency_29 = mne_python_raw.info['sfreq']\n",
    "electrodes_names_29 = mne_python_raw.info['ch_names']"
   ],
   "metadata": {
    "collapsed": false
   },
   "id": "2cf1f4f24863c72c"
  },
  {
   "cell_type": "markdown",
   "source": [
    "Read 32 electrodes data"
   ],
   "metadata": {
    "collapsed": false
   },
   "id": "8cf9a50d8360a30f"
  },
  {
   "cell_type": "code",
   "execution_count": null,
   "outputs": [],
   "source": [
    "from pymatreader import read_mat\n",
    "\n",
    "data_32_path = 'E:/YandexDisk/EEG/raw/'\n",
    "data_32_file = '1st_Day.mat'\n",
    "\n",
    "curr_32_data = read_mat(data_32_path + data_32_file)"
   ],
   "metadata": {
    "collapsed": false
   },
   "id": "820bbe06bdec7124"
  },
  {
   "cell_type": "code",
   "execution_count": null,
   "outputs": [],
   "source": [
    "electrodes_names_32 = curr_32_data['subs_ica'][0]['right_real']['label']\n",
    "sample_frequency_32 = curr_32_data['subs_ica'][0]['right_real']['fsample']\n",
    "for subject_id in range(0, len(curr_32_data['subs_ica'])):\n",
    "    data_stat['subject'].append(f\"S{num_subjects_29 + 1 + subject_id}\")\n",
    "    for key in data_codes:\n",
    "        data_stat[key[:-5]].append(len(curr_32_data['subs_ica'][subject_id][key]['trial']))\n",
    "        for trial_id in range(0, len(curr_32_data['subs_ica'][subject_id][key]['trial'])):\n",
    "            if trial_id == 0:\n",
    "                data_subjects_32[key].append(curr_32_data['subs_ica'][subject_id][key]['trial'][trial_id][:, 2500:7500] * 10 ** 6)\n",
    "            if trial_id > 0:\n",
    "                data_subjects_32[key][subject_id] = np.concatenate((data_subjects_32[key][subject_id], curr_32_data['subs_ica'][subject_id][key]['trial'][trial_id][:, 3000:7000] * 10 ** 6), axis=1)\n",
    "            data_indexes[key].append(f\"S{num_subjects_29 + 1 + subject_id}_{key}_32\")"
   ],
   "metadata": {
    "collapsed": false
   },
   "id": "20f99f9829087f08"
  },
  {
   "cell_type": "markdown",
   "source": [
    "Data for common electrodes"
   ],
   "metadata": {
    "collapsed": false
   },
   "id": "a38be0c2918fa591"
  },
  {
   "cell_type": "code",
   "execution_count": null,
   "outputs": [],
   "source": [
    "electrodes_names = list(set(electrodes_names_32).intersection(set(electrodes_names_29)))\n",
    "electrodes_32_ids = []\n",
    "electrodes_29_ids = []\n",
    "for common_electrode in common_electrodes:\n",
    "    electrodes_32_ids.append(electrodes_names_32.index(common_electrode))\n",
    "    electrodes_29_ids.append(electrodes_names_29.index(common_electrode))\n",
    "for movement in data_codes:\n",
    "    for subject_id in range(0, len(data_subjects_29[movement])):\n",
    "        if data_indexes[movement][subject_id].endswith('29'):\n",
    "            data_subjects[movement].append(data_subjects_29[movement][subject_id][electrodes_29_ids, :])\n",
    "    for subject_id in range(0, len(data_subjects_32[movement])):\n",
    "        if data_indexes[movement][subject_id].endswith('32'):\n",
    "            data_subjects[movement].append(data_subjects_32[movement][subject_id][electrodes_32_ids, :])"
   ],
   "metadata": {
    "collapsed": false
   },
   "id": "4a462d1d962cc162"
  },
  {
   "cell_type": "markdown",
   "source": [
    "Create raw data for mne"
   ],
   "metadata": {
    "collapsed": false
   },
   "id": "51238fb03d7bfab1"
  },
  {
   "cell_type": "code",
   "execution_count": null,
   "outputs": [],
   "source": [
    "ch_names = electrodes_names\n",
    "sfreq = sample_frequency_29\n",
    "ch_types = ['eeg'] * len(ch_names)\n",
    "info = mne.create_info(ch_names, sfreq, ch_types)\n",
    "\n",
    "raw_data = mne.io.RawArray(data_subjects['left_real'][1], info)\n",
    "\n",
    "events = mne.make_fixed_length_events(raw_data, id=1, start=2.5, stop=None, duration=2.5, first_samp=True, overlap=0.0)\n",
    "\n",
    "event_ids = dict(left=1)\n",
    "t_min = -2.5\n",
    "t_max = 2.5\n",
    "epochs = mne.Epochs(raw_data, events, event_id=event_ids, tmin=t_min, tmax=t_max, baseline=None, preload=True)"
   ],
   "metadata": {
    "collapsed": false
   },
   "id": "fbb6b6fd49f78071"
  },
  {
   "cell_type": "code",
   "execution_count": null,
   "outputs": [],
   "source": [
    "import matplotlib.pyplot as plt\n",
    "from matplotlib.colors import TwoSlopeNorm\n",
    "import seaborn as sns\n",
    "import mne\n",
    "from mne.time_frequency import tfr_multitaper\n",
    "from mne.stats import permutation_cluster_1samp_test as pcluster_test\n",
    "\n",
    "freqs = np.arange(2, 36)  # frequencies from 2-35Hz\n",
    "vmin, vmax = -1, 1.5  # set min and max ERDS values in plot\n",
    "baseline = (-1, 0)  # baseline interval (in s)\n",
    "cnorm = TwoSlopeNorm(vmin=vmin, vcenter=0, vmax=vmax)  # min, center & max ERDS\n",
    "\n",
    "kwargs = dict(\n",
    "    n_permutations=100, step_down_p=0.05, seed=1, buffer_size=None, out_type=\"mask\"\n",
    ")  # for cluster test\n",
    "\n",
    "tfr = tfr_multitaper(\n",
    "    epochs,\n",
    "    freqs=freqs,\n",
    "    n_cycles=freqs,\n",
    "    use_fft=True,\n",
    "    return_itc=False,\n",
    "    average=False,\n",
    "    decim=2,\n",
    ")\n",
    "tfr.crop(t_min, t_max).apply_baseline(baseline, mode=\"percent\")\n",
    "\n",
    "for event in event_ids:\n",
    "    # select desired epochs for visualization\n",
    "    tfr_ev = tfr[event]\n",
    "    fig, axes = plt.subplots(\n",
    "        1, 16, figsize=(12, 4), gridspec_kw={\"width_ratios\": [20, 20, 20, 20, 20, 20, 20, 20, 20, 20, 20, 20, 20, 20, 20, 1]}\n",
    "    )\n",
    "    for ch, ax in enumerate(axes[:-1]):  # for each channel\n",
    "        # positive clusters\n",
    "        _, c1, p1, _ = pcluster_test(tfr_ev.data[:, ch], tail=1, **kwargs)\n",
    "        # negative clusters\n",
    "        _, c2, p2, _ = pcluster_test(tfr_ev.data[:, ch], tail=-1, **kwargs)\n",
    "\n",
    "        # note that we keep clusters with p <= 0.05 from the combined clusters\n",
    "        # of two independent tests; in this example, we do not correct for\n",
    "        # these two comparisons\n",
    "        c = np.stack(c1 + c2, axis=2)  # combined clusters\n",
    "        p = np.concatenate((p1, p2))  # combined p-values\n",
    "        mask = c[..., p <= 0.05].any(axis=-1)\n",
    "\n",
    "        # plot TFR (ERDS map with masking)\n",
    "        tfr_ev.average().plot(\n",
    "            [ch],\n",
    "            cmap=\"RdBu\",\n",
    "            cnorm=cnorm,\n",
    "            axes=ax,\n",
    "            colorbar=False,\n",
    "            show=False,\n",
    "            mask=mask,\n",
    "            mask_style=\"mask\",\n",
    "        )\n",
    "\n",
    "        ax.set_title(epochs.ch_names[ch], fontsize=10)\n",
    "        ax.axvline(0, linewidth=1, color=\"black\", linestyle=\":\")  # event\n",
    "        if ch != 0:\n",
    "            ax.set_ylabel(\"\")\n",
    "            ax.set_yticklabels(\"\")\n",
    "    fig.colorbar(axes[0].images[-1], cax=axes[-1]).ax.set_yscale(\"linear\")\n",
    "    fig.suptitle(f\"ERDS ({event})\")\n",
    "    plt.show()"
   ],
   "metadata": {
    "collapsed": false
   },
   "id": "a8dc82468ed0c6da"
  }
 ],
 "metadata": {
  "kernelspec": {
   "display_name": "Python 3",
   "language": "python",
   "name": "python3"
  },
  "language_info": {
   "codemirror_mode": {
    "name": "ipython",
    "version": 2
   },
   "file_extension": ".py",
   "mimetype": "text/x-python",
   "name": "python",
   "nbconvert_exporter": "python",
   "pygments_lexer": "ipython2",
   "version": "2.7.6"
  }
 },
 "nbformat": 4,
 "nbformat_minor": 5
}
