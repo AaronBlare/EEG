{
 "cells": [
  {
   "cell_type": "code",
   "execution_count": null,
   "id": "initial_id",
   "metadata": {
    "collapsed": true
   },
   "outputs": [],
   "source": [
    "import pickle\n",
    "import mne\n",
    "from pathlib import Path\n",
    "import numpy as np\n",
    "import pandas as pd\n",
    "import scipy\n",
    "import os\n",
    "\n",
    "import matplotlib.pyplot as plt\n",
    "from matplotlib.colors import TwoSlopeNorm\n",
    "import seaborn as sns\n",
    "import mne\n",
    "from mne.time_frequency import tfr_multitaper\n",
    "from mne.stats import permutation_cluster_1samp_test as pcluster_test\n",
    "\n",
    "from plotly import tools\n",
    "from plotly.graph_objs import Layout, YAxis, Scatter, Annotation, Annotations, Data, Figure, Marker, Font"
   ]
  },
  {
   "cell_type": "code",
   "execution_count": null,
   "outputs": [],
   "source": [
    "eeg_electrodes_32 = ['FP1', 'FP2', 'F7', 'F3', 'Fz', 'F4', 'F8', 'FT9', 'FC5', 'FC1', 'FC2', 'FC6', 'FT10', 'T7', 'C3', 'Cz', 'C4', 'T8', 'TP9', 'CP5', 'CP1', 'CP2', 'CP6', 'TP10', 'P7', 'P3', 'Pz', 'P4', 'P8', 'O1', 'Oz', 'O2']\n",
    "eeg_electrodes_29 = ['F1', 'F2', 'Fz', 'CP3', 'C3', 'FC3', 'FCz', 'Cz', 'CPz', 'FC4', 'C4', 'CP4', 'FC5', 'C5', 'CP5', 'FC1', 'C1', 'CP1', 'FC2', 'C2', 'CP2', 'FC6', 'C6', 'CP6', 'P4', 'P3', 'P1', 'Pz', 'P2']\n",
    "common_electrodes = set(eeg_electrodes_32).intersection(set(eeg_electrodes_29))"
   ],
   "metadata": {
    "collapsed": false
   },
   "id": "67a151a470f94409"
  },
  {
   "cell_type": "code",
   "execution_count": null,
   "outputs": [],
   "source": [
    "data_indexes = {'left_real': [], 'right_real': []}\n",
    "data_stat = {'subject': [], 'left': [], 'right': []} # subject_trial_ids\n",
    "data_subjects_32 = {'left_real': [], 'right_real': []} # data without trials\n",
    "data_subjects_29 = {'left_real': [], 'right_real': []} # data without trials\n",
    "data_subjects = {'left_real': [], 'right_real': []} # data without trials"
   ],
   "metadata": {
    "collapsed": false
   },
   "id": "444f6d00a4c17218"
  },
  {
   "cell_type": "markdown",
   "source": [
    "Set epoch duration"
   ],
   "metadata": {
    "collapsed": false
   },
   "id": "c7745e08ddd135b6"
  },
  {
   "cell_type": "code",
   "execution_count": null,
   "outputs": [],
   "source": [
    "epoch_onset = -1\n",
    "epoch_offset = 3\n",
    "epoch_duration = epoch_offset - epoch_onset"
   ],
   "metadata": {
    "collapsed": false
   },
   "id": "82728f3e5305dfd2"
  },
  {
   "cell_type": "markdown",
   "source": [
    "Read 29 electrodes data"
   ],
   "metadata": {
    "collapsed": false
   },
   "id": "fdba77ea6ff0dfe8"
  },
  {
   "cell_type": "code",
   "execution_count": null,
   "outputs": [],
   "source": [
    "mne_python_raw = mne.io.read_raw_fif(f'{subject_path}/mne_python_raw.fif')\n",
    "sample_frequency_29 = mne_python_raw.info['sfreq']\n",
    "electrodes_names_29 = mne_python_raw.info['ch_names']\n",
    "epoch_onset_index = int(epoch_onset * sample_frequency_29)\n",
    "epoch_offset_index = int(epoch_offset * sample_frequency_29)\n",
    "\n",
    "data_29_path = 'E:/YandexDisk/EEG/raw/MI_NN/29_chanels/Real/'\n",
    "data_codes = {'left_real': 1.0, 'right_real': 2.0}\n",
    "subject_id = 0\n",
    "for subject_path in Path(data_29_path).iterdir():\n",
    "    data_stat['subject'].append(f\"S{subject_id}\")\n",
    "    with open(f'{subject_path}/data_full.pkl', \"rb\") as f:\n",
    "        data_full = pickle.load(f, encoding=\"bytes\")\n",
    "    with open(f'{subject_path}/states_full.pkl', \"rb\") as f:\n",
    "        states_full = pickle.load(f, encoding=\"bytes\")\n",
    "    for movement in data_codes:\n",
    "        movement_ids = np.argwhere(states_full == data_codes[movement])\n",
    "        diff_values = np.diff(movement_ids[:, 1])\n",
    "        split_indexes_ids = np.where(diff_values > 1.0)[0]\n",
    "        split_indexes = movement_ids[:, 1][split_indexes_ids]\n",
    "        data_stat[movement[:-5]].append(len(split_indexes_ids) + 1)\n",
    "        for trial_id in range(0, len(split_indexes_ids) + 1):\n",
    "            if trial_id == 0:\n",
    "                trial_start = movement_ids[0, 1]\n",
    "                trial_end = movement_ids[split_indexes_ids[trial_id], 1] + 1\n",
    "            elif trial_id == len(split_indexes_ids):\n",
    "                trial_start = movement_ids[split_indexes_ids[trial_id - 1], 1]\n",
    "                trial_end = movement_ids[-1, 1] + 1\n",
    "            else:\n",
    "                trial_start = movement_ids[split_indexes_ids[trial_id - 1] + 1, 1]\n",
    "                trial_end = movement_ids[split_indexes_ids[trial_id], 1] + 1\n",
    "            if trial_id == 0 and states_full[:, trial_start - 1] in [0.0, 3.0]:\n",
    "                if states_full[:, trial_start+epoch_onset_index] in [0.0, 3.0] and states_full[:, trial_start+epoch_offset_index] == data_codes[movement]:\n",
    "                    data_subjects_29[movement].append(data_full[:, trial_start+epoch_onset_index:trial_start+epoch_offset_index])\n",
    "                else:\n",
    "                    continue\n",
    "            if trial_id > 0 and states_full[:, trial_start - 1] in [0.0, 3.0]:\n",
    "                if states_full[:, trial_start+epoch_onset_index] in [0.0, 3.0] and states_full[:, trial_start+epoch_offset_index] == data_codes[movement]:\n",
    "                    data_subjects_29[movement][subject_id] = np.concatenate((data_subjects_29[movement][subject_id], data_full[:, trial_start+epoch_onset_index:trial_start+epoch_offset_index]), axis=1)\n",
    "                else:\n",
    "                    continue\n",
    "        data_indexes[movement].append(f\"S{subject_id}_{movement}_29\")\n",
    "    subject_id += 1\n",
    "\n",
    "num_subjects_29 = subject_id - 1"
   ],
   "metadata": {
    "collapsed": false
   },
   "id": "2cf1f4f24863c72c"
  },
  {
   "cell_type": "markdown",
   "source": [
    "Read 32 electrodes data"
   ],
   "metadata": {
    "collapsed": false
   },
   "id": "8cf9a50d8360a30f"
  },
  {
   "cell_type": "code",
   "execution_count": null,
   "outputs": [],
   "source": [
    "from pymatreader import read_mat\n",
    "\n",
    "data_32_path = 'E:/YandexDisk/EEG/raw/'\n",
    "data_32_file = '1st_Day.mat'\n",
    "\n",
    "curr_32_data = read_mat(data_32_path + data_32_file)"
   ],
   "metadata": {
    "collapsed": false
   },
   "id": "820bbe06bdec7124"
  },
  {
   "cell_type": "code",
   "execution_count": null,
   "outputs": [],
   "source": [
    "electrodes_names_32 = curr_32_data['subs_ica'][0]['right_real']['label']\n",
    "sample_frequency_32 = curr_32_data['subs_ica'][0]['right_real']['fsample']\n",
    "epoch_onset_index = int(epoch_onset * sample_frequency_32)\n",
    "epoch_offset_index = int(epoch_offset * sample_frequency_32)\n",
    "\n",
    "for subject_id in range(0, len(curr_32_data['subs_ica'])):\n",
    "    data_stat['subject'].append(f\"S{num_subjects_29 + 1 + subject_id}\")\n",
    "    for key in data_codes:\n",
    "        data_stat[key[:-5]].append(len(curr_32_data['subs_ica'][subject_id][key]['trial']))\n",
    "        for trial_id in range(0, len(curr_32_data['subs_ica'][subject_id][key]['trial'])):\n",
    "            if trial_id == 0:\n",
    "                data_subjects_32[key].append(curr_32_data['subs_ica'][subject_id][key]['trial'][trial_id][:, 5000+epoch_onset_index:5000+epoch_offset_index])\n",
    "            if trial_id > 0:\n",
    "                data_subjects_32[key][subject_id] = np.concatenate((data_subjects_32[key][subject_id], curr_32_data['subs_ica'][subject_id][key]['trial'][trial_id][:, 5000+epoch_onset_index:5000+epoch_offset_index]), axis=1)\n",
    "        data_indexes[key].append(f\"S{num_subjects_29 + 1 + subject_id}_{key}_32\")"
   ],
   "metadata": {
    "collapsed": false
   },
   "id": "20f99f9829087f08"
  },
  {
   "cell_type": "markdown",
   "source": [
    "Data for common electrodes"
   ],
   "metadata": {
    "collapsed": false
   },
   "id": "a38be0c2918fa591"
  },
  {
   "cell_type": "code",
   "execution_count": null,
   "outputs": [],
   "source": [
    "electrodes_names = list(set(electrodes_names_32).intersection(set(electrodes_names_29)))\n",
    "electrodes_32_ids = []\n",
    "electrodes_29_ids = []\n",
    "for common_electrode in common_electrodes:\n",
    "    electrodes_32_ids.append(electrodes_names_32.index(common_electrode))\n",
    "    electrodes_29_ids.append(electrodes_names_29.index(common_electrode))\n",
    "for movement in data_codes:\n",
    "    for subject_id in range(0, len(data_subjects_29[movement])):\n",
    "        if data_indexes[movement][subject_id].endswith('29'):\n",
    "            data_subjects[movement].append(data_subjects_29[movement][subject_id][electrodes_29_ids, :])\n",
    "    for subject_id in range(0, len(data_subjects_32[movement])):\n",
    "        if data_indexes[movement][len(data_subjects_29[movement]) + subject_id].endswith('32'):\n",
    "            data_subjects[movement].append(data_subjects_32[movement][subject_id][electrodes_32_ids, :])\n",
    "if sample_frequency_29 == sample_frequency_32:\n",
    "    sample_frequency = sample_frequency_32\n",
    "else:\n",
    "    print(f'Sample frequencies mismatch! {sample_frequency_29} for 29 electrodes, {sample_frequency_32} for 32 electrodes')"
   ],
   "metadata": {
    "collapsed": false
   },
   "id": "4a462d1d962cc162"
  },
  {
   "cell_type": "markdown",
   "source": [
    "Plot electrodes data MNE"
   ],
   "metadata": {
    "collapsed": false
   },
   "id": "51238fb03d7bfab1"
  },
  {
   "cell_type": "code",
   "execution_count": null,
   "outputs": [],
   "source": [
    "plot_save_path = 'E:/YandexDisk/EEG/experiments/ERDS/signals/'\n",
    "\n",
    "if not os.path.exists(plot_save_path):\n",
    "    os.makedirs(plot_save_path)\n",
    "\n",
    "ch_names = electrodes_names\n",
    "sfreq = sample_frequency\n",
    "ch_types = ['eeg'] * len(ch_names)\n",
    "montage = mne.channels.make_standard_montage('standard_1005')\n",
    "info = mne.create_info(ch_names, sfreq, ch_types)\n",
    "info.set_montage(montage)\n",
    "\n",
    "for movement in data_codes:\n",
    "    plot_save_path_mne = f'{plot_save_path}mne/'\n",
    "    if not os.path.exists(plot_save_path_mne):\n",
    "        os.makedirs(plot_save_path_mne)\n",
    "    for subject_id in range(0, len(data_indexes[movement])):\n",
    "        curr_subject_data = data_subjects[movement][subject_id]\n",
    "        curr_subject = data_indexes[movement][subject_id]\n",
    "        num_trials = int(curr_subject_data.shape[1] / (epoch_duration * sample_frequency))\n",
    "        for trial_id in range(0, num_trials):\n",
    "            curr_trial_start = int(trial_id * epoch_duration * sample_frequency)\n",
    "            curr_trial_end = curr_trial_start + int(epoch_duration * sample_frequency)\n",
    "            curr_trial_data = curr_subject_data[:, curr_trial_start:curr_trial_end]\n",
    "            \n",
    "            raw_data = mne.io.RawArray(curr_trial_data, info)\n",
    "\n",
    "            fig = raw_data.plot(show_scrollbars=False)\n",
    "            fig.get_axes()[0].axvline(1, linewidth=1, color=\"black\", linestyle=\":\")\n",
    "            fig.savefig(f\"{plot_save_path_mne}/{curr_subject}_T{trial_id}.png\", dpi=400)\n",
    "            fig.savefig(f\"{plot_save_path_mne}/{curr_subject}_T{trial_id}.pdf\")"
   ],
   "metadata": {
    "collapsed": false
   },
   "id": "f834335f0a8be9f7"
  },
  {
   "cell_type": "markdown",
   "source": [
    "Plot electrodes data Plotly"
   ],
   "metadata": {
    "collapsed": false
   },
   "id": "dcca49e7ae3cae8c"
  },
  {
   "cell_type": "code",
   "execution_count": null,
   "outputs": [],
   "source": [
    "for movement in data_codes:\n",
    "    plot_save_path_plotly = f'{plot_save_path}plotly/'\n",
    "    if not os.path.exists(plot_save_path_plotly):\n",
    "        os.makedirs(plot_save_path_plotly)\n",
    "    for subject_id in range(0, len(data_indexes[movement])):\n",
    "        curr_subject_data = data_subjects[movement][subject_id]\n",
    "        curr_subject = data_indexes[movement][subject_id]\n",
    "        num_trials = int(curr_subject_data.shape[1] / (epoch_duration * sample_frequency))\n",
    "        for trial_id in range(0, num_trials):\n",
    "            curr_trial_start = int(trial_id * epoch_duration * sample_frequency)\n",
    "            curr_trial_end = curr_trial_start + int(epoch_duration * sample_frequency)\n",
    "            curr_trial_data = curr_subject_data[:, curr_trial_start:curr_trial_end]\n",
    "            \n",
    "            raw_data = mne.io.RawArray(curr_trial_data, info)\n",
    "            \n",
    "            picks = mne.pick_types(info, eeg=True, exclude=[])\n",
    "            start, stop = raw_data.time_as_index([0, epoch_duration])\n",
    "            \n",
    "            n_channels = len(common_electrodes)\n",
    "            data, times = raw_data[picks[:n_channels], start:stop]\n",
    "            ch_names = [raw_data.info['ch_names'][p] for p in picks[:n_channels]]\n",
    "            \n",
    "            step = 1.0 / len(common_electrodes)\n",
    "            kwargs = dict(domain=[1 - step, 1], showticklabels=False, zeroline=False, showgrid=False)\n",
    "            \n",
    "            # create objects for layout and traces\n",
    "            layout = Layout(yaxis=YAxis(kwargs), showlegend=False)\n",
    "            traces = [Scatter(x=times, y=data.T[:, 0])]\n",
    "            \n",
    "            # loop over the channels\n",
    "            for ii in range(1, n_channels):\n",
    "                    kwargs.update(domain=[1 - (ii + 1) * step, 1 - ii * step])\n",
    "                    layout.update({'yaxis%d' % (ii + 1): YAxis(kwargs), 'showlegend': False})\n",
    "                    traces.append(Scatter(x=times, y=data.T[:, ii], yaxis='y%d' % (ii + 1)))\n",
    "            \n",
    "            # add channel names using Annotations\n",
    "            annotations = Annotations([Annotation(x=-0.06, y=0, xref='paper', yref='y%d' % (ii + 1),\n",
    "                                                  text=ch_name, font=Font(size=9), showarrow=False)\n",
    "                                      for ii, ch_name in enumerate(ch_names)])\n",
    "            layout.update(annotations=annotations)\n",
    "            \n",
    "            # set the size of the figure and plot it\n",
    "            layout.update(autosize=False, width=1000, height=600)\n",
    "            fig = Figure(data=Data(traces), layout=layout)\n",
    "            fig.write_image(f\"{plot_save_path_plotly}/{curr_subject}_T{trial_id}.png\")\n",
    "            fig.write_image(f\"{plot_save_path_plotly}/{curr_subject}_T{trial_id}.pdf\")"
   ],
   "metadata": {
    "collapsed": false
   },
   "id": "43fd6943445b409b"
  },
  {
   "cell_type": "markdown",
   "source": [
    "Plot PSD mne"
   ],
   "metadata": {
    "collapsed": false
   },
   "id": "b84cc87e749178ee"
  },
  {
   "cell_type": "code",
   "execution_count": null,
   "outputs": [],
   "source": [
    "plot_save_path = 'E:/YandexDisk/EEG/experiments/ERDS/psd/'\n",
    "\n",
    "if not os.path.exists(plot_save_path):\n",
    "    os.makedirs(plot_save_path)\n",
    "\n",
    "ch_names = electrodes_names\n",
    "sfreq = sample_frequency\n",
    "ch_types = ['eeg'] * len(ch_names)\n",
    "montage = mne.channels.make_standard_montage('standard_1005')\n",
    "info = mne.create_info(ch_names, sfreq, ch_types)\n",
    "info.set_montage(montage)\n",
    "\n",
    "for movement in data_codes:\n",
    "    plot_save_path_mne = f'{plot_save_path}mne/'\n",
    "    if not os.path.exists(plot_save_path_mne):\n",
    "        os.makedirs(plot_save_path_mne)\n",
    "    for subject_id in range(0, len(data_indexes[movement])):\n",
    "        curr_subject_data = data_subjects[movement][subject_id]\n",
    "        curr_subject = data_indexes[movement][subject_id]\n",
    "        \n",
    "        raw_data = mne.io.RawArray(curr_subject_data, info)\n",
    "        spectrum = raw_data.compute_psd()\n",
    "        \n",
    "        plot_save_path_averaged = f'{plot_save_path_mne}averaged/'\n",
    "        if not os.path.exists(plot_save_path_averaged):\n",
    "            os.makedirs(plot_save_path_averaged)\n",
    "        \n",
    "        fig = spectrum.plot(average=True, picks=\"data\")\n",
    "        fig.savefig(f\"{plot_save_path_averaged}/{curr_subject}.png\", dpi=400)\n",
    "        fig.savefig(f\"{plot_save_path_averaged}/{curr_subject}.pdf\")\n",
    "        plt.close()\n",
    "        \n",
    "        plot_save_path_all_electrodes = f'{plot_save_path_mne}all_electrodes/'\n",
    "        if not os.path.exists(plot_save_path_all_electrodes):\n",
    "            os.makedirs(plot_save_path_all_electrodes)\n",
    "        \n",
    "        fig = spectrum.plot(average=False, spatial_colors=True, picks=\"data\")\n",
    "        fig.savefig(f\"{plot_save_path_all_electrodes}/{curr_subject}.png\", dpi=400)\n",
    "        fig.savefig(f\"{plot_save_path_all_electrodes}/{curr_subject}.pdf\")\n",
    "        plt.close()\n",
    "        \n",
    "        num_trials = int(curr_subject_data.shape[1] / (epoch_duration * sample_frequency))\n",
    "        for trial_id in range(0, num_trials):\n",
    "            curr_trial_start = int(trial_id * epoch_duration * sample_frequency)\n",
    "            curr_trial_end = curr_trial_start + int(epoch_duration * sample_frequency)\n",
    "            curr_trial_data = curr_subject_data[:, curr_trial_start:curr_trial_end]\n",
    "            \n",
    "            raw_data = mne.io.RawArray(curr_trial_data, info)\n",
    "            spectrum = raw_data.compute_psd()\n",
    "            \n",
    "            if not os.path.exists(f'{plot_save_path_averaged}trials/'):\n",
    "                os.makedirs(f'{plot_save_path_averaged}trials/')\n",
    "            \n",
    "            fig = spectrum.plot(average=True, picks=\"data\")\n",
    "            fig.savefig(f\"{plot_save_path_averaged}trials/{curr_subject}_T{trial_id}.png\", dpi=400)\n",
    "            fig.savefig(f\"{plot_save_path_averaged}trials/{curr_subject}_T{trial_id}.pdf\")\n",
    "            plt.close()\n",
    "            \n",
    "            if not os.path.exists(f'{plot_save_path_all_electrodes}trials/'):\n",
    "                os.makedirs(f'{plot_save_path_all_electrodes}trials/')\n",
    "            \n",
    "            fig = spectrum.plot(average=False, spatial_colors=True, picks=\"data\")\n",
    "            fig.savefig(f\"{plot_save_path_all_electrodes}trials/{curr_subject}_T{trial_id}.png\", dpi=400)\n",
    "            fig.savefig(f\"{plot_save_path_all_electrodes}trials/{curr_subject}_T{trial_id}.pdf\")\n",
    "            plt.close()"
   ],
   "metadata": {
    "collapsed": false
   },
   "id": "2452089a34c08b6e"
  },
  {
   "cell_type": "markdown",
   "source": [
    "Plot PSD scipy"
   ],
   "metadata": {
    "collapsed": false
   },
   "id": "e97df9555395cc5c"
  },
  {
   "cell_type": "code",
   "execution_count": null,
   "outputs": [],
   "source": [
    "plot_save_path = 'E:/YandexDisk/EEG/experiments/ERDS/psd/'\n",
    "\n",
    "if not os.path.exists(plot_save_path):\n",
    "    os.makedirs(plot_save_path)\n",
    "\n",
    "for movement in data_codes:\n",
    "    plot_save_path_scipy = f'{plot_save_path}scipy/'\n",
    "    if not os.path.exists(plot_save_path_scipy):\n",
    "        os.makedirs(plot_save_path_scipy)\n",
    "    for subject_id in range(0, len(data_indexes[movement])):\n",
    "        curr_subject_data = data_subjects[movement][subject_id]\n",
    "        curr_subject = data_indexes[movement][subject_id]\n",
    "        \n",
    "        plot_save_path_averaged = f'{plot_save_path_scipy}averaged/'\n",
    "        if not os.path.exists(plot_save_path_averaged):\n",
    "            os.makedirs(plot_save_path_averaged)\n",
    "        \n",
    "        freqs, psds = scipy.signal.welch(curr_subject_data, sample_frequency, nperseg=4*1024)\n",
    "        fig = plt.figure()\n",
    "        plt.semilogy(freqs, np.average(psds, axis=0), linewidth=0.5)\n",
    "        plt.xlim([0, 500])\n",
    "        plt.xlabel('frequency [Hz]')\n",
    "        plt.ylabel('PSD [V**2/Hz]')\n",
    "        \n",
    "        fig.savefig(f\"{plot_save_path_averaged}/{curr_subject}.png\", dpi=400)\n",
    "        fig.savefig(f\"{plot_save_path_averaged}/{curr_subject}.pdf\")\n",
    "        plt.close()\n",
    "\n",
    "        num_trials = int(curr_subject_data.shape[1] / (epoch_duration * sample_frequency))\n",
    "        for trial_id in range(0, num_trials):\n",
    "            curr_trial_start = int(trial_id * epoch_duration * sample_frequency)\n",
    "            curr_trial_end = curr_trial_start + int(epoch_duration * sample_frequency)\n",
    "            curr_trial_data = curr_subject_data[:, curr_trial_start:curr_trial_end]\n",
    "            \n",
    "            freqs, psds = scipy.signal.welch(curr_trial_data, sample_frequency, nperseg=4*1024)\n",
    "            \n",
    "            fig = plt.figure()\n",
    "            plt.semilogy(freqs, np.average(psds, axis=0), linewidth=0.5)\n",
    "            plt.xlim([0, 500])\n",
    "            plt.xlabel('frequency [Hz]')\n",
    "            plt.ylabel('PSD [V**2/Hz]')\n",
    "            \n",
    "            if not os.path.exists(f'{plot_save_path_averaged}trials/'):\n",
    "                os.makedirs(f'{plot_save_path_averaged}trials/')\n",
    "            \n",
    "            fig.savefig(f\"{plot_save_path_averaged}trials/{curr_subject}_T{trial_id}.png\", dpi=400)\n",
    "            fig.savefig(f\"{plot_save_path_averaged}trials/{curr_subject}_T{trial_id}.pdf\")\n",
    "            plt.close()"
   ],
   "metadata": {
    "collapsed": false
   },
   "id": "e23f7549249c87d3"
  },
  {
   "cell_type": "markdown",
   "source": [
    "Compute and plot ERDS"
   ],
   "metadata": {
    "collapsed": false
   },
   "id": "1179ed299358cfa6"
  },
  {
   "cell_type": "code",
   "execution_count": null,
   "outputs": [],
   "source": [
    "plot_save_path = 'E:/YandexDisk/EEG/experiments/ERDS/erds_maps/'\n",
    "\n",
    "if not os.path.exists(plot_save_path):\n",
    "    os.makedirs(plot_save_path)\n",
    "\n",
    "ch_names = electrodes_names\n",
    "sfreq = sample_frequency\n",
    "ch_types = ['eeg'] * len(ch_names)\n",
    "info = mne.create_info(ch_names, sfreq, ch_types)\n",
    "\n",
    "for movement in data_codes:\n",
    "\n",
    "    for subject_id in range(0, len(data_indexes[movement])):\n",
    "    \n",
    "        raw_data = mne.io.RawArray(data_subjects[movement][subject_id], info)\n",
    "        curr_index = data_indexes[movement][subject_id]\n",
    "        \n",
    "        events = mne.make_fixed_length_events(raw_data, id=1, start=1.0, stop=None, duration=4.0, first_samp=True, overlap=0.0)\n",
    "        \n",
    "        if movement == 'left_real':\n",
    "            event_ids = dict(left_real=1)\n",
    "        else:\n",
    "            event_ids = dict(right_real=1) \n",
    "        t_min = -1\n",
    "        t_max = 3\n",
    "        epochs = mne.Epochs(raw_data, events, event_id=event_ids, tmin=t_min, tmax=t_max, baseline=None, preload=True)\n",
    "        \n",
    "        freqs = np.arange(2, 36)  # frequencies from 2-35Hz\n",
    "        vmin, vmax = -1, 1.5  # set min and max ERDS values in plot\n",
    "        baseline = (-1, 0)  # baseline interval (in s)\n",
    "        cnorm = TwoSlopeNorm(vmin=vmin, vcenter=0, vmax=vmax)  # min, center & max ERDS\n",
    "        \n",
    "        kwargs = dict(\n",
    "            n_permutations=100, step_down_p=0.05, seed=1, buffer_size=None, out_type=\"mask\"\n",
    "        )  # for cluster test\n",
    "        \n",
    "        tfr = tfr_multitaper(\n",
    "            epochs,\n",
    "            freqs=freqs,\n",
    "            n_cycles=freqs,\n",
    "            use_fft=True,\n",
    "            return_itc=False,\n",
    "            average=False,\n",
    "            decim=2,\n",
    "        )\n",
    "        tfr.crop(t_min, t_max).apply_baseline(baseline, mode=\"percent\")\n",
    "        \n",
    "        for event in event_ids:\n",
    "            # select desired epochs for visualization\n",
    "            tfr_ev = tfr[event]\n",
    "            fig, axes = plt.subplots(nrows=5, ncols=3, figsize=(9, 16))\n",
    "            plt.rcParams.update({'font.size': 10})\n",
    "            for ch_id in range(0, len(common_electrodes)):  # for each channel\n",
    "                # positive clusters\n",
    "                _, c1, p1, _ = pcluster_test(tfr_ev.data[:, ch_id], tail=1, **kwargs)\n",
    "                # negative clusters\n",
    "                _, c2, p2, _ = pcluster_test(tfr_ev.data[:, ch_id], tail=-1, **kwargs)\n",
    "        \n",
    "                # note that we keep clusters with p <= 0.05 from the combined clusters\n",
    "                # of two independent tests; in this example, we do not correct for\n",
    "                # these two comparisons\n",
    "                c = np.stack(c1 + c2, axis=2)  # combined clusters\n",
    "                p = np.concatenate((p1, p2))  # combined p-values\n",
    "                mask = c[..., p <= 0.05].any(axis=-1)\n",
    "                \n",
    "                row_id = ch_id // 3\n",
    "                column_id = ch_id % 3\n",
    "        \n",
    "                # plot TFR (ERDS map with masking)\n",
    "                tfr_ev.average().plot(\n",
    "                    [ch_id],\n",
    "                    cmap=\"RdBu\",\n",
    "                    cnorm=cnorm,\n",
    "                    axes=axes[row_id, column_id],\n",
    "                    colorbar=True,\n",
    "                    show=False,\n",
    "                    mask=mask,\n",
    "                    mask_style=\"mask\",\n",
    "                )\n",
    "                axes[row_id, column_id].set_title(epochs.ch_names[ch_id], loc='left')\n",
    "                axes[row_id, column_id].axvline(0, linewidth=1, color=\"black\", linestyle=\":\")  # event\n",
    "            \n",
    "            plt.rcParams.update({'font.size': 10})\n",
    "            fig.suptitle(f\"ERDS ({event}) \\n\")\n",
    "            plt.tight_layout()\n",
    "            \n",
    "            fig.savefig(f\"{plot_save_path}/{curr_index}.png\", dpi=400)\n",
    "            fig.savefig(f\"{plot_save_path}/{curr_index}.pdf\")"
   ],
   "metadata": {
    "collapsed": false
   },
   "id": "fbb6b6fd49f78071"
  }
 ],
 "metadata": {
  "kernelspec": {
   "display_name": "Python 3",
   "language": "python",
   "name": "python3"
  },
  "language_info": {
   "codemirror_mode": {
    "name": "ipython",
    "version": 2
   },
   "file_extension": ".py",
   "mimetype": "text/x-python",
   "name": "python",
   "nbconvert_exporter": "python",
   "pygments_lexer": "ipython2",
   "version": "2.7.6"
  }
 },
 "nbformat": 4,
 "nbformat_minor": 5
}
